{
 "cells": [
  {
   "cell_type": "code",
   "execution_count": 15,
   "metadata": {},
   "outputs": [
    {
     "name": "stdout",
     "output_type": "stream",
     "text": [
      "Keras version: \t\t2.0.9\n",
      "Scikit version: \t0.19.1\n",
      "TensorFlow version: \t1.4.1\n"
     ]
    }
   ],
   "source": [
    "import keras, os, pickle, re, sklearn, string, tensorflow\n",
    "import numpy as np\n",
    "import matplotlib.pyplot as plt\n",
    "from keras.utils import to_categorical\n",
    "from keras.callbacks import ModelCheckpoint\n",
    "from keras.preprocessing.text import Tokenizer\n",
    "from keras.preprocessing.sequence import pad_sequences\n",
    "from keras.models import load_model\n",
    "from keras.layers import Embedding\n",
    "from keras.optimizers import Adadelta, adam\n",
    "from sklearn.model_selection import train_test_split\n",
    "from keras.models import Sequential\n",
    "from keras.utils.vis_utils  import plot_model\n",
    "\n",
    "print('Keras version: \\t\\t%s' % keras.__version__)\n",
    "print('Scikit version: \\t%s' % sklearn.__version__)\n",
    "print('TensorFlow version: \\t%s' % tensorflow.__version__)\n"
   ]
  },
  {
   "cell_type": "code",
   "execution_count": 16,
   "metadata": {
    "collapsed": true
   },
   "outputs": [],
   "source": [
    "import nltk\n",
    "from nltk.corpus import stopwords\n",
    "from tika import parser\n",
    "from sklearn.metrics import classification_report\n",
    "\n"
   ]
  },
  {
   "cell_type": "code",
   "execution_count": 17,
   "metadata": {
    "collapsed": true
   },
   "outputs": [],
   "source": [
    "def LoadData_tech():\n",
    "    label_tech=[]\n",
    "    i=0\n",
    "    for file in os.listdir(\"/home/shabna/Desktop/example_codes/new_sample/level2/tech_mix\"):\n",
    "        try:\n",
    "            print (i, file)\n",
    "            parsedPDF = parser.from_file(\"/home/shabna/Desktop/example_codes/new_sample/level2/tech_mix/\"+file)\n",
    "\n",
    "            tech_contents=clean_doc(parsedPDF['content'])\n",
    "            #Data = resume_contents.encode('utf-8')    \n",
    "            label_tech.append((tech_contents,'Technical field'))\n",
    "        except UnicodeEncodeError:\n",
    "            print ('Unicode error:', file)\n",
    "        i=i+1\n",
    "    #print (label_resume)\n",
    "    return(label_tech)\n",
    "        "
   ]
  },
  {
   "cell_type": "code",
   "execution_count": 18,
   "metadata": {
    "collapsed": true
   },
   "outputs": [],
   "source": [
    "def LoadData_nontech():\n",
    "    label_nontech=[]\n",
    "    i=1\n",
    "    for file in os.listdir(\"/home/shabna/Desktop/example_codes/new_sample/level2/nontech_mix\"):\n",
    "        try:\n",
    "            print (i, file)\n",
    "            parsedPDF = parser.from_file(\"/home/shabna/Desktop/example_codes/new_sample/level2/nontech_mix/\"+file)\n",
    "        \n",
    "            nontech_contents=clean_doc(parsedPDF['content'])\n",
    "       \n",
    "            \n",
    "            label_nontech.append((nontech_contents, 'Non-Technical field'))\n",
    "        except UnicodeEncodeError:\n",
    "            print ('Unicode error:', file)\n",
    "        i=i+1\n",
    "            \n",
    "    return(label_nontech)"
   ]
  },
  {
   "cell_type": "code",
   "execution_count": 21,
   "metadata": {
    "collapsed": true
   },
   "outputs": [],
   "source": [
    "#Preprocessing\n",
    "def clean_doc(doc):\n",
    "    \"\"\"\n",
    "    Cleaning a document by several methods:\n",
    "        - Lowercase\n",
    "        - Removing whitespaces\n",
    "        - Removing stopwords\n",
    "        - Removing punctuations\n",
    "        \n",
    "    \"\"\"\n",
    "    stop_words = set(stopwords.words('english'))\n",
    "    \n",
    "    # Lowercase\n",
    "    doc = doc.lower()\n",
    "    # Removing multiple whitespaces\n",
    "    doc = re.sub(r\"\\?\", \" \\? \", doc)\n",
    "    # Remove numbers\n",
    "    #doc = re.sub(r\"[0-9]+\", \"\", doc)\n",
    "    # Split in tokens\n",
    "    tokens = doc.split()\n",
    "    # Remove Stopwords\n",
    "    tokens = [w for w in tokens if not w in stop_words]\n",
    "    # Remove punctuation\n",
    "    tokens = [w.translate(str.maketrans('', '', string.punctuation)) for w in tokens]\n",
    "    # Tokens with less then two characters will be ignored\n",
    "    #tokens = [word for word in tokens if len(word) > 1]\n",
    "    return ' '.join(tokens)"
   ]
  },
  {
   "cell_type": "code",
   "execution_count": null,
   "metadata": {
    "collapsed": true
   },
   "outputs": [],
   "source": []
  },
  {
   "cell_type": "code",
   "execution_count": 22,
   "metadata": {
    "scrolled": false
   },
   "outputs": [
    {
     "name": "stdout",
     "output_type": "stream",
     "text": [
      "0 BrettJohnsonProfile.pdf\n",
      "1 RAHUL_KUMAR_Delhi_4.08_yrs.doc\n",
      "2 Akshay_Chaudhary_Pune_10.06_yrs.doc\n",
      "3 Maria ChristineJohnsonProfile.pdf\n",
      "4 jasmendar_kumar_Delhi_3.00_yrs.doc\n",
      "5 Binoj_P_Bengaluru___Bangalore_7.09_yrs.docx\n",
      "6 3d Character Animator Resume.doc\n",
      "7 HardikRathoreProfile.pdf\n",
      "8 Abhilash Rajan.doc\n",
      "9 83604512_Chennai_12.00_yrs.doc\n",
      "10 Cisco-Network-Engineer-Resume-Template-Free-Download.doc\n",
      "11 HelenHarbord FISTCProfile.pdf\n",
      "12 GOBI.pdf\n",
      "13 PiyushPranavProfile.pdf\n",
      "14 AtifRizviProfile.pdf\n",
      "15 Content Writer -Interested.docx\n",
      "16 CostantinoMontanariProfile.pdf\n",
      "17 CV_Vibin.docx\n",
      "18 BabarShahProfile.pdf\n",
      "19 Prem Hans RajSinghProfile.pdf\n",
      "20 AtaHaghdarProfile.pdf\n",
      "21 AnjuRachelThomas[1_0].docx\n",
      "22 Deepa_Chandru_Chennai_7.01_yrs.doc\n",
      "23 RAJESHCHAMANTHULAProfile.pdf\n",
      "24 Kalpesh_gurav_Thane_1.00_yrs.docx\n",
      "25 FarshadBAGHERIANProfile.pdf\n",
      "26 Febajacob[2_0].docx\n",
      "27 ManjunathMProfile.pdf\n",
      "28 NikitaPuzereyProfile.pdf\n",
      "29 Raju_Jinukala_Hyderabad___Secunderabad_2.08_yrs.doc\n",
      "30 PreetiKusnoorProfile.pdf\n",
      "31 mamatha_gogi_Hyderabad___Secunderabad_6.00_yrs.doc\n",
      "32 Rajendra_B_Hyderabad___Secunderabad_11.00_yrs.doc\n",
      "33 rafia_khan_Delhi_1.00_yrs.docx\n",
      "34 jibinAhmmed[4_4].pdf\n",
      "35 Jishachinnu_Daniel_Thane_0.09_yrs.docx\n",
      "36 Harikrishnan S - Cochin _ Kochi _ Ernakulam, 3 years.pdf\n",
      "37 NandiniVijayagopal[7_0].docx\n",
      "38 Anand_Shendage_Mumbai_1.06_yrs.pdf\n",
      "39 NandlalSharma[5_4].doc\n",
      "40 AKHIL_SABU_Kozhikode___Calicut_4.00_yrs.pdf\n",
      "41 Jeemol_Gangadhar._Dubai_5.00_yrs.docx\n",
      "42 A.K.Murugesan_karuppusamy_Coimbatore_5.00_yrs.doc\n",
      "43 GaryPollard Jr.Profile.pdf\n",
      "44 AdamKilgoreProfile.pdf\n",
      "45 Ajai_kumar_Bengaluru___Bangalore_6.10_yrs.doc\n",
      "46 BinuJacobc .pdf\n",
      "47 Chandrajit_Das_Hyderabad___Secunderabad_0.00_yrs.docx\n",
      "48 Abhimannyu_Koli_Pune_2.06_yrs.docx\n",
      "49 IjasAhammedProfile.pdf\n",
      "50 NityaMarwah[5_0].docx\n",
      "51 Ankit_Kumar_Bengaluru___Bangalore_3.07_yrs.pdf\n",
      "52 Amit_Shambharkar_Mumbai_4.08_yrs.doc\n",
      "53 AarushiNairProfile.pdf\n",
      "54 AmelAbdul RahmanProfile.pdf\n",
      "55 Neeta_Gotad_Mumbai_1.05_yrs.docx\n",
      "56 Anuj_Kumar_Delhi_1.07_yrs.docx\n",
      "57 CV-for-Network-Engineer-Free-Word-Download.doc\n",
      "58 PRASHANT M PHATATE.doc\n",
      "59 DheerajKapoor[5_0].pdf\n",
      "60 Entry Level IT Networking Resume.docx\n",
      "61 Akhil_John_Kottayam_0.00_yrs.docx\n",
      "62 babul_reddy_Hyderabad___Secunderabad_3.00_yrs.docx\n",
      "63 AlexFreiProfile.pdf\n",
      "64 ANIL JACOB THOMAS.doc\n",
      "65 DivyaBhanotProfile.pdf\n",
      "66 Guruprasad GProfile.pdf\n",
      "67 Nidhi_Hangal_Bengaluru___Bangalore_2.00_yrs.docx\n",
      "68 RadhikaLingampalliProfile.pdf\n",
      "69 55714332_Pune_2.00_yrs.docx\n",
      "70 deepak_agarwal_Bengaluru___Bangalore_3.07_yrs.docx\n",
      "71 poorva_jain_Indore_5.00_yrs.docx\n",
      "72 Manish_Saini_Jaipur_1.05_yrs.doc\n",
      "73 AJAYKUMARM[5_2].docx\n",
      "74 ABHIJITHT[2_0].docx\n",
      "75 K_R_Archanaa_Chennai_5.01_yrs.docx\n",
      "76 JinuKurian[6_0].doc\n",
      "77 parvatham_gangadhar_Hyderabad___Secunderabad_1.00_yrs.docx\n",
      "78 JihinRajuProfile.pdf\n",
      "79 AniketShivhareProfile.pdf\n",
      "80 HerbertG[9_0].docx\n",
      "81 83159981_Pune_2.02_yrs.docx\n",
      "82 ANOOP.V.doc\n",
      "83 LekhaKoshyVaidyan[8_0].doc\n",
      "84 SudinTRProfile.pdf\n",
      "85 DinkarSharmaProfile.pdf\n",
      "86 BibinBaby.pdf\n",
      "87 kapil_kumar_Delhi_10.04_yrs.pdf\n",
      "88 GianlucaBaldacciniProfile.pdf\n",
      "89 EdBacherProfile.pdf\n",
      "90 MEGHAMARWARIProfile.pdf\n",
      "91 Creative Resume.pdf\n",
      "92 IT Specialist.doc\n",
      "93 ChitraarthBhardwajProfile.pdf\n",
      "94 AmitSuriProfile.pdf\n",
      "95 ANSAR  K.T.doc\n",
      "96 BadrAl-HazmiProfile.pdf\n",
      "97 jayasena_reddy_Hyderabad___Secunderabad_3.09_yrs.docx\n",
      "98 SANJAY_PANDEY_Gurgaon_2.00_yrs.doc\n",
      "99 Rohit K.doc\n",
      "100 BenjaminMillerProfile.pdf\n",
      "101 82568909_Ahmedabad_4.04_yrs.doc\n",
      "102 AnamikaSharmaProfile.pdf\n",
      "103 EhsanAkhoondiProfile.pdf\n",
      "104 AndreyKiselevProfile.pdf\n",
      "105 Girish_Lohar_Pune_0.00_yrs.docx\n",
      "106 Ajay Babu M_SQL DBA_Chennai_Atlas Systems.doc\n",
      "107 FarshidSabzkarProfile.pdf\n",
      "108 NIPUNDEVProfile.pdf\n",
      "109 HariniSeshadriProfile.pdf\n",
      "110 GajendraNagarajuProfile.pdf\n",
      "111 GianlucaBaldacciniProfile(1).pdf\n",
      "112 PrateekSharma[6_0].pdf\n",
      "113 prince_vaghasiya_Ahmedabad_0.00_yrs.docx\n",
      "114 Dhanashree_Wagal_Mumbai_4.01_yrs.docx\n",
      "115 KIshoreKS[6_0].doc\n",
      "116 Free-Wireless-Network-Engineer-Resume-Word-Download.doc\n",
      "117 Remyamol R - 6 YRS-rejected.doc\n",
      "118 KrishnenduBP[2_6].doc\n",
      "119 FranciscoParraProfile.pdf\n",
      "120 49763448_Bengaluru___Bangalore_17.00_yrs.doc\n",
      "121 DebraHutsonProfile.pdf\n",
      "122 GaspareNicosiaProfile.pdf\n",
      "123 Prashant_Chaurasia_Mumbai_3.00_yrs.docx\n",
      "124 ParthaBanik[6_0].doc\n",
      "125 RyanS.Profile.pdf\n",
      "126 GOPUSANKAR[5_11].docx\n",
      "127 Abhishek_Jain_Pune_6.00_yrs.pdf\n",
      "128 MathewsBabuProfile.pdf\n",
      "129 SAPTARSHI__Kolkata_4.00_yrs.doc\n",
      "130 24055553_Delhi_5.06_yrs.doc\n",
      "131 NikhilBKuriakose[2_0].pdf\n",
      "132 15918607_Noida_9.05_yrs.doc\n",
      "133 KristinBlicharz WitherspoonProfile.pdf\n",
      "134 amanulla_syed_Hyderabad___Secunderabad_0.03_yrs.docx\n",
      "135 IrmaCaraballoProfile.pdf\n",
      "136 AlessandroPuricellaProfile.pdf\n",
      "137 arpitmandloi[5_3].docx\n",
      "138 83886787_Hyderabad___Secunderabad_3.01_yrs.pdf\n",
      "139 arlinjohn[2_7].docx\n",
      "140 DevikaRamesh[2_0].doc\n",
      "141 DhariniSekarProfile.pdf\n",
      "142 HamedAhmadzadehProfile.pdf\n",
      "143 79983544_Pune_1.04_yrs.pdf\n",
      "144 ElaineAbousalhProfile.pdf\n",
      "145 NavyaPRamesan[4_2].doc\n",
      "146 Mithun_Shikari_Kolkata_5.02_yrs.docx\n",
      "147 AvinashGowdaProfile.pdf\n",
      "148 AmarnathShivashankarProfile.pdf\n",
      "149 CCNA-Network-Engineer-Resume-Free-PDF-Download.pdf\n",
      "150 Francesca RomanaRossiProfile.pdf\n",
      "151 AliceCasiraghiProfile.pdf\n",
      "152 GianmarcoIannilliProfile(1).pdf\n",
      "153 SarigaResume - NI.docx\n",
      "154 36968539_Bengaluru___Bangalore_12.00_yrs.docx\n",
      "155 Alankrith_Kumar__Hyderabad___Secunderabad_3.00_yrs.docx\n",
      "156 DmitryDiachencoProfile.pdf\n",
      "157 Maneesh_kumar_Mohali_4.04_yrs.docx\n",
      "158 Akash KumarJaiswalProfile.pdf\n",
      "159 AananthaGopinathG[5_7].doc\n",
      "160 IT Network Administrator Resume.pdf\n",
      "161 HaniGorishProfile.pdf\n",
      "162 AneeshKurian[9_0].docx\n",
      "163 FedericoBianchiniProfile(1).pdf\n",
      "164 BahadorGheisari(B.Eng,PMP,CCNP)Profile.pdf\n",
      "165 Anoopanandan.doc\n",
      "166 Executive%20Network%20Administrator%20Resume%20Example%20Resume%20Templates%2003122018795420.pdf\n",
      "167 GiuliaCappellettiProfile.pdf\n",
      "168 CCNP-Network-Engineer-Resume-Free-Word-Download.doc\n",
      "169 Imteyaz_Alam_Bengaluru___Bangalore_5.00_yrs.doc\n",
      "170 AlexeiAltregoProfile.pdf\n",
      "171 Ashish_Kumar_Delhi_1.07_yrs.docx\n",
      "172 AmitSinghProfile.pdf\n",
      "173 82299682_Chandigarh_0.06_yrs.docx\n",
      "174 feroz_mohammad_Noida_3.01_yrs.doc\n",
      "175 DmitryAndrushchenkoProfile.pdf\n",
      "176 HarshaKulkarniProfile.pdf\n",
      "177 Piyush_Dhanokar_Pune_4.00_yrs.doc\n",
      "178 GeethaAjay[5_4].pdf\n",
      "179 Namrata_Sitlani_Navi_Mumbai_3.09_yrs.pdf\n",
      "180 JyothiSrinathProfile.pdf\n",
      "181 PoojaAgarwalProfile.pdf\n",
      "182 BenJohnsonProfile.pdf\n",
      "183 Neelaveni_Murugan_Chennai_3.06_yrs.docx\n",
      "184 ChiaraLamieriProfile.pdf\n",
      "185 Pierre-HenriRolandProfile.pdf\n",
      "186 Carol RogerBProfile.pdf\n",
      "187 BenedettaGoliziaProfile.pdf\n",
      "188 PurushothamanSamudhra RajakumarProfile.pdf\n",
      "189 DackshtaRana[1_0].pdf\n",
      "190 ChitraMurthyProfile.pdf\n",
      "191 JincyWalston[2_2].doc\n",
      "192 AJAY_RESUME (2).pdf\n",
      "193 Bhupinder_Singh_Chandigarh_6.00_yrs.docx\n",
      "194 parulagarwalProfile.pdf\n",
      "195 EbinAntony[5_0].pdf\n",
      "196 Ananthakrishnan Resume.doc\n",
      "197 AkkiBharathProfile.pdf\n",
      "198 AndreaUciniProfile.pdf\n",
      "199 Rakhi_Agrawal_Pune_3.00_yrs.pdf\n",
      "200 anu k raj -Interested.docx\n",
      "201 Entry%20Level%20%26amp%3B%20Freshers%20Network%20Administrator%20Resume%20Resume%20Templates%2003122018162055.pdf\n",
      "202 Anandaraj_Rajasekaran_Chennai_3.04_yrs.docx\n",
      "203 Elise Chevry,Les Ephelides DesignProfile.pdf\n",
      "204 Abhijith .pdf\n",
      "205 Biju_Resume (2).docx\n",
      "206 Bharathkumarreddy[4_3].doc\n",
      "207 rahulvermaProfile.pdf\n",
      "208 BIBIN JOSEPH.doc\n",
      "209 Anish.doc\n",
      "210 shyamkumar[1_6].doc\n",
      "211 GianmarcoIannilliProfile.pdf\n",
      "212 DivyaSubramanianProfile.pdf\n",
      "213 Ashok_bala_Bengaluru___Bangalore_8.00_yrs.doc\n",
      "214 Praveena_Kurapati_Bengaluru___Bangalore_5.08_yrs.doc\n",
      "215 Character Animator Resume .doc\n",
      "216 BradBlahnikProfile.pdf\n",
      "217 AnitaVeronaProfile.pdf\n",
      "218 Abhishek_Dhandare_Pune_3.04_yrs.docx\n",
      "219 ambrish_emmidi_Chennai_1.10_yrs.pdf\n",
      "220 Chandrakanth_Reddy__Hyderabad___Secunderabad_0.00_yrs.pdf\n",
      "221 BERI_KARTHIK_Hyderabad___Secunderabad_2.01_yrs.docx\n",
      "222 Amit_kumar_Delhi_5.00_yrs.doc\n",
      "223 KimNylanderProfile.pdf\n",
      "224 IftikharKhanProfile.pdf\n",
      "225 DonatellaRomanoProfile.pdf\n",
      "226 BohdanChepurnyiProfile.pdf\n",
      "227 ManasaRajProfile.pdf\n",
      "228 FedericoFioreProfile.pdf\n",
      "229 EveMeelanProfile.pdf\n",
      "230 pardhasaradhi[4_4].docx\n",
      "231 Freelance Graphic Designer Resume Template.doc\n",
      "232 AfreenAffuProfile.pdf\n",
      "233 AntonLebedProfile.pdf\n",
      "234 Anusha A.S.doc\n",
      "235 AnkurDeep[5_0].docx\n",
      "236 NairitaGangopadhyay[5_0].docx\n",
      "237 NavinPrasadProfile.pdf\n",
      "238 giuliapirozziProfile.pdf\n",
      "239 DeepashreeRavindraProfile.pdf\n",
      "240 Anirban_Bandyopadhyay_Bengaluru___Bangalore_5.01_yrs.docx\n"
     ]
    },
    {
     "name": "stdout",
     "output_type": "stream",
     "text": [
      "241 Prathibha__Chilakaraju_Hyderabad___Secunderabad_7.00_yrs.doc\n",
      "242 SharabhKaushalProfile.pdf\n",
      "243 56550931_Hyderabad___Secunderabad_5.09_yrs.doc\n",
      "244 45614955_Pune_9.10_yrs.docx\n",
      "245 MichelleCherianProfile.pdf\n",
      "246 KavithaPatchamalaiProfile.pdf\n",
      "247 satishghinaiyaProfile.pdf\n",
      "248 Harshada_Bhalerao_Pune_1.11_yrs.docx\n",
      "249 ANOOP JOY.doc\n",
      "250 Cisco-Network-Engineer-Resume-Free-PDF-Template.pdf\n",
      "251 Hardik_Patel_Baroda_3.11_yrs.pdf\n",
      "252 Muhammed Insaf.doc\n",
      "253 ShaikHussainProfile.pdf\n",
      "254 JulianTokerProfile.pdf\n",
      "255 25029877_Bengaluru___Bangalore_9.00_yrs.doc\n",
      "256 Dhameemul ansariMProfile.pdf\n",
      "257 Liza BarooahGogoiProfile.pdf\n",
      "258 RobinSharmaProfile.pdf\n",
      "259 CarlaMaglioneProfile.pdf\n",
      "260 FedericoBianchiniProfile.pdf\n",
      "261 KaranBalwani[5_0].docx\n",
      "262 Nagaraju[7_0].docx\n",
      "263 Aswin.doc\n",
      "264 AnuSPillai[4_1].pdf\n",
      "265 62665768_Bengaluru___Bangalore_4.03_yrs.docx\n",
      "266 dinil___Kannur_1.03_yrs.docx\n",
      "267 FedericaDel FiaccoProfile.pdf\n",
      "268 Anil Reddy.Singam_Oracle Developer_Hyderabad_Atlas Systems.doc\n",
      "269 ArunaZachariahProfile.pdf\n",
      "270 Krushnamma[2_9].doc\n",
      "271 JoelHamillProfile.pdf\n",
      "272 Athirajoy[4_0].docx\n",
      "273 AntonPankratovProfile.pdf\n",
      "274 PMDMehetab[8_0].pdf\n",
      "275 AndreiKeidaProfile.pdf\n",
      "276 SabreenaKPProfile.pdf\n",
      "277 Rajeesh Radhakrishnan.doc\n",
      "278 GaiaPiazzaProfile.pdf\n",
      "279 Mohamed_Abdelnour_Cairo_12.00_yrs.docx\n",
      "280 JulieDanielProfile.pdf\n",
      "281 AndreaScandellaProfile.pdf\n",
      "282 Rashmi_Shrivas_Hyderabad___Secunderabad_3.00_yrs.docx\n",
      "283 Prabha_V_Thiruvananthapuram___Trivandrum_9.10_yrs.docx\n",
      "284 akshdeep_banerjee_Kolkata_3.00_yrs.docx\n",
      "285 MaltiTaakProfile.pdf\n",
      "286 Akash_Banda_Bengaluru___Bangalore_0.00_yrs.doc\n",
      "287 ArpitGuptaProfile(2).pdf\n",
      "288 ChowdalaVimalaProfile.pdf\n",
      "289 DonatoNardulliProfile.pdf\n",
      "290 SaeidAgheliProfile.pdf\n",
      "291 KempanahalliSKantharaju[6_0].doc\n",
      "292 akhil_resume (2).doc\n",
      "293 GhaziEjazProfile.pdf\n",
      "294 AlexNicolsonProfile.pdf\n",
      "295 Harika_Golla_Hyderabad___Secunderabad_2.00_yrs.docx\n",
      "296 sandhya_seggyam_Warangal_1.09_yrs.docx\n",
      "297 Manicka_Govinda_Ragul.M___Chennai_3.02_yrs.docx\n",
      "298 Ashutosh_Upadhyay_Delhi_3.11_yrs.pdf\n",
      "299 Aamir MohammedKhanProfile.pdf\n",
      "300 Rohit_Patidar_Indore_0.00_yrs.doc\n",
      "301 SHINTUV[3_0].docx\n",
      "302 Ajay_Kemble_Mumbai_0.00_yrs.doc\n",
      "303 RahulLakshmananProfile.pdf\n",
      "304 HimanshuSharma Profile.pdf\n",
      "305 Eldhose George[3_10].pdf\n",
      "306 40905499_Pune_6.06_yrs.docx\n",
      "307 Dipin.K.doc\n",
      "308 alok_trivedi_Delhi_Region_3.06_yrs.docx\n",
      "309 Corporate Graphic Designer.pdf\n",
      "310 AshishThakurProfile.pdf\n",
      "311 CristinaDe LisoProfile.pdf\n",
      "312 52077267_Bengaluru___Bangalore_2.06_yrs.doc\n",
      "313 JESMI A M.doc\n",
      "314 Dinesh KumarNatrajProfile.pdf\n",
      "315 Gaurav_Balyan_Noida_4.11_yrs.docx\n",
      "316 Anoop[4_0].pdf\n",
      "317 AdarshChandran[6_0].doc\n",
      "318 ArghyaBiswas ( ETL - QA)Profile.pdf\n",
      "319 RajaMProfile.pdf\n",
      "320 Haritha_Madhavi_Hyderabad___Secunderabad_7.00_yrs.docx\n",
      "321 m_lalitha_Hyderabad___Secunderabad_2.00_yrs.docx\n",
      "322 lavanya_methuku_Bengaluru___Bangalore_2.09_yrs.docx\n",
      "323 DavideScarpantonioProfile.pdf\n",
      "324 2D Animator Resume.doc\n",
      "325 CCNA-Network-Engineer-Resume-Free-PDF-Download(1).pdf\n",
      "326 IMRANNAWAZProfile.pdf\n",
      "327 ColbyCarterProfile.pdf\n",
      "328 ArunkumarBalakrishnanProfile.pdf\n",
      "329 A Mohan_Oracle Developer_Hyderabad_Atlas Systems.doc\n",
      "330 Soumyaranjan[2_5].docx\n",
      "331 Charan DasNainiProfile.pdf\n",
      "332 53672745_Bengaluru___Bangalore_2.05_yrs.docx\n",
      "333 PallaviDubeyProfile.pdf\n",
      "334 Entry Level Graphic Designer Resume.doc\n",
      "335 Anil_Thakur_Gurgaon_4.03_yrs.docx\n",
      "336 Sagar[7_0].docx\n",
      "337 MidhunsudhakarProfile.pdf\n",
      "338 DilipVasudevanProfile.pdf\n",
      "339 anik_nayak_Bengaluru___Bangalore_5.03_yrs.docx\n",
      "340 ArathiKadam KiranProfile(1).pdf\n",
      "341 63473717_Bengaluru___Bangalore_3.00_yrs.docx\n",
      "342 Muhammed Salim.doc\n",
      "343 Anthony Louis. A_technical Writer _Bangalore _Atlas Systems.doc\n",
      "344 Akumalli_Lalaiah_Noida_4.02_yrs.docx\n",
      "345 NarendraKumandan[5_1].pdf\n",
      "346 AndreaVitaleProfile.pdf\n",
      "347 ANUSHAK[3_1].pdf\n",
      "348 KristinBlicharz WitherspoonProfile(1).pdf\n",
      "349 AbdulMoizProfile.pdf\n",
      "350 pankaj_PAWAR_Bhopal_3.08_yrs.docx\n",
      "351 Hari_Kishore_Naidu_Hyderabad___Secunderabad_2.02_yrs.docx\n",
      "352 ChloeGowerProfile.pdf\n",
      "353 ANISH_GOPI_B_G.doc\n",
      "354 Ankit_Bhardwaj_United_Arab_Emirates_6.05_yrs.doc\n",
      "355 KrishnaPrasanna (1).doc\n",
      "356 BalajiDaruvoori[8_0].doc\n",
      "357 Akash_Tilak_Pune_0.00_yrs.docx\n",
      "358 Nikhil__Pune_3.00_yrs.doc\n",
      "359 Naga_Gayathri_Devi_Hyderabad___Secunderabad_2.00_yrs.doc\n",
      "360 GokulaKrishnan.docx\n",
      "361 DeepeshBarjatyaProfile.pdf\n",
      "362 Alvin Jaison.doc\n",
      "363 Abdul_Khalique_Mohammed_Umer_Singapore_11.00_yrs.doc\n",
      "364 Rakesh Sivaraman.pdf\n",
      "365 Lekshmi Sadanandan.doc\n",
      "366 DeepakHargaonkarProfile.pdf\n",
      "367 Rafeeque.doc\n",
      "368 PrietyDas (Looking for Job Change)Profile.pdf\n",
      "369 AnnaDe MezzoProfile.pdf\n",
      "370 AntonioIncorvaiaProfile.pdf\n",
      "371 DavidThomasProfile.pdf\n",
      "372 16561387_Delhi_3.01_yrs.doc\n",
      "373 AjithCPurushothaman[3_4].docx\n",
      "374 AmalCP.pdf\n",
      "375 akshay__Pune_0.00_yrs.docx\n",
      "376 HemaDassProfile.pdf\n",
      "377 Anand Kumar[8_0].doc\n",
      "378 PAYAL[9_0].doc\n",
      "379 Experienced Technical Writer Resume.doc\n",
      "380 Abhijit_Kulkarni_Pune_11.00_yrs.docx\n",
      "381 JayaaSProfile.pdf\n",
      "382 Flash Animator Resume.pdf\n",
      "383 GianlucaMalimpensaProfile.pdf\n",
      "384 mayur_jain_Pune_4.10_yrs.docx\n",
      "385 Allan John -Interested.docx\n",
      "386 MadhuriKaranthProfile.pdf\n",
      "387 60659278_Bengaluru___Bangalore_4.05_yrs.docx\n",
      "388 AndreyKiselevProfile(1).pdf\n",
      "389 Narasimharao_Dulla_Hyderabad___Secunderabad_3.06_yrs.pdf\n",
      "390 JyotiTripathiProfile.pdf\n",
      "391 FarashAhamadProfile.pdf\n",
      "392 Content Developer\n",
      "393 Muhammed Abdul Haseeb.doc\n",
      "394 PriyaTripathiProfile.pdf\n",
      "395 Anandita_Sharma_Bengaluru___Bangalore_4.00_yrs.doc\n",
      "396 AsaJohnProfile.pdf\n",
      "397 BharathiKotlaProfile.pdf\n",
      "398 RAKESH[4_0].doc\n",
      "399 MaxBotvinevProfile.pdf\n",
      "400 Roby_Roldhan___Thrissur___Trissur_2.02_yrs.pdf\n",
      "401 HEMANT_SETHI_Pune_5.00_yrs.pdf\n",
      "402 phaneendra_dvln_Hyderabad___Secunderabad_3.06_yrs.docx\n",
      "403 Himanshu_mohan_Delhi_0.00_yrs.doc\n",
      "404 noble_mathew_Thrissur___Trissur_3.09_yrs.docx\n",
      "405 Prashant_Reddy_Hyderabad___Secunderabad_2.06_yrs.doc\n",
      "406 debojitborah[9_0].docx\n",
      "407 Anurag_Singh_Kolkata_5.04_yrs.doc\n",
      "408 PreranaSolankiProfile.pdf\n",
      "409 AnjiReddy_Automation_Chennai_Atlas Systems.doc\n",
      "410 Ajmal CV.doc\n",
      "411 LisaJohnsonProfile.pdf\n",
      "412 AbhishekAmbreProfile.pdf\n",
      "413 ChrisFrostProfile.pdf\n",
      "414 LAHEENAVI[1_1].pdf\n",
      "415 Gokulrah__Chennai_1.00_yrs.pdf\n",
      "416 81951867_Mumbai_5.02_yrs.pdf\n",
      "417 AbhayaAgrawalProfile.pdf\n",
      "418 Dineshkumar EJ.doc\n",
      "419 BhavyaValsanProfile.pdf\n",
      "420 AndiB.Profile.pdf\n",
      "421 ArathiKadam KiranProfile.pdf\n",
      "422 DmitriyMorgachevProfile.pdf\n",
      "423 BageshriKachhawaProfile.pdf\n",
      "424 ClaudiaBrambillaProfile.pdf\n",
      "425 Sambasiva_Duddukuri_Bengaluru___Bangalore_4.06_yrs.docx\n",
      "426 NireshManjunathB[7_0].docx\n",
      "427 Abinash_Biswal_Mumbai_3.05_yrs.doc\n",
      "428 kamna_pandey_Delhi_0.00_yrs.pdf\n",
      "429 Anoop_f.docx\n",
      "430 Arumuga_perumal_Chennai_3.00_yrs.doc\n",
      "431 Kranthi KumarTaduriProfile.pdf\n",
      "432 JadePhillips Joyner, MSProfile.pdf\n",
      "433 JoseGonsalo-ContentWriter-Resume.pdf\n",
      "434 Alfina_Muthu_Chennai_1.05_yrs.docx\n",
      "435 AlexeyGrigorevProfile.pdf\n",
      "436 Agnivo_Ganguly__Kolkata_0.06_yrs.docx\n",
      "437 Free-Entry-Level-Network-Engineer-Resume-Free-Word.doc\n",
      "438 BensonJonesProfile.pdf\n",
      "439 PavelProkopovProfile.pdf\n",
      "440 RamaKrishnanKProfile.pdf\n",
      "441 80441171_Singapore_6.00_yrs.pdf\n",
      "442 Information Technology Consultant.doc\n",
      "443 PoojaBahl[5_0].docx\n",
      "444 Akansha_Singhal_Noida_2.00_yrs.docx\n",
      "445 KUNAL_BENDALE_Pune_2.00_yrs.pdf\n",
      "446 49700435_Bengaluru___Bangalore_16.00_yrs.doc\n",
      "447 ChiaraPalladinoProfile.pdf\n",
      "448 AmitKhannaProfile.pdf\n",
      "449 Renita_Albin-Resume.docx\n",
      "450 MohammedZubairAhamedB[7_0].pdf\n",
      "451 Nita Anil -Interested.docx\n",
      "452 AmirSatkinProfile.pdf\n",
      "453 gireeshguptaProfile.pdf\n",
      "454 DeepaliBhandariProfile.pdf\n",
      "455 saira_begum_Bengaluru___Bangalore_2.00_yrs.doc\n",
      "456 ANOOP V.doc\n",
      "457 MaanasaSuthraveProfile.pdf\n",
      "458 PallaviGururajProfile.pdf\n",
      "459 EmmaAllsupProfile.pdf\n",
      "460 Executive%20Hardware%20Engineer%20Resume%20Resume%20Templates%2003122018743408.pdf\n",
      "461 FilippoTestaProfile.pdf\n",
      "462 Entry%20Level%20%26amp%3B%20Freshers%20Network%20Administrator%20Resume%20Resume%20Templates%2003122018683629.pdf\n",
      "463 KateRevvoProfile.pdf\n",
      "464 MuralidharanThangaraj[5_6].docx\n",
      "465 AnanthK.Profile.pdf\n",
      "466 Anand_Kumar_Mumbai_4.00_yrs.doc\n",
      "467 RiginOommenProfile.pdf\n",
      "468 GiuliaSonninoProfile.pdf\n",
      "469 Dharamendra_Singh_Delhi_5.02_yrs.doc\n",
      "470 Executive%20Network%20Administrator%20Resume%20Example%20Resume%20Templates%2003122018326897.pdf\n",
      "471 80888692_Bengaluru___Bangalore_5.02_yrs.docx\n",
      "472 ElisaZorziProfile.pdf\n",
      "473 praveendamodaran[7_0].doc\n",
      "474 NirajVishwakarmaProfile.pdf\n"
     ]
    },
    {
     "name": "stdout",
     "output_type": "stream",
     "text": [
      "475 DivyakaushikProfile.pdf\n",
      "476 AnoopaSebastian[2_0].doc\n",
      "477 anilvishnu1(sh)15thJan'16.docx\n",
      "478 sojuvarughesethomas[2_3].docx\n",
      "479 shreya_choudhary_Bengaluru___Bangalore_2.00_yrs.doc\n",
      "480 Saran_kumar_Bengaluru_-_Bangalore_1.00_yrs (2).doc\n",
      "481 adityadhindwalProfile.pdf\n",
      "482 dineshkumar[8_0].pdf\n",
      "483 AndieGalloProfile.pdf\n",
      "484 KarthikaSelvamProfile.pdf\n",
      "485 Animator Fresher Resume.pdf\n",
      "486 AlexanderTrukhinProfile.pdf\n",
      "487 SaadAlamProfile.pdf\n",
      "488 ElisaHartikkaProfile.pdf\n",
      "489 3D Animator Resume.doc\n",
      "490 FurqanAkhtarProfile.pdf\n",
      "491 Aalhad_Vengurlekar_Mumbai_4.02_yrs.docx\n",
      "492 AngelicaChieffiProfile.pdf\n",
      "493 NaveenKumarProfile.pdf\n",
      "494 AlexeiAltregoProfile(1).pdf\n",
      "495 DavideMarinoniProfile.pdf\n",
      "496 Arti_narode_Pune_1.07_yrs.docx\n",
      "497 AhmedWaheedProfile.pdf\n",
      "498 AkshathkumarProfile.pdf\n",
      "499 Harshad_Mahajan_Mumbai_2.07_yrs.doc\n"
     ]
    }
   ],
   "source": [
    "label_tech=LoadData_tech()"
   ]
  },
  {
   "cell_type": "code",
   "execution_count": 23,
   "metadata": {},
   "outputs": [
    {
     "data": {
      "text/plain": [
       "500"
      ]
     },
     "execution_count": 23,
     "metadata": {},
     "output_type": "execute_result"
    }
   ],
   "source": [
    "len(label_tech)"
   ]
  },
  {
   "cell_type": "code",
   "execution_count": null,
   "metadata": {
    "collapsed": true
   },
   "outputs": [],
   "source": []
  },
  {
   "cell_type": "code",
   "execution_count": 24,
   "metadata": {},
   "outputs": [
    {
     "name": "stdout",
     "output_type": "stream",
     "text": [
      "1 DEEPAKJOSE[2_4].pdf\n",
      "2 Bhaskar_Singh_Kolkata_15.00_yrs.doc\n",
      "3 PolankiSailatha[2_0].doc\n",
      "4 KasthuriVijayan[2_2].doc\n",
      "5 -Mechanical Engineering Resume Sample.pdf\n",
      "6 Autocad Experience Resume.docx\n",
      "7 Harendra_kumar_Ghaziabad_4.02_yrs.doc\n",
      "8 Optometrist Assistant Resume.doc\n",
      "9 Nisha_A_Thrissur___Trissur_1.06_yrs.pdf\n",
      "10 AnithaRaghavendra[2_3].pdf\n",
      "11 Electronics Engineer Resume.doc\n",
      "12 MonicaSharma[2_5].docx\n",
      "13 SukantaDas[3_3].pdf\n",
      "14 Mrinal_Tiwari_Bhubaneshwar_1.00_yrs.pdf\n",
      "15 Brijesh_Pradhan_Chennai_13.00_yrs.doc\n",
      "16 PraisePTharian[2_0].pdf\n",
      "17 Parvez_Ali_Hyderabad___Secunderabad_1.10_yrs.pdf\n",
      "18 machinist-resume-template.docx\n",
      "19 KavithaM[2_0].docx\n",
      "20 Nithin Ramesh.docx\n",
      "21 Haris[9_0].doc\n",
      "22 Piyushjain[3_0].docx\n",
      "23 Neena_Luiz.pdf\n",
      "24 ChevvaPradeep[6_0].docx\n",
      "25 PRADEEPN[8_0].docx\n",
      "26 Chemical Engineering Resume Sample.pdf\n",
      "27 KripaVarijakshan[7_0].docx\n",
      "28 NeemaRavindran[4_5].doc\n",
      "29 Ravi_Anant_Sharma_Bengaluru___Bangalore_4.09_yrs.pdf\n",
      "30 shabaiz_khan_Bengaluru___Bangalore_4.08_yrs.doc\n",
      "31 Bal_Mukund_Thakur_Delhi_9.00_yrs.doc\n",
      "32 Chandan_Das_Hyderabad___Secunderabad_10.01_yrs.doc\n",
      "33 construction-superintendent-resume.docx\n",
      "34 construction-resume-template.docx\n",
      "35 ThamimMohammedThahir[7_0].pdf\n",
      "36 Clinical-Pharmacist-Resume1.pdf\n",
      "37 RajaVenkat[2_3].docx\n",
      "38 Mechanical Engineering Resume for Fresh Graduate.pdf\n",
      "39 BaskaranG[1_1].docx\n",
      "40 Designer Assistant Resume.doc\n",
      "41 Entry Level Electrical Engineering Resume.pdf\n",
      "42 Pradeep_Rawat_Delhi_0.08_yrs.docx\n",
      "43 Johny__Mumbai_10.00_yrs.docx\n",
      "44 abin austin resume.doc\n",
      "45 Chitrakala_Natarajan_Chennai_7.06_yrs.docx\n",
      "46 Pritam_Barik_Gurgaon_3.06_yrs.pdf\n",
      "47 nishant-resume-1.pdf\n",
      "48 Bhagyalaxmi[5_0].docx\n",
      "49 NEETHUCP[0_6] (1).pdf\n",
      "50 Chandu_Thomas_Coimbatore_6.02_yrs.pdf\n",
      "51 SOORAJS[7_0].pdf\n",
      "52 shashi_kant_upadhyay_Chennai_3.01_yrs.docx\n",
      "53 pavan_praneeth_nallamilli_Bengaluru___Bangalore_2.04_yrs.docx\n",
      "54 CURRICULAM VITAE.docx\n",
      "55 Pranav_P_Palghat_1.03_yrs.docx\n",
      "56 Meraj[3_2].docx\n",
      "57 NithinMR[1_1].pdf\n",
      "58 Irfan_Shaik_Hyderabad___Secunderabad_2.02_yrs.pdf\n",
      "59 LAXMON_GOPE_Durgapur_7.00_yrs.pdf\n",
      "60 SrikanthNalam[10_0].docx\n",
      "61 LOGANATHAN[3_0].pdf\n",
      "62 Hema_Gupta_Kolkata_6.05_yrs.pdf\n",
      "63 Maitreyee[9_0].doc\n",
      "64 ghadiya_hardik_Surat_1.00_yrs.pdf\n",
      "65 PallaviMoreProfile.pdf\n",
      "66 Online Marketing Executive\n",
      "67 Akhil.pdf\n",
      "68 KorukulaSatheesh[3_0].docx\n",
      "69 DivyaNair[9_0].doc\n",
      "70 Er. KaveryBajpaiProfile.pdf\n",
      "71 GargiSingh[6_0].doc\n",
      "72 DEEPTHIBelliyappaProfile.pdf\n",
      "73 B RAVIKUMAR.doc\n",
      "74 JubyMichael[6_0].docx\n",
      "75 Mahendra_Yadav_Bhopal_10.00_yrs.doc\n",
      "76 Autocad Electrical Engineer Resume.pdf\n",
      "77 MrsShwetaKunteKulkarni[3_4].docx\n",
      "78 construction-resume-examples.docx\n",
      "79 ManasiBM[6_0].doc\n",
      "80 peyush_rajput_Pune_8.00_yrs.doc\n",
      "81 Rohit_Aggarwal_Delhi_6.00_yrs.docx\n",
      "82 Asif_Khan_Bengaluru___Bangalore_6.08_yrs.docx\n",
      "83 Pramatha_K_P__Palakkad_0.11_yrs.pdf\n",
      "84 Mechanical Engineering Resume For Experience.doc (2)\n",
      "85 Manindra_Thelu_United_Arab_Emirates_5.00_yrs.pdf\n",
      "86 RitaMathews[0_7].pdf\n",
      "87 Civil-Engineer-Resume-PDF-Free-Download.pdf\n",
      "88 TeoPaul[4_5].docx\n",
      "89 Chiropractic Doctor.pdf\n",
      "90 SimonDavisS[8_0].doc\n",
      "91 PDF-Format-Automobile-Resume-Free-Template.pdf\n",
      "92 Srikanth.pdf\n",
      "93 Gnanambigai[5_4].doc\n",
      "94 Christy_Jose_Chennai_4.00_yrs.docx\n",
      "95 AtulMahajan[5_0].docx\n",
      "96 ANAZ_A_N.pdf\n",
      "97 Pratik_Sarwade_Pune_2.06_yrs.pdf\n",
      "98 GeorginaKurian[11_0].doc\n",
      "99 Naseruddin_Ahmed_Riyadh_7.03_yrs.docx\n",
      "100 Chandra_Sekhar_Hyderabad___Secunderabad_7.01_yrs.docx\n",
      "101 parshant_kumar_UNA(himachal_Pradesh)_6.00_yrs.doc\n",
      "102 MaheshMenon[15_0].doc\n",
      "103 SureshKumarM[7_0].docx\n",
      "104 BODDU  VYOMANADH.doc\n",
      "105 ankurpratap[2_11].docx\n",
      "106 Diesel Mechanic Resume.doc\n",
      "107 Anand Sankar_Resume.docx\n",
      "108 SusindharanGB[10_0].docx\n",
      "109 CristinaIoreProfile.pdf\n",
      "110 NeethuMohan[6_0].doc\n",
      "111 Dishari_Palit_Pune_7.00_yrs.doc\n",
      "112 Neeti_Sharma_Noida_10.00_yrs.doc\n",
      "113 Manpreet_Gambhir_Pune_3.02_yrs.pdf\n",
      "114 Sudhaya[11_0].pdf\n",
      "115 PriyankaAgarwal[5_9].docx\n",
      "116 Devshankar_Dey_Bengaluru___Bangalore_11.04_yrs.pdf\n",
      "117 KAPIL_PUND_Pune_0.02_yrs.docx\n",
      "118 ayush_datt_Delhi_0.00_yrs.docx\n",
      "119 NayanaDevadas[3_9].pdf\n",
      "120 Braj_Bhushan_Dangi_Ahmedabad_3.05_yrs.doc\n",
      "121 Neeraj_Thakur_Chandigarh_2.00_yrs.docx\n",
      "122 S.SHAHUL HAMEED.doc\n",
      "123 Babulal_Gaffar_Bengaluru___Bangalore_14.00_yrs.docx\n",
      "124 PARUCHURIRAMU[6_0].docx\n",
      "125 SharonAnbudaiyan[1_1].doc\n",
      "126 378724878RAMESH-INSTRUMENTATION_ENGINEER.doc\n",
      "127 Auto Mechanic Resume.doc\n",
      "128 Hardik_Shah_Pune_8.00_yrs.pdf\n",
      "129 PratapChandranK[9_0].doc\n",
      "130 Neenu_Saseendran_Cochin___Kochi___Ernakulam_2.02_yrs.docx\n",
      "131 construction-laborer-resume.docx\n",
      "132 DeepikaNair[2_0].doc\n",
      "133 PavithraB[5_5].pdf\n",
      "134 NidhiSood[4_2].doc\n",
      "135 MeenuSunil[1_1].docx\n",
      "136 PrateekKumar[4_0].pdf\n",
      "137 PragilP[3_0].docx\n",
      "138 SARAVANAN.C.doc\n",
      "139 Optical Lab Technician Resume.doc\n",
      "140 Ravi_Dixit_Delhi_9.02_yrs.docx\n",
      "141 Manasa[1_4].docx\n",
      "142 rizwan_ahmad_Delhi_3.06_yrs.docx\n",
      "143 Civil Engineer Resume PDF.pdf\n",
      "144 automobile-engineer-resume-template.docx\n",
      "145 amit_malavade_Bengaluru___Bangalore_2.03_yrs.docx\n",
      "146 Jijokuruvilla[7_0].pdf\n",
      "147 PradeepK[4_0].docx\n",
      "148 KabilanSP[7_0].doc\n",
      "149 Haridas_G_Bengaluru___Bangalore_2.06_yrs.doc\n",
      "150 MY_CV_1.doc\n",
      "151 Civil-Project-Engineer-Resume-PDF-Free-Download.pdf\n",
      "152 JohnsonS[17_0].docx\n",
      "153 gs.pdf\n",
      "154 SwarnalathaV[4_0].docx\n",
      "155 Albin_Thomas_Kozhikode___Calicut_0.05_yrs.pdf\n",
      "156 Nisha_Shankar.pdf\n",
      "157 Coorporate-Lawer-Resume-Free-PDF-Downlaod.pdf\n",
      "158 SudhanshuPandey[6_0].doc\n",
      "159 Doc-Format-Free-Automobile-Resume-Template.doc\n",
      "160 Entry-Level-Civil-Engineer-Resume-PDF-Downlaod.pdf\n",
      "161 PrasadDS[13_0].docx\n",
      "162 SrinivasKuchimanchi[15_0].docx\n",
      "163 Swapna[10_0].doc\n",
      "164 Saiprasad_Reddy_Hyderabad___Secunderabad_5.08_yrs.doc\n",
      "165 Chaitali_Rathod_Pune_4.06_yrs.docx\n",
      "166 JayachandranR[19_0].docx\n",
      "167 MANOJP[12_0].pdf\n",
      "168 PranitaGhag[2_10].docx\n",
      "169 Experience Electrical Engineering Resume.pdf\n",
      "170 HIMANSHU_MEHTA_Gurgaon_4.02_yrs.pdf\n",
      "171 JERRYJPAUL[4_5].pdf\n",
      "172 PARUL_KUMARI_Delhi_3.07_yrs.doc\n",
      "173 PAshwini[1_8].docx\n",
      "174 NEHA_RAI_Delhi_Region_5.04_yrs.docx\n",
      "175 Mechanical Autocad Draftsman Resume.doc\n",
      "176 Mounika_Panasam_Hyderabad___Secunderabad_1.10_yrs.docx\n",
      "177 Deepak_SK__Delhi_1.00_yrs.pdf\n",
      "178 Raushan_Gupta__Varanasi_4.00_yrs.doc\n",
      "179 Corporate Account Manager.pdf\n",
      "180 2d6f13feccbe4e6c27257ad0782ef29e.doc\n",
      "181 srinivasnaik[2_1].docx\n",
      "182 Chemical Engineering Student Resume.pdf\n",
      "183 NeerajaN[2_0].doc\n",
      "184 Heeramariapaul[2_0].docx\n",
      "185 SHAHEER.C.doc\n",
      "186 Pranjali_Mahajan_Mumbai_4.00_yrs.doc\n",
      "187 Civil-Engineer-Resume-PDF-Template-Download.pdf\n",
      "188 ArthiBhagath[0_8].doc\n",
      "189 PrasadVelugoti[3_3].docx\n",
      "190 UVJ-CALPINE_MKT01.pdf\n",
      "191 Jagadeeswara Resume.doc\n",
      "192 Autocad Operator Resume.docx\n",
      "193 Pradeep_Kumar_Noida_5.04_yrs.doc\n",
      "194 jaykesh_awlu_Navi_Mumbai_2.00_yrs.docx\n",
      "195 PRADEEP. G.doc\n",
      "196 SrinivasaReddyB[2_3].docx\n",
      "197 Civil-Engineer-Planning-Resume-Word-Free-Download.docx\n",
      "198 juned_saiyed_Ahmedabad_7.01_yrs.doc\n",
      "199 Jagadeesan_Periaswamy_India_19.02_yrs.pdf\n",
      "200 Rashmi_Jagasia_Mumbai_10.00_yrs.doc\n",
      "201 SIJUMOOTHEDATH[8_0].pdf\n",
      "202 jijojohn[5_10].docx\n",
      "203 Sheel_Thakkar_Navi_Mumbai_10.04_yrs.doc\n",
      "204 Mechanical Engineering Sample Resume.doc\n",
      "205 Prateekagarwal[2_5].doc\n",
      "206 CURRICULUM VITAEsathish.doc\n",
      "207 Anupama_Phal_Bengaluru___Bangalore_3.00_yrs.docx\n",
      "208 Raja_Babu_Trivedi_Delhi_8.00_yrs.docx\n",
      "209 Junior-Civil-Engineer-Resume-PDF-Template.pdf\n",
      "210 Brijesh_Nagdeote_Pune_7.02_yrs.doc\n",
      "211 prakash_shende_Pune_5.10_yrs.docx\n",
      "212 NIDHICHANDRAN.pdf\n",
      "213 RajeshKanna[1_11].docx\n",
      "214 ramachandran[4_5].doc\n",
      "215 Microsoft Word - YUNI_CV.pdf\n",
      "216 jalpa_chauhan_Bengaluru___Bangalore_8.05_yrs.docx\n",
      "217 cv-template-finance-financial-accountant.doc\n",
      "218 Abhishek_Mall_Mumbai_5.00_yrs.docx\n",
      "219 Meeta_Rani_Bengaluru___Bangalore_8.00_yrs.docx\n",
      "220 MunamaSriharsha[0_0].doc\n",
      "221 DivyaN[4_0].docx\n",
      "222 Gautam_Shetty_Mumbai_3.06_yrs.pdf\n",
      "223 ParulChauhanProfile.pdf\n",
      "224 BNaveenKumarReddy[4_7].doc\n",
      "225 MinuRajan[5_1].pdf\n",
      "226 Ravi_Bhatia_Navi_Mumbai_9.05_yrs.docx\n",
      "227 Prabhakar_P_Bengaluru___Bangalore_5.01_yrs.pdf\n",
      "228 MerritaD'cruz[5_10].doc\n",
      "229 Profile.docx\n",
      "230 Entry-Level-Firefighter-Resume.doc\n",
      "231 NARESH_KUMAR_Mumbai_5.00_yrs.doc\n",
      "232 pavankumarProfile.pdf\n",
      "233 KishorKumarG[19_0].doc\n",
      "234 SANTHOSH.T.doc\n",
      "235 Optometrist Medical Assistant Resume.docx\n",
      "236 construction-resume-samples.docx\n",
      "237 Ankita_Sehgal_Mumbai_4.06_yrs.docx\n",
      "238 Manju_Annie_Oommen_Bengaluru___Bangalore_8.08_yrs.doc\n",
      "239 Payal_Gaur_Delhi_12.00_yrs.pdf\n",
      "240 PeterEdward[11_0].docx\n",
      "241 Mechanical Engineering Resume For Fresher.doc\n"
     ]
    },
    {
     "name": "stdout",
     "output_type": "stream",
     "text": [
      "242 HevinBabu[9_0].docx\n",
      "243 SSanthosh[5_3].docx\n",
      "244 -English Teacher Resume Sample.pdf\n",
      "245 krishna_Shrivastava_Delhi_5.03_yrs.pdf\n",
      "246 Anuj_Joshi_Pune_9.06_yrs.doc\n",
      "247 ShyamGubba[4_5].doc\n",
      "248 MilnaAbraham[2_0].docx\n",
      "249 Civil Engineer Resume Free Download.pdf\n",
      "250 AbhishekChatterjee[2_4].doc\n",
      "251 Mukul_Paul_Chennai_11.00_yrs.docx\n",
      "252 JAFRUDDEN_SHAH_Gurgaon_2.02_yrs.doc\n",
      "253 GurpreetSingh[4_1].docx\n",
      "254 Dhirendra_Kumar_Delhi_2.01_yrs.docx\n",
      "255 Akhil[2_2].docx\n",
      "256 Naveen__Hyderabad___Secunderabad_11.00_yrs.docx\n",
      "257 Personal-Injury-Lawyer-Resume-PDF-Free-Template.pdf\n",
      "258 Kavita_Aroor_Bengaluru___Bangalore_16.00_yrs.pdf\n",
      "259 Balasundaramk[2_0].doc\n",
      "260 PraveenKumarSingh[3_7].docx\n",
      "261 SubhabharathyM[5_1].doc\n",
      "262 PRAKASHB[5_5].doc\n",
      "263 Kshitij_Shah_Baroda_7.08_yrs.pdf\n",
      "264 DeepakRChandran3.5L_4.5L_30 days.pdf\n",
      "265 Chandrashekar_Manvacharya_Bengaluru___Bangalore_2.04_yrs.pdf\n",
      "266 ReshmaRavindran[4_7].docx\n",
      "267 NicholasDominic[6_0].doc\n",
      "268 TeranceTKumar[6_0].docx\n",
      "269 chaithanya_thakellapati_Hyderabad___Secunderabad_5.10_yrs.docx\n",
      "270 5932_Rajesh Electrical CV.doc\n",
      "271 Govardhan.KG__Bengaluru___Bangalore_12.10_yrs.docx\n",
      "272 NeethuSunny[2_3].docx\n",
      "273 JISHNUSSALIL[3_0].docx\n",
      "274 AshutoshRSable[1_5].docx\n",
      "275 Mani_Nagarajan_Chennai_13.00_yrs.doc\n",
      "276 IshanthKrishnanMBA[8_0].pdf\n",
      "277 Phani.doc\n",
      "278 Purnachandran[2_10].pdf\n",
      "279 JKesavan[25_0].doc\n",
      "280 Mamta_dubb_Delhi_1.07_yrs.pdf\n",
      "281 Power Electronics Resume.docx\n",
      "282 Craft Teacher Resume Sample.doc\n",
      "283 Keshav_Asari_Pune_2.00_yrs.pdf\n",
      "284 Ehab BasuoniProfile.pdf\n",
      "285 Keshab_Singha_Pune_4.00_yrs.docx\n",
      "286 SHERINELDHOSE[1_4].docx\n",
      "287 automobile-mechanic-resume-template.docx\n",
      "288 Praise__CV.pdf\n",
      "289 manju_kapoor_Bengaluru___Bangalore_7.00_yrs.docx\n",
      "290 Manjumol_Saleesh_Bengaluru___Bangalore_7.09_yrs.docx\n",
      "291 DeepakMishra[1_3].docx\n",
      "292 Dental Lab Technician Resume.doc\n",
      "293 Neenu_Jijo.pdf\n",
      "294 Sindhuvwodeyar[2_0].doc\n",
      "295 SteenaBiju[5_0].docx\n",
      "296 SivaprasadSS[4_5].docx\n",
      "297 SabeelRahman[11_0].pdf\n",
      "298 Pranav[10_0].doc\n",
      "299 Ramya_nair_Cochin___Kochi___Ernakulam_2.00_yrs.docx\n",
      "300 Awadesh_Chawda_Indore_3.08_yrs.doc\n",
      "301 Banumathy_Subramani_Bengaluru___Bangalore_9.02_yrs.docx\n",
      "302 PremSingh[5_6].pdf\n",
      "303 JohnsonJamesPalithara[20_0].docx\n",
      "304 Electrical Engineering Student Resume.doc\n",
      "305 Auto Mechanic Resume Template.doc\n",
      "306 AnandKumar[4_5].doc\n",
      "307 Nimesh A. Chitalia.doc\n",
      "308 PraveenPNair[5_11].doc\n",
      "309 Manikandaraja[4_6].docx\n",
      "310 Kumar[9_0].pdf\n",
      "311 civil-engineering-resume-examples.docx\n",
      "312 NarasimhaSainathNuvvula[4_3].doc\n",
      "313 Pasi_Vaisanen_Australia_20.00_yrs.doc\n",
      "314 PVVijayakumar[28_0].docx\n",
      "315 DineshkumarP[1_10].docx\n",
      "316 sumana[1_9].docx\n",
      "317 Eti_Gautam_Hyderabad___Secunderabad_6.00_yrs.docx\n",
      "318 Naveen_Sharma_Bhiwani_1.00_yrs.docx\n",
      "319 Prayan William- (hr admin).docx\n",
      "320 free-manufacturing-resume-template.docx\n",
      "321 JanarthananA[3_5].doc\n",
      "322 pgdm-finance-accountant-resume-sample.doc\n",
      "323 Imran_Sidi_Singapore_3.10_yrs.pdf\n",
      "324 Jai_Govind_Shukla_Noida_10.00_yrs.docx\n",
      "325 Arindam_Chakrabarty_Bengaluru___Bangalore_7.02_yrs.doc\n",
      "326 SwapnaJ[4_3].pdf\n",
      "327 Pediatric Nurse Resume.pdf\n",
      "328 Anirudha_Sengupta_Ahmedabad_14.00_yrs.doc\n",
      "329 KalavakoluMuniSekhar[2_8].docx\n",
      "330 construction-worker-resume.doc\n",
      "331 prajith[4_1].doc\n",
      "332 KRDineshKumar[13_0].pdf\n",
      "333 nilutreesathomas[1_0].pdf\n",
      "334 Fresher Electrical Engineering Resume.doc\n",
      "335 Ankita_Singh___Pune_3.00_yrs.doc\n",
      "336 Basic.doc\n",
      "337 BhargaviL[4_3].doc\n",
      "338 PerumalPanchaksharam[11_0].docx\n",
      "339 BHAVESH_CHONKAR_Mumbai_5.00_yrs.docx\n",
      "340 NivyaPadmanabhan[2_0]-not interested.doc\n",
      "341 Neerajsudhakar[2_0].docx\n",
      "342 PranoyMPauly[1_9].pdf\n",
      "343 Pranali_Waghmare_Bengaluru___Bangalore_1.00_yrs.docx\n",
      "344 BIO-DATA-VIPIN.doc\n",
      "345 NKalasagarReddy[15_0].doc\n",
      "346 GOKULGNAIR[4_0].pdf\n",
      "347 SulataSahu[4_7].doc\n",
      "348 Diploma Electrical Engineering Resume.doc\n",
      "349 Nagesh_Swamy_Bengaluru___Bangalore_12.00_yrs.docx\n",
      "350 Free-Download-Mechanical-Engineer-Resume-Doc-Template.doc\n",
      "351 Aravind Kema.doc\n",
      "352 Pharmacy-Technician-Resume2.pdf\n",
      "353 ReniManjesh[6_0].pdf\n",
      "354 Entry Level Optometrist Resume Templates.docx\n",
      "355 Gopinath_B_Chennai_7.00_yrs.docx\n",
      "356 MSindhuja[3_0].docx\n",
      "357 RaveendraReddy.Y.doc\n",
      "358 Arpit_Srivastava_Gurgaon_9.09_yrs.docx\n",
      "359 Laxmi[2_0].doc\n",
      "360 CSSureshKumar[8_0].doc\n",
      "361 Doctor-Assistant-Resume-Template.docx\n",
      "362 Pawan  KumarRukmangadaProfile.pdf\n",
      "363 Clinical Nutritionist Resume.docx\n",
      "364 MAHADEVPRAMANIK[1_0].docx\n",
      "365 RasalHameed[15_0].pdf\n",
      "366 Bharti_Singh_Bengaluru___Bangalore_5.07_yrs.docx\n",
      "367 Aircraft Mechanic Resume.doc\n",
      "368 Paras_Nautiyal_Gurgaon_5.03_yrs.docx\n",
      "369 DineshMahar[2_4].doc\n",
      "370 sijupm[2_11].docx\n",
      "371 Madhan__Chennai_12.00_yrs.doc\n",
      "372 ShvetaJogi[6_0].docx\n",
      "373 ff.docx\n",
      "374 ANSAAR C.A 10_neg_immedate.pdf\n",
      "375 Laxmi_Kanth_Hyderabad___Secunderabad_9.08_yrs.docx\n",
      "376 ShravyaK[3_0].doc\n",
      "377 14798108_Mumbai_11.00_yrs.doc\n",
      "378 NithinKailasProfile.pdf\n",
      "379 Kanaka_Surya_Narayana_Duduku_Hyderabad___Secunderabad_0.05_yrs.pdf\n",
      "380 ratan_agarwal_Hyderabad___Secunderabad_4.02_yrs.doc\n",
      "381 Ankush_Mehra_Dubai_7.00_yrs.doc\n",
      "382 Mechanical Engineering Resume For Fresher.doc (2)\n",
      "383 SureshB[8_0].doc\n",
      "384 DelmyRosePJ[1_3].docx\n",
      "385 Manish_Yadav_Gurgaon_5.01_yrs.docx\n",
      "386 kalamani.doc\n",
      "387 Consultant Radiologist Resume.doc\n",
      "388 Experienced-Civil-Engineer-Resume-PDF-Free-Download.pdf\n",
      "389 MOHAMEDMANSURS[3_0].docx\n",
      "390 SMathanbabu[2_0].doc\n",
      "391 PAAWAN_GUPTA_Delhi_1.06_yrs.docx\n",
      "392 JayasankarJProfile.pdf\n",
      "393 Electronics Technician Resume.doc\n",
      "394 RakeshRamakrishnan[10_0].doc\n",
      "395 PoojaSoni[4_4].doc\n",
      "396 Aircraft Mechanic Resume.doc (3)\n",
      "397 Marketing Executive-JD.docx\n",
      "398 DILEEPC MProfile.pdf\n",
      "399 Ranjeet_kumar_Noida_3.07_yrs.doc\n",
      "400 automotive-body-repair-technician-resume-template.docx\n",
      "401 Kannan[1_8].pdf\n",
      "402 MUNMUN_BISWAS_Kolkata_8.00_yrs.docx\n",
      "403 SKarthik[11_0].docx\n",
      "404 Divijaa_Parthiban_Coimbatore_4.06_yrs.docx\n",
      "405 NyjilNazeer[7_0].doc\n",
      "406 Anshita_Pamnani_Mumbai_7.00_yrs.doc\n",
      "407 Jayshree_Sasane_upadhyay_Pune_7.00_yrs.doc\n",
      "408 civil-engineer-resume-examples.docx\n",
      "409 -Civil Engineering Student Resume Template.pdf\n",
      "410 Ganapa_Sai_Avinash_Malaysia_11.00_yrs.doc\n",
      "411 CV of Lead Engineer_Instrumentation.doc\n",
      "412 Laboni_Choudhuri_Delhi_3.01_yrs.docx\n",
      "413 Aircraft Mechanic Resume.doc (2)\n",
      "414 DIVYAMV[5_5].docx\n",
      "415 Deepak_PG_Bengaluru___Bangalore_12.00_yrs.docx\n",
      "416 Prabhu[13_0].pdf\n",
      "417 Divya[2_0].doc\n",
      "418 Dipak_Nilakh_Mumbai_4.07_yrs.pdf\n",
      "419 -Entry Level Civil Engineering Resume Template.doc\n",
      "420 NAVEEN K K.doc\n",
      "421 NithyaBalakrishnan[2_6].pdf\n",
      "422 Autocad Engineer Resume.doc\n",
      "423 Automobile-Resume-Template-Free-Download-PDF.pdf\n",
      "424 BhuvaneswariA[1_1].docx\n",
      "425 PDF-Format-Automobile-Resume-Free-Template(1).pdf\n",
      "426 instrumentation.doc\n",
      "427 new resume mba sunish kv.docx\n",
      "428 Ninu[3_0]-not interested.docx\n",
      "429 LakshmiRDevi[5_3].pdf\n",
      "430 Orthopedic-Doctor-Resume-Template.docx\n",
      "431 Dental-Doctor-Resume-Free-PDF-Template.pdf\n",
      "432 DurgaCNayak[8_0].doc\n",
      "433 Sankar_Ganesh_Pandian_Chennai_4.06_yrs.doc\n",
      "434 Experience Electronics Engineer Resume.doc\n",
      "435 NITIN SHARMA.docx\n",
      "436 SSasikiran[2_6].doc\n",
      "437 Aviation Electronics Technician Resume.pdf\n",
      "438 Pooja_Taware_Pune_1.05_yrs.docx\n",
      "439 RajashriGHegde[1_10].doc\n",
      "440 AbhishekC[2_3].doc\n",
      "441 Sai_Kiran_A.M_Hyderabad___Secunderabad_3.04_yrs.doc\n",
      "442 Pooja_Sharma_Bengaluru___Bangalore_2.04_yrs.docx\n",
      "443 Mechanical Engineering Resume For Experience.doc\n",
      "444 PShriVanadhi[1_0].doc\n",
      "445 Pawan_Gupta_Gurgaon_3.11_yrs.doc\n",
      "446 PremkumarS[7_0].doc\n",
      "447 ashok__Faridabad_1.10_yrs.docx\n",
      "448 Sooraj[6_0].doc\n",
      "449 Bhaskar_Ghosh_Hyderabad___Secunderabad_15.01_yrs.docx\n",
      "450 Anil_Pratap_Singh_Delhi_4.00_yrs.docx\n",
      "451 rekha.docx\n",
      "452 Aviation Mechanic Resume.doc\n",
      "453 jithin_babu_Qatar_9.06_yrs.pdf\n",
      "454 Nygil[6_0].docx\n",
      "455 sreenathb[8_0].doc\n",
      "456 ShivaKumarG[4_11].docx\n",
      "457 AMIT_KUMAR_Navi_Mumbai_5.00_yrs.doc\n",
      "458 Mechanical Engineering Resume For Internship.doc\n",
      "459 Indulekha[13_0].doc\n",
      "460 Jitesh_Tiyyashery_Hyderabad___Secunderabad_14.00_yrs.docx\n",
      "461 Electrical and Electronics Engineer Resume.doc\n",
      "462 Pallavi Kumari.doc\n",
      "463 instrument-mechanic-resume-template.docx\n",
      "464 PKishorekumar[0_10].doc\n",
      "465 Avik_Bhattacharya_Bengaluru___Bangalore_2.07_yrs.pdf\n",
      "466 Sharmila_M_Bengaluru___Bangalore_2.08_yrs.pdf\n",
      "467 kasiviswam[15_0].doc\n",
      "468 KrishnaveniEIEProfile.pdf\n",
      "469 cv-chaker-abdeljaoued.pdf\n",
      "470 Free-Download-Civil-Engineering-Resume-Template-Doc.docx\n",
      "471 HARIKRISHNANR[6_0].doc\n",
      "472 PrincyJain[2_9].docx\n",
      "473 KamalakarY[2_1].docx\n",
      "474 RINKY_MISHRA_Delhi_2.07_yrs.pdf\n"
     ]
    },
    {
     "name": "stdout",
     "output_type": "stream",
     "text": [
      "475 Paul_Jacob.pdf\n",
      "476 Sreejith Sudhan Nursing Mkt.doc\n",
      "477 K. Ravikumar.doc\n",
      "478 construction-supervisor-resume.docx\n",
      "479 PRIYANKASDUTH[2_8].pdf\n",
      "480 FasilKYousuf[1_6].docx\n",
      "481 Nikhil_Chandra_Reddy_Hyderabad___Secunderabad_3.00_yrs.doc\n",
      "482 Prerna_Katyal_Delhi_5.00_yrs.pdf\n",
      "483 P.RAVI BABU.doc\n",
      "484 Mustansir_Aurangabadi_Mumbai_7.05_yrs.pdf\n",
      "485 ec.doc\n",
      "486 shanti_Bhawnani_Noida_7.11_yrs.docx\n",
      "487 HASHIMVM[4_10].pdf\n",
      "488 Lidia[5_2].docx\n",
      "489 LakshmiVenugopal[4_0].doc\n",
      "490 Mechanical Engineering Student Resume.pdf\n",
      "491 Balaji_D_Hyderabad___Secunderabad_8.02_yrs.docx\n",
      "492 Nithin_Mathew.pdf\n",
      "493 Nirup_S_Ranya_Bengaluru___Bangalore_3.02_yrs.docx\n",
      "494 KhimsuriyaSnehaNayankumar[3_5].docx\n",
      "495 MohamedSalman[3_3].pdf\n",
      "496 NishaVarghese[10_0].doc\n",
      "497 SRINIVASAM[10_0].docx\n",
      "498 GireeshPR[7_0].docx\n",
      "499 Saurabh_Sawant_India_6.05_yrs.pdf\n",
      "500 Aviation Mechanic Resume.doc (2)\n"
     ]
    }
   ],
   "source": [
    "label_nontech=LoadData_nontech()"
   ]
  },
  {
   "cell_type": "code",
   "execution_count": 25,
   "metadata": {},
   "outputs": [
    {
     "name": "stdout",
     "output_type": "stream",
     "text": [
      "500\n",
      "500\n"
     ]
    }
   ],
   "source": [
    "\n",
    "print(len(label_tech))\n",
    "print(len(label_nontech))"
   ]
  },
  {
   "cell_type": "code",
   "execution_count": 26,
   "metadata": {
    "collapsed": true
   },
   "outputs": [],
   "source": [
    "\n",
    "jdres_train_labels=[]\n",
    "jdres_train_data=[]\n",
    "\n",
    "for row in label_tech:\n",
    "    jdres_train_data.append(row[0])\n",
    "    jdres_train_labels.append(row[1])\n",
    "#print(jdres_train_data)\n",
    "\n",
    "#print(len(jdres_train_data))"
   ]
  },
  {
   "cell_type": "code",
   "execution_count": 27,
   "metadata": {
    "collapsed": true
   },
   "outputs": [],
   "source": [
    "#print(jdres_train_labels)"
   ]
  },
  {
   "cell_type": "code",
   "execution_count": 28,
   "metadata": {
    "collapsed": true
   },
   "outputs": [],
   "source": [
    "\n",
    "for row in label_nontech:\n",
    "    jdres_train_data.append(row[0])\n",
    "    jdres_train_labels.append(row[1])\n",
    "#print(jdres_train_labels)\n",
    "#print(jdres_train_data)"
   ]
  },
  {
   "cell_type": "code",
   "execution_count": 29,
   "metadata": {},
   "outputs": [
    {
     "name": "stdout",
     "output_type": "stream",
     "text": [
      "1000\n",
      "1000\n"
     ]
    }
   ],
   "source": [
    "print(len(jdres_train_data))\n",
    "print(len(jdres_train_labels))"
   ]
  },
  {
   "cell_type": "code",
   "execution_count": 30,
   "metadata": {
    "collapsed": true
   },
   "outputs": [],
   "source": [
    "#print(jdres_train_data[42])"
   ]
  },
  {
   "cell_type": "code",
   "execution_count": 31,
   "metadata": {},
   "outputs": [
    {
     "name": "stdout",
     "output_type": "stream",
     "text": [
      "1000\n"
     ]
    }
   ],
   "source": [
    "labels = [0 for _ in range(len(label_tech))] + [1 for _ in range(len(label_nontech))]\n",
    "#print(labels)\n",
    "print(len(labels))"
   ]
  },
  {
   "cell_type": "code",
   "execution_count": 32,
   "metadata": {},
   "outputs": [
    {
     "data": {
      "text/plain": [
       "44477"
      ]
     },
     "execution_count": 32,
     "metadata": {},
     "output_type": "execute_result"
    }
   ],
   "source": [
    "# prepare tokenizer\n",
    "t = Tokenizer()\n",
    "t.fit_on_texts(jdres_train_data)\n",
    "vocab_size = len(t.word_index) + 1\n",
    "# integer encode the documents\n",
    "encoded_docs = t.texts_to_sequences(jdres_train_data)\n",
    "vocab_size"
   ]
  },
  {
   "cell_type": "code",
   "execution_count": 33,
   "metadata": {},
   "outputs": [
    {
     "name": "stdout",
     "output_type": "stream",
     "text": [
      "[[   45   155    10 ..., 10158   213 19531]\n",
      " [12948   723 12948 ...,     0     0     0]\n",
      " [   43  1221   910 ..., 12976 12977   246]\n",
      " ..., \n",
      " [44409 44410    96 ...,    29   222  1939]\n",
      " [  376   654  1173 ...,   625  1069   508]\n",
      " [ 6679  5302  5296 ...,     0     0     0]]\n"
     ]
    }
   ],
   "source": [
    "# pad documents to a max length of 500 words\n",
    "max_length = 250\n",
    "padded_docs = pad_sequences(encoded_docs, maxlen=max_length, padding='post')\n",
    "print(padded_docs)"
   ]
  },
  {
   "cell_type": "code",
   "execution_count": 34,
   "metadata": {},
   "outputs": [
    {
     "name": "stdout",
     "output_type": "stream",
     "text": [
      "1000\n"
     ]
    },
    {
     "data": {
      "text/plain": [
       "array([[ 1.,  0.],\n",
       "       [ 1.,  0.],\n",
       "       [ 1.,  0.],\n",
       "       ..., \n",
       "       [ 0.,  1.],\n",
       "       [ 0.,  1.],\n",
       "       [ 0.,  1.]])"
      ]
     },
     "execution_count": 34,
     "metadata": {},
     "output_type": "execute_result"
    }
   ],
   "source": [
    "labels = to_categorical(labels,num_classes=2)\n",
    "print(len(labels))\n",
    "labels"
   ]
  },
  {
   "cell_type": "code",
   "execution_count": 35,
   "metadata": {},
   "outputs": [
    {
     "name": "stdout",
     "output_type": "stream",
     "text": [
      "Loaded 400000 word vectors.\n"
     ]
    }
   ],
   "source": [
    "#loading glove\n",
    "\n",
    "embeddings_index = dict()\n",
    "f = open('/home/shabna/glove.6B.100d.txt')\n",
    "for line in f:\n",
    "    values = line.split()\n",
    "    word = values[0]\n",
    "    coefs = np.asarray(values[1:], dtype='float32')\n",
    "    embeddings_index[word] = coefs\n",
    "f.close()\n",
    "print('Loaded %s word vectors.' % len(embeddings_index))"
   ]
  },
  {
   "cell_type": "code",
   "execution_count": 36,
   "metadata": {
    "collapsed": true
   },
   "outputs": [],
   "source": [
    "# create a weight matrix for words in training docs\n",
    "embedding_matrix = np.zeros((vocab_size, 100))\n",
    "for word, i in t.word_index.items():\n",
    "    embedding_vector = embeddings_index.get(word)\n",
    "    if embedding_vector is not None:\n",
    "        embedding_matrix[i] = embedding_vector"
   ]
  },
  {
   "cell_type": "code",
   "execution_count": 122,
   "metadata": {
    "collapsed": true
   },
   "outputs": [],
   "source": [
    "#create model\n",
    "\n",
    "from keras.layers import Activation, Input, Dense, Flatten, Dropout, Embedding\n",
    "from keras.layers import Conv1D, MaxPooling1D,GlobalMaxPooling1D\n",
    "from keras.models import Model"
   ]
  },
  {
   "cell_type": "code",
   "execution_count": 123,
   "metadata": {
    "collapsed": true
   },
   "outputs": [],
   "source": [
    "from sklearn.model_selection import GridSearchCV\n",
    "from keras.wrappers.scikit_learn import KerasClassifier"
   ]
  },
  {
   "cell_type": "code",
   "execution_count": 155,
   "metadata": {
    "collapsed": true
   },
   "outputs": [],
   "source": [
    "def create_model():\n",
    "    model = Sequential()\n",
    "    e = Embedding(vocab_size,100, weights=[embedding_matrix], input_length=250, trainable='true')\n",
    "    model.add(e)\n",
    "    model.add(Conv1D(130,5, activation='relu',name='l1'))\n",
    "    model.add(MaxPooling1D(pool_size=5,name='l2'))\n",
    "    model.add(Conv1D(130, 5, activation='relu',name='l3'))\n",
    "    model.add(GlobalMaxPooling1D(name='l4'))\n",
    "    #model.add(Dense(100, activation='relu',name='l5'))\n",
    "    model.add(Dropout(0.2))\n",
    "    #model.add(Flatten())\n",
    "    model.add(Dense(2, activation='softmax',name='l6'))\n",
    "    model.compile(optimizer='adam', loss='binary_crossentropy', metrics=['acc'])\n",
    "    return model"
   ]
  },
  {
   "cell_type": "code",
   "execution_count": 156,
   "metadata": {},
   "outputs": [
    {
     "name": "stdout",
     "output_type": "stream",
     "text": [
      "_________________________________________________________________\n",
      "Layer (type)                 Output Shape              Param #   \n",
      "=================================================================\n",
      "embedding_4 (Embedding)      (None, 250, 100)          4447700   \n",
      "_________________________________________________________________\n",
      "l1 (Conv1D)                  (None, 246, 130)          65130     \n",
      "_________________________________________________________________\n",
      "l2 (MaxPooling1D)            (None, 49, 130)           0         \n",
      "_________________________________________________________________\n",
      "l3 (Conv1D)                  (None, 45, 130)           84630     \n",
      "_________________________________________________________________\n",
      "l4 (GlobalMaxPooling1D)      (None, 130)               0         \n",
      "_________________________________________________________________\n",
      "dropout_4 (Dropout)          (None, 130)               0         \n",
      "_________________________________________________________________\n",
      "l6 (Dense)                   (None, 2)                 262       \n",
      "=================================================================\n",
      "Total params: 4,597,722\n",
      "Trainable params: 4,597,722\n",
      "Non-trainable params: 0\n",
      "_________________________________________________________________\n"
     ]
    }
   ],
   "source": [
    "\n",
    "model = create_model()\n",
    "model.summary()"
   ]
  },
  {
   "cell_type": "code",
   "execution_count": null,
   "metadata": {
    "collapsed": true
   },
   "outputs": [],
   "source": [
    "learn_rate = [0.001, 0.01, 0.1, 0.2, 0.3]\n",
    "momentum = [0.0, 0.2, 0.4, 0.6, 0.8, 0.9]\n",
    "batch_size = [10, 20, 40, 60, 80, 100]\n",
    "epochs = [10, 50, 100]\n",
    "optimizer = ['SGD', 'RMSprop', 'Adagrad', 'Adadelta', 'Adam', 'Adamax', 'Nadam']\n",
    "\n",
    "param_grid = dict(learn_rate=learn_rate, momentum=momentum, batch_size=batch_size, epochs=epochs,optimizer=optimizer)\n",
    "    grid = GridSearchCV(estimator=model, param_grid=param_grid, n_jobs=-1)\n",
    "    grid_result = grid.fit(X_train, y_train,validation_data=(X_val,y_val))\n",
    "    \n",
    "    # summarize results\n",
    "    print(\"Best: %f using %s\" % (grid_result.best_score_, grid_result.best_params_))\n",
    "    means = grid_result.cv_results_['mean_test_score']\n",
    "    stds = grid_result.cv_results_['std_test_score']\n",
    "    params = grid_result.cv_results_['params']\n",
    "    for mean, stdev, param in zip(means, stds, params):\n",
    "        print(\"%f (%f) with: %r\" % (mean, stdev, param))"
   ]
  },
  {
   "cell_type": "code",
   "execution_count": 157,
   "metadata": {
    "collapsed": true
   },
   "outputs": [],
   "source": [
    "from keras.callbacks import ModelCheckpoint"
   ]
  },
  {
   "cell_type": "code",
   "execution_count": 158,
   "metadata": {
    "collapsed": true
   },
   "outputs": [],
   "source": [
    "from keras.callbacks import Callback"
   ]
  },
  {
   "cell_type": "code",
   "execution_count": 159,
   "metadata": {
    "collapsed": true
   },
   "outputs": [],
   "source": [
    "filepath=\"/home/shabna/Desktop/example_codes/weights_2.best.hdf5\"\n",
    "checkpoint = ModelCheckpoint(filepath, monitor='val_acc', verbose=1, save_best_only=\"True\", mode=\"max\")\n",
    "callbacks_list = [checkpoint]"
   ]
  },
  {
   "cell_type": "code",
   "execution_count": 160,
   "metadata": {},
   "outputs": [
    {
     "name": "stdout",
     "output_type": "stream",
     "text": [
      "1 :num of fold\n",
      "Train on 400 samples, validate on 400 samples\n",
      "Epoch 1/50\n",
      "300/400 [=====================>........] - ETA: 1s - loss: 1.3871 - acc: 0.5367Epoch 00001: val_acc improved from -inf to 0.45500, saving model to /home/shabna/Desktop/example_codes/weights_2.best.hdf5\n",
      "400/400 [==============================] - 9s 23ms/step - loss: 1.2074 - acc: 0.5500 - val_loss: 1.2766 - val_acc: 0.4550\n",
      "Epoch 2/50\n",
      "300/400 [=====================>........] - ETA: 1s - loss: 1.0221 - acc: 0.5367Epoch 00002: val_acc improved from 0.45500 to 0.56750, saving model to /home/shabna/Desktop/example_codes/weights_2.best.hdf5\n",
      "400/400 [==============================] - 6s 15ms/step - loss: 0.9197 - acc: 0.5775 - val_loss: 0.6628 - val_acc: 0.5675\n",
      "Epoch 3/50\n",
      "300/400 [=====================>........] - ETA: 1s - loss: 0.6827 - acc: 0.5900Epoch 00003: val_acc improved from 0.56750 to 0.66250, saving model to /home/shabna/Desktop/example_codes/weights_2.best.hdf5\n",
      "400/400 [==============================] - 6s 14ms/step - loss: 0.7170 - acc: 0.5525 - val_loss: 0.6092 - val_acc: 0.6625\n",
      "Epoch 4/50\n",
      "300/400 [=====================>........] - ETA: 1s - loss: 0.5023 - acc: 0.7500Epoch 00004: val_acc did not improve\n",
      "400/400 [==============================] - 5s 13ms/step - loss: 0.5303 - acc: 0.7175 - val_loss: 0.8604 - val_acc: 0.4650\n",
      "Epoch 5/50\n",
      "300/400 [=====================>........] - ETA: 1s - loss: 0.4673 - acc: 0.7433Epoch 00005: val_acc improved from 0.66250 to 0.68250, saving model to /home/shabna/Desktop/example_codes/weights_2.best.hdf5\n",
      "400/400 [==============================] - 6s 14ms/step - loss: 0.4516 - acc: 0.7700 - val_loss: 0.5817 - val_acc: 0.6825\n",
      "Epoch 6/50\n",
      "300/400 [=====================>........] - ETA: 1s - loss: 0.4004 - acc: 0.8267Epoch 00006: val_acc improved from 0.68250 to 0.73500, saving model to /home/shabna/Desktop/example_codes/weights_2.best.hdf5\n",
      "400/400 [==============================] - 5s 13ms/step - loss: 0.4087 - acc: 0.8175 - val_loss: 0.5545 - val_acc: 0.7350\n",
      "Epoch 7/50\n",
      "300/400 [=====================>........] - ETA: 1s - loss: 0.3186 - acc: 0.9400Epoch 00007: val_acc did not improve\n",
      "400/400 [==============================] - 5s 13ms/step - loss: 0.3092 - acc: 0.9350 - val_loss: 0.6537 - val_acc: 0.5900\n",
      "Epoch 8/50\n",
      "300/400 [=====================>........] - ETA: 1s - loss: 0.2739 - acc: 0.9167Epoch 00008: val_acc improved from 0.73500 to 0.76000, saving model to /home/shabna/Desktop/example_codes/weights_2.best.hdf5\n",
      "400/400 [==============================] - 6s 15ms/step - loss: 0.2669 - acc: 0.9300 - val_loss: 0.5394 - val_acc: 0.7600\n",
      "Epoch 9/50\n",
      "300/400 [=====================>........] - ETA: 1s - loss: 0.2293 - acc: 0.9867Epoch 00009: val_acc improved from 0.76000 to 0.77500, saving model to /home/shabna/Desktop/example_codes/weights_2.best.hdf5\n",
      "400/400 [==============================] - 7s 18ms/step - loss: 0.2280 - acc: 0.9875 - val_loss: 0.5152 - val_acc: 0.7750\n",
      "Epoch 10/50\n",
      "300/400 [=====================>........] - ETA: 1s - loss: 0.2119 - acc: 0.9800Epoch 00010: val_acc did not improve\n",
      "400/400 [==============================] - 6s 14ms/step - loss: 0.2029 - acc: 0.9850 - val_loss: 0.5404 - val_acc: 0.7100\n",
      "Epoch 11/50\n",
      "300/400 [=====================>........] - ETA: 1s - loss: 0.1837 - acc: 0.9833Epoch 00011: val_acc did not improve\n",
      "400/400 [==============================] - 5s 13ms/step - loss: 0.1801 - acc: 0.9825 - val_loss: 0.5201 - val_acc: 0.7525\n",
      "Epoch 12/50\n",
      "300/400 [=====================>........] - ETA: 1s - loss: 0.1451 - acc: 0.9967Epoch 00012: val_acc improved from 0.77500 to 0.80750, saving model to /home/shabna/Desktop/example_codes/weights_2.best.hdf5\n",
      "400/400 [==============================] - 5s 13ms/step - loss: 0.1481 - acc: 0.9950 - val_loss: 0.4775 - val_acc: 0.8075\n",
      "Epoch 13/50\n",
      "300/400 [=====================>........] - ETA: 0s - loss: 0.1388 - acc: 0.9967Epoch 00013: val_acc did not improve\n",
      "400/400 [==============================] - 5s 13ms/step - loss: 0.1327 - acc: 0.9975 - val_loss: 0.4841 - val_acc: 0.7875\n",
      "Epoch 14/50\n",
      "300/400 [=====================>........] - ETA: 1s - loss: 0.1239 - acc: 0.9933Epoch 00014: val_acc did not improve\n",
      "400/400 [==============================] - 5s 13ms/step - loss: 0.1233 - acc: 0.9950 - val_loss: 0.5028 - val_acc: 0.7525\n",
      "Epoch 15/50\n",
      "300/400 [=====================>........] - ETA: 1s - loss: 0.1092 - acc: 0.9967Epoch 00015: val_acc improved from 0.80750 to 0.83750, saving model to /home/shabna/Desktop/example_codes/weights_2.best.hdf5\n",
      "400/400 [==============================] - 5s 13ms/step - loss: 0.1100 - acc: 0.9975 - val_loss: 0.4462 - val_acc: 0.8375\n",
      "Epoch 16/50\n",
      "300/400 [=====================>........] - ETA: 0s - loss: 0.0947 - acc: 0.9967Epoch 00016: val_acc did not improve\n",
      "400/400 [==============================] - 5s 13ms/step - loss: 0.0931 - acc: 0.9975 - val_loss: 0.4616 - val_acc: 0.7850\n",
      "Epoch 17/50\n",
      "300/400 [=====================>........] - ETA: 0s - loss: 0.0873 - acc: 0.9967Epoch 00017: val_acc did not improve\n",
      "400/400 [==============================] - 5s 13ms/step - loss: 0.0835 - acc: 0.9975 - val_loss: 0.4363 - val_acc: 0.8200\n",
      "Epoch 18/50\n",
      "300/400 [=====================>........] - ETA: 1s - loss: 0.0702 - acc: 0.9967Epoch 00018: val_acc did not improve\n",
      "400/400 [==============================] - 5s 13ms/step - loss: 0.0718 - acc: 0.9975 - val_loss: 0.4184 - val_acc: 0.8350\n",
      "Epoch 19/50\n",
      "300/400 [=====================>........] - ETA: 1s - loss: 0.0641 - acc: 1.0000Epoch 00019: val_acc did not improve\n",
      "400/400 [==============================] - 5s 13ms/step - loss: 0.0645 - acc: 1.0000 - val_loss: 0.4311 - val_acc: 0.8000\n",
      "Epoch 20/50\n",
      "300/400 [=====================>........] - ETA: 0s - loss: 0.0566 - acc: 0.9967Epoch 00020: val_acc did not improve\n",
      "400/400 [==============================] - 5s 13ms/step - loss: 0.0558 - acc: 0.9975 - val_loss: 0.4112 - val_acc: 0.8200\n",
      "Epoch 21/50\n",
      "300/400 [=====================>........] - ETA: 0s - loss: 0.0547 - acc: 1.0000Epoch 00021: val_acc did not improve\n",
      "400/400 [==============================] - 5s 13ms/step - loss: 0.0521 - acc: 1.0000 - val_loss: 0.4030 - val_acc: 0.8250\n",
      "Epoch 22/50\n",
      "300/400 [=====================>........] - ETA: 0s - loss: 0.0449 - acc: 1.0000Epoch 00022: val_acc did not improve\n",
      "400/400 [==============================] - 6s 16ms/step - loss: 0.0461 - acc: 1.0000 - val_loss: 0.3985 - val_acc: 0.8275\n",
      "Epoch 23/50\n",
      "300/400 [=====================>........] - ETA: 0s - loss: 0.0449 - acc: 1.0000Epoch 00023: val_acc did not improve\n",
      "400/400 [==============================] - 5s 13ms/step - loss: 0.0422 - acc: 1.0000 - val_loss: 0.3887 - val_acc: 0.8325\n",
      "Epoch 24/50\n",
      "300/400 [=====================>........] - ETA: 1s - loss: 0.0353 - acc: 1.0000Epoch 00024: val_acc did not improve\n",
      "400/400 [==============================] - 5s 13ms/step - loss: 0.0372 - acc: 1.0000 - val_loss: 0.3946 - val_acc: 0.8225\n",
      "Epoch 25/50\n",
      "300/400 [=====================>........] - ETA: 1s - loss: 0.0343 - acc: 1.0000Epoch 00025: val_acc did not improve\n",
      "400/400 [==============================] - 5s 13ms/step - loss: 0.0340 - acc: 1.0000 - val_loss: 0.3821 - val_acc: 0.8350\n",
      "Epoch 26/50\n",
      "300/400 [=====================>........] - ETA: 0s - loss: 0.0323 - acc: 1.0000Epoch 00026: val_acc improved from 0.83750 to 0.84000, saving model to /home/shabna/Desktop/example_codes/weights_2.best.hdf5\n",
      "400/400 [==============================] - 5s 13ms/step - loss: 0.0329 - acc: 1.0000 - val_loss: 0.3688 - val_acc: 0.8400\n",
      "Epoch 27/50\n",
      "300/400 [=====================>........] - ETA: 1s - loss: 0.0282 - acc: 1.0000Epoch 00027: val_acc did not improve\n",
      "400/400 [==============================] - 5s 13ms/step - loss: 0.0271 - acc: 1.0000 - val_loss: 0.3769 - val_acc: 0.8325\n",
      "Epoch 28/50\n",
      "300/400 [=====================>........] - ETA: 1s - loss: 0.0276 - acc: 1.0000Epoch 00028: val_acc did not improve\n",
      "400/400 [==============================] - 5s 13ms/step - loss: 0.0265 - acc: 1.0000 - val_loss: 0.3577 - val_acc: 0.8400\n",
      "Epoch 29/50\n",
      "300/400 [=====================>........] - ETA: 0s - loss: 0.0247 - acc: 1.0000Epoch 00029: val_acc improved from 0.84000 to 0.84500, saving model to /home/shabna/Desktop/example_codes/weights_2.best.hdf5\n",
      "400/400 [==============================] - 6s 15ms/step - loss: 0.0238 - acc: 1.0000 - val_loss: 0.3579 - val_acc: 0.8450\n"
     ]
    },
    {
     "name": "stdout",
     "output_type": "stream",
     "text": [
      "Epoch 30/50\n",
      "300/400 [=====================>........] - ETA: 0s - loss: 0.0226 - acc: 1.0000Epoch 00030: val_acc did not improve\n",
      "400/400 [==============================] - 5s 13ms/step - loss: 0.0227 - acc: 1.0000 - val_loss: 0.3727 - val_acc: 0.8250\n",
      "Epoch 31/50\n",
      "300/400 [=====================>........] - ETA: 1s - loss: 0.0197 - acc: 1.0000Epoch 00031: val_acc did not improve\n",
      "400/400 [==============================] - 5s 13ms/step - loss: 0.0212 - acc: 1.0000 - val_loss: 0.3615 - val_acc: 0.8400\n",
      "Epoch 32/50\n",
      "300/400 [=====================>........] - ETA: 0s - loss: 0.0191 - acc: 1.0000Epoch 00032: val_acc did not improve\n",
      "400/400 [==============================] - 5s 13ms/step - loss: 0.0188 - acc: 1.0000 - val_loss: 0.3459 - val_acc: 0.8425\n",
      "Epoch 33/50\n",
      "300/400 [=====================>........] - ETA: 0s - loss: 0.0198 - acc: 1.0000Epoch 00033: val_acc did not improve\n",
      "400/400 [==============================] - 5s 13ms/step - loss: 0.0189 - acc: 1.0000 - val_loss: 0.3560 - val_acc: 0.8375\n",
      "Epoch 34/50\n",
      "300/400 [=====================>........] - ETA: 0s - loss: 0.0172 - acc: 1.0000Epoch 00034: val_acc did not improve\n",
      "400/400 [==============================] - 5s 13ms/step - loss: 0.0172 - acc: 1.0000 - val_loss: 0.3489 - val_acc: 0.8425\n",
      "Epoch 35/50\n",
      "300/400 [=====================>........] - ETA: 0s - loss: 0.0144 - acc: 1.0000Epoch 00035: val_acc did not improve\n",
      "400/400 [==============================] - 5s 13ms/step - loss: 0.0145 - acc: 1.0000 - val_loss: 0.3523 - val_acc: 0.8425\n",
      "Epoch 36/50\n",
      "300/400 [=====================>........] - ETA: 0s - loss: 0.0162 - acc: 1.0000Epoch 00036: val_acc improved from 0.84500 to 0.84750, saving model to /home/shabna/Desktop/example_codes/weights_2.best.hdf5\n",
      "400/400 [==============================] - 5s 13ms/step - loss: 0.0150 - acc: 1.0000 - val_loss: 0.3395 - val_acc: 0.8475\n",
      "Epoch 37/50\n",
      "300/400 [=====================>........] - ETA: 1s - loss: 0.0127 - acc: 1.0000Epoch 00037: val_acc did not improve\n",
      "400/400 [==============================] - 5s 13ms/step - loss: 0.0127 - acc: 1.0000 - val_loss: 0.3439 - val_acc: 0.8450\n",
      "Epoch 38/50\n",
      "300/400 [=====================>........] - ETA: 0s - loss: 0.0124 - acc: 1.0000Epoch 00038: val_acc improved from 0.84750 to 0.85000, saving model to /home/shabna/Desktop/example_codes/weights_2.best.hdf5\n",
      "400/400 [==============================] - 5s 13ms/step - loss: 0.0127 - acc: 1.0000 - val_loss: 0.3378 - val_acc: 0.8500\n",
      "Epoch 39/50\n",
      "300/400 [=====================>........] - ETA: 0s - loss: 0.0111 - acc: 1.0000Epoch 00039: val_acc improved from 0.85000 to 0.85250, saving model to /home/shabna/Desktop/example_codes/weights_2.best.hdf5\n",
      "400/400 [==============================] - 5s 13ms/step - loss: 0.0115 - acc: 1.0000 - val_loss: 0.3386 - val_acc: 0.8525\n",
      "Epoch 40/50\n",
      "300/400 [=====================>........] - ETA: 0s - loss: 0.0113 - acc: 1.0000Epoch 00040: val_acc did not improve\n",
      "400/400 [==============================] - 5s 13ms/step - loss: 0.0112 - acc: 1.0000 - val_loss: 0.3280 - val_acc: 0.8450\n",
      "Epoch 41/50\n",
      "300/400 [=====================>........] - ETA: 0s - loss: 0.0109 - acc: 1.0000Epoch 00041: val_acc did not improve\n",
      "400/400 [==============================] - 5s 13ms/step - loss: 0.0107 - acc: 1.0000 - val_loss: 0.3278 - val_acc: 0.8450\n",
      "Epoch 42/50\n",
      "300/400 [=====================>........] - ETA: 0s - loss: 0.0104 - acc: 1.0000Epoch 00042: val_acc did not improve\n",
      "400/400 [==============================] - 5s 13ms/step - loss: 0.0101 - acc: 1.0000 - val_loss: 0.3412 - val_acc: 0.8475\n",
      "Epoch 43/50\n",
      "300/400 [=====================>........] - ETA: 0s - loss: 0.0077 - acc: 1.0000Epoch 00043: val_acc did not improve\n",
      "400/400 [==============================] - 5s 13ms/step - loss: 0.0082 - acc: 1.0000 - val_loss: 0.3282 - val_acc: 0.8475\n",
      "Epoch 44/50\n",
      "300/400 [=====================>........] - ETA: 0s - loss: 0.0095 - acc: 1.0000Epoch 00044: val_acc did not improve\n",
      "400/400 [==============================] - 5s 13ms/step - loss: 0.0092 - acc: 1.0000 - val_loss: 0.3201 - val_acc: 0.8525\n",
      "Epoch 45/50\n",
      "300/400 [=====================>........] - ETA: 0s - loss: 0.0082 - acc: 1.0000Epoch 00045: val_acc did not improve\n",
      "400/400 [==============================] - 5s 13ms/step - loss: 0.0079 - acc: 1.0000 - val_loss: 0.3237 - val_acc: 0.8425\n",
      "Epoch 46/50\n",
      "300/400 [=====================>........] - ETA: 0s - loss: 0.0070 - acc: 1.0000Epoch 00046: val_acc did not improve\n",
      "400/400 [==============================] - 5s 13ms/step - loss: 0.0071 - acc: 1.0000 - val_loss: 0.3310 - val_acc: 0.8525\n",
      "Epoch 47/50\n",
      "300/400 [=====================>........] - ETA: 0s - loss: 0.0066 - acc: 1.0000Epoch 00047: val_acc did not improve\n",
      "400/400 [==============================] - 5s 13ms/step - loss: 0.0068 - acc: 1.0000 - val_loss: 0.3232 - val_acc: 0.8475\n",
      "Epoch 48/50\n",
      "300/400 [=====================>........] - ETA: 0s - loss: 0.0073 - acc: 1.0000Epoch 00048: val_acc did not improve\n",
      "400/400 [==============================] - 5s 13ms/step - loss: 0.0069 - acc: 1.0000 - val_loss: 0.3232 - val_acc: 0.8525\n",
      "Epoch 49/50\n",
      "300/400 [=====================>........] - ETA: 0s - loss: 0.0068 - acc: 1.0000Epoch 00049: val_acc improved from 0.85250 to 0.85500, saving model to /home/shabna/Desktop/example_codes/weights_2.best.hdf5\n",
      "400/400 [==============================] - 5s 13ms/step - loss: 0.0065 - acc: 1.0000 - val_loss: 0.3220 - val_acc: 0.8550\n",
      "Epoch 50/50\n",
      "300/400 [=====================>........] - ETA: 0s - loss: 0.0059 - acc: 1.0000Epoch 00050: val_acc improved from 0.85500 to 0.86000, saving model to /home/shabna/Desktop/example_codes/weights_2.best.hdf5\n",
      "400/400 [==============================] - 5s 13ms/step - loss: 0.0058 - acc: 1.0000 - val_loss: 0.3152 - val_acc: 0.8600\n",
      "2 :num of fold\n",
      "Train on 400 samples, validate on 400 samples\n",
      "Epoch 1/50\n",
      "300/400 [=====================>........] - ETA: 1s - loss: 0.3163 - acc: 0.8533Epoch 00001: val_acc improved from 0.86000 to 1.00000, saving model to /home/shabna/Desktop/example_codes/weights_2.best.hdf5\n",
      "400/400 [==============================] - 5s 13ms/step - loss: 0.3377 - acc: 0.8475 - val_loss: 0.0067 - val_acc: 1.0000\n",
      "Epoch 2/50\n",
      "300/400 [=====================>........] - ETA: 0s - loss: 0.1955 - acc: 0.9400Epoch 00002: val_acc did not improve\n",
      "400/400 [==============================] - 5s 13ms/step - loss: 0.1916 - acc: 0.9450 - val_loss: 0.0067 - val_acc: 1.0000\n",
      "Epoch 3/50\n",
      "300/400 [=====================>........] - ETA: 0s - loss: 0.1221 - acc: 0.9767Epoch 00003: val_acc did not improve\n",
      "400/400 [==============================] - 5s 13ms/step - loss: 0.1182 - acc: 0.9800 - val_loss: 0.0075 - val_acc: 1.0000\n",
      "Epoch 4/50\n",
      "300/400 [=====================>........] - ETA: 0s - loss: 0.0732 - acc: 0.9900Epoch 00004: val_acc did not improve\n",
      "400/400 [==============================] - 5s 13ms/step - loss: 0.0675 - acc: 0.9925 - val_loss: 0.0123 - val_acc: 1.0000\n",
      "Epoch 5/50\n",
      "300/400 [=====================>........] - ETA: 0s - loss: 0.0408 - acc: 0.9967Epoch 00005: val_acc did not improve\n",
      "400/400 [==============================] - 5s 13ms/step - loss: 0.0384 - acc: 0.9975 - val_loss: 0.0063 - val_acc: 1.0000\n",
      "Epoch 6/50\n",
      "300/400 [=====================>........] - ETA: 1s - loss: 0.0190 - acc: 1.0000Epoch 00006: val_acc did not improve\n",
      "400/400 [==============================] - 5s 13ms/step - loss: 0.0195 - acc: 1.0000 - val_loss: 0.0102 - val_acc: 1.0000\n",
      "Epoch 7/50\n",
      "300/400 [=====================>........] - ETA: 0s - loss: 0.0151 - acc: 1.0000Epoch 00007: val_acc did not improve\n",
      "400/400 [==============================] - 5s 13ms/step - loss: 0.0148 - acc: 1.0000 - val_loss: 0.0071 - val_acc: 1.0000\n",
      "Epoch 8/50\n",
      "300/400 [=====================>........] - ETA: 1s - loss: 0.0097 - acc: 1.0000Epoch 00008: val_acc did not improve\n",
      "400/400 [==============================] - 5s 13ms/step - loss: 0.0104 - acc: 1.0000 - val_loss: 0.0067 - val_acc: 1.0000\n",
      "Epoch 9/50\n",
      "300/400 [=====================>........] - ETA: 1s - loss: 0.0087 - acc: 1.0000Epoch 00009: val_acc did not improve\n",
      "400/400 [==============================] - 5s 13ms/step - loss: 0.0090 - acc: 1.0000 - val_loss: 0.0097 - val_acc: 1.0000\n",
      "Epoch 10/50\n",
      "300/400 [=====================>........] - ETA: 1s - loss: 0.0083 - acc: 1.0000Epoch 00010: val_acc did not improve\n",
      "400/400 [==============================] - 5s 13ms/step - loss: 0.0082 - acc: 1.0000 - val_loss: 0.0083 - val_acc: 1.0000\n"
     ]
    },
    {
     "name": "stdout",
     "output_type": "stream",
     "text": [
      "Epoch 11/50\n",
      "300/400 [=====================>........] - ETA: 1s - loss: 0.0055 - acc: 1.0000Epoch 00011: val_acc did not improve\n",
      "400/400 [==============================] - 5s 13ms/step - loss: 0.0060 - acc: 1.0000 - val_loss: 0.0085 - val_acc: 1.0000\n",
      "Epoch 12/50\n",
      "300/400 [=====================>........] - ETA: 0s - loss: 0.0049 - acc: 1.0000Epoch 00012: val_acc did not improve\n",
      "400/400 [==============================] - 5s 13ms/step - loss: 0.0046 - acc: 1.0000 - val_loss: 0.0087 - val_acc: 1.0000\n",
      "Epoch 13/50\n",
      "300/400 [=====================>........] - ETA: 0s - loss: 0.0043 - acc: 1.0000Epoch 00013: val_acc did not improve\n",
      "400/400 [==============================] - 5s 13ms/step - loss: 0.0042 - acc: 1.0000 - val_loss: 0.0080 - val_acc: 1.0000\n",
      "Epoch 14/50\n",
      "300/400 [=====================>........] - ETA: 0s - loss: 0.0040 - acc: 1.0000Epoch 00014: val_acc did not improve\n",
      "400/400 [==============================] - 5s 13ms/step - loss: 0.0036 - acc: 1.0000 - val_loss: 0.0083 - val_acc: 1.0000\n",
      "Epoch 15/50\n",
      "300/400 [=====================>........] - ETA: 1s - loss: 0.0032 - acc: 1.0000Epoch 00015: val_acc did not improve\n",
      "400/400 [==============================] - 6s 14ms/step - loss: 0.0033 - acc: 1.0000 - val_loss: 0.0093 - val_acc: 1.0000\n",
      "Epoch 16/50\n",
      "300/400 [=====================>........] - ETA: 0s - loss: 0.0029 - acc: 1.0000Epoch 00016: val_acc did not improve\n",
      "400/400 [==============================] - 5s 13ms/step - loss: 0.0030 - acc: 1.0000 - val_loss: 0.0091 - val_acc: 1.0000\n",
      "Epoch 17/50\n",
      "300/400 [=====================>........] - ETA: 0s - loss: 0.0038 - acc: 1.0000Epoch 00017: val_acc did not improve\n",
      "400/400 [==============================] - 5s 13ms/step - loss: 0.0033 - acc: 1.0000 - val_loss: 0.0085 - val_acc: 1.0000\n",
      "Epoch 18/50\n",
      "300/400 [=====================>........] - ETA: 0s - loss: 0.0029 - acc: 1.0000Epoch 00018: val_acc did not improve\n",
      "400/400 [==============================] - 5s 13ms/step - loss: 0.0030 - acc: 1.0000 - val_loss: 0.0089 - val_acc: 1.0000\n",
      "Epoch 19/50\n",
      "300/400 [=====================>........] - ETA: 0s - loss: 0.0032 - acc: 1.0000Epoch 00019: val_acc did not improve\n",
      "400/400 [==============================] - 5s 13ms/step - loss: 0.0030 - acc: 1.0000 - val_loss: 0.0100 - val_acc: 0.9975\n",
      "Epoch 20/50\n",
      "300/400 [=====================>........] - ETA: 0s - loss: 0.0027 - acc: 1.0000Epoch 00020: val_acc did not improve\n",
      "400/400 [==============================] - 5s 13ms/step - loss: 0.0026 - acc: 1.0000 - val_loss: 0.0090 - val_acc: 1.0000\n",
      "Epoch 21/50\n",
      "300/400 [=====================>........] - ETA: 0s - loss: 0.0020 - acc: 1.0000Epoch 00021: val_acc did not improve\n",
      "400/400 [==============================] - 5s 13ms/step - loss: 0.0021 - acc: 1.0000 - val_loss: 0.0082 - val_acc: 1.0000\n",
      "Epoch 22/50\n",
      "300/400 [=====================>........] - ETA: 0s - loss: 0.0035 - acc: 1.0000Epoch 00022: val_acc did not improve\n",
      "400/400 [==============================] - 5s 13ms/step - loss: 0.0032 - acc: 1.0000 - val_loss: 0.0098 - val_acc: 0.9975\n",
      "Epoch 23/50\n",
      "300/400 [=====================>........] - ETA: 1s - loss: 0.0021 - acc: 1.0000Epoch 00023: val_acc did not improve\n",
      "400/400 [==============================] - 5s 13ms/step - loss: 0.0024 - acc: 1.0000 - val_loss: 0.0100 - val_acc: 0.9975\n",
      "Epoch 24/50\n",
      "300/400 [=====================>........] - ETA: 0s - loss: 0.0025 - acc: 1.0000Epoch 00024: val_acc did not improve\n",
      "400/400 [==============================] - 5s 13ms/step - loss: 0.0025 - acc: 1.0000 - val_loss: 0.0102 - val_acc: 0.9975\n",
      "Epoch 25/50\n",
      "300/400 [=====================>........] - ETA: 0s - loss: 0.0026 - acc: 1.0000Epoch 00025: val_acc did not improve\n",
      "400/400 [==============================] - 5s 13ms/step - loss: 0.0029 - acc: 1.0000 - val_loss: 0.0094 - val_acc: 0.9975\n",
      "Epoch 26/50\n",
      "300/400 [=====================>........] - ETA: 0s - loss: 0.0017 - acc: 1.0000Epoch 00026: val_acc did not improve\n",
      "400/400 [==============================] - 5s 13ms/step - loss: 0.0018 - acc: 1.0000 - val_loss: 0.0078 - val_acc: 1.0000\n",
      "Epoch 27/50\n",
      "300/400 [=====================>........] - ETA: 0s - loss: 0.0020 - acc: 1.0000Epoch 00027: val_acc did not improve\n",
      "400/400 [==============================] - 5s 13ms/step - loss: 0.0020 - acc: 1.0000 - val_loss: 0.0077 - val_acc: 1.0000\n",
      "Epoch 28/50\n",
      "300/400 [=====================>........] - ETA: 0s - loss: 0.0020 - acc: 1.0000Epoch 00028: val_acc did not improve\n",
      "400/400 [==============================] - 5s 13ms/step - loss: 0.0018 - acc: 1.0000 - val_loss: 0.0088 - val_acc: 1.0000\n",
      "Epoch 29/50\n",
      "300/400 [=====================>........] - ETA: 0s - loss: 0.0017 - acc: 1.0000Epoch 00029: val_acc did not improve\n",
      "400/400 [==============================] - 5s 13ms/step - loss: 0.0017 - acc: 1.0000 - val_loss: 0.0101 - val_acc: 0.9975\n",
      "Epoch 30/50\n",
      "300/400 [=====================>........] - ETA: 0s - loss: 0.0016 - acc: 1.0000Epoch 00030: val_acc did not improve\n",
      "400/400 [==============================] - 5s 14ms/step - loss: 0.0015 - acc: 1.0000 - val_loss: 0.0106 - val_acc: 0.9975\n",
      "Epoch 31/50\n",
      "300/400 [=====================>........] - ETA: 1s - loss: 0.0016 - acc: 1.0000Epoch 00031: val_acc did not improve\n",
      "400/400 [==============================] - 6s 16ms/step - loss: 0.0015 - acc: 1.0000 - val_loss: 0.0101 - val_acc: 0.9975\n",
      "Epoch 32/50\n",
      "300/400 [=====================>........] - ETA: 0s - loss: 0.0023 - acc: 1.0000Epoch 00032: val_acc did not improve\n",
      "400/400 [==============================] - 5s 13ms/step - loss: 0.0020 - acc: 1.0000 - val_loss: 0.0086 - val_acc: 1.0000\n",
      "Epoch 33/50\n",
      "300/400 [=====================>........] - ETA: 1s - loss: 0.0011 - acc: 1.0000Epoch 00033: val_acc did not improve\n",
      "400/400 [==============================] - 5s 13ms/step - loss: 0.0012 - acc: 1.0000 - val_loss: 0.0079 - val_acc: 1.0000\n",
      "Epoch 34/50\n",
      "300/400 [=====================>........] - ETA: 0s - loss: 0.0013 - acc: 1.0000Epoch 00034: val_acc did not improve\n",
      "400/400 [==============================] - 5s 13ms/step - loss: 0.0016 - acc: 1.0000 - val_loss: 0.0079 - val_acc: 1.0000\n",
      "Epoch 35/50\n",
      "300/400 [=====================>........] - ETA: 0s - loss: 0.0016 - acc: 1.0000Epoch 00035: val_acc did not improve\n",
      "400/400 [==============================] - 5s 13ms/step - loss: 0.0016 - acc: 1.0000 - val_loss: 0.0093 - val_acc: 1.0000\n",
      "Epoch 36/50\n",
      "300/400 [=====================>........] - ETA: 0s - loss: 0.0021 - acc: 1.0000Epoch 00036: val_acc did not improve\n",
      "400/400 [==============================] - 5s 13ms/step - loss: 0.0018 - acc: 1.0000 - val_loss: 0.0125 - val_acc: 0.9950\n",
      "Epoch 37/50\n",
      "300/400 [=====================>........] - ETA: 0s - loss: 0.0013 - acc: 1.0000Epoch 00037: val_acc did not improve\n",
      "400/400 [==============================] - 5s 13ms/step - loss: 0.0013 - acc: 1.0000 - val_loss: 0.0132 - val_acc: 0.9950\n",
      "Epoch 38/50\n",
      "300/400 [=====================>........] - ETA: 0s - loss: 0.0013 - acc: 1.0000Epoch 00038: val_acc did not improve\n",
      "400/400 [==============================] - 5s 13ms/step - loss: 0.0015 - acc: 1.0000 - val_loss: 0.0104 - val_acc: 0.9975\n",
      "Epoch 39/50\n",
      "300/400 [=====================>........] - ETA: 0s - loss: 0.0012 - acc: 1.0000Epoch 00039: val_acc did not improve\n",
      "400/400 [==============================] - 5s 13ms/step - loss: 0.0013 - acc: 1.0000 - val_loss: 0.0088 - val_acc: 1.0000\n",
      "Epoch 40/50\n",
      "300/400 [=====================>........] - ETA: 0s - loss: 0.0012 - acc: 1.0000Epoch 00040: val_acc did not improve\n",
      "400/400 [==============================] - 5s 13ms/step - loss: 0.0012 - acc: 1.0000 - val_loss: 0.0086 - val_acc: 1.0000\n",
      "Epoch 41/50\n",
      "300/400 [=====================>........] - ETA: 0s - loss: 0.0016 - acc: 1.0000Epoch 00041: val_acc did not improve\n",
      "400/400 [==============================] - 5s 13ms/step - loss: 0.0015 - acc: 1.0000 - val_loss: 0.0096 - val_acc: 0.9975\n",
      "Epoch 42/50\n",
      "300/400 [=====================>........] - ETA: 0s - loss: 0.0012 - acc: 1.0000Epoch 00042: val_acc did not improve\n",
      "400/400 [==============================] - 5s 13ms/step - loss: 0.0013 - acc: 1.0000 - val_loss: 0.0106 - val_acc: 0.9975\n",
      "Epoch 43/50\n",
      "300/400 [=====================>........] - ETA: 0s - loss: 0.0013 - acc: 1.0000Epoch 00043: val_acc did not improve\n",
      "400/400 [==============================] - 5s 13ms/step - loss: 0.0012 - acc: 1.0000 - val_loss: 0.0112 - val_acc: 0.9950\n"
     ]
    },
    {
     "name": "stdout",
     "output_type": "stream",
     "text": [
      "Epoch 44/50\n",
      "300/400 [=====================>........] - ETA: 0s - loss: 0.0017 - acc: 1.0000Epoch 00044: val_acc did not improve\n",
      "400/400 [==============================] - 5s 13ms/step - loss: 0.0015 - acc: 1.0000 - val_loss: 0.0115 - val_acc: 0.9950\n",
      "Epoch 45/50\n",
      "300/400 [=====================>........] - ETA: 0s - loss: 9.0484e-04 - acc: 1.0000Epoch 00045: val_acc did not improve\n",
      "400/400 [==============================] - 5s 13ms/step - loss: 0.0010 - acc: 1.0000 - val_loss: 0.0103 - val_acc: 0.9975\n",
      "Epoch 46/50\n",
      "300/400 [=====================>........] - ETA: 0s - loss: 9.4963e-04 - acc: 1.0000Epoch 00046: val_acc did not improve\n",
      "400/400 [==============================] - 5s 13ms/step - loss: 0.0010 - acc: 1.0000 - val_loss: 0.0098 - val_acc: 0.9975\n",
      "Epoch 47/50\n",
      "300/400 [=====================>........] - ETA: 0s - loss: 9.9021e-04 - acc: 1.0000Epoch 00047: val_acc did not improve\n",
      "400/400 [==============================] - 5s 13ms/step - loss: 0.0010 - acc: 1.0000 - val_loss: 0.0098 - val_acc: 0.9975\n",
      "Epoch 48/50\n",
      "300/400 [=====================>........] - ETA: 0s - loss: 9.3357e-04 - acc: 1.0000Epoch 00048: val_acc did not improve\n",
      "400/400 [==============================] - 5s 13ms/step - loss: 9.4304e-04 - acc: 1.0000 - val_loss: 0.0099 - val_acc: 0.9975\n",
      "Epoch 49/50\n",
      "300/400 [=====================>........] - ETA: 0s - loss: 7.5406e-04 - acc: 1.0000Epoch 00049: val_acc did not improve\n",
      "400/400 [==============================] - 5s 13ms/step - loss: 7.6403e-04 - acc: 1.0000 - val_loss: 0.0101 - val_acc: 0.9975\n",
      "Epoch 50/50\n",
      "300/400 [=====================>........] - ETA: 0s - loss: 9.4059e-04 - acc: 1.0000Epoch 00050: val_acc did not improve\n",
      "400/400 [==============================] - 5s 13ms/step - loss: 8.8023e-04 - acc: 1.0000 - val_loss: 0.0106 - val_acc: 0.9975\n"
     ]
    }
   ],
   "source": [
    "from sklearn.model_selection import KFold\n",
    "kf = KFold(n_splits=2)\n",
    "\n",
    "XX_train, X_test, yy_train, y_test = train_test_split(padded_docs, labels, test_size=0.2, random_state=42)\n",
    "\n",
    "i=1\n",
    "for train_index, test_index in kf.split(XX_train):\n",
    "    #print(\"TRAIN:\", train_index, \"TEST:\", test_index)\n",
    "    print(i,\":num of fold\")\n",
    "\n",
    "    X_train, X_val = XX_train[train_index], XX_train[test_index]\n",
    "    y_train, y_val = yy_train[train_index], yy_train[test_index]\n",
    "    \n",
    "    history = model.fit(X_train, y_train, validation_data=(X_val,y_val) ,epochs=50, batch_size=100, verbose=1, callbacks=callbacks_list)\n",
    "   \n",
    "    i=i+1\n",
    "    "
   ]
  },
  {
   "cell_type": "code",
   "execution_count": null,
   "metadata": {
    "collapsed": true
   },
   "outputs": [],
   "source": []
  },
  {
   "cell_type": "code",
   "execution_count": 161,
   "metadata": {
    "collapsed": true
   },
   "outputs": [],
   "source": [
    "model=load_model(\"weights_2.best.hdf5\")\n"
   ]
  },
  {
   "cell_type": "code",
   "execution_count": null,
   "metadata": {
    "collapsed": true
   },
   "outputs": [],
   "source": [
    "plot_model(model, to_file = 'models.png')"
   ]
  },
  {
   "cell_type": "code",
   "execution_count": null,
   "metadata": {
    "collapsed": true
   },
   "outputs": [],
   "source": [
    "y_train"
   ]
  },
  {
   "cell_type": "code",
   "execution_count": 163,
   "metadata": {
    "collapsed": true
   },
   "outputs": [],
   "source": [
    "from sklearn.metrics import classification_report, confusion_matrix"
   ]
  },
  {
   "cell_type": "code",
   "execution_count": 164,
   "metadata": {
    "collapsed": true
   },
   "outputs": [],
   "source": [
    "Y_pred = model.predict(X_test)\n",
    "y_pred = np.argmax(Y_pred,axis=1)"
   ]
  },
  {
   "cell_type": "code",
   "execution_count": 165,
   "metadata": {},
   "outputs": [
    {
     "name": "stdout",
     "output_type": "stream",
     "text": [
      "200/200 [==============================] - 1s 3ms/step\n"
     ]
    }
   ],
   "source": [
    "y_pred = model.predict_classes(X_test)"
   ]
  },
  {
   "cell_type": "code",
   "execution_count": 166,
   "metadata": {},
   "outputs": [
    {
     "name": "stdout",
     "output_type": "stream",
     "text": [
      "200/200 [==============================] - 1s 3ms/step\n"
     ]
    }
   ],
   "source": [
    "p = model.predict_proba(X_test)"
   ]
  },
  {
   "cell_type": "code",
   "execution_count": 167,
   "metadata": {},
   "outputs": [
    {
     "name": "stdout",
     "output_type": "stream",
     "text": [
      "200/200 [==============================] - 1s 5ms/step\n"
     ]
    },
    {
     "data": {
      "text/plain": [
       "[0.26580847859382628, 0.90500000000000003]"
      ]
     },
     "execution_count": 167,
     "metadata": {},
     "output_type": "execute_result"
    }
   ],
   "source": [
    "model.evaluate(X_test,y_test)"
   ]
  },
  {
   "cell_type": "code",
   "execution_count": 168,
   "metadata": {},
   "outputs": [
    {
     "name": "stdout",
     "output_type": "stream",
     "text": [
      "400/400 [==============================] - 1s 3ms/step\n"
     ]
    },
    {
     "data": {
      "text/plain": [
       "[0.20524021625518798, 0.9375]"
      ]
     },
     "execution_count": 168,
     "metadata": {},
     "output_type": "execute_result"
    }
   ],
   "source": [
    "model.evaluate(X_train,y_train)"
   ]
  },
  {
   "cell_type": "code",
   "execution_count": 169,
   "metadata": {
    "collapsed": true
   },
   "outputs": [],
   "source": [
    "labels_index = {'Technical field':0 ,'Non-Technical field':1}\n",
    "target_name = [t for t in labels_index.keys()]"
   ]
  },
  {
   "cell_type": "code",
   "execution_count": 170,
   "metadata": {},
   "outputs": [
    {
     "name": "stdout",
     "output_type": "stream",
     "text": [
      "                     precision    recall  f1-score   support\n",
      "\n",
      "    Technical field       0.87      0.94      0.90        96\n",
      "Non-Technical field       0.94      0.88      0.91       104\n",
      "\n",
      "        avg / total       0.91      0.91      0.91       200\n",
      "\n"
     ]
    }
   ],
   "source": [
    "print(classification_report(np.argmax(y_test,axis=1),y_pred,target_names=target_name))"
   ]
  },
  {
   "cell_type": "code",
   "execution_count": 171,
   "metadata": {},
   "outputs": [
    {
     "name": "stdout",
     "output_type": "stream",
     "text": [
      "[[90  6]\n",
      " [13 91]]\n"
     ]
    }
   ],
   "source": [
    "print(confusion_matrix(np.argmax(y_test,axis=1),y_pred))"
   ]
  },
  {
   "cell_type": "code",
   "execution_count": null,
   "metadata": {
    "collapsed": true
   },
   "outputs": [],
   "source": []
  },
  {
   "cell_type": "code",
   "execution_count": 172,
   "metadata": {
    "collapsed": true
   },
   "outputs": [],
   "source": [
    "#print(classification_report(np.argmax(y_train,axis=1),y_pred1,target_names=target_name))"
   ]
  },
  {
   "cell_type": "code",
   "execution_count": 57,
   "metadata": {},
   "outputs": [
    {
     "data": {
      "image/png": "[encoded data removed]",
      "text/plain": [
       "<matplotlib.figure.Figure at 0x7fee55e1c080>"
      ]
     },
     "metadata": {},
     "output_type": "display_data"
    }
   ],
   "source": [
    "plt.plot(history.history['acc'])\n",
    "#plt.plot(history.history['val_acc'])\n",
    "plt.title('model accuracy')\n",
    "plt.ylabel('accuracy')\n",
    "plt.xlabel('epoch')\n",
    "plt.legend(['train', 'test'], loc='upper left')\n",
    "plt.show()"
   ]
  },
  {
   "cell_type": "code",
   "execution_count": 58,
   "metadata": {},
   "outputs": [
    {
     "data": {
      "image/png": "[encoded data removed]",
      "text/plain": [
       "<matplotlib.figure.Figure at 0x7fee55e21710>"
      ]
     },
     "metadata": {},
     "output_type": "display_data"
    }
   ],
   "source": [
    "plt.plot(history.history['loss'])\n",
    "#plt.plot(history.history['val_loss'])\n",
    "plt.title('model loss')\n",
    "plt.ylabel('loss')\n",
    "plt.xlabel('epoch')\n",
    "plt.legend(['train', 'test'], loc='upper left')\n",
    "plt.show()"
   ]
  },
  {
   "cell_type": "code",
   "execution_count": null,
   "metadata": {
    "collapsed": true
   },
   "outputs": [],
   "source": []
  },
  {
   "cell_type": "code",
   "execution_count": null,
   "metadata": {
    "collapsed": true
   },
   "outputs": [],
   "source": []
  },
  {
   "cell_type": "code",
   "execution_count": 194,
   "metadata": {},
   "outputs": [
    {
     "name": "stdout",
     "output_type": "stream",
     "text": [
      "['anupama oppcivilstation mahe  673310 tel 9847857877 email anoopn44gmailcom anoopnandanan objective seeking position organization utilize innovative creative skills sincere efforts towards growth development organization time developing become good leader challenging organization education bahelor multimedia communication  2011 2014  vismayam college art media  affiliated university calicut diploma graphic designing advertising dept research  training sector higher secondary  state board kerala jnghss mahe experience web designer  june 2014 present  mentor performance rating pvt ltd  calicut job includes web page psd designing html conversion graphic designing etc graphic designer  april 2004 june 2011  job profile worked graphic designer multi colour offset printing press owned father job includes graphic designing layout designing proof reading colour laser printing projects wwwsharp409asoftwarecom wwwpelabocom wwwradiantjewelsin wwwmentorgoldcom wwwemeraldinspirationscom online portfolio wwwbehancenetanoopn44 skill set operating system  windows 98 2000 xp vista 7 package  msoffice designing software  adobe photoshop adobe illustrator web technologies  html5 css3 dreamweaver javascript jquery bootstrap personal details gender  male marital status  single nationality  indian date birth  10081986 extra curricular activities  reading  surfing internet interests  music  travelling languages known  english malayalam tamil strength believe hard working commitment sincerity key success fast learner punctuality team facilitator declaration hereby declare information provided herein true best knowledge thanking sincerely page 2']\n"
     ]
    }
   ],
   "source": [
    "#predictions\n",
    "\n",
    "parsedPDF = parser.from_file(\"/home/shabna/Desktop/example_codes/new_sample/level2/Level2/tech_mix/Anoopanandan.doc\")\n",
    "#parsedPDF = parser.from_file(\"/home/shabna/Desktop/example_codes/new_sample/level2/nontech_mix/Aravind Kema.doc\")\n",
    "#parsedPDF = parser.from_file(\"/home/shabna/Desktop/example_codes/new_sample/level5/developer/dotnet/Snehalaltv  .pdf\")\n",
    "\n",
    "contents=[clean_doc(parsedPDF['content'])]\n",
    "            #print (jd_contents)\n",
    "print(contents)"
   ]
  },
  {
   "cell_type": "code",
   "execution_count": 195,
   "metadata": {
    "collapsed": true
   },
   "outputs": [],
   "source": [
    "def prpInput(pp):\n",
    "    tx = Tokenizer()\n",
    "    tx.fit_on_texts(pp)\n",
    "    vocab_size = len(tx.word_index)+1\n",
    "    encoded_docs = tx.texts_to_sequences(pp)\n",
    "    max_length = 250\n",
    "    padded_docs = pad_sequences(encoded_docs, maxlen=max_length, padding='post')\n",
    "    return padded_docs"
   ]
  },
  {
   "cell_type": "code",
   "execution_count": 196,
   "metadata": {},
   "outputs": [
    {
     "data": {
      "text/plain": [
       "array([[ 18,  19,   7,  20,  21,  22,  23,  24,  25,  26,  27,  28,   3,\n",
       "         29,  30,  31,  32,  33,  34,  35,  36,  37,   3,  38,  39,  40,\n",
       "         41,  42,  43,   3,  44,  45,  46,  47,   8,   9,  48,  49,  50,\n",
       "         51,  52,  53,  10,  54,   2,   1,  55,  56,  57,  58,  59,  60,\n",
       "         61,  62,  63,  64,  65,   7,  66,   4,   5,  11,   9,  67,  68,\n",
       "         69,  70,  71,  72,  10,   6,  12,   4,  13,  73,   1,  74,  75,\n",
       "          2,   1,  76,   2,   5,  77,  78,  11,   8,   6,  79,  80,   2,\n",
       "          5,  81,  14,  82,  15,  83,  84,  85,   6,  12,   2,   1,  86,\n",
       "          1,  87,  16,  14,  88,  15,  89,  90,  91,  92,  93,  94,  95,\n",
       "         96,  97,  98,  99, 100, 101, 102, 103, 104, 105, 106, 107, 108,\n",
       "        109,   1, 110,  17, 111,  17, 112,   4, 113, 114, 115, 116, 117,\n",
       "        118, 119, 120, 121, 122, 123, 124, 125, 126, 127, 128, 129, 130,\n",
       "        131, 132, 133, 134,  16, 135, 136, 137, 138, 139, 140, 141, 142,\n",
       "        143, 144, 145, 146, 147, 148, 149, 150, 151, 152, 153, 154, 155,\n",
       "        156, 157, 158, 159, 160, 161, 162, 163, 164, 165, 166, 167, 168,\n",
       "         13, 169,   0,   0,   0,   0,   0,   0,   0,   0,   0,   0,   0,\n",
       "          0,   0,   0,   0,   0,   0,   0,   0,   0,   0,   0,   0,   0,\n",
       "          0,   0,   0,   0,   0,   0,   0,   0,   0,   0,   0,   0,   0,\n",
       "          0,   0,   0,   0,   0,   0,   0,   0,   0,   0,   0,   0,   0,\n",
       "          0,   0,   0]], dtype=int32)"
      ]
     },
     "execution_count": 196,
     "metadata": {},
     "output_type": "execute_result"
    }
   ],
   "source": [
    "mat=prpInput(contents)\n",
    "mat"
   ]
  },
  {
   "cell_type": "code",
   "execution_count": 197,
   "metadata": {
    "collapsed": true
   },
   "outputs": [],
   "source": [
    "prd = model.predict(mat)\n"
   ]
  },
  {
   "cell_type": "code",
   "execution_count": 198,
   "metadata": {},
   "outputs": [
    {
     "name": "stdout",
     "output_type": "stream",
     "text": [
      "{0: 'Technical field', 1: 'Non-Technical field'}\n"
     ]
    }
   ],
   "source": [
    "labels_index = {'Technical field':0 ,'Non-Technical field':1}\n",
    "rev_lable_index = {}\n",
    "for key in labels_index:\n",
    "    rev_lable_index[labels_index[key]] = key\n",
    "print(rev_lable_index)\n",
    "def result(prd,contents):\n",
    "    y_classes = prd.argmax(axis=-1)\n",
    "    print(len(y_classes))\n",
    "    lx=[]\n",
    "    for idx,lb in enumerate(y_classes):\n",
    "        lx.append([contents[idx],rev_lable_index[lb]])\n",
    "    return lx"
   ]
  },
  {
   "cell_type": "code",
   "execution_count": 199,
   "metadata": {},
   "outputs": [
    {
     "name": "stdout",
     "output_type": "stream",
     "text": [
      "1\n"
     ]
    },
    {
     "data": {
      "text/plain": [
       "[['anupama oppcivilstation mahe  673310 tel 9847857877 email anoopn44gmailcom anoopnandanan objective seeking position organization utilize innovative creative skills sincere efforts towards growth development organization time developing become good leader challenging organization education bahelor multimedia communication  2011 2014  vismayam college art media  affiliated university calicut diploma graphic designing advertising dept research  training sector higher secondary  state board kerala jnghss mahe experience web designer  june 2014 present  mentor performance rating pvt ltd  calicut job includes web page psd designing html conversion graphic designing etc graphic designer  april 2004 june 2011  job profile worked graphic designer multi colour offset printing press owned father job includes graphic designing layout designing proof reading colour laser printing projects wwwsharp409asoftwarecom wwwpelabocom wwwradiantjewelsin wwwmentorgoldcom wwwemeraldinspirationscom online portfolio wwwbehancenetanoopn44 skill set operating system  windows 98 2000 xp vista 7 package  msoffice designing software  adobe photoshop adobe illustrator web technologies  html5 css3 dreamweaver javascript jquery bootstrap personal details gender  male marital status  single nationality  indian date birth  10081986 extra curricular activities  reading  surfing internet interests  music  travelling languages known  english malayalam tamil strength believe hard working commitment sincerity key success fast learner punctuality team facilitator declaration hereby declare information provided herein true best knowledge thanking sincerely page 2',\n",
       "  'Technical field']]"
      ]
     },
     "execution_count": 199,
     "metadata": {},
     "output_type": "execute_result"
    }
   ],
   "source": [
    "result(prd,contents)"
   ]
  },
  {
   "cell_type": "code",
   "execution_count": 200,
   "metadata": {},
   "outputs": [
    {
     "name": "stdout",
     "output_type": "stream",
     "text": [
      "1\n"
     ]
    },
    {
     "data": {
      "text/html": [
       "<div>\n",
       "<style>\n",
       "    .dataframe thead tr:only-child th {\n",
       "        text-align: right;\n",
       "    }\n",
       "\n",
       "    .dataframe thead th {\n",
       "        text-align: left;\n",
       "    }\n",
       "\n",
       "    .dataframe tbody tr th {\n",
       "        vertical-align: top;\n",
       "    }\n",
       "</style>\n",
       "<table border=\"1\" class=\"dataframe\">\n",
       "  <thead>\n",
       "    <tr style=\"text-align: right;\">\n",
       "      <th></th>\n",
       "      <th>File Content</th>\n",
       "      <th>Label</th>\n",
       "    </tr>\n",
       "  </thead>\n",
       "  <tbody>\n",
       "    <tr>\n",
       "      <th>0</th>\n",
       "      <td>anupama oppcivilstation mahe  673310 tel 98478...</td>\n",
       "      <td>Technical field</td>\n",
       "    </tr>\n",
       "  </tbody>\n",
       "</table>\n",
       "</div>"
      ],
      "text/plain": [
       "                                        File Content            Label\n",
       "0  anupama oppcivilstation mahe  673310 tel 98478...  Technical field"
      ]
     },
     "execution_count": 200,
     "metadata": {},
     "output_type": "execute_result"
    }
   ],
   "source": [
    "import pandas as pd\n",
    "pd.DataFrame(result(prd,contents),columns=['File Content','Label'])"
   ]
  },
  {
   "cell_type": "code",
   "execution_count": null,
   "metadata": {
    "collapsed": true
   },
   "outputs": [],
   "source": []
  },
  {
   "cell_type": "code",
   "execution_count": null,
   "metadata": {
    "collapsed": true
   },
   "outputs": [],
   "source": []
  },
  {
   "cell_type": "code",
   "execution_count": null,
   "metadata": {
    "collapsed": true
   },
   "outputs": [],
   "source": []
  },
  {
   "cell_type": "code",
   "execution_count": null,
   "metadata": {
    "collapsed": true
   },
   "outputs": [],
   "source": []
  },
  {
   "cell_type": "code",
   "execution_count": null,
   "metadata": {
    "collapsed": true
   },
   "outputs": [],
   "source": []
  },
  {
   "cell_type": "code",
   "execution_count": null,
   "metadata": {
    "collapsed": true
   },
   "outputs": [],
   "source": []
  }
 ],
 "metadata": {
  "kernelspec": {
   "display_name": "Python 3",
   "language": "python",
   "name": "python3"
  },
  "language_info": {
   "codemirror_mode": {
    "name": "ipython",
    "version": 3
   },
   "file_extension": ".py",
   "mimetype": "text/x-python",
   "name": "python",
   "nbconvert_exporter": "python",
   "pygments_lexer": "ipython3",
   "version": "3.6.3"
  }
 },
 "nbformat": 4,
 "nbformat_minor": 2
}
