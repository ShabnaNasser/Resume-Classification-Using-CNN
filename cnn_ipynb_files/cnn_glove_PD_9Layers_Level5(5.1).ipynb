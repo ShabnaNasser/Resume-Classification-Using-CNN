{
 "cells": [
  {
   "cell_type": "code",
   "execution_count": 2,
   "metadata": {},
   "outputs": [
    {
     "name": "stderr",
     "output_type": "stream",
     "text": [
      "Using TensorFlow backend.\n"
     ]
    },
    {
     "name": "stdout",
     "output_type": "stream",
     "text": [
      "Keras version: \t\t2.0.9\n",
      "Scikit version: \t0.19.1\n",
      "TensorFlow version: \t1.4.1\n"
     ]
    }
   ],
   "source": [
    "import keras, os, pickle, re, sklearn, string, tensorflow\n",
    "import numpy as np\n",
    "import pandas as pd\n",
    "import matplotlib.pyplot as plt\n",
    "from keras.utils import to_categorical\n",
    "from keras.callbacks import ModelCheckpoint\n",
    "from keras.preprocessing.text import Tokenizer\n",
    "from keras.preprocessing.sequence import pad_sequences\n",
    "from keras.models import load_model\n",
    "from keras.layers import Embedding\n",
    "from keras.optimizers import Adadelta, adam\n",
    "from sklearn.model_selection import train_test_split\n",
    "from keras.models import Sequential\n",
    "from keras.utils.vis_utils  import plot_model\n",
    "from sklearn import preprocessing\n",
    "from keras import optimizers\n",
    "\n",
    "print('Keras version: \\t\\t%s' % keras.__version__)\n",
    "print('Scikit version: \\t%s' % sklearn.__version__)\n",
    "print('TensorFlow version: \\t%s' % tensorflow.__version__)\n"
   ]
  },
  {
   "cell_type": "code",
   "execution_count": 3,
   "metadata": {
    "collapsed": true
   },
   "outputs": [],
   "source": [
    "import nltk\n",
    "from nltk.corpus import stopwords\n",
    "from tika import parser\n",
    "from sklearn.metrics import classification_report\n",
    "\n"
   ]
  },
  {
   "cell_type": "code",
   "execution_count": 4,
   "metadata": {
    "collapsed": true
   },
   "outputs": [],
   "source": [
    "def LoadData_level5():\n",
    "    label_level5=[]\n",
    "    i=0\n",
    "    for foldername in os.listdir(\"/home/shabna/Desktop/example_codes/new_sample/level5/developer\"):\n",
    "        for file in os.listdir(\"/home/shabna/Desktop/example_codes/new_sample/level5/developer/\"+foldername):\n",
    "    \n",
    "            try:\n",
    "                print (i, foldername, file)\n",
    "                parsedPDF = parser.from_file(\"/home/shabna/Desktop/example_codes/new_sample/level5/developer/\"+foldername+\"/\"+file)\n",
    "\n",
    "                resume_contents=clean_doc(parsedPDF['content'])\n",
    "            #Data = resume_contents.encode('utf-8')    \n",
    "                label_level5.append((resume_contents,foldername))\n",
    "            except UnicodeEncodeError:\n",
    "                print ('Unicode error:', file)\n",
    "            i=i+1\n",
    "    #print (label_resume)\n",
    "    return(label_level5)\n",
    "        "
   ]
  },
  {
   "cell_type": "code",
   "execution_count": 4,
   "metadata": {
    "collapsed": true
   },
   "outputs": [],
   "source": [
    "#Preprocessing\n",
    "def clean_doc(doc):\n",
    "    \"\"\"\n",
    "    Cleaning a document by several methods:\n",
    "        - Lowercase\n",
    "        - Removing whitespaces\n",
    "        - Removing stopwords\n",
    "        - Removing punctuations\n",
    "        \n",
    "    \"\"\"\n",
    "    stop_words = set(stopwords.words('english'))\n",
    "    \n",
    "    # Lowercase\n",
    "    doc = doc.lower()\n",
    "   \n",
    "    tokens = doc.translate({ord(c):\"\" for c in \"\\u200b\\uf020\\u2028\\xa0\\uf0e0\\uf095\\uf041\\uf0e1\\uf0b7\\xad\"})\n",
    "    tokens = tokens.translate({ord(c):\" \" for c in \"[):,·](;•●■♦▪\"})\n",
    "    tokens = tokens.translate({ord(c):\"f\" for c in \"�\"})\n",
    "    \n",
    "    # Removing multiple whitespaces\n",
    "    tokens = re.sub(r\"\\?\", \" \\? \", tokens)\n",
    "    \n",
    "    # Split in tokens\n",
    "    tokens = tokens.split()\n",
    "    \n",
    "    # Remove Stopwords\n",
    "    tokens = [w for w in tokens if not w in stop_words]\n",
    "    # Remove punctuation\n",
    "    tokens = [w.translate(str.maketrans('', '', string.punctuation)) for w in tokens]\n",
    "    \n",
    "    return ' '.join(tokens)"
   ]
  },
  {
   "cell_type": "code",
   "execution_count": null,
   "metadata": {
    "collapsed": true
   },
   "outputs": [],
   "source": []
  },
  {
   "cell_type": "code",
   "execution_count": 6,
   "metadata": {
    "scrolled": false
   },
   "outputs": [
    {
     "name": "stdout",
     "output_type": "stream",
     "text": [
      "0 php reshmakr.pdf\n",
      "1 php MAYAARJUNAN[1_0].docx\n",
      "2 php arifca[5_1].pdf\n",
      "3 php BinsBabu.pdf\n",
      "4 php priyankaphilip[1_4].pdf\n",
      "5 php VanithaB[1_9].docx\n",
      "6 php seshasaikotapati[7_0].doc\n",
      "7 php vijay_koogu_Bengaluru___Bangalore_7.03_yrs.docx\n",
      "8 php Anju K N.docx\n",
      "9 php pankaj_shukla_Nagpur_10.01_yrs.doc\n",
      "10 php NaheedaKamarudheen_Resume.pdf\n",
      "11 php Ranjit_Kumar_Delhi_Region_7.08_yrs.doc\n",
      "12 php Sheethal PHP,Codeigniter,Wordpress.doc\n",
      "13 php Anand_Arunachalam_Chennai_5.06_yrs.doc\n",
      "14 php rajesh_vishwakarma_Delhi_Region_8.00_yrs.doc\n",
      "15 php panchalkeval[1_10].pdf\n",
      "16 php ASHIK cV.pdf\n",
      "17 php saranya_v_Chennai_6.03_yrs.doc\n",
      "18 php Ajay_kumar_singh__Bengaluru___Bangalore_12.00_yrs.doc\n",
      "19 php MohdSamiullah[3_6].doc\n",
      "20 php sajeevsomanathan[2_11].docx\n",
      "21 php Sachin_Talan_Delhi_10.00_yrs.pdf\n",
      "22 php SAINADHKOTINADHAM[1_6].docx\n",
      "23 php VijayabanuS[1_0].pdf\n",
      "24 php 84632746_Gurgaon_2.05_yrs.pdf\n",
      "25 php DONAJOHNN[3_1].docx\n",
      "26 php sneha_harihar_Bengaluru___Bangalore_2.07_yrs.pdf\n",
      "27 php ASWATHYVIJAYAN[4_0].pdf\n",
      "28 php TonyThomas[4_4].pdf\n",
      "29 php VINOBHA[3_7].docx\n",
      "30 php JOSEPHSTANLEYDS[2_9].pdf\n",
      "31 php sajanajoy[1_5].docx\n",
      "32 php Manoj_Kumar_Gupta_Noida_12.00_yrs.docx\n",
      "33 php Sruthy K.pdf\n",
      "34 php GLAISE BABY.doc\n",
      "35 php ReemaCPaul[5_0].pdf\n",
      "36 php RajaPonRaniS[2_0].pdf\n",
      "37 php swarnadeepan[2_0].docx\n",
      "38 php dhirendra_mishra_Mumbai_2.04_yrs.docx\n",
      "39 php AustinAbrahamA[1_10].pdf\n",
      "40 php AbdulAffar[2_2].pdf\n",
      "41 php Rsureshkumar[4_4].pdf\n",
      "42 php SHIJU THOMAS.doc\n",
      "43 php Surendra_Yadav_Bhopal_9.01_yrs.doc\n",
      "44 php AJITHKP[2_0].pdf\n",
      "45 php DiyaSebastian[2_8].docx\n",
      "46 php varanambigai[2_10].docx\n",
      "47 php VenkateshVanapalli[4_3].doc\n",
      "48 php mallelareddy[3_1].doc\n",
      "49 php Antonythomas[1_6].pdf\n",
      "50 php devidas[1_6].pdf\n",
      "51 php S Ashiq.pdf\n",
      "52 php Shashi_Kant_Mishra_Bengaluru___Bangalore_10.08_yrs.pdf\n",
      "53 php ArunKumarD[5_3].docx\n",
      "54 php SreejithS[7_0].pdf\n",
      "55 php Revathy.pdf\n",
      "56 php bhavana_sathaykeerthi_Bengaluru___Bangalore_8.00_yrs.doc\n",
      "57 php AlfyGeorge[1_1].docx\n",
      "58 php shyamkumar[1_6].doc\n",
      "59 php 82141837_India_12.00_yrs.docx\n",
      "60 php Piyush_Handa_Noida_8.00_yrs.docx\n",
      "61 php RISHIKESHKUMARTB[9_0].doc\n",
      "62 php sushmita_Chakraborty_Bengaluru___Bangalore_13.00_yrs.doc\n",
      "63 php SaleeshPP[2_3].doc\n",
      "64 php mark_bame_martires_Philippines_8.04_yrs.pdf\n",
      "65 php SREEJAJS[5_5].doc\n",
      "66 php Amit_Shah_Singapore_12.11_yrs.doc\n",
      "67 php SheikSFaheenAhmed[2_10].docx\n",
      "68 php Sukhithk[4_11].doc\n",
      "69 php JD PHP.txt\n",
      "70 php oommen_peter_n_PHP.pdf\n",
      "71 php AneeshRKurup[7_0].doc\n",
      "72 php Shintu.docx\n",
      "73 php ArunKJacob[1_8].pdf\n",
      "74 php Rajnikant_bajpai___Nagpur_4.00_yrs.doc\n",
      "75 php RakhiRaj[2_6].pdf\n",
      "76 php Sanjay_Pillai_Hyderabad_-_Secunderabad_6.05_yrs.pdf\n",
      "77 php AJITHMOHAN[2_6].pdf\n",
      "78 php Juby_PHP.pdf\n",
      "79 php JeminJames[3_0].docx\n",
      "80 php Rakesh[2_2].docx\n",
      "81 php BaluchandarKarri[1_6].docx\n",
      "82 php Pradeep_Singhal_Jaipur_8.00_yrs.doc\n",
      "83 php SHINTUV[3_0].docx\n",
      "84 php SREEKALACS[3_1].docx\n",
      "85 php RijoPaul[4_9].docx\n",
      "86 php VinuCS[1_10].pdf\n",
      "87 php RoopeshVV[2_0].docx\n",
      "88 php Anjuskurup[2_1].docx\n",
      "89 php RijoMP-Resume.docx\n",
      "90 php UssainRaswi[0_7].pdf\n",
      "91 php Bipin S Nair.pdf\n",
      "92 php Davinder_Kumar_Gurgaon_4.11_yrs.docx\n",
      "93 php anuroopfrancis[3_6].pdf\n",
      "94 php ShimnaPV[8_0].doc\n",
      "95 php Shalini[0_11].docx\n",
      "96 php DIJITHKUMARP[3_5].docx\n",
      "97 php RahulCS[3_4].docx\n",
      "98 php KalimuthuP[4_5].doc\n",
      "99 php VineethaMS[2_0].doc\n",
      "100 php shijint[3_6].doc\n",
      "101 php Rituparna_Chakraborty_Kolkata_1.01_yrs.docx\n",
      "102 php SibinA[0_5].pdf\n",
      "103 php Shanmugavel[8_0].pdf\n",
      "104 php Hema[4_2].docx\n",
      "105 php sooryadasmk[1_1].pdf\n",
      "106 php 84635751_Pune_9.00_yrs.doc\n",
      "107 php TAMILSELVANM[5_0].docx\n",
      "108 php ZEESHANUR_RAHMAN_Delhi_5.03_yrs.pdf\n",
      "109 php Darshit_Khatri_Mumbai_8.06_yrs.doc\n",
      "110 php Sri_Rao__Malaysia_3.00_yrs.doc\n",
      "111 php athirasubair.pdf\n",
      "112 php ShahulH[5_1].doc\n",
      "113 php PARIMALSHARMA[5_6].docx\n",
      "114 php SajinR[2_1].docx\n",
      "115 php RAHUL_KADAV_Mumbai_7.11_yrs.doc\n",
      "116 php vijayaramreddy[2_8].doc\n",
      "117 php PrabhakaranSeenivasan[3_5].docx\n",
      "118 php VidhyaRadhakrishnan[4_4].docx\n",
      "119 php FATHIMATH SAJILAV.docx\n",
      "120 php JEGADEESH[3_5].pdf\n",
      "121 php VinshaKP[3_8].pdf\n",
      "122 php VipinKumarKM[5_9].docx\n",
      "123 php Senthil Kumaran S.doc\n",
      "124 php SabnaKS[2_0].doc\n",
      "125 php naveenkumarkolla[2_6].docx\n",
      "126 php Karthik[7_0].pdf\n",
      "127 php DeenaDavis[1_3].pdf\n",
      "128 php athiradeviKR[1_8].docx\n",
      "129 php Peppin_Shaju_Chennai_8.00_yrs.doc\n",
      "130 php SWETHAVK[1_4].docx\n",
      "131 php Sreenivasa_Murthy_Chennai_12.07_yrs.doc\n",
      "132 php Ganesh_Yewale__Pune_3.00_yrs.docx\n",
      "133 php TintuMathew.docx\n",
      "134 php Prasad_N_Bengaluru___Bangalore_7.05_yrs.docx\n",
      "135 php Sanchi_Varma_Delhi_5.00_yrs.pdf\n",
      "136 php ANANDHAKUMARM[3_7].doc\n",
      "137 php RAJKUMAR[4_7].doc\n",
      "138 php srikanth_sriram_Hyderabad___Secunderabad_3.00_yrs.doc\n",
      "139 php Santosh_Kumar_Hyderabad___Secunderabad_10.00_yrs.doc\n",
      "140 php Neeraj_Sukheja_Bhopal_5.05_yrs.docx\n",
      "141 php GinjoJohny[2_7].doc\n",
      "142 php ReshmaBoban_PHP_Fresher.PDF\n",
      "143 php Saranya M.S.pdf\n",
      "144 php Resume_Kiran.doc\n",
      "145 php sojuvarughesethomas[2_3].docx\n",
      "146 php shreya_choudhary_Bengaluru___Bangalore_2.00_yrs.doc\n",
      "147 php RAJAMANICKAMS[3_0].docx\n",
      "148 php VelmuruganM[1_6].pdf\n",
      "149 php SYAMILIMOLKV[2_1].docx\n",
      "150 dotnet Srividhya_Krishnamoorthy_Bengaluru___Bangalore_3.11_yrs.docx\n",
      "151 dotnet Nikita_Kathale_Mumbai_3.06_yrs.doc\n",
      "152 dotnet Yogesh_Nikam_Pune_5.00_yrs.doc\n",
      "153 dotnet tatayyababu_kasani_Hyderabad___Secunderabad_2.02_yrs.docx\n",
      "154 dotnet PRASANTH_JACOB_KOSHY_Cochin___Kochi___Ernakulam_4.11_yrs.doc\n",
      "155 dotnet Anishkumar_A.doc\n",
      "156 dotnet Anish_Paul_Cochin___Kochi___Ernakulam_4.00_yrs.doc\n",
      "157 dotnet ARUN_PADMANNAVAR_Bengaluru___Bangalore_4.00_yrs.docx\n",
      "158 dotnet syed_omar_azam_Hyderabad___Secunderabad_3.04_yrs.doc\n",
      "159 dotnet Pragati_Salvekar_Pune_3.01_yrs.docx\n",
      "160 dotnet Santhosh_Kumar__Chennai_5.00_yrs.docx\n",
      "161 dotnet Roopesh_Resume.pdf\n",
      "162 dotnet Aravind_R_S.pdf\n",
      "163 dotnet ResumeRaveesh.docx\n",
      "164 dotnet Mohsin_Inamdar_Navi_Mumbai_3.03_yrs (1).docx\n",
      "165 dotnet Arun_P_S_Cochin___Kochi___Ernakulam_3.04_yrs.pdf\n",
      "166 dotnet Bernaditta Oshin Hogan CV.docx\n",
      "167 dotnet RONY JOSEPH (2).doc\n",
      "168 dotnet RinshaFrancis-3.6 yrs.docx\n",
      "169 dotnet Siva .pdf\n",
      "170 dotnet ATHIRA_P.R_Cochin___Kochi___Ernakulam_3.00_yrs.docx\n",
      "171 dotnet Neerkunnam_P_O.pdf\n",
      "172 dotnet Praveen GS.doc\n",
      "173 dotnet JOBIN JOSEPH.doc\n",
      "174 dotnet ANAND HARIDAS.doc\n",
      "175 dotnet Rajesh_Mudedla_Chennai_3.01_yrs.docx\n",
      "176 dotnet Prashant_Biradar_Bengaluru___Bangalore_3.02_yrs.doc\n",
      "177 dotnet Naseef_Kabeer_Cochin___Kochi___Ernakulam_4.00_yrs.doc\n",
      "178 dotnet Dotnet - JD.docx\n",
      "179 dotnet kaviarasu_yuvaraj_Chennai_3.06_yrs.doc\n",
      "180 dotnet Dhanashree_Wagal_Mumbai_4.01_yrs.docx\n",
      "181 dotnet raghavendra_s_Bengaluru___Bangalore_4.10_yrs.doc\n",
      "182 dotnet Neeraj R.doc\n",
      "183 dotnet Premraj_S_Cochin___Kochi___Ernakulam_3.00_yrs.doc\n",
      "184 dotnet Suraj_Mhetre__Mumbai_2.00_yrs.pdf\n",
      "185 dotnet Remyamol R - 6 YRS-rejected.doc\n",
      "186 dotnet Cronin_George_Cochin___Kochi___Ernakulam_4.05_yrs.doc\n",
      "187 dotnet MUNNA_KUMAR__Bengaluru___Bangalore_3.05_yrs.doc\n",
      "188 dotnet Sk_Ajaruddin_Ali_Kolkata_3.06_yrs.doc\n",
      "189 dotnet premchand - MBA- rEJECT.doc\n",
      "190 dotnet RenyRobert - 2 YRS.docx\n",
      "191 dotnet udaya_kumar_Chennai_5.00_yrs.doc\n",
      "192 dotnet SAPTARSHI__Kolkata_4.00_yrs.doc\n",
      "193 dotnet Bejoy_Alson_Cochin___Kochi___Ernakulam_3.10_yrs.doc\n",
      "194 dotnet Sherin_joy_Cochin___Kochi___Ernakulam_4.02_yrs.doc\n",
      "195 dotnet prudhvi_raj_aravapalli_Chennai_3.03_yrs.doc\n",
      "196 dotnet Abdul Salam KA.doc\n",
      "197 dotnet Sujith.docx\n",
      "198 dotnet Nidhish_Nair_S_M_Thiruvananthapuram___Trivandrum_3.05_yrs (1).doc\n",
      "199 dotnet Vineeth___Cochin___Kochi___Ernakulam_4.02_yrs.pdf\n",
      "200 dotnet ashwini_kale_Mumbai_City_4.02_yrs.pdf\n",
      "201 dotnet VIJITHM .pdf\n",
      "202 dotnet VasimAkram .pdf\n",
      "203 dotnet Piyush_Dhanokar_Pune_4.00_yrs.doc\n",
      "204 dotnet Neeshu_Chaudhary_Noida_3.09_yrs.docx\n",
      "205 dotnet Rosmin -ref.docx\n",
      "206 dotnet AlisterResume.docx\n",
      "207 dotnet Benaiah_John_Cochin___Kochi___Ernakulam_4.07_yrs.docx\n",
      "208 dotnet Rinku updated resume.pdf\n",
      "209 dotnet Renjith Ravindranathan - 4.5 YRS.doc\n",
      "210 dotnet JITHINJOSE .pdf\n",
      "211 dotnet Biju_Resume (2).docx\n",
      "212 dotnet Shrabani_Ghosh_Kolkata_3.07_yrs.doc\n",
      "213 dotnet Mandava_Swapna_Hyderabad___Secunderabad_3.01_yrs.doc\n",
      "214 dotnet Mina_Maurice_Egypt_3.08_yrs.pdf\n",
      "215 dotnet Sowmyadhar_Gourishetty_Hyderabad___Secunderabad_4.00_yrs.pdf\n",
      "216 dotnet Pooja_goel_Noida_4.09_yrs (1).doc\n",
      "217 dotnet Praveen_Kunjumon_Cochin___Kochi___Ernakulam_5.00_yrs.doc\n",
      "218 dotnet Ranjeeth_Vootukuri_Hyderabad___Secunderabad_2.06_yrs.docx\n",
      "219 dotnet Madhav_jain_Delhi_4.00_yrs.doc\n"
     ]
    },
    {
     "name": "stdout",
     "output_type": "stream",
     "text": [
      "220 dotnet Safuvan_Paravakkal_India_4.02_yrs.docx\n",
      "221 dotnet Prajnashree_Das_Bengaluru___Bangalore_3.06_yrs.docx\n",
      "222 dotnet Pawan_Upadhye__Pune_3.08_yrs.pdf\n",
      "223 dotnet Soumya_Regina_E_J_Cochin___Kochi___Ernakulam_4.00_yrs.doc\n",
      "224 dotnet Sarath_Shanmughan_Cochin___Kochi___Ernakulam_2.08_yrs.docx\n",
      "225 dotnet Pramit_Saha_Pune_3.03_yrs.pdf\n",
      "226 dotnet Raji__Chennai_3.00_yrs.docx\n",
      "227 dotnet pranav_joseph_Cochin___Kochi___Ernakulam_3.05_yrs.docx\n",
      "228 dotnet pradeep_kumar_Hyderabad___Secunderabad_3.07_yrs.doc\n",
      "229 dotnet Elangovan_Dhanabalan_Bengaluru___Bangalore_4.03_yrs (1).docx\n",
      "230 dotnet Suman_S_S__Bengaluru___Bangalore_4.02_yrs.doc\n",
      "231 dotnet resume_sujith.pdf\n",
      "232 dotnet Sarath_Raj__Cochin___Kochi___Ernakulam_4.00_yrs.docx\n",
      "233 dotnet Vipin K V_Resume_Latest - Reject.doc\n",
      "234 dotnet Vinayak_Fanase_Pune_4.05_yrs.docx\n",
      "235 dotnet VINOD.S.doc\n",
      "236 dotnet Jagdish_Nair_Cochin___Kochi___Ernakulam_4.11_yrs.docx\n",
      "237 dotnet Sparsh_jain__Gurgaon_3.00_yrs.pdf\n",
      "238 dotnet Partha_Pratim_Ghosh_Bengaluru___Bangalore_4.05_yrs (1).pdf\n",
      "239 dotnet Resume_AnjuS.docx\n",
      "240 dotnet Praveen_Kumar_Bengaluru___Bangalore_5.00_yrs (1).docx\n",
      "241 dotnet Jackson.doc\n",
      "242 dotnet Kumar_Vineet_Kolkata_4.01_yrs.doc\n",
      "243 dotnet Athira. Developer .Resume.docx\n",
      "244 dotnet Milan_Sahu_Kolkata_4.06_yrs.docx\n",
      "245 dotnet Midhun S.pdf\n",
      "246 dotnet ResumeNew.docx\n",
      "247 dotnet JESMI A M.doc\n",
      "248 dotnet dotnet.pdf\n",
      "249 dotnet Gaurav_Balyan_Noida_4.11_yrs.docx\n",
      "250 dotnet Kurban_Qureshi___Mumbai_4.00_yrs.docx\n",
      "251 dotnet Rajendrakumar_Balasubramanian_Chennai_4.04_yrs.doc\n",
      "252 dotnet Nandini_Gaur_Mumbai_4.02_yrs.doc\n",
      "253 dotnet Aisha_Ashraf_India_3.01_yrs.doc\n",
      "254 dotnet NIRBHAY_PANDEY_Noida_3.03_yrs (1).docx\n",
      "255 dotnet SANOOP.M.P.doc\n",
      "256 dotnet RANJAN_SIKDAR_Kolkata_3.06_yrs.pdf\n",
      "257 dotnet RAMBABU__Hyderabad___Secunderabad_4.05_yrs (1).doc\n",
      "258 dotnet Revathi B Nair.pdf\n",
      "259 dotnet KIRAN_KUMAR_Cochin___Kochi___Ernakulam_3.05_yrs.docx\n",
      "260 dotnet Rakesh_V_Chandran_Cochin___Kochi___Ernakulam_5.00_yrs.doc\n",
      "261 dotnet Srinivasa_Rao_K_Hyderabad___Secunderabad_4.01_yrs.docx\n",
      "262 dotnet Lekshmi Sadanandan.doc\n",
      "263 dotnet Resume_Roshan George V_MCA_Experienced_ASPNet_C#.pdf\n",
      "264 dotnet Ramlingesh_H_Bengaluru___Bangalore_4.02_yrs.doc\n",
      "265 dotnet Rachna__Mohali_5.00_yrs.pdf\n",
      "266 dotnet Pankhuri_Jain_Kolkata_4.01_yrs.doc\n",
      "267 dotnet JITHIN PK.pdf\n",
      "268 dotnet Biju_Mehan_Dhas__Thiruvananthapuram___Trivandrum_3.07_yrs (1).docx\n",
      "269 dotnet Purushothaman_S_Chennai_3.11_yrs.docx\n",
      "270 dotnet vishal_sonekar_Pune_4.07_yrs.doc\n",
      "271 dotnet Mohammad_Asif_Singapore_5.00_yrs.docx\n",
      "272 dotnet Resume_VipinVKartha-3.pdf\n",
      "273 dotnet Ajay_V_Raj_Thiruvananthapuram___Trivandrum_5.00_yrs.pdf\n",
      "274 dotnet Saikumar_Bandaru_Mysore_3.04_yrs.docx\n",
      "275 dotnet SHAIK NASEER HUSSAIN.doc\n",
      "276 dotnet Ankarao.doc\n",
      "277 dotnet Kiran.doc\n",
      "278 dotnet Abhijeet_Khandagale_Pune_3.09_yrs.pdf\n",
      "279 dotnet Arun ks.doc\n",
      "280 dotnet Renita_Albin-Resume.docx\n",
      "281 dotnet ALOK B. KRISHNAN.doc\n",
      "282 dotnet Saurabh_Khandelwal_Pune_4.00_yrs.doc\n",
      "283 dotnet Deepak_Jain_Indore_3.00_yrs.doc\n",
      "284 dotnet SELVA_LENIN_Cochin___Kochi___Ernakulam_4.01_yrs.doc\n",
      "285 dotnet shanmuki_p_India_4.01_yrs.docx\n",
      "286 dotnet binu babu (resume).docx\n",
      "287 dotnet Snehalaltv  .pdf\n",
      "288 dotnet Neha_Kulashri__Pune_3.07_yrs.docx\n",
      "289 dotnet Praveen. K.doc\n",
      "290 dotnet Aashidh.pdf\n",
      "291 dotnet rupesh_watkar_Pune_4.02_yrs.docx\n",
      "292 dotnet Rohit_Ramdas_Nichit__Nasik_3.05_yrs.docx\n",
      "293 dotnet Anu_Sathyanathan_CV- Reject.doc\n",
      "294 dotnet Ajay_ NET Developer.docx\n",
      "295 dotnet SHEEJO APSALONE.doc\n",
      "296 dotnet sivaranganayakulu_ramisetty_Bengaluru___Bangalore_3.06_yrs.doc\n",
      "297 dotnet manohar_chaudhari_Pune_3.05_yrs (1).docx\n",
      "298 dotnet ARATHY  PRASANNAN.pdf\n",
      "299 dotnet JoelThomas .pdf\n",
      "300 pythondjango 52559549_Hyderabad___Secunderabad_4.00_yrs.docx\n",
      "301 pythondjango AdarshH[2_6].pdf\n",
      "302 pythondjango ANISHR[3_6].pdf\n",
      "303 pythondjango ANI VARGHESE.doc\n",
      "304 pythondjango JIBIN JOHN KJ.doc\n",
      "305 pythondjango Dipak_Karmakar_Bengaluru_-_Bangalore_5.02_yrs.doc\n",
      "306 pythondjango Dhana_Babu_Hyderabad_-_Secunderabad_4.00_yrs.pdf\n",
      "307 pythondjango Malllikarjun_Dasappanavar_Bengaluru___Bangalore_3.03_yrs.docx\n",
      "308 pythondjango Pradeep_Shanbhag_Bengaluru_-_Bangalore_6.00_yrs.doc\n",
      "309 pythondjango 51379543_Hyderabad_-_Secunderabad_4.06_yrs.docx\n",
      "310 pythondjango HARIDAS N.pdf\n",
      "311 pythondjango AKHIL VISWAM.docx\n",
      "312 pythondjango RahulMS[2_0].pdf\n",
      "313 pythondjango Priyanka_Anant_Dige___Mumbai_2.00_yrs.docx\n",
      "314 pythondjango Maneesha_Reddy__Bengaluru___Bangalore_2.02_yrs.doc\n",
      "315 pythondjango priyanka_khedkar_Mumbai_City_3.00_yrs.pdf\n",
      "316 pythondjango Rashmi_R_Bhat_Udupi_3.00_yrs.pdf\n",
      "317 pythondjango Richa_Ahuja_Bengaluru___Bangalore_1.07_yrs.pdf\n",
      "318 pythondjango venkateswar_reddy_Bengaluru___Bangalore_3.02_yrs.docx\n",
      "319 pythondjango NavneetS[4_4].docx\n",
      "320 pythondjango Gourav_Chawla_Delhi_1.10_yrs.pdf\n",
      "321 pythondjango VinodPG[4_0].pdf\n",
      "322 pythondjango Anilkumar[3_4].docx\n",
      "323 pythondjango Asif_Iqbal__Bengaluru___Bangalore_2.05_yrs.docx\n",
      "324 pythondjango SHIHABUDHEENKM[2_4].pdf\n",
      "325 pythondjango NikhilSNair[4_4].docx\n",
      "326 pythondjango ManuYesudasKA[2_8].docx\n",
      "327 pythondjango VipinGovind[3_9].pdf\n",
      "328 pythondjango satyam_k_Hyderabad___Secunderabad_3.00_yrs.docx\n",
      "329 pythondjango Zadeek Ummer.doc\n",
      "330 pythondjango MineshMohan[3_5].doc\n",
      "331 pythondjango anurag_sharma_Delhi_4.00_yrs.pdf\n",
      "332 pythondjango AnoopPS.pdf\n",
      "333 pythondjango nitin_niraj_Pune_4.00_yrs.pdf\n",
      "334 pythondjango ADARINAGAARVIND[2_2].docx\n",
      "335 pythondjango AbdulLatheef[3_5].pdf\n",
      "336 pythondjango SilpaThomas[2_8].pdf\n",
      "337 pythondjango ashok_ch_Bengaluru___Bangalore_2.00_yrs.doc\n",
      "338 pythondjango ANOOPAR[2_7].pdf\n",
      "339 pythondjango rajendra[2_3].docx\n",
      "340 pythondjango AnoopGangadharan[12_0].doc\n",
      "341 pythondjango Rishiraj_Verma_Indore_4.07_yrs.pdf\n",
      "342 pythondjango Jibin_Mathews_Cochin___Kochi___Ernakulam_1.00_yrs.pdf\n",
      "343 pythondjango Gopi_krishna_Hyderabad___Secunderabad_1.05_yrs.docx\n",
      "344 pythondjango venkatb[2_2].doc\n",
      "345 pythondjango 51456848_Pune_5.00_yrs.rtf\n",
      "346 pythondjango Aryan_Keshri_Bengaluru___Bangalore_3.07_yrs.pdf\n",
      "347 pythondjango LENINLAL[3_0].pdf\n",
      "348 pythondjango SheeshMohsin[2_0].pdf\n",
      "349 pythondjango DELNAPD[2_0].pdf\n",
      "350 pythondjango muhammed[2_0].pdf\n",
      "351 pythondjango gowri_sankara_rao_challa_Hyderabad___Secunderabad_3.01_yrs.docx\n",
      "352 pythondjango SubishKS.pdf\n",
      "353 pythondjango ArunKumarChandramouli.pdf\n",
      "354 pythondjango ram_paliwal_Bengaluru___Bangalore_8.00_yrs.docx\n",
      "355 pythondjango ARUN SKARIA.docx\n",
      "356 pythondjango MUHAMMADSHAMEERS.pdf\n",
      "357 pythondjango HariHara_Sarma_Bengaluru_-_Bangalore_5.03_yrs.doc\n",
      "358 pythondjango JibuJosephJames[2_3].pdf\n",
      "359 pythondjango Mounika_B_Bengaluru___Bangalore_2.02_yrs.pdf\n",
      "360 pythondjango ShinoyMadhavan[3_0].pdf\n",
      "361 pythondjango Pradnya_Mhatre_Pune_6.09_yrs.pdf\n",
      "362 pythondjango SarathSankar[2_3].pdf\n",
      "363 pythondjango venkateshwarareddy_sanaga_Bengaluru___Bangalore_2.00_yrs.doc\n",
      "364 pythondjango ShebeerMA.pdf\n",
      "365 pythondjango deepak_kumar_Hyderabad_-_Secunderabad_4.09_yrs.docx\n",
      "366 pythondjango prabu.doc\n",
      "367 pythondjango SivaSingh[4_2].doc\n",
      "368 pythondjango TONYPFRANCIS[4_3].pdf\n",
      "369 pythondjango GURUDEV_SAHOO_Bengaluru_-_Bangalore_4.05_yrs.docx\n",
      "370 pythondjango gadhimani[2_11].docx\n",
      "371 pythondjango sharmil_kumar_Bengaluru_-_Bangalore_4.09_yrs.docx\n",
      "372 pythondjango Tejas_Khele_Pune_3.07_yrs.docx\n",
      "373 pythondjango AnkitMurdia[6_0].pdf\n",
      "374 pythondjango Ayush_Jain_Pune_2.00_yrs.docx\n",
      "375 pythondjango Sakeer P.doc\n",
      "376 pythondjango AbdulLatheef[2_7].pdf\n",
      "377 pythondjango Renjith_Updated_resume.pdf\n",
      "378 pythondjango sumathi[1_1].docx\n",
      "379 pythondjango AnoopPB[4_8].docx\n",
      "380 pythondjango gopeshwer_shriwas_Bengaluru_-_Bangalore_5.08_yrs.docx\n",
      "381 pythondjango sitaram_sawant_Mumbai_4.10_yrs.rtf\n",
      "382 pythondjango vivek_singh_bhadauria_Delhi_Region_1.06_yrs.pdf\n",
      "383 pythondjango Nibil_M_S_Bengaluru___Bangalore_6.03_yrs.pdf\n",
      "384 pythondjango harshada_ghodke_Hyderabad_-_Secunderabad_5.05_yrs.docx\n",
      "385 pythondjango PrabakaranSanthanam[2_6].pdf\n",
      "386 pythondjango Richa_Soni_Pune_4.07_yrs.docx\n",
      "387 pythondjango sheik_mohammed_Chennai_6.00_yrs.docx\n",
      "388 pythondjango ram_paliwal_Bengaluru_-_Bangalore_7.00_yrs.docx\n",
      "389 pythondjango Ranjeet_Singh_Pune_2.00_yrs.docx\n",
      "390 pythondjango Mayank_Sharma_Gurgaon_3.01_yrs.pdf\n",
      "391 pythondjango Rohit_Salunke_Pune_2.01_yrs.pdf\n",
      "392 pythondjango 64032445_Mumbai_4.00_yrs.pdf\n",
      "393 pythondjango NARRAMAHENDERREDDY[2_7].docx\n"
     ]
    },
    {
     "name": "stdout",
     "output_type": "stream",
     "text": [
      "394 pythondjango A.KRISHNA_REDDY_Hyderabad_-_Secunderabad_7.00_yrs.pdf\n",
      "395 pythondjango ArunK[4_3].pdf\n",
      "396 pythondjango AkhilKA[2_9].pdf\n",
      "397 pythondjango ashish_anand_Chandigarh_6.11_yrs.docx\n",
      "398 pythondjango HaridasanPC[6_0].docx\n",
      "399 pythondjango Soumyaranjan[2_5].docx\n",
      "400 pythondjango Gauri_kulkarni_Pune_1.07_yrs.pdf\n",
      "401 pythondjango GaneshManturi[4_4].docx\n",
      "402 pythondjango Mahesh_N_Hyderabad___Secunderabad_2.02_yrs.doc\n",
      "403 pythondjango harikesh_patel_Bengaluru_-_Bangalore_6.02_yrs.docx\n",
      "404 pythondjango JithinPrakash[2_4].pdf\n",
      "405 pythondjango Mohan[4_1].docx\n",
      "406 pythondjango shibiraj__resume.pdf\n",
      "407 pythondjango Bhagyashri_Gite_Pune_2.00_yrs.docx\n",
      "408 pythondjango NIKHIL KRISHNAN.doc\n",
      "409 pythondjango Ottigunta_Jyothi_Naidu_India_4.02_yrs.docx\n",
      "410 pythondjango VimalKesavan[3_11].docx\n",
      "411 pythondjango SVINOTHKUMAR[4_8].docx\n",
      "412 pythondjango veenaaravindc[2_5].docx\n",
      "413 pythondjango Vineet_kumar_Dubey_Mumbai_4.10_yrs.pdf\n",
      "414 pythondjango SarathKumarJ[3_7].pdf\n",
      "415 pythondjango SELVAKUMAR.L.doc\n",
      "416 pythondjango ajayjayaram[3_6].docx\n",
      "417 pythondjango nivin_paul_Qatar_4.00_yrs.docx\n",
      "418 pythondjango RobertFernandes[2_8].docx\n",
      "419 pythondjango nripesh_agarwal_Delhi_6.06_yrs.pdf\n",
      "420 pythondjango 47731129_Bengaluru_-_Bangalore_6.00_yrs.docx\n",
      "421 pythondjango NewResume-Sandeep docx.pdf\n",
      "422 pythondjango Amit_kumar_singh_Lucknow_4.06_yrs.docx\n",
      "423 pythondjango Gajender_singh_Delhi_11.02_yrs.docx\n",
      "424 pythondjango 52559549_Hyderabad_-_Secunderabad_4.00_yrs.docx\n",
      "425 pythondjango Vikram Prasanna.docx\n",
      "426 pythondjango SudheeshS[3_0].pdf\n",
      "427 pythondjango sreelekshmims[3_5].pdf\n",
      "428 pythondjango sovinjose[5_0].pdf\n",
      "429 pythondjango GaneshKumar[2_0].doc\n",
      "430 pythondjango Jisson Varghese.doc\n",
      "431 pythondjango 77522138_Pune_4.09_yrs.doc\n",
      "432 pythondjango venkateshwarareddy[2_0].doc\n",
      "433 pythondjango sudeepkrishnan[2_6].doc\n",
      "434 pythondjango sarathcp[3_0].pdf\n",
      "435 pythondjango Pankesh_kumar_Gurgaon_6.00_yrs.pdf\n",
      "436 pythondjango bijal_maniar_Mumbai_5.00_yrs.docx\n",
      "437 pythondjango Vijeeshk[6_0].pdf\n",
      "438 pythondjango RamprasadB[4_0].docx\n",
      "439 pythondjango waseem[3_1].doc\n",
      "440 pythondjango praveen_kumar_s__Bengaluru___Bangalore_2.02_yrs.docx\n",
      "441 pythondjango Peram_Maruthi_Reddy_Bengaluru___Bangalore_1.00_yrs.docx\n",
      "442 pythondjango Vivek_Sahu_Indore_2.06_yrs.pdf\n",
      "443 pythondjango matam_mohan_Bengaluru___Bangalore_3.00_yrs.docx\n",
      "444 pythondjango Shaumyadeep_Chaudhuri_Bengaluru_-_Bangalore_4.06_yrs.docx\n",
      "445 pythondjango Nidhin_Bose_j._Thiruvananthapuram_-_Trivandrum_4.01_yrs.rtf\n",
      "446 pythondjango sureshkumarreddyMV[3_9].doc\n",
      "447 pythondjango DHARIYASREEDHARAN[2_6].docx\n",
      "448 pythondjango TevinJosephKO[4_9].pdf\n",
      "449 pythondjango Mahendra[2_0].docx\n",
      "450 android SHIDHINTS[6_0].docx\n",
      "451 android jithasusanshaji[3_1].docx\n",
      "452 android AbhilashaSharmaProfile.pdf\n",
      "453 android Anoop C_Resume.pdf\n",
      "454 android Ajith.docx\n",
      "455 android NIDHINEK[PR]17th Dec'15.doc\n",
      "456 android SOURABHSHARMA[2_9].pdf\n",
      "457 android AnamikaButolaProfile.pdf\n",
      "458 android ShiyaSerahKoshy[2_1].pdf\n",
      "459 android AmanShekharProfile.pdf\n",
      "460 android AjaysinghRamchandraJadhao[3_9].docx\n",
      "461 android Vishnu Priya.docx\n",
      "462 android jibinAhmmed[4_4].pdf\n",
      "463 android KOTASARATHKUMARACHARI[4_3].pdf\n",
      "464 android BinithaRaj[6_0].doc\n",
      "465 android Akhil Krishna VP.pdf\n",
      "466 android NITHIN PAUL.doc\n",
      "467 android SadhanapandeyProfile.pdf\n",
      "468 android SujithR[2_6].pdf\n",
      "469 android HarpreetSingh[1_8].doc\n",
      "470 android Praveen SS.doc\n",
      "471 android DarwinFrancis[4_8].pdf\n",
      "472 android Resume_Vandana Surendranath.pdf\n",
      "473 android NitikaDhesiProfile.pdf\n",
      "474 android PraveenKumarProfile.pdf\n",
      "475 android Naveen Prince.doc\n",
      "476 android BibinBaby.pdf\n",
      "477 android AnnlitJose[5_7].doc\n",
      "478 android KartikiBChavan[4_5].docx\n",
      "479 android swatichauhanProfile.pdf\n",
      "480 android RavindraS.rtf\n",
      "481 android PAULSON P KURIAKOSE.doc\n",
      "482 android PrashantRavi[2_4].pdf\n",
      "483 android Nitheesh KS.doc\n",
      "484 android KIshoreKS[6_0].doc\n",
      "485 android SandeepKaurProfile.pdf\n",
      "486 android prasad[PR]17th Dec'15.doc\n",
      "487 android ShipraSinghalProfile.pdf\n",
      "488 android RohanZemse[5_0].pdf\n",
      "489 android DikshaDhimanProfile.pdf\n",
      "490 android joseantony.doc\n",
      "491 android SnehaLohkareProfile.pdf\n",
      "492 android PriyankaSharmaProfile.pdf\n",
      "493 android NavyaPRamesan[4_2].doc\n",
      "494 android PrernaKharbandaProfile.pdf\n",
      "495 android SreejithK[3_8].pdf\n",
      "496 android ShivanshSaxenaProfile.pdf\n",
      "497 android SINORAJ[5_6].pdf\n",
      "498 android BostanCherianProfile.pdf\n",
      "499 android AswathyMohanP[4_2].doc\n",
      "500 android ArshadShaikhProfile.pdf\n",
      "501 android NiharikaAroraProfile.pdf\n",
      "502 android R.Saravana Raja.doc\n",
      "503 android Mable[3_0].docx\n",
      "504 android AbhilashKV[3_0].docx\n",
      "505 android Sivaprabha.doc\n",
      "506 android AbrahamGeorge[2_5].doc\n",
      "507 android HardeepuppalProfile.pdf\n",
      "508 android UnnirajaPProfile.pdf\n",
      "509 android VARUNKUMARM[5_4].doc\n",
      "510 android SishinSanthoshProfile.pdf\n",
      "511 android DikshaDhimanProfile(1).pdf\n",
      "512 android Abhaydhiman[1_5].docx\n",
      "513 android swatiwavareProfile.pdf\n",
      "514 android RANI JOHN- reject.doc\n",
      "515 android SumitKumar[5_0].docx\n",
      "516 android Arun Prabhu S - Bengaluru _ Bangalore 3 years 5 months.doc\n",
      "517 android ShitalThoratProfile.pdf\n",
      "518 android MdAlamProfile.pdf\n",
      "519 android pardhasaradhi[4_4].docx\n",
      "520 android HimanshuGuptaProfile.pdf\n",
      "521 android PraveenSS[3_8].pdf\n",
      "522 android mohithoodaProfile.pdf\n",
      "523 android KATARIRAVIVARMA[1_5].doc\n",
      "524 android BibinPJacob.pdf\n",
      "525 android AnupamShrivastavaProfile.pdf\n",
      "526 android NikhilV[4_7].docx\n",
      "527 android ShyjithP[9_0].doc\n",
      "528 android AnuSPillai[4_1].pdf\n",
      "529 android Digna_James_Bengaluru___Bangalore_1.08_yrs.docx\n",
      "530 android VishnuDas[3_8].doc\n",
      "531 android Ashish Kumar MishraProfile.pdf\n",
      "532 android Prajeesh.doc\n",
      "533 android KARTHIK KUMAR C.V..doc\n",
      "534 android MAHESHCHANDRASHEKHARGIRI[1_8].pdf\n",
      "535 android prince Resume.doc\n",
      "536 android PoojaMalhotraProfile.pdf\n",
      "537 android PHALGUNARAO[4_3].docx\n",
      "538 android RatikaPrakashProfile.pdf\n",
      "539 android VictoriaLewisProfile.pdf\n",
      "540 android VandanaSrivastavaProfile.pdf\n",
      "541 android KavitaRanaProfile.pdf\n",
      "542 android SwetaChandaranaProfile.pdf\n",
      "543 android RamandeepKaurProfile.pdf\n",
      "544 android AbhilashaChauhanProfile.pdf\n",
      "545 android SanuRaj[3_6].pdf\n",
      "546 android SwarupGosavi[4_2].doc\n",
      "547 android BhumiPurohitProfile.pdf\n",
      "548 android Sagar[7_0].docx\n",
      "549 android doc.pdf\n",
      "550 android PoojaGoyalProfile.pdf\n",
      "551 android ANUSHAK[3_1].pdf\n",
      "552 android AzayKumarGupta[4_6].pdf\n",
      "553 android PrathaTiwariProfile.pdf\n",
      "554 android vivekcv.doc\n",
      "555 android sinanshoukath[4_9].docx\n",
      "556 android KamalMahesh VProfile.pdf\n",
      "557 android SheetalSharmaProfile.pdf\n",
      "558 android SANDEEPKUMARPK[6_0].pdf\n",
      "559 android SurbhiSharmaProfile.pdf\n",
      "560 android PravinBadgujar[4_1].docx\n",
      "561 android RAKESH[4_0].doc\n",
      "562 android RSaiSakethPawan[1_5].docx\n",
      "563 android Sreejin T V.doc\n",
      "564 android Koduriprasannanjaneyulu[1_2].doc\n",
      "565 android Sirisha[2_0].docx\n",
      "566 android ribinharidas[2_11].docx\n",
      "567 android Android.docx\n",
      "568 android DHINIL[6_0].docx\n",
      "569 android JithinVManomohan[7_0].doc\n",
      "570 android shivasinghProfile.pdf\n",
      "571 android ArunPS[6_0].pdf\n",
      "572 android SilviGuptaProfile.pdf\n",
      "573 android VineethAV[7_0].pdf\n",
      "574 android komalkoriyaProfile.pdf\n",
      "575 android PramodSanker[4_8].pdf\n",
      "576 android SHEFIARASHEED[5_5].pdf\n",
      "577 android MuhammedIrshadN[7_0].doc\n",
      "578 android SSaravanan[4_0].doc\n",
      "579 android TIYA MARTIN - reject.doc\n",
      "580 android AMODKUMARCHOUBEY[3_0].docx\n",
      "581 android ArjunMR[3_0].pdf\n",
      "582 android MUHAMMEDNASEEMTA[5_2].doc\n",
      "583 android ANOOP V.doc\n",
      "584 android YashSrivastavaProfile.pdf\n",
      "585 android SunilKumarProfile.pdf\n",
      "586 android ManishikaSinghProfile.pdf\n",
      "587 android HarpreetKaurProfile.pdf\n",
      "588 android NitinJain[2_5].docx\n",
      "589 android AnkitapalProfile.pdf\n",
      "590 android JayKikaniProfile.pdf\n",
      "591 android NehaJohariProfile.pdf\n",
      "592 android SijuDharmadevan[6_0].doc\n",
      "593 android AnupkumarShuklaProfile.pdf\n",
      "594 android sumanmajumder[3_2].doc\n",
      "595 android Vrinda[3_0].docx\n",
      "596 android Joice P Joy- Reject.doc\n",
      "597 android VipinVasu.pdf\n",
      "598 android NIKITAMARYSOLOMAN[1_7].pdf\n",
      "599 android Vinaye.doc\n",
      "600 ios ManikandanVNair[2_3].docx\n",
      "601 ios FAHAD-rejected.docx\n",
      "602 ios Dimil T Mohan_IOS Developer.pdf\n",
      "603 ios SugumaranM[4_5].doc\n",
      "604 ios Harikrishnapanicker.doc\n",
      "605 ios JubySaraKuruvilla[2_8].pdf\n",
      "606 ios Amol_Ramdas_Pawar___Pune_2.00_yrs.doc\n",
      "607 ios Benarji_Chowdari_Y_Hyderabad___Secunderabad_2.01_yrs.pdf\n",
      "608 ios Arun_Singh_Bengaluru___Bangalore_1.08_yrs.pdf\n",
      "609 ios Arindam_Ghosh_Kolkata_6.10_yrs.docx\n"
     ]
    },
    {
     "name": "stdout",
     "output_type": "stream",
     "text": [
      "610 ios Rafeek Resume doc docx.pdf\n",
      "611 ios Ramu[4_6].doc\n",
      "612 ios Ambili B Menon.doc\n",
      "613 ios AbinBaby.pdf\n",
      "614 ios KarthikP[2_7].docx\n",
      "615 ios Ajaykumar_Mishra_Nashik_2.04_yrs.docx\n",
      "616 ios UNNIKRISHNANP[7_0].docx\n",
      "617 ios RoshnaDsouza[5_0].pdf\n",
      "618 ios SarathRaveendran[3_0].pdf\n",
      "619 ios 55778200_Bengaluru___Bangalore_2.01_yrs.pdf\n",
      "620 ios Ebin Dominic_iOS.docx\n",
      "621 ios Britto Thomas.docx\n",
      "622 ios RINCE[5_6].doc\n",
      "623 ios harishthadandla[2_0].docx\n",
      "624 ios BIJU GEORGE- Reject.doc\n",
      "625 ios MohamedRafiBA[4_9].doc\n",
      "626 ios srinu[3_2].doc\n",
      "627 ios SaravananM[1_3].docx\n",
      "628 ios balaram_somineni_Hyderabad___Secunderabad_2.00_yrs.docx\n",
      "629 ios ImranMohammed - Reject.doc\n",
      "630 ios JamalAhamad[2_3].doc\n",
      "631 ios NeerajKumarMishra[3_0].doc\n",
      "632 ios vamshi[6_0].doc\n",
      "633 ios 72290504_Noida_1.00_yrs.doc\n",
      "634 ios SANTHOSHKUMAR[3_0].doc\n",
      "635 ios BollaSrinivas[2_3].pdf\n",
      "636 ios Ashokkumar_Subramanian_Chennai_0.06_yrs.docx\n",
      "637 ios DONIYAJOY[3_0].pdf\n",
      "638 ios Ami_Intwala__Ahmedabad_1.05_yrs.pdf\n",
      "639 ios AkhilaTVellanikaran[2_0].docx\n",
      "640 ios NikhilBKuriakose[2_0].pdf\n",
      "641 ios RMahesh[2_9].docx\n",
      "642 ios Nibin Varghese.docx\n",
      "643 ios VibinPV[6_0].pdf\n",
      "644 ios SREEDEVISUBRAMANIAN[3_3].docx\n",
      "645 ios SaliniSebastian[7_0].doc\n",
      "646 ios mumthasir[4_6].pdf\n",
      "647 ios SarigaResume - NI.docx\n",
      "648 ios MartinJacob[6_0].pdf\n",
      "649 ios MARYSONNETXAVIER[3_1].pdf\n",
      "650 ios Manoj Nair.doc\n",
      "651 ios alekhya[5_3].docx\n",
      "652 ios 82299682_Chandigarh_0.06_yrs.docx\n",
      "653 ios DeepuStanly[1_1].docx\n",
      "654 ios Ambili m v.doc\n",
      "655 ios ArunkumarVR - Reject.pdf\n",
      "656 ios AiswaryalatestResume.docx.pdf\n",
      "657 ios DineshKumarM[3_0].doc\n",
      "658 ios RajaSekhar[5_5].docx\n",
      "659 ios JincyWalston[2_2].doc\n",
      "660 ios balai03.doc\n",
      "661 ios Rijesh K R.doc\n",
      "662 ios praveenkumar[2_0].docx\n",
      "663 ios RoshniVarghese[3_3].docx\n",
      "664 ios Anil K.doc\n",
      "665 ios akshay_chinthakayla_India_2.00_yrs.pdf\n",
      "666 ios Bharathkumarreddy[4_3].doc\n",
      "667 ios Abhishek_Jaiswal_Chennai_6.00_yrs.pdf\n",
      "668 ios VijayKumay[3_4].docx\n",
      "669 ios BenAntonyPR[4_7].pdf\n",
      "670 ios Kanju Jiffry.doc\n",
      "671 ios Harish[3_0].pdf\n",
      "672 ios Muhammed Rafeek K A- offer declined.doc\n",
      "673 ios saravanakumar[4_6].docx\n",
      "674 ios Jephin.doc\n",
      "675 ios varunthomas[6_0].docx\n",
      "676 ios Rajani[1_2].doc\n",
      "677 ios Praveen[6_0].doc\n",
      "678 ios 81940699_Bengaluru___Bangalore_2.00_yrs.pdf\n",
      "679 ios Amol_Ambhure_Pune_2.00_yrs.pdf\n",
      "680 ios G Saia Swanth[.pdf\n",
      "681 ios SANKAREVANTH[1_8].pdf\n",
      "682 ios ArunkumarPorchezhiyan[3_9].docx\n",
      "683 ios Krushnamma[2_9].doc\n",
      "684 ios veeraprakash[5_5].docx\n",
      "685 ios muraliyandapalli[2_7].doc\n",
      "686 ios Vikesh[2_3].pdf\n",
      "687 ios satishkumar[2_2].pdf\n",
      "688 ios DinoopRajT[5_6].docx\n",
      "689 ios Deepika HV.docx\n",
      "690 ios Arshwin_Denuev_Lal_P.M_Cochin___Kochi___Ernakulam_2.01_yrs.pdf\n",
      "691 ios Cethal.doc\n",
      "692 ios AneeshKA[2_0].docx\n",
      "693 ios Dipin.K.doc\n",
      "694 ios SUBINSURESHNAIRKT.pdf\n",
      "695 ios 76146783_Hyderabad___Secunderabad_3.00_yrs.docx\n",
      "696 ios PratheeshPrabhakaran[7_0].doc\n",
      "697 ios Deepesh_Naik_Goa_4.00_yrs.pdf\n",
      "698 ios LUBAVARGHESE[3_6].pdf\n",
      "699 ios Deepak_Ghadi__Mumbai_0.08_yrs.docx\n",
      "700 ios Nijiljose[3_4].docx\n",
      "701 ios Akhil P D - Reject.docx\n",
      "702 ios srinivas[2_1].docx\n",
      "703 ios Arun_Pareek_Hyderabad___Secunderabad_4.10_yrs.pdf\n",
      "704 ios vinathy[2_2].pdf\n",
      "705 ios VINEETHM[3_7].pdf\n",
      "706 ios RAHUL R.doc\n",
      "707 ios VamsiMullapudi[3_2].pdf\n",
      "708 ios Sivarajselvaraj[4_0].docx\n",
      "709 ios Ardra Thambi - Mac.doc\n",
      "710 ios Ankita_Satpathy_Bengaluru___Bangalore_2.03_yrs.pdf\n",
      "711 ios deepthi___Bengaluru___Bangalore_4.00_yrs.pdf\n",
      "712 ios SavithaKuduma[2_6].docx\n",
      "713 ios RukminiKR[4_4].pdf\n",
      "714 ios SUJITHRA- Reject.docx\n",
      "715 ios Anil_Kumar_Nomula_Hyderabad___Secunderabad_0.06_yrs.pdf\n",
      "716 ios 51361326_Bengaluru___Bangalore_2.08_yrs.docx\n",
      "717 ios AjithCPurushothaman[3_4].docx\n",
      "718 ios DyanaAVarghese.doc\n",
      "719 ios Dipendra_Dubey_Mumbai_City_5.06_yrs.docx\n",
      "720 ios 60659278_Bengaluru___Bangalore_4.05_yrs.docx\n",
      "721 ios Arun Kurian Ninan.doc\n",
      "722 ios Usha[1_1].docx\n",
      "723 ios THOMASPAUL[3_5].pdf\n",
      "724 ios Beneesh Baby- Reject.doc\n",
      "725 ios praveendavis[3_0].doc\n",
      "726 ios ArjunPA[1_1].docx\n",
      "727 ios vikasbharat[1_3].docx\n",
      "728 ios jacob -REJECT.pdf\n",
      "729 ios Selvakumar[3_7].docx\n",
      "730 ios 77596221_Mumbai_2.06_yrs.pdf\n",
      "731 ios SrinivasuluMeenuga[2_7].docx\n",
      "732 ios Ananthkumar[3_5].pdf\n",
      "733 ios ArunKumar.pdf\n",
      "734 ios Nouzil[2_3].docx\n",
      "735 ios NeelBakshi[2_3].pdf\n",
      "736 ios KPremSai[2_10].docx\n",
      "737 ios JananiVasudev[2_11].doc\n",
      "738 ios 58380646_Chennai_1.00_yrs.pdf\n",
      "739 ios BetsyCBaby.pdf\n",
      "740 ios mohdarshadali[1_6].doc\n",
      "741 ios AlexBabu[2_3].pdf\n",
      "742 ios Binso.pdf\n",
      "743 ios ShankarK[4_1].doc\n",
      "744 ios VineethM- Reject.pdf\n",
      "745 ios 53556009_Chennai_3.05_yrs.pdf\n",
      "746 ios FAISALAZEEZ[1_6].pdf\n",
      "747 ios ANANTHURKRISHNAN[3_0].docx\n",
      "748 ios Raghuram[1_8].pdf\n",
      "749 ios Ashwin_Kumar_Sarangula__Hyderabad___Secunderabad_2.05_yrs.pdf\n",
      "750 corejava B.RAMBABU__Hyderabad___Secunderabad_0.00_yrs.doc\n",
      "751 corejava Kalavathi_guna__Hyderabad___Secunderabad_13.00_yrs.doc\n",
      "752 corejava AravindPS.pdf\n",
      "753 corejava raju_palanisamy_Chennai_3.05_yrs.docx\n",
      "754 corejava SHAMEEM  A T.doc\n",
      "755 corejava nirmal_barik_Mumbai_6.00_yrs.docx\n",
      "756 corejava bejoy ks.pdf\n",
      "757 corejava Bhaskar_Y_Hyderabad___Secunderabad_0.00_yrs.docx\n",
      "758 corejava Nithi_Naik_Mumbai_5.02_yrs.doc\n",
      "759 corejava 84017585_Pune_6.00_yrs.doc\n",
      "760 corejava Praveen_Maurya_Noida_0.10_yrs.pdf\n",
      "761 corejava Mahesh_Kumar_Tomar___Delhi_11.00_yrs.doc\n",
      "762 corejava Akshay_Sherla_Pune_0.00_yrs.docx\n",
      "763 corejava Debasishswain[2_6].doc\n",
      "764 corejava Nageswararao_Eadara_Chennai_2.04_yrs.doc\n",
      "765 corejava Revathy__Chennai_1.00_yrs.doc\n",
      "766 corejava Rajendra_B_Hyderabad___Secunderabad_11.00_yrs.doc\n",
      "767 corejava Rahul_Karnati___Hyderabad___Secunderabad_0.00_yrs.doc\n",
      "768 corejava lakshmi_kota_Bengaluru___Bangalore_3.02_yrs.doc\n",
      "769 corejava parag__Bengaluru___Bangalore_3.00_yrs.docx\n",
      "770 corejava Rama_krishna_Bengaluru___Bangalore_3.00_yrs.docx\n",
      "771 corejava pooja_k_Bengaluru___Bangalore_1.08_yrs.docx\n",
      "772 corejava Naagendra_v_Hyderabad___Secunderabad_3.04_yrs.docx\n",
      "773 corejava lalu_dash_Bengaluru___Bangalore_1.00_yrs.doc\n",
      "774 corejava Naresh_Karimbakam_Bengaluru___Bangalore_9.06_yrs.doc\n",
      "775 corejava Aditya_Jagtap_Pune_2.02_yrs.pdf\n",
      "776 corejava Ravi_Kumar_Bengaluru___Bangalore_2.11_yrs.docx\n",
      "777 corejava Rishu_Kumar_Bengaluru_-_Bangalore_3.01_yrs.doc\n",
      "778 corejava Rekha_Madhuri_Hyderabad___Secunderabad_2.04_yrs.docx\n",
      "779 corejava konduru_kiran_Bengaluru___Bangalore_3.00_yrs.doc\n",
      "780 corejava Sriram__Chennai_3.04_yrs.docx\n",
      "781 corejava Channabasappa__Bengaluru___Bangalore_8.09_yrs.docx\n",
      "782 corejava Nasim_Akhtar_Bengaluru___Bangalore_5.05_yrs.doc\n",
      "783 corejava JERITT K JOSE.doc\n",
      "784 corejava mukesh_kumar_Delhi_0.00_yrs.doc\n",
      "785 corejava Prabhath K V.docx\n",
      "786 corejava ANEES_MS_Cochin_-_Kochi_-_Ernakulam_4.07_yrs.pdf\n",
      "787 corejava ANOOP K.P.doc\n",
      "788 corejava rajat_pathak__Delhi_1.07_yrs.doc\n",
      "789 corejava Arvind_Kumar_Mumbai_9.03_yrs.doc\n",
      "790 corejava KRISHNAMOHAN__Hyderabad___Secunderabad_3.07_yrs.doc\n",
      "791 corejava Monish__Bengaluru___Bangalore_2.00_yrs.docx\n",
      "792 corejava Amit_Gawande_Pune_10.06_yrs (2).doc\n",
      "793 corejava MOHAMMED ASHHER.doc\n",
      "794 corejava sanesh_resume.doc\n",
      "795 corejava Sreejith.S.doc\n",
      "796 corejava madhavi_t_Bengaluru___Bangalore_5.03_yrs.docx\n",
      "797 corejava chandrasekhar_Vukku_Chennai_3.08_yrs.docx\n",
      "798 corejava Lakshmi_Reddem_Hyderabad___Secunderabad_2.05_yrs.doc\n",
      "799 corejava Mittapalli_Subramanyam_Bengaluru___Bangalore_0.00_yrs.pdf\n",
      "800 corejava Sreeraj Ramachandran.doc\n",
      "801 corejava Anish.pdf\n",
      "802 corejava M. Shunmugaraj.doc\n",
      "803 corejava chandrasekhar_thota_Pune_8.03_yrs.doc\n",
      "804 corejava Samresh_Kumar_Bengaluru___Bangalore_6.00_yrs.doc\n",
      "805 corejava Shaibu rahees.doc\n",
      "806 corejava GOMATHYK[3_0].pdf\n",
      "807 corejava Sanatan__Pune_7.08_yrs.docx\n",
      "808 corejava Pramod_Kumar_Sharma_Ranchi_6.05_yrs.docx\n",
      "809 corejava Aravind_Pal_Delhi_2.06_yrs.docx\n",
      "810 corejava Shalini_Nair_Mumbai_4.06_yrs.doc\n",
      "811 corejava ramu___Mumbai_5.00_yrs.doc\n",
      "812 corejava mitali_khandelwal_Jaipur_0.00_yrs.docx\n",
      "813 corejava GIJINA.R.doc\n",
      "814 corejava Amit_Joshi_Noida_4.02_yrs (2).doc\n",
      "815 corejava Mahadevan_M_Chennai_7.00_yrs.docx\n",
      "816 corejava Pooja___Ahmedabad_1.00_yrs.doc\n",
      "817 corejava Kishore_N__Bengaluru___Bangalore_1.00_yrs.docx\n",
      "818 corejava Satappa_Chaugala_Bengaluru_-_Bangalore_4.05_yrs.docx\n",
      "819 corejava Anish_Sain_Bengaluru___Bangalore_10.00_yrs.pdf\n",
      "820 corejava Neelam__Chennai_2.00_yrs.docx\n",
      "821 corejava Basavaraj_Bhuti_Bengaluru___Bangalore_0.00_yrs.docx\n",
      "822 corejava Ancy_P_J.pdf\n",
      "823 corejava babubademia__Hyderabad___Secunderabad_0.00_yrs.docx\n"
     ]
    },
    {
     "name": "stdout",
     "output_type": "stream",
     "text": [
      "824 corejava ishita__Mumbai_2.00_yrs.pdf\n",
      "825 corejava Nikita_Garg_Pune_1.10_yrs.doc\n",
      "826 corejava SHIBU BABU.doc\n",
      "827 corejava AnnlatestResume.pdf\n",
      "828 corejava Jitesh_Kumar_Bengaluru___Bangalore_0.00_yrs.doc\n",
      "829 corejava Jyothsna_ranga_Hyderabad___Secunderabad_0.00_yrs.docx\n",
      "830 corejava Nagaraju_Kakumanu_Bengaluru___Bangalore_0.00_yrs.doc\n",
      "831 corejava rakesh_meshram_Mumbai_9.00_yrs.doc\n",
      "832 corejava Junaidh M K.doc\n",
      "833 corejava Harsha_Vardhana_Gangavarapu_Chennai_6.09_yrs.pdf\n",
      "834 corejava Madhukar_Reddy_Gogula__Hyderabad___Secunderabad_0.00_yrs.doc\n",
      "835 corejava Lakshmi_P_Hyderabad___Secunderabad_4.04_yrs.docx\n",
      "836 corejava reeti_metre_Bengaluru___Bangalore_2.08_yrs.docx\n",
      "837 corejava THOMAS P M.doc\n",
      "838 corejava Hariprasath_Govindarajulu_Chennai_0.00_yrs.pdf\n",
      "839 corejava peerambhi_dudekula_Hyderabad___Secunderabad_3.02_yrs.doc\n",
      "840 corejava kundan_kumar_Gurgaon_3.00_yrs.docx\n",
      "841 corejava Niladri_Sarkar__Kolkata_10.00_yrs.docx\n",
      "842 corejava CodechefVaibhav_Kashyap_Delhi_5.06_yrs.docx\n",
      "843 corejava rakesh_sahu_Bengaluru___Bangalore_3.00_yrs.docx\n",
      "844 corejava RanjithPUthaman[5_8].pdf\n",
      "845 corejava Rajeesh Radhakrishnan.doc\n",
      "846 corejava Rashmi_Shrivas_Hyderabad___Secunderabad_3.00_yrs.docx\n",
      "847 corejava Prabha_V_Thiruvananthapuram___Trivandrum_9.10_yrs.docx\n",
      "848 corejava sachin_kudikala_Mumbai_7.00_yrs.doc\n",
      "849 corejava VEENA GOPAL.A.doc\n",
      "850 corejava Dikshita_Gajjar_Ahmedabad_0.00_yrs.docx\n",
      "851 corejava Prithbi_Verma_Kolkata_3.00_yrs.docx\n",
      "852 corejava Deepak_Singh_Mumbai_City_8.01_yrs.docx\n",
      "853 corejava Ravi_kiran_Hyderabad___Secunderabad_2.05_yrs.doc\n",
      "854 corejava Dinesh_Gupta_Bengaluru___Bangalore_2.00_yrs.doc\n",
      "855 corejava Java - JD.docx\n",
      "856 corejava Prachi_Tekale_Mumbai_0.00_yrs.docx\n",
      "857 corejava pallavi_bhole_Mumbai_1.10_yrs.doc\n",
      "858 corejava Murad_Ali__Noida_2.08_yrs.pdf\n",
      "859 corejava Nadim_Akhtar_Bengaluru___Bangalore_0.00_yrs.docx\n",
      "860 corejava Thahir M.doc\n",
      "861 corejava Nikhil__Pune_3.00_yrs.doc\n",
      "862 corejava JOHN PETER. R.doc\n",
      "863 corejava Preethi_T__Bengaluru___Bangalore_3.00_yrs.docx\n",
      "864 corejava MEENAL_pathre_Indore_2.04_yrs.doc\n",
      "865 corejava Rachit_Agrawal_Noida_4.00_yrs.doc\n",
      "866 corejava corejava.pdf\n",
      "867 corejava Gulshan_Nayak_Bengaluru___Bangalore_2.05_yrs.docx\n",
      "868 corejava SHANEESH M.doc\n",
      "869 corejava gitanjali_zate_Pune_2.08_yrs.docx\n",
      "870 corejava shaik_karimulla__Bengaluru_-_Bangalore_0.00_yrs.docx\n",
      "871 corejava Gunja___Chennai_1.00_yrs.docx\n",
      "872 corejava Roshni Kumar V.doc\n",
      "873 corejava Gurmeet_Sindhu_Delhi_1.01_yrs.doc\n",
      "874 corejava Riyash_D.pdf\n",
      "875 corejava ashish_Bhakare_Pune_1.01_yrs.docx\n",
      "876 corejava Johnmani_Das_Hyderabad___Secunderabad_4.03_yrs.docx\n",
      "877 corejava akash_bawankar_Hyderabad___Secunderabad_3.05_yrs.doc\n",
      "878 corejava Sanjid_T.pdf\n",
      "879 corejava nilesh_bokhani_Bhuj_5.02_yrs.doc\n",
      "880 corejava Sambasiva_Duddukuri_Bengaluru___Bangalore_4.06_yrs.docx\n",
      "881 corejava Pavithra_K_Chennai_5.00_yrs.docx\n",
      "882 corejava JAYAKUMAR_R_Coimbatore_1.05_yrs.doc\n",
      "883 corejava BOBAN THOMAS_CoreJava.doc\n",
      "884 corejava vinoth[6_0].doc\n",
      "885 corejava saira_begum_Bengaluru___Bangalore_2.00_yrs.doc\n",
      "886 corejava Nilesh_Patil_Pune_5.00_yrs.docx\n",
      "887 corejava 1476458402073Resume_Shihad.pdf\n",
      "888 corejava Priyanka_H_M__Bengaluru___Bangalore_0.00_yrs.docx\n",
      "889 corejava Ayushi_Shinde_Pune_2.08_yrs.docx\n",
      "890 corejava guru.s.pdf\n",
      "891 corejava M_A_MASOOD_Hyderabad___Secunderabad_0.00_yrs.docx\n",
      "892 corejava Saikrishna___Hyderabad___Secunderabad_0.00_yrs.doc\n",
      "893 corejava sruthi_s_nair_Cochin___Kochi___Ernakulam_2.03_yrs.doc\n",
      "894 corejava Saran_kumar_Bengaluru_-_Bangalore_1.00_yrs (2).doc\n",
      "895 corejava Hari_Babu_Gopinathan_Bengaluru___Bangalore_9.06_yrs.docx\n",
      "896 corejava prince_sachdeva_Noida_4.00_yrs.pdf\n",
      "897 corejava Rajat_Singh_Mumbai_3.06_yrs.docx\n",
      "898 corejava vinodvenugopal.pdf\n",
      "899 corejava Adhish Bhoi.doc\n"
     ]
    }
   ],
   "source": [
    "label_level5=LoadData_level5()"
   ]
  },
  {
   "cell_type": "code",
   "execution_count": 7,
   "metadata": {},
   "outputs": [
    {
     "data": {
      "text/plain": [
       "900"
      ]
     },
     "execution_count": 7,
     "metadata": {},
     "output_type": "execute_result"
    }
   ],
   "source": [
    "len(label_level5)"
   ]
  },
  {
   "cell_type": "code",
   "execution_count": 8,
   "metadata": {
    "collapsed": true
   },
   "outputs": [],
   "source": [
    "\n",
    "jdres_train_labels=[]\n",
    "jdres_train_data=[]\n",
    "\n",
    "for row in label_level5:\n",
    "    jdres_train_data.append(row[0])\n",
    "    jdres_train_labels.append(row[1])\n",
    "#print(jdres_train_data)\n",
    "#print(len(jdres_train_data))"
   ]
  },
  {
   "cell_type": "code",
   "execution_count": 9,
   "metadata": {},
   "outputs": [
    {
     "name": "stdout",
     "output_type": "stream",
     "text": [
      "900\n",
      "900\n"
     ]
    }
   ],
   "source": [
    "print(len(jdres_train_data))\n",
    "print(len(jdres_train_labels))"
   ]
  },
  {
   "cell_type": "code",
   "execution_count": 10,
   "metadata": {
    "collapsed": true
   },
   "outputs": [],
   "source": [
    "df1 = pd.DataFrame(jdres_train_data,columns=['filecontent'])\n",
    "df2 = pd.DataFrame(jdres_train_labels,columns=['label'])"
   ]
  },
  {
   "cell_type": "code",
   "execution_count": 11,
   "metadata": {
    "collapsed": true
   },
   "outputs": [],
   "source": [
    "#print (df2)"
   ]
  },
  {
   "cell_type": "code",
   "execution_count": 11,
   "metadata": {
    "collapsed": true
   },
   "outputs": [],
   "source": [
    "#print(jdres_train_data[42])"
   ]
  },
  {
   "cell_type": "code",
   "execution_count": 12,
   "metadata": {},
   "outputs": [
    {
     "name": "stdout",
     "output_type": "stream",
     "text": [
      "[4 4 4 4 4 4 4 4 4 4 4 4 4 4 4 4 4 4 4 4 4 4 4 4 4 4 4 4 4 4 4 4 4 4 4 4 4\n",
      " 4 4 4 4 4 4 4 4 4 4 4 4 4 4 4 4 4 4 4 4 4 4 4 4 4 4 4 4 4 4 4 4 4 4 4 4 4\n",
      " 4 4 4 4 4 4 4 4 4 4 4 4 4 4 4 4 4 4 4 4 4 4 4 4 4 4 4 4 4 4 4 4 4 4 4 4 4\n",
      " 4 4 4 4 4 4 4 4 4 4 4 4 4 4 4 4 4 4 4 4 4 4 4 4 4 4 4 4 4 4 4 4 4 4 4 4 4\n",
      " 4 4 2 2 2 2 2 2 2 2 2 2 2 2 2 2 2 2 2 2 2 2 2 2 2 2 2 2 2 2 2 2 2 2 2 2 2\n",
      " 2 2 2 2 2 2 2 2 2 2 2 2 2 2 2 2 2 2 2 2 2 2 2 2 2 2 2 2 2 2 2 2 2 2 2 2 2\n",
      " 2 2 2 2 2 2 2 2 2 2 2 2 2 2 2 2 2 2 2 2 2 2 2 2 2 2 2 2 2 2 2 2 2 2 2 2 2\n",
      " 2 2 2 2 2 2 2 2 2 2 2 2 2 2 2 2 2 2 2 2 2 2 2 2 2 2 2 2 2 2 2 2 2 2 2 2 2\n",
      " 2 2 2 2 5 5 5 5 5 5 5 5 5 5 5 5 5 5 5 5 5 5 5 5 5 5 5 5 5 5 5 5 5 5 5 5 5\n",
      " 5 5 5 5 5 5 5 5 5 5 5 5 5 5 5 5 5 5 5 5 5 5 5 5 5 5 5 5 5 5 5 5 5 5 5 5 5\n",
      " 5 5 5 5 5 5 5 5 5 5 5 5 5 5 5 5 5 5 5 5 5 5 5 5 5 5 5 5 5 5 5 5 5 5 5 5 5\n",
      " 5 5 5 5 5 5 5 5 5 5 5 5 5 5 5 5 5 5 5 5 5 5 5 5 5 5 5 5 5 5 5 5 5 5 5 5 5\n",
      " 5 5 5 5 5 5 0 0 0 0 0 0 0 0 0 0 0 0 0 0 0 0 0 0 0 0 0 0 0 0 0 0 0 0 0 0 0\n",
      " 0 0 0 0 0 0 0 0 0 0 0 0 0 0 0 0 0 0 0 0 0 0 0 0 0 0 0 0 0 0 0 0 0 0 0 0 0\n",
      " 0 0 0 0 0 0 0 0 0 0 0 0 0 0 0 0 0 0 0 0 0 0 0 0 0 0 0 0 0 0 0 0 0 0 0 0 0\n",
      " 0 0 0 0 0 0 0 0 0 0 0 0 0 0 0 0 0 0 0 0 0 0 0 0 0 0 0 0 0 0 0 0 0 0 0 0 0\n",
      " 0 0 0 0 0 0 0 0 3 3 3 3 3 3 3 3 3 3 3 3 3 3 3 3 3 3 3 3 3 3 3 3 3 3 3 3 3\n",
      " 3 3 3 3 3 3 3 3 3 3 3 3 3 3 3 3 3 3 3 3 3 3 3 3 3 3 3 3 3 3 3 3 3 3 3 3 3\n",
      " 3 3 3 3 3 3 3 3 3 3 3 3 3 3 3 3 3 3 3 3 3 3 3 3 3 3 3 3 3 3 3 3 3 3 3 3 3\n",
      " 3 3 3 3 3 3 3 3 3 3 3 3 3 3 3 3 3 3 3 3 3 3 3 3 3 3 3 3 3 3 3 3 3 3 3 3 3\n",
      " 3 3 3 3 3 3 3 3 3 3 1 1 1 1 1 1 1 1 1 1 1 1 1 1 1 1 1 1 1 1 1 1 1 1 1 1 1\n",
      " 1 1 1 1 1 1 1 1 1 1 1 1 1 1 1 1 1 1 1 1 1 1 1 1 1 1 1 1 1 1 1 1 1 1 1 1 1\n",
      " 1 1 1 1 1 1 1 1 1 1 1 1 1 1 1 1 1 1 1 1 1 1 1 1 1 1 1 1 1 1 1 1 1 1 1 1 1\n",
      " 1 1 1 1 1 1 1 1 1 1 1 1 1 1 1 1 1 1 1 1 1 1 1 1 1 1 1 1 1 1 1 1 1 1 1 1 1\n",
      " 1 1 1 1 1 1 1 1 1 1 1 1]\n"
     ]
    }
   ],
   "source": [
    "encoder = preprocessing.LabelEncoder()\n",
    "encoder.fit(jdres_train_labels)\n",
    "encoded_labels = encoder.transform(jdres_train_labels)\n",
    "# convert integers to dummy variables (i.e. one hot encoded)\n",
    "labels = to_categorical(encoded_labels,num_classes=6)\n",
    "print(encoded_labels)\n"
   ]
  },
  {
   "cell_type": "code",
   "execution_count": 13,
   "metadata": {},
   "outputs": [
    {
     "data": {
      "text/plain": [
       "39692"
      ]
     },
     "execution_count": 13,
     "metadata": {},
     "output_type": "execute_result"
    }
   ],
   "source": [
    "# prepare tokenizer\n",
    "t = Tokenizer()\n",
    "t.fit_on_texts(jdres_train_data)\n",
    "vocab_size = len(t.word_index) + 1\n",
    "# integer encode the documents\n",
    "encoded_docs = t.texts_to_sequences(jdres_train_data)\n",
    "vocab_size"
   ]
  },
  {
   "cell_type": "code",
   "execution_count": 14,
   "metadata": {},
   "outputs": [
    {
     "name": "stdout",
     "output_type": "stream",
     "text": [
      "[[ 6349  3857    92 ...,     0     0     0]\n",
      " [ 8671  1489   956 ...,     0     0     0]\n",
      " [16980 16981   625 ...,     0     0     0]\n",
      " ..., \n",
      " [ 5110   622  7085 ...,     0     0     0]\n",
      " [12752   383  3342 ...,     0     0     0]\n",
      " [11177   622 16907 ...,     0     0     0]]\n"
     ]
    }
   ],
   "source": [
    "# pad documents to a max length of1000 words\n",
    "max_length = 1000\n",
    "padded_docs = pad_sequences(encoded_docs, maxlen=max_length, padding='post')\n",
    "print(padded_docs)"
   ]
  },
  {
   "cell_type": "code",
   "execution_count": 15,
   "metadata": {},
   "outputs": [
    {
     "name": "stdout",
     "output_type": "stream",
     "text": [
      "Shape of data tensor: (900, 1000)\n",
      "Shape of label tensor: (900, 6)\n"
     ]
    }
   ],
   "source": [
    "print('Shape of data tensor:', padded_docs.shape)\n",
    "print('Shape of label tensor:', labels.shape)"
   ]
  },
  {
   "cell_type": "code",
   "execution_count": 16,
   "metadata": {
    "collapsed": true
   },
   "outputs": [],
   "source": [
    "indices = np.arange(padded_docs.shape[0])\n",
    "np.random.shuffle(indices)\n",
    "padded_docs = padded_docs[indices]\n",
    "labels = labels[indices]"
   ]
  },
  {
   "cell_type": "code",
   "execution_count": 17,
   "metadata": {},
   "outputs": [
    {
     "name": "stdout",
     "output_type": "stream",
     "text": [
      "Loaded 400000 word vectors.\n"
     ]
    }
   ],
   "source": [
    "#loading glove\n",
    "\n",
    "embeddings_index = dict()\n",
    "f = open('/home/shabna/glove.6B.100d.txt')\n",
    "for line in f:\n",
    "    values = line.split()\n",
    "    word = values[0]\n",
    "    coefs = np.asarray(values[1:], dtype='float32')\n",
    "    embeddings_index[word] = coefs\n",
    "f.close()\n",
    "print('Loaded %s word vectors.' % len(embeddings_index))"
   ]
  },
  {
   "cell_type": "code",
   "execution_count": 18,
   "metadata": {
    "collapsed": true
   },
   "outputs": [],
   "source": [
    "# create a weight matrix for words in training docs\n",
    "embedding_matrix = np.zeros((vocab_size, 100))\n",
    "for word, i in t.word_index.items():\n",
    "    embedding_vector = embeddings_index.get(word)\n",
    "    if embedding_vector is not None:\n",
    "        embedding_matrix[i] = embedding_vector"
   ]
  },
  {
   "cell_type": "code",
   "execution_count": 19,
   "metadata": {
    "collapsed": true
   },
   "outputs": [],
   "source": [
    "#create model\n",
    "\n",
    "from keras.layers import Activation, Input, Dense, Flatten, Dropout, Embedding\n",
    "from keras.layers import Conv1D, MaxPooling1D,GlobalMaxPooling1D\n",
    "from keras.models import Model"
   ]
  },
  {
   "cell_type": "code",
   "execution_count": 20,
   "metadata": {
    "collapsed": true
   },
   "outputs": [],
   "source": [
    "#from sklearn.model_selection import GridSearchCV\n",
    "from keras.wrappers.scikit_learn import KerasClassifier"
   ]
  },
  {
   "cell_type": "code",
   "execution_count": 453,
   "metadata": {
    "collapsed": true
   },
   "outputs": [],
   "source": [
    "def create_model():\n",
    "    model = Sequential()\n",
    "    e = Embedding(vocab_size,100, weights=[embedding_matrix], input_length=1000, trainable='true')\n",
    "    model.add(e)\n",
    "    model.add(Conv1D(128,5, activation='relu',name='l1'))\n",
    "    model.add(MaxPooling1D(pool_size=5,name='l2'))\n",
    "    model.add(Conv1D(128,5, activation='relu',name='l7'))\n",
    "    model.add(MaxPooling1D(pool_size=5,name='l8'))\n",
    "    model.add(Conv1D(128,5, activation='relu',name='l3'))\n",
    "    model.add(GlobalMaxPooling1D(name='l4'))\n",
    "   \n",
    "    model.add(Dense(18, activation='sigmoid',name='l5'))\n",
    "    model.add(Dropout(0.2))\n",
    "    #model.add(Flatten())\n",
    "    model.add(Dense(6, activation='softmax',name='l6'))\n",
    "    #adam = optimizers.Adam(lr=0.00001, beta_1=0.9, beta_2=0.999, epsilon=None, decay=0.0, amsgrad=False)\n",
    "    model.compile(optimizer='adam', loss='categorical_crossentropy', metrics=['acc'])\n",
    "    return model"
   ]
  },
  {
   "cell_type": "code",
   "execution_count": 454,
   "metadata": {},
   "outputs": [
    {
     "name": "stdout",
     "output_type": "stream",
     "text": [
      "_________________________________________________________________\n",
      "Layer (type)                 Output Shape              Param #   \n",
      "=================================================================\n",
      "embedding_4 (Embedding)      (None, 1000, 100)         3969200   \n",
      "_________________________________________________________________\n",
      "l1 (Conv1D)                  (None, 996, 128)          64128     \n",
      "_________________________________________________________________\n",
      "l2 (MaxPooling1D)            (None, 199, 128)          0         \n",
      "_________________________________________________________________\n",
      "l7 (Conv1D)                  (None, 195, 128)          82048     \n",
      "_________________________________________________________________\n",
      "l8 (MaxPooling1D)            (None, 39, 128)           0         \n",
      "_________________________________________________________________\n",
      "l3 (Conv1D)                  (None, 35, 128)           82048     \n",
      "_________________________________________________________________\n",
      "l4 (GlobalMaxPooling1D)      (None, 128)               0         \n",
      "_________________________________________________________________\n",
      "l5 (Dense)                   (None, 18)                2322      \n",
      "_________________________________________________________________\n",
      "dropout_4 (Dropout)          (None, 18)                0         \n",
      "_________________________________________________________________\n",
      "l6 (Dense)                   (None, 6)                 114       \n",
      "=================================================================\n",
      "Total params: 4,199,860\n",
      "Trainable params: 4,199,860\n",
      "Non-trainable params: 0\n",
      "_________________________________________________________________\n"
     ]
    }
   ],
   "source": [
    "#model = Model(embedding_matrix, preds)\n",
    "model = create_model()\n",
    "model.summary()"
   ]
  },
  {
   "cell_type": "code",
   "execution_count": null,
   "metadata": {
    "collapsed": true
   },
   "outputs": [],
   "source": [
    "learn_rate = [0.001, 0.01, 0.1, 0.2, 0.3]\n",
    "momentum = [0.0, 0.2, 0.4, 0.6, 0.8, 0.9]\n",
    "batch_size = [10, 20, 40, 60, 80, 100]\n",
    "epochs = [10, 50, 100]\n",
    "optimizer = ['SGD', 'RMSprop', 'Adagrad', 'Adadelta', 'Adam', 'Adamax', 'Nadam']\n",
    "\n",
    "param_grid = dict(learn_rate=learn_rate, momentum=momentum, batch_size=batch_size, epochs=epochs,optimizer=optimizer)\n",
    "    grid = GridSearchCV(estimator=model, param_grid=param_grid, n_jobs=-1)\n",
    "    grid_result = grid.fit(X_train, y_train,validation_data=(X_val,y_val))\n",
    "    \n",
    "    # summarize results\n",
    "    print(\"Best: %f using %s\" % (grid_result.best_score_, grid_result.best_params_))\n",
    "    means = grid_result.cv_results_['mean_test_score']\n",
    "    stds = grid_result.cv_results_['std_test_score']\n",
    "    params = grid_result.cv_results_['params']\n",
    "    for mean, stdev, param in zip(means, stds, params):\n",
    "        print(\"%f (%f) with: %r\" % (mean, stdev, param))"
   ]
  },
  {
   "cell_type": "code",
   "execution_count": 456,
   "metadata": {
    "collapsed": true
   },
   "outputs": [],
   "source": [
    "from keras.callbacks import ModelCheckpoint"
   ]
  },
  {
   "cell_type": "code",
   "execution_count": 457,
   "metadata": {
    "collapsed": true
   },
   "outputs": [],
   "source": [
    "from keras.callbacks import Callback"
   ]
  },
  {
   "cell_type": "code",
   "execution_count": 458,
   "metadata": {
    "collapsed": true
   },
   "outputs": [],
   "source": [
    "filepath=\"/home/shabna/Desktop/example_codes/weights_5.best.hdf5\"\n",
    "checkpoint = ModelCheckpoint(filepath, monitor='val_acc', verbose=1, save_best_only=\"True\", mode=\"max\")\n",
    "callbacks_list = [checkpoint]"
   ]
  },
  {
   "cell_type": "code",
   "execution_count": 459,
   "metadata": {},
   "outputs": [
    {
     "name": "stdout",
     "output_type": "stream",
     "text": [
      "1 :num of fold\n",
      "Train on 480 samples, validate on 240 samples\n",
      "Epoch 1/50\n",
      "400/480 [========================>.....] - ETA: 3s - loss: 1.8586 - acc: 0.1400Epoch 00001: val_acc improved from -inf to 0.15833, saving model to /home/shabna/Desktop/example_codes/weights_5.best.hdf5\n",
      "480/480 [==============================] - 28s 58ms/step - loss: 1.8446 - acc: 0.1479 - val_loss: 1.7885 - val_acc: 0.1583\n",
      "Epoch 2/50\n",
      "400/480 [========================>.....] - ETA: 3s - loss: 1.7965 - acc: 0.1875Epoch 00002: val_acc improved from 0.15833 to 0.20417, saving model to /home/shabna/Desktop/example_codes/weights_5.best.hdf5\n",
      "480/480 [==============================] - 22s 47ms/step - loss: 1.7887 - acc: 0.2000 - val_loss: 1.7800 - val_acc: 0.2042\n",
      "Epoch 3/50\n",
      "400/480 [========================>.....] - ETA: 3s - loss: 1.7424 - acc: 0.2500Epoch 00003: val_acc improved from 0.20417 to 0.20833, saving model to /home/shabna/Desktop/example_codes/weights_5.best.hdf5\n",
      "480/480 [==============================] - 22s 45ms/step - loss: 1.7415 - acc: 0.2437 - val_loss: 1.7653 - val_acc: 0.2083\n",
      "Epoch 4/50\n",
      "400/480 [========================>.....] - ETA: 3s - loss: 1.7482 - acc: 0.2375Epoch 00004: val_acc improved from 0.20833 to 0.30833, saving model to /home/shabna/Desktop/example_codes/weights_5.best.hdf5\n",
      "480/480 [==============================] - 21s 45ms/step - loss: 1.7510 - acc: 0.2417 - val_loss: 1.7374 - val_acc: 0.3083\n",
      "Epoch 5/50\n",
      "400/480 [========================>.....] - ETA: 2s - loss: 1.6970 - acc: 0.3600Epoch 00005: val_acc did not improve\n",
      "480/480 [==============================] - 20s 42ms/step - loss: 1.6949 - acc: 0.3563 - val_loss: 1.7091 - val_acc: 0.3000\n",
      "Epoch 6/50\n",
      "400/480 [========================>.....] - ETA: 2s - loss: 1.6540 - acc: 0.3425Epoch 00006: val_acc improved from 0.30833 to 0.34167, saving model to /home/shabna/Desktop/example_codes/weights_5.best.hdf5\n",
      "480/480 [==============================] - 20s 43ms/step - loss: 1.6438 - acc: 0.3500 - val_loss: 1.6713 - val_acc: 0.3417\n",
      "Epoch 7/50\n",
      "400/480 [========================>.....] - ETA: 2s - loss: 1.5826 - acc: 0.3750Epoch 00007: val_acc improved from 0.34167 to 0.41667, saving model to /home/shabna/Desktop/example_codes/weights_5.best.hdf5\n",
      "480/480 [==============================] - 20s 43ms/step - loss: 1.5708 - acc: 0.4167 - val_loss: 1.6204 - val_acc: 0.4167\n",
      "Epoch 8/50\n",
      "400/480 [========================>.....] - ETA: 2s - loss: 1.5129 - acc: 0.4600Epoch 00008: val_acc did not improve\n",
      "480/480 [==============================] - 20s 42ms/step - loss: 1.5097 - acc: 0.4583 - val_loss: 1.5285 - val_acc: 0.3667\n",
      "Epoch 9/50\n",
      "400/480 [========================>.....] - ETA: 3s - loss: 1.4096 - acc: 0.5175Epoch 00009: val_acc improved from 0.41667 to 0.45000, saving model to /home/shabna/Desktop/example_codes/weights_5.best.hdf5\n",
      "480/480 [==============================] - 21s 45ms/step - loss: 1.4019 - acc: 0.5187 - val_loss: 1.4401 - val_acc: 0.4500\n",
      "Epoch 10/50\n",
      "400/480 [========================>.....] - ETA: 3s - loss: 1.3286 - acc: 0.5375Epoch 00010: val_acc did not improve\n",
      "480/480 [==============================] - 23s 48ms/step - loss: 1.3179 - acc: 0.5521 - val_loss: 1.3759 - val_acc: 0.4417\n",
      "Epoch 11/50\n",
      "400/480 [========================>.....] - ETA: 3s - loss: 1.2630 - acc: 0.5600Epoch 00011: val_acc improved from 0.45000 to 0.52083, saving model to /home/shabna/Desktop/example_codes/weights_5.best.hdf5\n",
      "480/480 [==============================] - 24s 51ms/step - loss: 1.2616 - acc: 0.5542 - val_loss: 1.3241 - val_acc: 0.5208\n",
      "Epoch 12/50\n",
      "400/480 [========================>.....] - ETA: 2s - loss: 1.1811 - acc: 0.5700Epoch 00012: val_acc improved from 0.52083 to 0.52083, saving model to /home/shabna/Desktop/example_codes/weights_5.best.hdf5\n",
      "480/480 [==============================] - 21s 45ms/step - loss: 1.1739 - acc: 0.5833 - val_loss: 1.2985 - val_acc: 0.5208\n",
      "Epoch 13/50\n",
      "400/480 [========================>.....] - ETA: 3s - loss: 1.1142 - acc: 0.6625Epoch 00013: val_acc did not improve\n",
      "480/480 [==============================] - 22s 46ms/step - loss: 1.1176 - acc: 0.6563 - val_loss: 1.2542 - val_acc: 0.5125\n",
      "Epoch 14/50\n",
      "400/480 [========================>.....] - ETA: 2s - loss: 1.0289 - acc: 0.7425Epoch 00014: val_acc improved from 0.52083 to 0.56250, saving model to /home/shabna/Desktop/example_codes/weights_5.best.hdf5\n",
      "480/480 [==============================] - 21s 45ms/step - loss: 1.0250 - acc: 0.7458 - val_loss: 1.1922 - val_acc: 0.5625\n",
      "Epoch 15/50\n",
      "400/480 [========================>.....] - ETA: 3s - loss: 0.9716 - acc: 0.7425Epoch 00015: val_acc improved from 0.56250 to 0.65417, saving model to /home/shabna/Desktop/example_codes/weights_5.best.hdf5\n",
      "480/480 [==============================] - 23s 47ms/step - loss: 0.9623 - acc: 0.7542 - val_loss: 1.1598 - val_acc: 0.6542\n",
      "Epoch 16/50\n",
      "400/480 [========================>.....] - ETA: 3s - loss: 0.9141 - acc: 0.8100Epoch 00016: val_acc improved from 0.65417 to 0.66667, saving model to /home/shabna/Desktop/example_codes/weights_5.best.hdf5\n",
      "480/480 [==============================] - 22s 46ms/step - loss: 0.9084 - acc: 0.8167 - val_loss: 1.1175 - val_acc: 0.6667\n",
      "Epoch 17/50\n",
      "400/480 [========================>.....] - ETA: 2s - loss: 0.8684 - acc: 0.8400Epoch 00017: val_acc improved from 0.66667 to 0.70417, saving model to /home/shabna/Desktop/example_codes/weights_5.best.hdf5\n",
      "480/480 [==============================] - 21s 43ms/step - loss: 0.8502 - acc: 0.8458 - val_loss: 1.0683 - val_acc: 0.7042\n",
      "Epoch 18/50\n",
      "400/480 [========================>.....] - ETA: 3s - loss: 0.7988 - acc: 0.8525Epoch 00018: val_acc improved from 0.70417 to 0.77083, saving model to /home/shabna/Desktop/example_codes/weights_5.best.hdf5\n",
      "480/480 [==============================] - 25s 52ms/step - loss: 0.7979 - acc: 0.8542 - val_loss: 1.0264 - val_acc: 0.7708\n",
      "Epoch 19/50\n",
      "400/480 [========================>.....] - ETA: 3s - loss: 0.7545 - acc: 0.8925Epoch 00019: val_acc did not improve\n",
      "480/480 [==============================] - 21s 44ms/step - loss: 0.7500 - acc: 0.8917 - val_loss: 1.0033 - val_acc: 0.6958\n",
      "Epoch 20/50\n",
      "400/480 [========================>.....] - ETA: 3s - loss: 0.7043 - acc: 0.8925Epoch 00020: val_acc did not improve\n",
      "480/480 [==============================] - 21s 44ms/step - loss: 0.7105 - acc: 0.8875 - val_loss: 0.9519 - val_acc: 0.7583\n",
      "Epoch 21/50\n",
      "400/480 [========================>.....] - ETA: 2s - loss: 0.6490 - acc: 0.9450Epoch 00021: val_acc improved from 0.77083 to 0.79583, saving model to /home/shabna/Desktop/example_codes/weights_5.best.hdf5\n",
      "480/480 [==============================] - 21s 43ms/step - loss: 0.6498 - acc: 0.9479 - val_loss: 0.9199 - val_acc: 0.7958\n",
      "Epoch 22/50\n",
      "400/480 [========================>.....] - ETA: 2s - loss: 0.6207 - acc: 0.9600Epoch 00022: val_acc did not improve\n",
      "480/480 [==============================] - 21s 43ms/step - loss: 0.6140 - acc: 0.9583 - val_loss: 0.8873 - val_acc: 0.7833\n",
      "Epoch 23/50\n",
      "400/480 [========================>.....] - ETA: 2s - loss: 0.5939 - acc: 0.9525Epoch 00023: val_acc improved from 0.79583 to 0.80833, saving model to /home/shabna/Desktop/example_codes/weights_5.best.hdf5\n",
      "480/480 [==============================] - 22s 46ms/step - loss: 0.5954 - acc: 0.9542 - val_loss: 0.8653 - val_acc: 0.8083\n",
      "Epoch 24/50\n",
      "400/480 [========================>.....] - ETA: 3s - loss: 0.5779 - acc: 0.9675Epoch 00024: val_acc improved from 0.80833 to 0.85000, saving model to /home/shabna/Desktop/example_codes/weights_5.best.hdf5\n",
      "480/480 [==============================] - 22s 45ms/step - loss: 0.5663 - acc: 0.9708 - val_loss: 0.8011 - val_acc: 0.8500\n",
      "Epoch 25/50\n",
      "400/480 [========================>.....] - ETA: 3s - loss: 0.5306 - acc: 0.9875Epoch 00025: val_acc improved from 0.85000 to 0.85417, saving model to /home/shabna/Desktop/example_codes/weights_5.best.hdf5\n",
      "480/480 [==============================] - 22s 45ms/step - loss: 0.5184 - acc: 0.9896 - val_loss: 0.7677 - val_acc: 0.8542\n",
      "Epoch 26/50\n",
      "400/480 [========================>.....] - ETA: 3s - loss: 0.4717 - acc: 0.9850Epoch 00026: val_acc did not improve\n",
      "480/480 [==============================] - 22s 45ms/step - loss: 0.4802 - acc: 0.9854 - val_loss: 0.7665 - val_acc: 0.8417\n",
      "Epoch 27/50\n",
      "400/480 [========================>.....] - ETA: 3s - loss: 0.4761 - acc: 0.9800Epoch 00027: val_acc improved from 0.85417 to 0.86667, saving model to /home/shabna/Desktop/example_codes/weights_5.best.hdf5\n",
      "480/480 [==============================] - 22s 45ms/step - loss: 0.4685 - acc: 0.9833 - val_loss: 0.7054 - val_acc: 0.8667\n",
      "Epoch 28/50\n",
      "400/480 [========================>.....] - ETA: 3s - loss: 0.4548 - acc: 0.9825Epoch 00028: val_acc did not improve\n",
      "480/480 [==============================] - 21s 45ms/step - loss: 0.4542 - acc: 0.9854 - val_loss: 0.6729 - val_acc: 0.8583\n",
      "Epoch 29/50\n",
      "400/480 [========================>.....] - ETA: 2s - loss: 0.4265 - acc: 0.9900Epoch 00029: val_acc improved from 0.86667 to 0.87500, saving model to /home/shabna/Desktop/example_codes/weights_5.best.hdf5\n",
      "480/480 [==============================] - 21s 45ms/step - loss: 0.4292 - acc: 0.9896 - val_loss: 0.6620 - val_acc: 0.8750\n",
      "Epoch 30/50\n",
      "400/480 [========================>.....] - ETA: 3s - loss: 0.4175 - acc: 0.9825Epoch 00030: val_acc improved from 0.87500 to 0.87500, saving model to /home/shabna/Desktop/example_codes/weights_5.best.hdf5\n",
      "480/480 [==============================] - 22s 45ms/step - loss: 0.4163 - acc: 0.9833 - val_loss: 0.6337 - val_acc: 0.8750\n",
      "Epoch 31/50\n",
      "400/480 [========================>.....] - ETA: 3s - loss: 0.4031 - acc: 0.9800Epoch 00031: val_acc improved from 0.87500 to 0.87917, saving model to /home/shabna/Desktop/example_codes/weights_5.best.hdf5\n",
      "480/480 [==============================] - 21s 45ms/step - loss: 0.3958 - acc: 0.9813 - val_loss: 0.6039 - val_acc: 0.8792\n",
      "Epoch 32/50\n",
      "400/480 [========================>.....] - ETA: 3s - loss: 0.3670 - acc: 0.9900Epoch 00032: val_acc improved from 0.87917 to 0.89167, saving model to /home/shabna/Desktop/example_codes/weights_5.best.hdf5\n",
      "480/480 [==============================] - 21s 44ms/step - loss: 0.3747 - acc: 0.9917 - val_loss: 0.5859 - val_acc: 0.8917\n",
      "Epoch 33/50\n",
      "400/480 [========================>.....] - ETA: 2s - loss: 0.3623 - acc: 0.9975Epoch 00033: val_acc did not improve\n",
      "480/480 [==============================] - 21s 43ms/step - loss: 0.3641 - acc: 0.9979 - val_loss: 0.5772 - val_acc: 0.8917\n",
      "Epoch 34/50\n",
      "400/480 [========================>.....] - ETA: 3s - loss: 0.3557 - acc: 0.9900Epoch 00034: val_acc did not improve\n",
      "480/480 [==============================] - 21s 44ms/step - loss: 0.3558 - acc: 0.9896 - val_loss: 0.5643 - val_acc: 0.8917\n",
      "Epoch 35/50\n",
      "400/480 [========================>.....] - ETA: 2s - loss: 0.3467 - acc: 0.9950Epoch 00035: val_acc improved from 0.89167 to 0.90000, saving model to /home/shabna/Desktop/example_codes/weights_5.best.hdf5\n",
      "480/480 [==============================] - 20s 42ms/step - loss: 0.3464 - acc: 0.9958 - val_loss: 0.5379 - val_acc: 0.9000\n",
      "Epoch 36/50\n",
      "400/480 [========================>.....] - ETA: 3s - loss: 0.3362 - acc: 0.9900Epoch 00036: val_acc did not improve\n",
      "480/480 [==============================] - 21s 45ms/step - loss: 0.3445 - acc: 0.9917 - val_loss: 0.5414 - val_acc: 0.8958\n",
      "Epoch 37/50\n",
      "400/480 [========================>.....] - ETA: 3s - loss: 0.3233 - acc: 0.9925Epoch 00037: val_acc improved from 0.90000 to 0.90417, saving model to /home/shabna/Desktop/example_codes/weights_5.best.hdf5\n",
      "480/480 [==============================] - 21s 45ms/step - loss: 0.3156 - acc: 0.9938 - val_loss: 0.5215 - val_acc: 0.9042\n",
      "Epoch 38/50\n",
      "400/480 [========================>.....] - ETA: 2s - loss: 0.3114 - acc: 0.9950Epoch 00038: val_acc did not improve\n",
      "480/480 [==============================] - 21s 43ms/step - loss: 0.3127 - acc: 0.9958 - val_loss: 0.5038 - val_acc: 0.9000\n",
      "Epoch 39/50\n",
      "400/480 [========================>.....] - ETA: 2s - loss: 0.3082 - acc: 0.9875Epoch 00039: val_acc did not improve\n",
      "480/480 [==============================] - 21s 43ms/step - loss: 0.3050 - acc: 0.9896 - val_loss: 0.5073 - val_acc: 0.9042\n",
      "Epoch 40/50\n",
      "400/480 [========================>.....] - ETA: 3s - loss: 0.3067 - acc: 0.9925Epoch 00040: val_acc did not improve\n",
      "480/480 [==============================] - 21s 44ms/step - loss: 0.3024 - acc: 0.9938 - val_loss: 0.4868 - val_acc: 0.9000\n",
      "Epoch 41/50\n",
      "400/480 [========================>.....] - ETA: 2s - loss: 0.2917 - acc: 1.0000Epoch 00041: val_acc did not improve\n",
      "480/480 [==============================] - 20s 42ms/step - loss: 0.2933 - acc: 0.9979 - val_loss: 0.4847 - val_acc: 0.9042\n",
      "Epoch 42/50\n",
      "400/480 [========================>.....] - ETA: 2s - loss: 0.2753 - acc: 0.9975Epoch 00042: val_acc improved from 0.90417 to 0.90833, saving model to /home/shabna/Desktop/example_codes/weights_5.best.hdf5\n",
      "480/480 [==============================] - 21s 43ms/step - loss: 0.2754 - acc: 0.9958 - val_loss: 0.4650 - val_acc: 0.9083\n",
      "Epoch 43/50\n",
      "400/480 [========================>.....] - ETA: 2s - loss: 0.2848 - acc: 0.9950Epoch 00043: val_acc improved from 0.90833 to 0.90833, saving model to /home/shabna/Desktop/example_codes/weights_5.best.hdf5\n",
      "480/480 [==============================] - 20s 42ms/step - loss: 0.2801 - acc: 0.9938 - val_loss: 0.4631 - val_acc: 0.9083\n",
      "Epoch 44/50\n",
      "400/480 [========================>.....] - ETA: 2s - loss: 0.2649 - acc: 0.9975Epoch 00044: val_acc improved from 0.90833 to 0.91250, saving model to /home/shabna/Desktop/example_codes/weights_5.best.hdf5\n",
      "480/480 [==============================] - 20s 43ms/step - loss: 0.2616 - acc: 0.9979 - val_loss: 0.4583 - val_acc: 0.9125\n",
      "Epoch 45/50\n",
      "400/480 [========================>.....] - ETA: 2s - loss: 0.2702 - acc: 0.9925Epoch 00045: val_acc did not improve\n",
      "480/480 [==============================] - 20s 42ms/step - loss: 0.2638 - acc: 0.9938 - val_loss: 0.4447 - val_acc: 0.9083\n",
      "Epoch 46/50\n",
      "400/480 [========================>.....] - ETA: 2s - loss: 0.2555 - acc: 0.9950Epoch 00046: val_acc did not improve\n",
      "480/480 [==============================] - 20s 42ms/step - loss: 0.2545 - acc: 0.9958 - val_loss: 0.4430 - val_acc: 0.9042\n",
      "Epoch 47/50\n",
      "400/480 [========================>.....] - ETA: 2s - loss: 0.2604 - acc: 0.9925Epoch 00047: val_acc did not improve\n",
      "480/480 [==============================] - 20s 42ms/step - loss: 0.2575 - acc: 0.9938 - val_loss: 0.4386 - val_acc: 0.9083\n",
      "Epoch 48/50\n",
      "400/480 [========================>.....] - ETA: 2s - loss: 0.2471 - acc: 0.9950Epoch 00048: val_acc did not improve\n",
      "480/480 [==============================] - 20s 42ms/step - loss: 0.2448 - acc: 0.9958 - val_loss: 0.4324 - val_acc: 0.9083\n",
      "Epoch 49/50\n",
      "400/480 [========================>.....] - ETA: 2s - loss: 0.2496 - acc: 0.9900Epoch 00049: val_acc did not improve\n",
      "480/480 [==============================] - 20s 42ms/step - loss: 0.2485 - acc: 0.9917 - val_loss: 0.4282 - val_acc: 0.9125\n",
      "Epoch 50/50\n",
      "400/480 [========================>.....] - ETA: 2s - loss: 0.2446 - acc: 0.9950Epoch 00050: val_acc did not improve\n",
      "480/480 [==============================] - 20s 42ms/step - loss: 0.2489 - acc: 0.9958 - val_loss: 0.4138 - val_acc: 0.9083\n",
      "2 :num of fold\n",
      "Train on 480 samples, validate on 240 samples\n",
      "Epoch 1/50\n",
      "400/480 [========================>.....] - ETA: 2s - loss: 0.3990 - acc: 0.9250Epoch 00001: val_acc improved from 0.91250 to 1.00000, saving model to /home/shabna/Desktop/example_codes/weights_5.best.hdf5\n",
      "480/480 [==============================] - 20s 42ms/step - loss: 0.3836 - acc: 0.9292 - val_loss: 0.1777 - val_acc: 1.0000\n",
      "Epoch 2/50\n",
      "400/480 [========================>.....] - ETA: 2s - loss: 0.3088 - acc: 0.9625Epoch 00002: val_acc did not improve\n",
      "480/480 [==============================] - 20s 42ms/step - loss: 0.3063 - acc: 0.9667 - val_loss: 0.1737 - val_acc: 1.0000\n",
      "Epoch 3/50\n",
      "400/480 [========================>.....] - ETA: 2s - loss: 0.2701 - acc: 0.9825Epoch 00003: val_acc did not improve\n",
      "480/480 [==============================] - 20s 42ms/step - loss: 0.2619 - acc: 0.9854 - val_loss: 0.1751 - val_acc: 1.0000\n",
      "Epoch 4/50\n",
      "400/480 [========================>.....] - ETA: 2s - loss: 0.2543 - acc: 0.9900Epoch 00004: val_acc did not improve\n",
      "480/480 [==============================] - 20s 42ms/step - loss: 0.2487 - acc: 0.9917 - val_loss: 0.1647 - val_acc: 1.0000\n",
      "Epoch 5/50\n",
      "400/480 [========================>.....] - ETA: 2s - loss: 0.2541 - acc: 0.9925Epoch 00005: val_acc did not improve\n",
      "480/480 [==============================] - 20s 42ms/step - loss: 0.2458 - acc: 0.9938 - val_loss: 0.1616 - val_acc: 1.0000\n"
     ]
    },
    {
     "name": "stdout",
     "output_type": "stream",
     "text": [
      "Epoch 6/50\n",
      "400/480 [========================>.....] - ETA: 3s - loss: 0.2221 - acc: 0.9950Epoch 00006: val_acc did not improve\n",
      "480/480 [==============================] - 22s 45ms/step - loss: 0.2192 - acc: 0.9958 - val_loss: 0.1589 - val_acc: 1.0000\n",
      "Epoch 7/50\n",
      "400/480 [========================>.....] - ETA: 2s - loss: 0.2098 - acc: 1.0000Epoch 00007: val_acc did not improve\n",
      "480/480 [==============================] - 20s 42ms/step - loss: 0.2151 - acc: 1.0000 - val_loss: 0.1538 - val_acc: 1.0000\n",
      "Epoch 8/50\n",
      "400/480 [========================>.....] - ETA: 2s - loss: 0.2041 - acc: 0.9925Epoch 00008: val_acc did not improve\n",
      "480/480 [==============================] - 20s 42ms/step - loss: 0.2051 - acc: 0.9938 - val_loss: 0.1533 - val_acc: 1.0000\n",
      "Epoch 9/50\n",
      "400/480 [========================>.....] - ETA: 2s - loss: 0.2118 - acc: 0.9950Epoch 00009: val_acc did not improve\n",
      "480/480 [==============================] - 20s 42ms/step - loss: 0.2101 - acc: 0.9958 - val_loss: 0.1457 - val_acc: 1.0000\n",
      "Epoch 10/50\n",
      "400/480 [========================>.....] - ETA: 3s - loss: 0.2034 - acc: 0.9975Epoch 00010: val_acc did not improve\n",
      "480/480 [==============================] - 21s 44ms/step - loss: 0.2004 - acc: 0.9979 - val_loss: 0.1430 - val_acc: 1.0000\n",
      "Epoch 11/50\n",
      "400/480 [========================>.....] - ETA: 3s - loss: 0.1884 - acc: 1.0000Epoch 00011: val_acc did not improve\n",
      "480/480 [==============================] - 21s 44ms/step - loss: 0.1932 - acc: 1.0000 - val_loss: 0.1395 - val_acc: 1.0000\n",
      "Epoch 12/50\n",
      "400/480 [========================>.....] - ETA: 2s - loss: 0.1918 - acc: 0.9975Epoch 00012: val_acc did not improve\n",
      "480/480 [==============================] - 21s 43ms/step - loss: 0.1900 - acc: 0.9979 - val_loss: 0.1363 - val_acc: 1.0000\n",
      "Epoch 13/50\n",
      "400/480 [========================>.....] - ETA: 2s - loss: 0.1875 - acc: 0.9950Epoch 00013: val_acc did not improve\n",
      "480/480 [==============================] - 20s 42ms/step - loss: 0.1858 - acc: 0.9958 - val_loss: 0.1333 - val_acc: 1.0000\n",
      "Epoch 14/50\n",
      "400/480 [========================>.....] - ETA: 2s - loss: 0.1860 - acc: 0.9975Epoch 00014: val_acc did not improve\n",
      "480/480 [==============================] - 20s 42ms/step - loss: 0.1878 - acc: 0.9979 - val_loss: 0.1305 - val_acc: 1.0000\n",
      "Epoch 15/50\n",
      "400/480 [========================>.....] - ETA: 2s - loss: 0.1969 - acc: 0.9950Epoch 00015: val_acc did not improve\n",
      "480/480 [==============================] - 20s 42ms/step - loss: 0.1947 - acc: 0.9958 - val_loss: 0.1280 - val_acc: 1.0000\n",
      "Epoch 16/50\n",
      "400/480 [========================>.....] - ETA: 2s - loss: 0.1863 - acc: 1.0000Epoch 00016: val_acc did not improve\n",
      "480/480 [==============================] - 20s 42ms/step - loss: 0.1847 - acc: 1.0000 - val_loss: 0.1251 - val_acc: 1.0000\n",
      "Epoch 17/50\n",
      "400/480 [========================>.....] - ETA: 2s - loss: 0.1876 - acc: 0.9950Epoch 00017: val_acc did not improve\n",
      "480/480 [==============================] - 20s 42ms/step - loss: 0.1868 - acc: 0.9958 - val_loss: 0.1223 - val_acc: 1.0000\n",
      "Epoch 18/50\n",
      "400/480 [========================>.....] - ETA: 2s - loss: 0.1880 - acc: 0.9975Epoch 00018: val_acc did not improve\n",
      "480/480 [==============================] - 20s 42ms/step - loss: 0.1824 - acc: 0.9958 - val_loss: 0.1199 - val_acc: 1.0000\n",
      "Epoch 19/50\n",
      "400/480 [========================>.....] - ETA: 2s - loss: 0.1737 - acc: 0.9950Epoch 00019: val_acc did not improve\n",
      "480/480 [==============================] - 20s 42ms/step - loss: 0.1752 - acc: 0.9958 - val_loss: 0.1176 - val_acc: 1.0000\n",
      "Epoch 20/50\n",
      "400/480 [========================>.....] - ETA: 2s - loss: 0.1774 - acc: 0.9925Epoch 00020: val_acc did not improve\n",
      "480/480 [==============================] - 20s 42ms/step - loss: 0.1766 - acc: 0.9917 - val_loss: 0.1155 - val_acc: 1.0000\n",
      "Epoch 21/50\n",
      "400/480 [========================>.....] - ETA: 2s - loss: 0.1643 - acc: 0.9975Epoch 00021: val_acc did not improve\n",
      "480/480 [==============================] - 20s 42ms/step - loss: 0.1674 - acc: 0.9979 - val_loss: 0.1133 - val_acc: 1.0000\n",
      "Epoch 22/50\n",
      "400/480 [========================>.....] - ETA: 2s - loss: 0.1650 - acc: 0.9975Epoch 00022: val_acc did not improve\n",
      "480/480 [==============================] - 20s 42ms/step - loss: 0.1585 - acc: 0.9979 - val_loss: 0.1111 - val_acc: 1.0000\n",
      "Epoch 23/50\n",
      "400/480 [========================>.....] - ETA: 2s - loss: 0.1738 - acc: 1.0000Epoch 00023: val_acc did not improve\n",
      "480/480 [==============================] - 20s 42ms/step - loss: 0.1722 - acc: 1.0000 - val_loss: 0.1090 - val_acc: 1.0000\n",
      "Epoch 24/50\n",
      "400/480 [========================>.....] - ETA: 2s - loss: 0.1682 - acc: 0.9875Epoch 00024: val_acc did not improve\n",
      "480/480 [==============================] - 20s 42ms/step - loss: 0.1626 - acc: 0.9896 - val_loss: 0.1071 - val_acc: 1.0000\n",
      "Epoch 25/50\n",
      "400/480 [========================>.....] - ETA: 2s - loss: 0.1581 - acc: 1.0000Epoch 00025: val_acc did not improve\n",
      "480/480 [==============================] - 20s 43ms/step - loss: 0.1544 - acc: 1.0000 - val_loss: 0.1052 - val_acc: 1.0000\n",
      "Epoch 26/50\n",
      "400/480 [========================>.....] - ETA: 2s - loss: 0.1552 - acc: 0.9975"
     ]
    },
    {
     "ename": "KeyboardInterrupt",
     "evalue": "",
     "output_type": "error",
     "traceback": [
      "\u001b[0;31m---------------------------------------------------------------------------\u001b[0m",
      "\u001b[0;31mKeyboardInterrupt\u001b[0m                         Traceback (most recent call last)",
      "\u001b[0;32m<ipython-input-459-2e568172b217>\u001b[0m in \u001b[0;36m<module>\u001b[0;34m()\u001b[0m\n\u001b[1;32m     12\u001b[0m     \u001b[0my_train\u001b[0m\u001b[0;34m,\u001b[0m \u001b[0my_val\u001b[0m \u001b[0;34m=\u001b[0m \u001b[0myy_train\u001b[0m\u001b[0;34m[\u001b[0m\u001b[0mtrain_index\u001b[0m\u001b[0;34m]\u001b[0m\u001b[0;34m,\u001b[0m \u001b[0myy_train\u001b[0m\u001b[0;34m[\u001b[0m\u001b[0mtest_index\u001b[0m\u001b[0;34m]\u001b[0m\u001b[0;34m\u001b[0m\u001b[0m\n\u001b[1;32m     13\u001b[0m \u001b[0;34m\u001b[0m\u001b[0m\n\u001b[0;32m---> 14\u001b[0;31m     \u001b[0mhistory\u001b[0m \u001b[0;34m=\u001b[0m \u001b[0mmodel\u001b[0m\u001b[0;34m.\u001b[0m\u001b[0mfit\u001b[0m\u001b[0;34m(\u001b[0m\u001b[0mX_train\u001b[0m\u001b[0;34m,\u001b[0m \u001b[0my_train\u001b[0m\u001b[0;34m,\u001b[0m \u001b[0mvalidation_data\u001b[0m\u001b[0;34m=\u001b[0m\u001b[0;34m(\u001b[0m\u001b[0mX_val\u001b[0m\u001b[0;34m,\u001b[0m\u001b[0my_val\u001b[0m\u001b[0;34m)\u001b[0m \u001b[0;34m,\u001b[0m\u001b[0mepochs\u001b[0m\u001b[0;34m=\u001b[0m\u001b[0;36m50\u001b[0m\u001b[0;34m,\u001b[0m \u001b[0mbatch_size\u001b[0m\u001b[0;34m=\u001b[0m\u001b[0;36m100\u001b[0m\u001b[0;34m,\u001b[0m \u001b[0mverbose\u001b[0m\u001b[0;34m=\u001b[0m\u001b[0;36m1\u001b[0m\u001b[0;34m,\u001b[0m \u001b[0mcallbacks\u001b[0m\u001b[0;34m=\u001b[0m\u001b[0mcallbacks_list\u001b[0m\u001b[0;34m)\u001b[0m\u001b[0;34m\u001b[0m\u001b[0m\n\u001b[0m\u001b[1;32m     15\u001b[0m \u001b[0;34m\u001b[0m\u001b[0m\n\u001b[1;32m     16\u001b[0m     \u001b[0mi\u001b[0m\u001b[0;34m=\u001b[0m\u001b[0mi\u001b[0m\u001b[0;34m+\u001b[0m\u001b[0;36m1\u001b[0m\u001b[0;34m\u001b[0m\u001b[0m\n",
      "\u001b[0;32m~/anaconda3/lib/python3.6/site-packages/keras/models.py\u001b[0m in \u001b[0;36mfit\u001b[0;34m(self, x, y, batch_size, epochs, verbose, callbacks, validation_split, validation_data, shuffle, class_weight, sample_weight, initial_epoch, **kwargs)\u001b[0m\n\u001b[1;32m    891\u001b[0m                               \u001b[0mclass_weight\u001b[0m\u001b[0;34m=\u001b[0m\u001b[0mclass_weight\u001b[0m\u001b[0;34m,\u001b[0m\u001b[0;34m\u001b[0m\u001b[0m\n\u001b[1;32m    892\u001b[0m                               \u001b[0msample_weight\u001b[0m\u001b[0;34m=\u001b[0m\u001b[0msample_weight\u001b[0m\u001b[0;34m,\u001b[0m\u001b[0;34m\u001b[0m\u001b[0m\n\u001b[0;32m--> 893\u001b[0;31m                               initial_epoch=initial_epoch)\n\u001b[0m\u001b[1;32m    894\u001b[0m \u001b[0;34m\u001b[0m\u001b[0m\n\u001b[1;32m    895\u001b[0m     def evaluate(self, x, y, batch_size=32, verbose=1,\n",
      "\u001b[0;32m~/anaconda3/lib/python3.6/site-packages/keras/engine/training.py\u001b[0m in \u001b[0;36mfit\u001b[0;34m(self, x, y, batch_size, epochs, verbose, callbacks, validation_split, validation_data, shuffle, class_weight, sample_weight, initial_epoch, steps_per_epoch, validation_steps, **kwargs)\u001b[0m\n\u001b[1;32m   1629\u001b[0m                               \u001b[0minitial_epoch\u001b[0m\u001b[0;34m=\u001b[0m\u001b[0minitial_epoch\u001b[0m\u001b[0;34m,\u001b[0m\u001b[0;34m\u001b[0m\u001b[0m\n\u001b[1;32m   1630\u001b[0m                               \u001b[0msteps_per_epoch\u001b[0m\u001b[0;34m=\u001b[0m\u001b[0msteps_per_epoch\u001b[0m\u001b[0;34m,\u001b[0m\u001b[0;34m\u001b[0m\u001b[0m\n\u001b[0;32m-> 1631\u001b[0;31m                               validation_steps=validation_steps)\n\u001b[0m\u001b[1;32m   1632\u001b[0m \u001b[0;34m\u001b[0m\u001b[0m\n\u001b[1;32m   1633\u001b[0m     def evaluate(self, x=None, y=None,\n",
      "\u001b[0;32m~/anaconda3/lib/python3.6/site-packages/keras/engine/training.py\u001b[0m in \u001b[0;36m_fit_loop\u001b[0;34m(self, f, ins, out_labels, batch_size, epochs, verbose, callbacks, val_f, val_ins, shuffle, callback_metrics, initial_epoch, steps_per_epoch, validation_steps)\u001b[0m\n\u001b[1;32m   1211\u001b[0m                     \u001b[0mbatch_logs\u001b[0m\u001b[0;34m[\u001b[0m\u001b[0;34m'size'\u001b[0m\u001b[0;34m]\u001b[0m \u001b[0;34m=\u001b[0m \u001b[0mlen\u001b[0m\u001b[0;34m(\u001b[0m\u001b[0mbatch_ids\u001b[0m\u001b[0;34m)\u001b[0m\u001b[0;34m\u001b[0m\u001b[0m\n\u001b[1;32m   1212\u001b[0m                     \u001b[0mcallbacks\u001b[0m\u001b[0;34m.\u001b[0m\u001b[0mon_batch_begin\u001b[0m\u001b[0;34m(\u001b[0m\u001b[0mbatch_index\u001b[0m\u001b[0;34m,\u001b[0m \u001b[0mbatch_logs\u001b[0m\u001b[0;34m)\u001b[0m\u001b[0;34m\u001b[0m\u001b[0m\n\u001b[0;32m-> 1213\u001b[0;31m                     \u001b[0mouts\u001b[0m \u001b[0;34m=\u001b[0m \u001b[0mf\u001b[0m\u001b[0;34m(\u001b[0m\u001b[0mins_batch\u001b[0m\u001b[0;34m)\u001b[0m\u001b[0;34m\u001b[0m\u001b[0m\n\u001b[0m\u001b[1;32m   1214\u001b[0m                     \u001b[0;32mif\u001b[0m \u001b[0;32mnot\u001b[0m \u001b[0misinstance\u001b[0m\u001b[0;34m(\u001b[0m\u001b[0mouts\u001b[0m\u001b[0;34m,\u001b[0m \u001b[0mlist\u001b[0m\u001b[0;34m)\u001b[0m\u001b[0;34m:\u001b[0m\u001b[0;34m\u001b[0m\u001b[0m\n\u001b[1;32m   1215\u001b[0m                         \u001b[0mouts\u001b[0m \u001b[0;34m=\u001b[0m \u001b[0;34m[\u001b[0m\u001b[0mouts\u001b[0m\u001b[0;34m]\u001b[0m\u001b[0;34m\u001b[0m\u001b[0m\n",
      "\u001b[0;32m~/anaconda3/lib/python3.6/site-packages/keras/backend/tensorflow_backend.py\u001b[0m in \u001b[0;36m__call__\u001b[0;34m(self, inputs)\u001b[0m\n\u001b[1;32m   2330\u001b[0m         updated = session.run(self.outputs + [self.updates_op],\n\u001b[1;32m   2331\u001b[0m                               \u001b[0mfeed_dict\u001b[0m\u001b[0;34m=\u001b[0m\u001b[0mfeed_dict\u001b[0m\u001b[0;34m,\u001b[0m\u001b[0;34m\u001b[0m\u001b[0m\n\u001b[0;32m-> 2332\u001b[0;31m                               **self.session_kwargs)\n\u001b[0m\u001b[1;32m   2333\u001b[0m         \u001b[0;32mreturn\u001b[0m \u001b[0mupdated\u001b[0m\u001b[0;34m[\u001b[0m\u001b[0;34m:\u001b[0m\u001b[0mlen\u001b[0m\u001b[0;34m(\u001b[0m\u001b[0mself\u001b[0m\u001b[0;34m.\u001b[0m\u001b[0moutputs\u001b[0m\u001b[0;34m)\u001b[0m\u001b[0;34m]\u001b[0m\u001b[0;34m\u001b[0m\u001b[0m\n\u001b[1;32m   2334\u001b[0m \u001b[0;34m\u001b[0m\u001b[0m\n",
      "\u001b[0;32m~/anaconda3/lib/python3.6/site-packages/tensorflow/python/client/session.py\u001b[0m in \u001b[0;36mrun\u001b[0;34m(self, fetches, feed_dict, options, run_metadata)\u001b[0m\n\u001b[1;32m    887\u001b[0m     \u001b[0;32mtry\u001b[0m\u001b[0;34m:\u001b[0m\u001b[0;34m\u001b[0m\u001b[0m\n\u001b[1;32m    888\u001b[0m       result = self._run(None, fetches, feed_dict, options_ptr,\n\u001b[0;32m--> 889\u001b[0;31m                          run_metadata_ptr)\n\u001b[0m\u001b[1;32m    890\u001b[0m       \u001b[0;32mif\u001b[0m \u001b[0mrun_metadata\u001b[0m\u001b[0;34m:\u001b[0m\u001b[0;34m\u001b[0m\u001b[0m\n\u001b[1;32m    891\u001b[0m         \u001b[0mproto_data\u001b[0m \u001b[0;34m=\u001b[0m \u001b[0mtf_session\u001b[0m\u001b[0;34m.\u001b[0m\u001b[0mTF_GetBuffer\u001b[0m\u001b[0;34m(\u001b[0m\u001b[0mrun_metadata_ptr\u001b[0m\u001b[0;34m)\u001b[0m\u001b[0;34m\u001b[0m\u001b[0m\n",
      "\u001b[0;32m~/anaconda3/lib/python3.6/site-packages/tensorflow/python/client/session.py\u001b[0m in \u001b[0;36m_run\u001b[0;34m(self, handle, fetches, feed_dict, options, run_metadata)\u001b[0m\n\u001b[1;32m   1118\u001b[0m     \u001b[0;32mif\u001b[0m \u001b[0mfinal_fetches\u001b[0m \u001b[0;32mor\u001b[0m \u001b[0mfinal_targets\u001b[0m \u001b[0;32mor\u001b[0m \u001b[0;34m(\u001b[0m\u001b[0mhandle\u001b[0m \u001b[0;32mand\u001b[0m \u001b[0mfeed_dict_tensor\u001b[0m\u001b[0;34m)\u001b[0m\u001b[0;34m:\u001b[0m\u001b[0;34m\u001b[0m\u001b[0m\n\u001b[1;32m   1119\u001b[0m       results = self._do_run(handle, final_targets, final_fetches,\n\u001b[0;32m-> 1120\u001b[0;31m                              feed_dict_tensor, options, run_metadata)\n\u001b[0m\u001b[1;32m   1121\u001b[0m     \u001b[0;32melse\u001b[0m\u001b[0;34m:\u001b[0m\u001b[0;34m\u001b[0m\u001b[0m\n\u001b[1;32m   1122\u001b[0m       \u001b[0mresults\u001b[0m \u001b[0;34m=\u001b[0m \u001b[0;34m[\u001b[0m\u001b[0;34m]\u001b[0m\u001b[0;34m\u001b[0m\u001b[0m\n",
      "\u001b[0;32m~/anaconda3/lib/python3.6/site-packages/tensorflow/python/client/session.py\u001b[0m in \u001b[0;36m_do_run\u001b[0;34m(self, handle, target_list, fetch_list, feed_dict, options, run_metadata)\u001b[0m\n\u001b[1;32m   1315\u001b[0m     \u001b[0;32mif\u001b[0m \u001b[0mhandle\u001b[0m \u001b[0;32mis\u001b[0m \u001b[0;32mNone\u001b[0m\u001b[0;34m:\u001b[0m\u001b[0;34m\u001b[0m\u001b[0m\n\u001b[1;32m   1316\u001b[0m       return self._do_call(_run_fn, self._session, feeds, fetches, targets,\n\u001b[0;32m-> 1317\u001b[0;31m                            options, run_metadata)\n\u001b[0m\u001b[1;32m   1318\u001b[0m     \u001b[0;32melse\u001b[0m\u001b[0;34m:\u001b[0m\u001b[0;34m\u001b[0m\u001b[0m\n\u001b[1;32m   1319\u001b[0m       \u001b[0;32mreturn\u001b[0m \u001b[0mself\u001b[0m\u001b[0;34m.\u001b[0m\u001b[0m_do_call\u001b[0m\u001b[0;34m(\u001b[0m\u001b[0m_prun_fn\u001b[0m\u001b[0;34m,\u001b[0m \u001b[0mself\u001b[0m\u001b[0;34m.\u001b[0m\u001b[0m_session\u001b[0m\u001b[0;34m,\u001b[0m \u001b[0mhandle\u001b[0m\u001b[0;34m,\u001b[0m \u001b[0mfeeds\u001b[0m\u001b[0;34m,\u001b[0m \u001b[0mfetches\u001b[0m\u001b[0;34m)\u001b[0m\u001b[0;34m\u001b[0m\u001b[0m\n",
      "\u001b[0;32m~/anaconda3/lib/python3.6/site-packages/tensorflow/python/client/session.py\u001b[0m in \u001b[0;36m_do_call\u001b[0;34m(self, fn, *args)\u001b[0m\n\u001b[1;32m   1321\u001b[0m   \u001b[0;32mdef\u001b[0m \u001b[0m_do_call\u001b[0m\u001b[0;34m(\u001b[0m\u001b[0mself\u001b[0m\u001b[0;34m,\u001b[0m \u001b[0mfn\u001b[0m\u001b[0;34m,\u001b[0m \u001b[0;34m*\u001b[0m\u001b[0margs\u001b[0m\u001b[0;34m)\u001b[0m\u001b[0;34m:\u001b[0m\u001b[0;34m\u001b[0m\u001b[0m\n\u001b[1;32m   1322\u001b[0m     \u001b[0;32mtry\u001b[0m\u001b[0;34m:\u001b[0m\u001b[0;34m\u001b[0m\u001b[0m\n\u001b[0;32m-> 1323\u001b[0;31m       \u001b[0;32mreturn\u001b[0m \u001b[0mfn\u001b[0m\u001b[0;34m(\u001b[0m\u001b[0;34m*\u001b[0m\u001b[0margs\u001b[0m\u001b[0;34m)\u001b[0m\u001b[0;34m\u001b[0m\u001b[0m\n\u001b[0m\u001b[1;32m   1324\u001b[0m     \u001b[0;32mexcept\u001b[0m \u001b[0merrors\u001b[0m\u001b[0;34m.\u001b[0m\u001b[0mOpError\u001b[0m \u001b[0;32mas\u001b[0m \u001b[0me\u001b[0m\u001b[0;34m:\u001b[0m\u001b[0;34m\u001b[0m\u001b[0m\n\u001b[1;32m   1325\u001b[0m       \u001b[0mmessage\u001b[0m \u001b[0;34m=\u001b[0m \u001b[0mcompat\u001b[0m\u001b[0;34m.\u001b[0m\u001b[0mas_text\u001b[0m\u001b[0;34m(\u001b[0m\u001b[0me\u001b[0m\u001b[0;34m.\u001b[0m\u001b[0mmessage\u001b[0m\u001b[0;34m)\u001b[0m\u001b[0;34m\u001b[0m\u001b[0m\n",
      "\u001b[0;32m~/anaconda3/lib/python3.6/site-packages/tensorflow/python/client/session.py\u001b[0m in \u001b[0;36m_run_fn\u001b[0;34m(session, feed_dict, fetch_list, target_list, options, run_metadata)\u001b[0m\n\u001b[1;32m   1300\u001b[0m           return tf_session.TF_Run(session, options,\n\u001b[1;32m   1301\u001b[0m                                    \u001b[0mfeed_dict\u001b[0m\u001b[0;34m,\u001b[0m \u001b[0mfetch_list\u001b[0m\u001b[0;34m,\u001b[0m \u001b[0mtarget_list\u001b[0m\u001b[0;34m,\u001b[0m\u001b[0;34m\u001b[0m\u001b[0m\n\u001b[0;32m-> 1302\u001b[0;31m                                    status, run_metadata)\n\u001b[0m\u001b[1;32m   1303\u001b[0m \u001b[0;34m\u001b[0m\u001b[0m\n\u001b[1;32m   1304\u001b[0m     \u001b[0;32mdef\u001b[0m \u001b[0m_prun_fn\u001b[0m\u001b[0;34m(\u001b[0m\u001b[0msession\u001b[0m\u001b[0;34m,\u001b[0m \u001b[0mhandle\u001b[0m\u001b[0;34m,\u001b[0m \u001b[0mfeed_dict\u001b[0m\u001b[0;34m,\u001b[0m \u001b[0mfetch_list\u001b[0m\u001b[0;34m)\u001b[0m\u001b[0;34m:\u001b[0m\u001b[0;34m\u001b[0m\u001b[0m\n",
      "\u001b[0;31mKeyboardInterrupt\u001b[0m: "
     ]
    }
   ],
   "source": [
    "from sklearn.model_selection import KFold\n",
    "kf = KFold(n_splits=3)\n",
    "\n",
    "XX_train, X_test, yy_train, y_test = train_test_split(padded_docs, labels, test_size=0.2, random_state=42)\n",
    "\n",
    "i=1\n",
    "for train_index, test_index in kf.split(XX_train):\n",
    "    #print(\"TRAIN:\", train_index, \"TEST:\", test_index)\n",
    "    print(i,\":num of fold\")\n",
    "\n",
    "    X_train, X_val = XX_train[train_index], XX_train[test_index]\n",
    "    y_train, y_val = yy_train[train_index], yy_train[test_index]\n",
    "    \n",
    "    history = model.fit(X_train, y_train, validation_data=(X_val,y_val) ,epochs=50, batch_size=100, verbose=1, callbacks=callbacks_list)\n",
    "   \n",
    "    i=i+1\n",
    "    "
   ]
  },
  {
   "cell_type": "code",
   "execution_count": null,
   "metadata": {
    "collapsed": true
   },
   "outputs": [],
   "source": []
  },
  {
   "cell_type": "code",
   "execution_count": 460,
   "metadata": {
    "collapsed": true
   },
   "outputs": [],
   "source": [
    "model=load_model(\"weights_5.best.hdf5\")\n"
   ]
  },
  {
   "cell_type": "code",
   "execution_count": 461,
   "metadata": {
    "collapsed": true
   },
   "outputs": [],
   "source": [
    "plot_model(model, to_file = 'models5_1.png')"
   ]
  },
  {
   "cell_type": "code",
   "execution_count": 30,
   "metadata": {},
   "outputs": [
    {
     "data": {
      "text/plain": [
       "array([[ 0.,  0.,  1.,  0.,  0.,  0.],\n",
       "       [ 0.,  0.,  0.,  1.,  0.,  0.],\n",
       "       [ 1.,  0.,  0.,  0.,  0.,  0.],\n",
       "       ..., \n",
       "       [ 1.,  0.,  0.,  0.,  0.,  0.],\n",
       "       [ 0.,  0.,  0.,  0.,  0.,  1.],\n",
       "       [ 0.,  0.,  0.,  0.,  1.,  0.]])"
      ]
     },
     "execution_count": 30,
     "metadata": {},
     "output_type": "execute_result"
    }
   ],
   "source": [
    "y_train"
   ]
  },
  {
   "cell_type": "code",
   "execution_count": 48,
   "metadata": {
    "collapsed": true
   },
   "outputs": [],
   "source": [
    "from sklearn.metrics import classification_report, confusion_matrix"
   ]
  },
  {
   "cell_type": "code",
   "execution_count": 49,
   "metadata": {
    "collapsed": true
   },
   "outputs": [],
   "source": [
    "Y_pred = model.predict(X_test)\n",
    "y_pred = np.argmax(Y_pred,axis=1)"
   ]
  },
  {
   "cell_type": "code",
   "execution_count": 50,
   "metadata": {},
   "outputs": [
    {
     "name": "stdout",
     "output_type": "stream",
     "text": [
      "180/180 [==============================] - 2s 12ms/step\n"
     ]
    }
   ],
   "source": [
    "y_pred = model.predict_classes(X_test)"
   ]
  },
  {
   "cell_type": "code",
   "execution_count": 51,
   "metadata": {},
   "outputs": [
    {
     "name": "stdout",
     "output_type": "stream",
     "text": [
      "180/180 [==============================] - 2s 12ms/step\n"
     ]
    }
   ],
   "source": [
    "p = model.predict_proba(X_test)"
   ]
  },
  {
   "cell_type": "code",
   "execution_count": 52,
   "metadata": {},
   "outputs": [
    {
     "name": "stdout",
     "output_type": "stream",
     "text": [
      "180/180 [==============================] - 2s 13ms/step\n"
     ]
    },
    {
     "data": {
      "text/plain": [
       "[0.33891636663013036, 0.94999999867545237]"
      ]
     },
     "execution_count": 52,
     "metadata": {},
     "output_type": "execute_result"
    }
   ],
   "source": [
    "model.evaluate(X_test,y_test)"
   ]
  },
  {
   "cell_type": "code",
   "execution_count": 53,
   "metadata": {},
   "outputs": [
    {
     "name": "stdout",
     "output_type": "stream",
     "text": [
      "480/480 [==============================] - 6s 12ms/step\n"
     ]
    },
    {
     "data": {
      "text/plain": [
       "[0.22762171228726705, 0.98750000000000004]"
      ]
     },
     "execution_count": 53,
     "metadata": {},
     "output_type": "execute_result"
    }
   ],
   "source": [
    "model.evaluate(X_train,y_train)"
   ]
  },
  {
   "cell_type": "code",
   "execution_count": 55,
   "metadata": {
    "collapsed": true
   },
   "outputs": [],
   "source": [
    "labels_index = {'Android':0 ,'Corejava':1,'Dotnet':2, 'ios':3, 'php':4, 'pythondjango':5}\n",
    "target_name = [t for t in labels_index.keys()]"
   ]
  },
  {
   "cell_type": "code",
   "execution_count": 56,
   "metadata": {},
   "outputs": [
    {
     "name": "stdout",
     "output_type": "stream",
     "text": [
      "              precision    recall  f1-score   support\n",
      "\n",
      "     Android       0.92      0.96      0.94        24\n",
      "    Corejava       0.95      1.00      0.97        35\n",
      "      Dotnet       0.95      0.91      0.93        22\n",
      "         ios       0.92      0.89      0.91        38\n",
      "         php       1.00      0.94      0.97        32\n",
      "pythondjango       0.97      1.00      0.98        29\n",
      "\n",
      " avg / total       0.95      0.95      0.95       180\n",
      "\n"
     ]
    }
   ],
   "source": [
    "print(classification_report(np.argmax(y_test,axis=1),y_pred, target_names=target_name))"
   ]
  },
  {
   "cell_type": "code",
   "execution_count": 57,
   "metadata": {},
   "outputs": [
    {
     "name": "stdout",
     "output_type": "stream",
     "text": [
      "[[23  0  0  1  0  0]\n",
      " [ 0 35  0  0  0  0]\n",
      " [ 1  1 20  0  0  0]\n",
      " [ 1  1  1 34  0  1]\n",
      " [ 0  0  0  2 30  0]\n",
      " [ 0  0  0  0  0 29]]\n"
     ]
    }
   ],
   "source": [
    "print(confusion_matrix(np.argmax(y_test,axis=1),y_pred))"
   ]
  },
  {
   "cell_type": "code",
   "execution_count": null,
   "metadata": {
    "collapsed": true
   },
   "outputs": [],
   "source": []
  },
  {
   "cell_type": "code",
   "execution_count": 58,
   "metadata": {},
   "outputs": [
    {
     "name": "stdout",
     "output_type": "stream",
     "text": [
      "(3, 0)\n",
      "(1, 3)\n",
      "(0, 3)\n",
      "(3, 4)\n",
      "(1, 2)\n",
      "(5, 3)\n",
      "(2, 3)\n",
      "(0, 2)\n",
      "(3, 4)\n"
     ]
    }
   ],
   "source": [
    "from numpy import argmax\n",
    "for i, item in enumerate (X_test):\n",
    "    item= item.reshape(1, 1000)\n",
    "    #print (item.shape)\n",
    "    classes=model.predict(item)\n",
    "    p=(argmax(classes),argmax(y_test[i]))\n",
    "    #print(p)\n",
    "    if (argmax(classes)!=argmax(y_test[i])):\n",
    "        print(p)\n"
   ]
  },
  {
   "cell_type": "code",
   "execution_count": 140,
   "metadata": {},
   "outputs": [
    {
     "data": {
      "text/plain": [
       "(90, 1000)"
      ]
     },
     "execution_count": 140,
     "metadata": {},
     "output_type": "execute_result"
    }
   ],
   "source": [
    "X_test.shape\n"
   ]
  },
  {
   "cell_type": "code",
   "execution_count": 141,
   "metadata": {},
   "outputs": [
    {
     "data": {
      "text/plain": [
       "(288, 1000)"
      ]
     },
     "execution_count": 141,
     "metadata": {},
     "output_type": "execute_result"
    }
   ],
   "source": [
    "X_train.shape"
   ]
  },
  {
   "cell_type": "code",
   "execution_count": 142,
   "metadata": {},
   "outputs": [
    {
     "name": "stdout",
     "output_type": "stream",
     "text": [
      "[[  37   22 5612 ...,    0    0    0]\n",
      " [  37   22 4767 ...,    0    0    0]\n",
      " [  37   22 6358 ...,    0    0    0]\n",
      " ..., \n",
      " [ 656 9558 1924 ...,    0    0    0]\n",
      " [5450 6872   20 ...,    0    0    0]\n",
      " [  37   22 5952 ...,    0    0    0]]\n"
     ]
    }
   ],
   "source": [
    "print(X_test)"
   ]
  },
  {
   "cell_type": "code",
   "execution_count": 5,
   "metadata": {},
   "outputs": [],
   "source": [
    "model1=load_model(\"weights_5_1.best.hdf5\")"
   ]
  },
  {
   "cell_type": "code",
   "execution_count": 7,
   "metadata": {},
   "outputs": [
    {
     "name": "stdout",
     "output_type": "stream",
     "text": [
      "['vandana surendranath android developer  25 years experience mobile 9746757707 email vandanasurendranathgmailcom objective work organization provides opportunities utilize knowledge skills best possible way professional growth professional summary good knowledge android sdk apis experience integrating third party libraries effective working independently teams strong debugging problem solving skills quick learner zeal learn new technologies technical skills platform windows linux mac languages java c assembly xml objective c ide eclipse android studio xcode web service json xml database sqlite professional experience currently working jr software engineer mobatia technologies technopark three months experience qburst technologies infopark koratty android developer trainee apprenticeship keltron component complex kannur  projects project name hc4u project description healthcare4u membership program empower users take charge health app easy collect keep access health information time place app patient centered makes easy store maintain track manage health information one centralized private secure location ensures access real time data health status play store link https playgooglecomstoreappsdetails  idcomhealthcarehc4uhlen mailto vandanasurendranathgmailcom project name dtac 2015 project description dtac 2015 district 20 toastmasters annual conference 2015 held dubai app designed toastmasters promotion event dtac 2015 play store link https playgooglecomstoreappsdetails  idcommobatiadtachlen project name vkc project description apps designed vkc group vkc product catalog app display products vkc brand vkc sales app dealers retailers sales head placing orders sales management images data products maintained updated backend cms play store link https playgooglecomstoreappsdetails  idcommobatiavkchlen project name mobischool project description mobischool 100 customizable mobile app schools educational institutions mobischool app contents appearance managed backend cms site school admin log cms site manage almost contents app reflected app within time reference http mobischoolco project name mobicare project description mobicare highly advanced mobile application incorporates aspects healthcare information systems portable format run popular mobile platforms patients instantly check availability doctors spanning different departments fix appointment seconds also receive confirmation notification regarding scheduled meeting moreover hospitals use space send regular health tips medical alerts reports patient also personal health tracker facility patients multilanguage support reference http wwwmobicarepmscom project name storefront project description storefront customizable base app variety apps different categories made little modification code contents menu items color theme appearance apps managed backend cms app admin play store link https playgooglecomstoresearch  qterasystemshlen project name positive vibrations project description positive vibrations revolutionary app provides users tools transform thoughts positive way comes packed transformational tools vision board visualizing desires goal tracker affirmation wizard negativitybusting flames change etc play store link https playgooglecomstoreappsdetails  idcompositivevibrationshl en project name yellow pages project description custom directory application allows listing deals events business shopping centers schools etc particular region project name ballgame project description game developed using cocos2d framework ball moved box kept distance direction wind path ball bezier curve whose control points set according start end touch locations project name cam app project description custom camera widget take still images record video educational qualification year examination institution universityboard marks 2007 2011 btech electronics communication engineering college engineering thalassery cusat kochi 7079 2005 – 2007 class xii isc sreepuram english medium high school  jr college kannur council indian school certificate examinations new delhi 8133 2004 – 2005 class x icse sreepuram english medium high school  jr college kannur council indian school certificate examinations new delhi 8466 extracurricular activities participated inter college technical fest ‘sagaa10’ presented project ‘pc controlled moving message display’ year 2010 member ‘electronics communication engineering ’club college member school band team participated essay writing story writing etc prizes personal details date birth 11th april 1990 address vandanam nr kadalayi lp school po chirakkal rs kannur kerala nationality indian marital status single languages english malayalam hindi hereby declare statements true complete correct best knowledge belief vandana surendranath']\n"
     ]
    }
   ],
   "source": [
    "#predictions\n",
    "\n",
    "parsedPDF = parser.from_file(\"/home/shabna/Desktop/example_codes/new_sample/level5/developer/android/Resume_Vandana Surendranath.pdf\")\n",
    "#parsedPDF = parser.from_file(\"/home/shabna/Desktop/example_codes/new_sample/level5/developer/corejava/Prabhath K V.docx\")\n",
    "\n",
    "contents=[clean_doc(parsedPDF['content'])]\n",
    "            \n",
    "print(contents)"
   ]
  },
  {
   "cell_type": "code",
   "execution_count": null,
   "metadata": {
    "collapsed": true
   },
   "outputs": [],
   "source": []
  },
  {
   "cell_type": "code",
   "execution_count": 8,
   "metadata": {
    "collapsed": true
   },
   "outputs": [],
   "source": [
    "def prpInput(pp):\n",
    "    tx = Tokenizer()\n",
    "    tx.fit_on_texts(pp)\n",
    "    vocab_size = len(tx.word_index)+1\n",
    "    encoded_doc = tx.texts_to_sequences(pp)\n",
    "    max_length = 1000\n",
    "    padded_docs = pad_sequences(encoded_doc, maxlen=max_length, padding='post')\n",
    "    return padded_docs"
   ]
  },
  {
   "cell_type": "code",
   "execution_count": 9,
   "metadata": {
    "collapsed": true
   },
   "outputs": [],
   "source": [
    "mat=prpInput(contents)\n"
   ]
  },
  {
   "cell_type": "code",
   "execution_count": 10,
   "metadata": {
    "collapsed": true
   },
   "outputs": [],
   "source": [
    "prd = model1.predict(mat)\n"
   ]
  },
  {
   "cell_type": "code",
   "execution_count": 12,
   "metadata": {},
   "outputs": [
    {
     "name": "stdout",
     "output_type": "stream",
     "text": [
      "{0: 'Android', 1: 'Corejava', 2: 'Dotnet', 3: 'ios', 4: 'php', 5: 'pythondjango'}\n"
     ]
    }
   ],
   "source": [
    "labels_index = {'Android':0 ,'Corejava':1,'Dotnet':2, 'ios':3, 'php':4, 'pythondjango':5}\n",
    "rev_lable_index = {}\n",
    "for key in labels_index:\n",
    "    rev_lable_index[labels_index[key]] = key\n",
    "print(rev_lable_index)\n",
    "def result(prd,contents):\n",
    "    y_classes = prd.argmax(axis=-1)\n",
    "    print(len(y_classes))\n",
    "    lx=[]\n",
    "    #rev_lable_index = {0:'Developer' , 1: 'Other', 2: 'Tester'}\n",
    "    for idx,lb in enumerate(y_classes):\n",
    "        lx.append([contents[idx],rev_lable_index[lb]])\n",
    "    return lx"
   ]
  },
  {
   "cell_type": "code",
   "execution_count": 13,
   "metadata": {},
   "outputs": [
    {
     "name": "stdout",
     "output_type": "stream",
     "text": [
      "1\n"
     ]
    },
    {
     "data": {
      "text/plain": [
       "[['vandana surendranath android developer  25 years experience mobile 9746757707 email vandanasurendranathgmailcom objective work organization provides opportunities utilize knowledge skills best possible way professional growth professional summary good knowledge android sdk apis experience integrating third party libraries effective working independently teams strong debugging problem solving skills quick learner zeal learn new technologies technical skills platform windows linux mac languages java c assembly xml objective c ide eclipse android studio xcode web service json xml database sqlite professional experience currently working jr software engineer mobatia technologies technopark three months experience qburst technologies infopark koratty android developer trainee apprenticeship keltron component complex kannur  projects project name hc4u project description healthcare4u membership program empower users take charge health app easy collect keep access health information time place app patient centered makes easy store maintain track manage health information one centralized private secure location ensures access real time data health status play store link https playgooglecomstoreappsdetails  idcomhealthcarehc4uhlen mailto vandanasurendranathgmailcom project name dtac 2015 project description dtac 2015 district 20 toastmasters annual conference 2015 held dubai app designed toastmasters promotion event dtac 2015 play store link https playgooglecomstoreappsdetails  idcommobatiadtachlen project name vkc project description apps designed vkc group vkc product catalog app display products vkc brand vkc sales app dealers retailers sales head placing orders sales management images data products maintained updated backend cms play store link https playgooglecomstoreappsdetails  idcommobatiavkchlen project name mobischool project description mobischool 100 customizable mobile app schools educational institutions mobischool app contents appearance managed backend cms site school admin log cms site manage almost contents app reflected app within time reference http mobischoolco project name mobicare project description mobicare highly advanced mobile application incorporates aspects healthcare information systems portable format run popular mobile platforms patients instantly check availability doctors spanning different departments fix appointment seconds also receive confirmation notification regarding scheduled meeting moreover hospitals use space send regular health tips medical alerts reports patient also personal health tracker facility patients multilanguage support reference http wwwmobicarepmscom project name storefront project description storefront customizable base app variety apps different categories made little modification code contents menu items color theme appearance apps managed backend cms app admin play store link https playgooglecomstoresearch  qterasystemshlen project name positive vibrations project description positive vibrations revolutionary app provides users tools transform thoughts positive way comes packed transformational tools vision board visualizing desires goal tracker affirmation wizard negativitybusting flames change etc play store link https playgooglecomstoreappsdetails  idcompositivevibrationshl en project name yellow pages project description custom directory application allows listing deals events business shopping centers schools etc particular region project name ballgame project description game developed using cocos2d framework ball moved box kept distance direction wind path ball bezier curve whose control points set according start end touch locations project name cam app project description custom camera widget take still images record video educational qualification year examination institution universityboard marks 2007 2011 btech electronics communication engineering college engineering thalassery cusat kochi 7079 2005 – 2007 class xii isc sreepuram english medium high school  jr college kannur council indian school certificate examinations new delhi 8133 2004 – 2005 class x icse sreepuram english medium high school  jr college kannur council indian school certificate examinations new delhi 8466 extracurricular activities participated inter college technical fest ‘sagaa10’ presented project ‘pc controlled moving message display’ year 2010 member ‘electronics communication engineering ’club college member school band team participated essay writing story writing etc prizes personal details date birth 11th april 1990 address vandanam nr kadalayi lp school po chirakkal rs kannur kerala nationality indian marital status single languages english malayalam hindi hereby declare statements true complete correct best knowledge belief vandana surendranath',\n",
       "  'Android']]"
      ]
     },
     "execution_count": 13,
     "metadata": {},
     "output_type": "execute_result"
    }
   ],
   "source": [
    "result(prd,contents)"
   ]
  },
  {
   "cell_type": "code",
   "execution_count": 14,
   "metadata": {},
   "outputs": [
    {
     "name": "stdout",
     "output_type": "stream",
     "text": [
      "1\n"
     ]
    },
    {
     "data": {
      "text/html": [
       "<div>\n",
       "<style>\n",
       "    .dataframe thead tr:only-child th {\n",
       "        text-align: right;\n",
       "    }\n",
       "\n",
       "    .dataframe thead th {\n",
       "        text-align: left;\n",
       "    }\n",
       "\n",
       "    .dataframe tbody tr th {\n",
       "        vertical-align: top;\n",
       "    }\n",
       "</style>\n",
       "<table border=\"1\" class=\"dataframe\">\n",
       "  <thead>\n",
       "    <tr style=\"text-align: right;\">\n",
       "      <th></th>\n",
       "      <th>File Content</th>\n",
       "      <th>Label</th>\n",
       "    </tr>\n",
       "  </thead>\n",
       "  <tbody>\n",
       "    <tr>\n",
       "      <th>0</th>\n",
       "      <td>vandana surendranath android developer  25 yea...</td>\n",
       "      <td>Android</td>\n",
       "    </tr>\n",
       "  </tbody>\n",
       "</table>\n",
       "</div>"
      ],
      "text/plain": [
       "                                        File Content    Label\n",
       "0  vandana surendranath android developer  25 yea...  Android"
      ]
     },
     "execution_count": 14,
     "metadata": {},
     "output_type": "execute_result"
    }
   ],
   "source": [
    "\n",
    "pd.DataFrame(result(prd,contents),columns=['File Content','Label'])"
   ]
  },
  {
   "cell_type": "code",
   "execution_count": null,
   "metadata": {
    "collapsed": true
   },
   "outputs": [],
   "source": []
  },
  {
   "cell_type": "code",
   "execution_count": null,
   "metadata": {
    "collapsed": true
   },
   "outputs": [],
   "source": []
  },
  {
   "cell_type": "code",
   "execution_count": null,
   "metadata": {
    "collapsed": true
   },
   "outputs": [],
   "source": [
    "plt.plot(history.history['acc'])\n",
    "plt.plot(history.history['val_acc'])\n",
    "plt.title('model accuracy')\n",
    "plt.ylabel('accuracy')\n",
    "plt.xlabel('epoch')\n",
    "plt.legend(['train', 'test'], loc='upper left')\n",
    "plt.show()"
   ]
  },
  {
   "cell_type": "code",
   "execution_count": null,
   "metadata": {
    "collapsed": true
   },
   "outputs": [],
   "source": [
    "plt.plot(history.history['loss'])\n",
    "#plt.plot(history.history['val_loss'])\n",
    "plt.title('model loss')\n",
    "plt.ylabel('loss')\n",
    "plt.xlabel('epoch')\n",
    "plt.legend(['train', 'test'], loc='upper left')\n",
    "plt.show()"
   ]
  }
 ],
 "metadata": {
  "kernelspec": {
   "display_name": "Python 3",
   "language": "python",
   "name": "python3"
  },
  "language_info": {
   "codemirror_mode": {
    "name": "ipython",
    "version": 3
   },
   "file_extension": ".py",
   "mimetype": "text/x-python",
   "name": "python",
   "nbconvert_exporter": "python",
   "pygments_lexer": "ipython3",
   "version": "3.6.3"
  }
 },
 "nbformat": 4,
 "nbformat_minor": 2
}
