{
 "cells": [
  {
   "cell_type": "code",
   "execution_count": 1,
   "metadata": {},
   "outputs": [
    {
     "name": "stderr",
     "output_type": "stream",
     "text": [
      "Using TensorFlow backend.\n"
     ]
    },
    {
     "name": "stdout",
     "output_type": "stream",
     "text": [
      "Keras version: \t\t2.0.9\n",
      "Scikit version: \t0.19.1\n",
      "TensorFlow version: \t1.4.1\n"
     ]
    }
   ],
   "source": [
    "import keras, os, pickle, re, sklearn, string, tensorflow\n",
    "import numpy as np\n",
    "import matplotlib.pyplot as plt\n",
    "from keras.utils import to_categorical\n",
    "from keras.callbacks import ModelCheckpoint\n",
    "from keras.preprocessing.text import Tokenizer\n",
    "from keras.preprocessing.sequence import pad_sequences\n",
    "from keras.models import load_model\n",
    "from keras.layers import Embedding\n",
    "from keras.optimizers import Adadelta, adam\n",
    "from sklearn.model_selection import train_test_split\n",
    "from keras.models import Sequential\n",
    "from keras.utils.vis_utils  import plot_model\n",
    "\n",
    "print('Keras version: \\t\\t%s' % keras.__version__)\n",
    "print('Scikit version: \\t%s' % sklearn.__version__)\n",
    "print('TensorFlow version: \\t%s' % tensorflow.__version__)\n"
   ]
  },
  {
   "cell_type": "code",
   "execution_count": 2,
   "metadata": {
    "collapsed": true
   },
   "outputs": [],
   "source": [
    "import nltk\n",
    "from nltk.corpus import stopwords\n",
    "from tika import parser\n",
    "from sklearn.metrics import classification_report\n",
    "\n"
   ]
  },
  {
   "cell_type": "code",
   "execution_count": 3,
   "metadata": {
    "collapsed": true
   },
   "outputs": [],
   "source": [
    "def LoadData_admin():\n",
    "    label_admin=[]\n",
    "    i=0\n",
    "    for file in os.listdir(\"/home/shabna/Desktop/example_codes/new_sample/level4/tech/IT/administrator\"):\n",
    "        try:\n",
    "            print (i, file)\n",
    "            parsedPDF = parser.from_file(\"/home/shabna/Desktop/example_codes/new_sample/level4/tech/IT/administrator/\"+file)\n",
    "\n",
    "            tech_contents=clean_doc(parsedPDF['content'])\n",
    "            #Data = resume_contents.encode('utf-8')    \n",
    "            label_admin.append((tech_contents,'Administrator'))\n",
    "        except UnicodeEncodeError:\n",
    "            print ('Unicode error:', file)\n",
    "        i=i+1\n",
    "    #print (label_resume)\n",
    "    return(label_admin)\n",
    "        "
   ]
  },
  {
   "cell_type": "code",
   "execution_count": 4,
   "metadata": {
    "collapsed": true
   },
   "outputs": [],
   "source": [
    "def LoadData_others():\n",
    "    label_others=[]\n",
    "    i=1\n",
    "    for file in os.listdir(\"/home/shabna/Desktop/example_codes/new_sample/level4/tech/IT/others\"):\n",
    "        try:\n",
    "            print (i, file)\n",
    "            parsedPDF = parser.from_file(\"/home/shabna/Desktop/example_codes/new_sample/level4/tech/IT/others/\"+file)\n",
    "        \n",
    "            nontech_contents=clean_doc(parsedPDF['content'])\n",
    "       \n",
    "            \n",
    "            label_others.append((nontech_contents, 'Others'))\n",
    "        except UnicodeEncodeError:\n",
    "            print ('Unicode error:', file)\n",
    "        i=i+1\n",
    "            \n",
    "    return(label_others)"
   ]
  },
  {
   "cell_type": "code",
   "execution_count": 5,
   "metadata": {
    "collapsed": true
   },
   "outputs": [],
   "source": [
    "#Preprocessing\n",
    "def clean_doc(doc):\n",
    "    \"\"\"\n",
    "    Cleaning a document by several methods:\n",
    "        - Lowercase\n",
    "        - Removing whitespaces\n",
    "        - Removing stopwords\n",
    "        - Removing punctuations\n",
    "        \n",
    "    \"\"\"\n",
    "    stop_words = set(stopwords.words('english'))\n",
    "    \n",
    "    # Lowercase\n",
    "    doc = doc.lower()\n",
    "   \n",
    "    tokens = doc.translate({ord(c):\"\" for c in \"\\u200b\\uf020\\u2028\\xa0\\uf0e0\\uf095\\uf041\\uf0e1\\uf0b7\\xad\"})\n",
    "    tokens = tokens.translate({ord(c):\" \" for c in \"[):,·](;•●■♦▪\"})\n",
    "    tokens = tokens.translate({ord(c):\"f\" for c in \"�\"})\n",
    "    \n",
    "    # Removing multiple whitespaces\n",
    "    tokens = re.sub(r\"\\?\", \" \\? \", tokens)\n",
    "    \n",
    "    # Split in tokens\n",
    "    tokens = tokens.split()\n",
    "    \n",
    "    # Remove Stopwords\n",
    "    tokens = [w for w in tokens if not w in stop_words]\n",
    "    # Remove punctuation\n",
    "    tokens = [w.translate(str.maketrans('', '', string.punctuation)) for w in tokens]\n",
    "    \n",
    "    return ' '.join(tokens)"
   ]
  },
  {
   "cell_type": "code",
   "execution_count": null,
   "metadata": {
    "collapsed": true
   },
   "outputs": [],
   "source": []
  },
  {
   "cell_type": "code",
   "execution_count": 6,
   "metadata": {
    "scrolled": false
   },
   "outputs": [
    {
     "name": "stdout",
     "output_type": "stream",
     "text": [
      "0 Akshay_Chaudhary_Pune_10.06_yrs.doc\n",
      "1 Gudlesh_Prajapati_Mumbai_2.10_yrs.doc\n",
      "2 Binoj_P_Bengaluru___Bangalore_7.09_yrs.docx\n",
      "3 BhanuPrakash S _ MSBI_Hyderabad_Atlas Systems.doc\n",
      "4 Dhiraj_Sali_Pune_11.00_yrs.doc\n",
      "5 Abhilash Rajan.doc\n",
      "6 83604512_Chennai_12.00_yrs.doc\n",
      "7 bejoy ks.pdf\n",
      "8 Deepak_Resume 3i  (1).doc\n",
      "9 Dhirendra_Kumar_Jha_Mumbai_14.03_yrs.doc\n",
      "10 dilip_sakwadia_Pune_8.11_yrs.doc\n",
      "11 Gangadhar_NG_Hyderabad___Secunderabad_5.00_yrs.docx\n",
      "12 AKHIL_SABU_Kozhikode___Calicut_4.00_yrs.pdf\n",
      "13 A.K.Murugesan_karuppusamy_Coimbatore_5.00_yrs.doc\n",
      "14 Ajai_kumar_Bengaluru___Bangalore_6.10_yrs.doc\n",
      "15 BinuJacobc .pdf\n",
      "16 Abhimannyu_Koli_Pune_2.06_yrs.docx\n",
      "17 Arunasri_Oracle apps_Bangalore_Atlas Systems.doc\n",
      "18 Ankit_Kumar_Bengaluru___Bangalore_3.07_yrs.pdf\n",
      "19 Amit_Shambharkar_Mumbai_4.08_yrs.doc\n",
      "20 Anuj_Kumar_Delhi_1.07_yrs.docx\n",
      "21 Akhil_John_Kottayam_0.00_yrs.docx\n",
      "22 ANIL JACOB THOMAS.doc\n",
      "23 Arjun.docx\n",
      "24 Anroop Reddy _SQL DBA_Pune_Atlas Systems.doc\n",
      "25 83159981_Pune_2.02_yrs.docx\n",
      "26 ANOOP.V.doc\n",
      "27 BebinDhasC[4_5].doc\n",
      "28 Anurag_Vishnoi__Bengaluru___Bangalore_2.02_yrs.doc\n",
      "29 Dhakshin_Karthic_Coimbatore_1.05_yrs.docx\n",
      "30 dinesh_maroo_Bengaluru___Bangalore_6.06_yrs.doc\n",
      "31 arulthomas__Thanjavur_12.03_yrs.doc\n",
      "32 Ashutosh_Bajpai_Indore_21.04_yrs.pdf\n",
      "33 82568909_Ahmedabad_4.04_yrs.doc\n",
      "34 Ajay Babu M_SQL DBA_Chennai_Atlas Systems.doc\n",
      "35 ARUN_VENKATESH_RAMIAH_GUNA_SEKARAN_India_3.08_yrs.docx\n",
      "36 dinesh__Chennai_3.02_yrs.docx\n",
      "37 backiyalakshmi_M_India_7.07_yrs.docx\n",
      "38 49763448_Bengaluru___Bangalore_17.00_yrs.doc\n",
      "39 CV-jithinsp..pdf\n",
      "40 Abhishek_Jain_Pune_6.00_yrs.pdf\n",
      "41 24055553_Delhi_5.06_yrs.doc\n",
      "42 15918607_Noida_9.05_yrs.doc\n",
      "43 Devendra__Bengaluru___Bangalore_10.09_yrs.doc\n",
      "44 amanulla_syed_Hyderabad___Secunderabad_0.03_yrs.docx\n",
      "45 Bhanu_Goel_Ghaziabad_2.06_yrs.docx\n",
      "46 83886787_Hyderabad___Secunderabad_3.01_yrs.pdf\n",
      "47 Chetan_Sangule_Pune_3.00_yrs.docx\n",
      "48 faiz_shaikh_Mumbai_3.06_yrs.docx\n",
      "49 79983544_Pune_1.04_yrs.pdf\n",
      "50 Basil Joseph.pdf\n",
      "51 Chenna Reddy L  _ MSBI_Hyderabad_Atlas Systems.doc\n",
      "52 Arvind_Yadav_Noida_10.00_yrs.docx\n",
      "53 Eyad CV.doc\n",
      "54 36968539_Bengaluru___Bangalore_12.00_yrs.docx\n",
      "55 Bidyadhar_Swain_Bhubaneshwar_3.00_yrs.pdf\n",
      "56 Alankrith_Kumar__Hyderabad___Secunderabad_3.00_yrs.docx\n",
      "57 Ashish_Wankhede_Pune_1.08_yrs.docx\n",
      "58 BALASANI_SAI_CHAND_Hyderabad___Secunderabad_5.05_yrs.docx\n",
      "59 Goverdhan_Gupta_Mumbai_3.06_yrs.docx\n",
      "60 devarakonda_Hari_prasad_Anywhere_4.02_yrs.doc\n",
      "61 DEEPAK_JATHAN_Mumbai_City_10.00_yrs.docx\n",
      "62 Arun_N_Bengaluru___Bangalore_0.06_yrs.docx\n",
      "63 bhanu_b_Pune_4.00_yrs.doc\n",
      "64 AJAY_RESUME (2).pdf\n",
      "65 Deepak_Pandiyan_Bengaluru___Bangalore_5.00_yrs.doc\n",
      "66 Ananthakrishnan Resume.doc\n",
      "67 deepak_manral_Gurgaon_12.03_yrs.docx\n",
      "68 Deepak. C. M.doc\n",
      "69 Anandaraj_Rajasekaran_Chennai_3.04_yrs.docx\n",
      "70 Abhijith .pdf\n",
      "71 Anish.doc\n",
      "72 Debasish_Patel_Bengaluru___Bangalore_1.05_yrs.docx\n",
      "73 haji_pasha_Hyderabad___Secunderabad_4.08_yrs.docx\n",
      "74 Abhishek_Dhandare_Pune_3.04_yrs.docx\n",
      "75 ambrish_emmidi_Chennai_1.10_yrs.pdf\n",
      "76 Chandrakanth_Reddy__Hyderabad___Secunderabad_0.00_yrs.pdf\n",
      "77 Amit_kumar_Delhi_5.00_yrs.doc\n",
      "78 Arju_Utpal__Bengaluru___Bangalore_0.00_yrs.pdf\n",
      "79 Avinesh Paul.pdf\n",
      "80 Balaji_Ram_Chennai_13.00_yrs.doc\n",
      "81 ANOOP JOY.doc\n",
      "82 25029877_Bengaluru___Bangalore_9.00_yrs.doc\n",
      "83 Anusha___Bengaluru___Bangalore_3.01_yrs.pdf\n",
      "84 62665768_Bengaluru___Bangalore_4.03_yrs.docx\n",
      "85 dinil___Kannur_1.03_yrs.docx\n",
      "86 Chandrasekhar_Talpaneni_Bengaluru___Bangalore_3.01_yrs.docx\n",
      "87 Anil Reddy.Singam_Oracle Developer_Hyderabad_Atlas Systems.doc\n",
      "88 Arjunan_Samuthiram_Chennai_8.00_yrs.docx\n",
      "89 Atul_Gaikwad_Pune_14.11_yrs.pdf\n",
      "90 gopi_kannan_Chennai_3.07_yrs.docx\n",
      "91 akshdeep_banerjee_Kolkata_3.00_yrs.docx\n",
      "92 Akash_Banda_Bengaluru___Bangalore_0.00_yrs.doc\n",
      "93 Balaji.doc\n",
      "94 chandrasekhar_v_Chennai_5.00_yrs.docx\n",
      "95 Ajay_Kemble_Mumbai_0.00_yrs.doc\n",
      "96 chandana_reddy_Hyderabad___Secunderabad_3.02_yrs.doc\n",
      "97 Chiranjeevi__Hyderabad___Secunderabad_3.05_yrs.doc\n",
      "98 40905499_Pune_6.06_yrs.docx\n",
      "99 alok_trivedi_Delhi_Region_3.06_yrs.docx\n",
      "100 Bharath Kumar_Oracle Apps_Hyderabad_Atlas Systems.doc\n",
      "101 Gaurav_Goyal_Jaipur_2.07_yrs.doc\n",
      "102 52077267_Bengaluru___Bangalore_2.06_yrs.doc\n",
      "103 divakar_rodda_Bengaluru___Bangalore_3.00_yrs.docx\n",
      "104 Chetan_Kumar_Bengaluru___Bangalore_7.00_yrs.doc\n",
      "105 asha_mudaliar_Hyderabad___Secunderabad_3.00_yrs.docx\n",
      "106 devi_prasadh_rayapalli_Hyderabad___Secunderabad_8.00_yrs.doc\n",
      "107 Bharath_Kumar_Bengaluru___Bangalore_4.01_yrs.doc\n",
      "108 Bibhudutta_Baliarsingh_Bhubaneshwar_3.04_yrs.doc\n",
      "109 Glady_shobana_Bengaluru___Bangalore_1.02_yrs.docx\n",
      "110 A Mohan_Oracle Developer_Hyderabad_Atlas Systems.doc\n",
      "111 anik_nayak_Bengaluru___Bangalore_5.03_yrs.docx\n",
      "112 63473717_Bengaluru___Bangalore_3.00_yrs.docx\n",
      "113 Akumalli_Lalaiah_Noida_4.02_yrs.docx\n",
      "114 ANISH_GOPI_B_G.doc\n",
      "115 Ankit_Bhardwaj_United_Arab_Emirates_6.05_yrs.doc\n",
      "116 Akash_Tilak_Pune_0.00_yrs.docx\n",
      "117 Garudachalam_Chagantipati_India_7.08_yrs.docx\n",
      "118 Alvin Jaison.doc\n",
      "119 Abdul_Khalique_Mohammed_Umer_Singapore_11.00_yrs.doc\n",
      "120 Ganesh_Malkar_Pune_0.00_yrs.pdf\n",
      "121 AmalCP.pdf\n",
      "122 akshay__Pune_0.00_yrs.docx\n",
      "123 Abhijit_Kulkarni_Pune_11.00_yrs.docx\n",
      "124 Allan John -Interested.docx\n",
      "125 Anandita_Sharma_Bengaluru___Bangalore_4.00_yrs.doc\n",
      "126 Feeroz_Khan_Malaysia_5.01_yrs.doc\n",
      "127 Avinash_Nilkanth_Patil___Pune_0.00_yrs.docx\n",
      "128 geetha_elangovan_Bengaluru___Bangalore_3.06_yrs.doc\n",
      "129 Ajmal CV.doc\n",
      "130 Butchi_SQL DBA_Bangalore_Atlas Systems.doc\n",
      "131 Gurcharan__Hyderabad___Secunderabad_2.09_yrs.pdf\n",
      "132 Ashok_Mohanty_Bengaluru___Bangalore_2.00_yrs.docx\n",
      "133 ARJUNRAJ PANNEERSELVAM _Oracle DBA_Chennai_Atlas Systems.doc\n",
      "134 Abinash_Biswal_Mumbai_3.05_yrs.doc\n",
      "135 Charles M.docx\n",
      "136 Agnivo_Ganguly__Kolkata_0.06_yrs.docx\n",
      "137 80441171_Singapore_6.00_yrs.pdf\n",
      "138 BIBINMATHEW4_6.pdf\n",
      "139 Bhakti_Kulkarni_Bengaluru___Bangalore_17.04_yrs.docx\n",
      "140 baba_o_Anywhere_4.00_yrs.docx\n",
      "141 Eldhose_KJ.docx\n",
      "142 BALLA SANTIKIRAN_SQL DBA.doc\n",
      "143 ARAVIND.P.doc\n",
      "144 Anand_Kumar_Mumbai_4.00_yrs.doc\n",
      "145 80888692_Bengaluru___Bangalore_5.02_yrs.docx\n",
      "146 Guptha_Gunda_Mumbai_City_3.05_yrs.docx\n",
      "147 Damodar_reddy_Bengaluru___Bangalore_4.05_yrs.doc\n",
      "148 Aalhad_Vengurlekar_Mumbai_4.02_yrs.docx\n",
      "149 Ashish_Dahiya_Noida_3.08_yrs.doc\n"
     ]
    }
   ],
   "source": [
    "label_admin=LoadData_admin()"
   ]
  },
  {
   "cell_type": "code",
   "execution_count": 7,
   "metadata": {},
   "outputs": [
    {
     "data": {
      "text/plain": [
       "150"
      ]
     },
     "execution_count": 7,
     "metadata": {},
     "output_type": "execute_result"
    }
   ],
   "source": [
    "len(label_admin)"
   ]
  },
  {
   "cell_type": "code",
   "execution_count": null,
   "metadata": {
    "collapsed": true
   },
   "outputs": [],
   "source": []
  },
  {
   "cell_type": "code",
   "execution_count": 8,
   "metadata": {},
   "outputs": [
    {
     "name": "stdout",
     "output_type": "stream",
     "text": [
      "1 Binoj_P_Bengaluru___Bangalore_7.09_yrs.docx\n",
      "2 YezdiRabadi (ISO-LCSM, CCSK)Profile.pdf\n",
      "3 Jose Resume.docx\n",
      "4 Cisco-Network-Engineer-Resume-Template-Free-Download.doc\n",
      "5 AtifRizviProfile.pdf\n",
      "6 kamal_gangwani_US_3.10_yrs.doc\n",
      "7 BabarShahProfile.pdf\n",
      "8 RAJESHCHAMANTHULAProfile.pdf\n",
      "9 FarshadBAGHERIANProfile.pdf\n",
      "10 kinshukchakladarProfile.pdf\n",
      "11 SarabjeetSinghProfile.pdf\n",
      "12 Muhammad MuneebIqbalProfile.pdf\n",
      "13 GaryPollard Jr.Profile.pdf\n",
      "14 SujilKumarProfile.pdf\n",
      "15 AdamKilgoreProfile.pdf\n",
      "16 BinuJacobc .pdf\n",
      "17 L.K.Sathyanarayanan__Tirunalveli_15.04_yrs (copy).docx\n",
      "18 waqassiddiquiProfile.pdf\n",
      "19 IjasAhammedProfile.pdf\n",
      "20 Anuj_Kumar_Delhi_1.07_yrs.docx\n",
      "21 CV-for-Network-Engineer-Free-Word-Download.doc\n",
      "22 Entry Level IT Networking Resume.docx\n",
      "23 MehdiMolaeiProfile.pdf\n",
      "24 Praveen KumarBommaProfile.pdf\n",
      "25 Prem_Kumar_Chennai_6.05_yrs.doc\n",
      "26 MichaelDavisProfile.pdf\n",
      "27 Network-Support-Engineer-Resume-Free-PDF-Download.pdf\n",
      "28 Tarun PratapsinghProfile.pdf\n",
      "29 83159981_Pune_2.02_yrs.docx\n",
      "30 Nishant_Soni_Pune_9.05_yrs.doc\n",
      "31 Mohammed AbakerAdamProfile.pdf\n",
      "32 SudinTRProfile.pdf\n",
      "33 DinkarSharmaProfile.pdf\n",
      "34 RiteshSinghProfile.pdf\n",
      "35 IT Specialist.doc\n",
      "36 AmitSuriProfile.pdf\n",
      "37 BadrAl-HazmiProfile.pdf\n",
      "38 EhsanAkhoondiProfile.pdf\n",
      "39 FarshidSabzkarProfile.pdf\n",
      "40 GajendraNagarajuProfile.pdf\n",
      "41 Free-Wireless-Network-Engineer-Resume-Word-Download.doc\n",
      "42 FranciscoParraProfile.pdf\n",
      "43 DebraHutsonProfile.pdf\n",
      "44 RyanS.Profile.pdf\n",
      "45 SiamakBonyadi RamProfile.pdf\n",
      "46 Syed M EhteshamShahidProfile.pdf\n",
      "47 HamedAhmadzadehProfile.pdf\n",
      "48 79983544_Pune_1.04_yrs.pdf\n",
      "49 mevin CV 2016.pdf\n",
      "50 AvinashGowdaProfile.pdf\n",
      "51 CCNA-Network-Engineer-Resume-Free-PDF-Download.pdf\n",
      "52 WaleedAsifProfile.pdf\n",
      "53 JesseStanfordProfile.pdf\n",
      "54 jothi_prakash_Bengaluru___Bangalore_8.05_yrs.doc\n",
      "55 IT Network Administrator Resume.pdf\n",
      "56 HaniGorishProfile.pdf\n",
      "57 KhalidMehmoodProfile.pdf\n",
      "58 shahrokhnikbakhtianProfile.pdf\n",
      "59 BahadorGheisari(B.Eng,PMP,CCNP)Profile.pdf\n",
      "60 Executive%20Network%20Administrator%20Resume%20Example%20Resume%20Templates%2003122018795420.pdf\n",
      "61 CCNP-Network-Engineer-Resume-Free-Word-Download.doc\n",
      "62 MarcelleLeeProfile.pdf\n",
      "63 AmitSinghProfile.pdf\n",
      "64 Raj kumarNayakProfile.pdf\n",
      "65 Carol RogerBProfile.pdf\n",
      "66 LeeConradProfile.pdf\n",
      "67 Karthikeyan_M_Pondicherry_3.01_yrs.docx\n",
      "68 Entry%20Level%20%26amp%3B%20Freshers%20Network%20Administrator%20Resume%20Resume%20Templates%2003122018162055.pdf\n",
      "69 Abhijith .pdf\n",
      "70 MohitVirmaniProfile.pdf\n",
      "71 rahulvermaProfile.pdf\n",
      "72 DivyaSubramanianProfile.pdf\n",
      "73 ManishKumarProfile.pdf\n",
      "74 Chandrakanth_Reddy__Hyderabad___Secunderabad_0.00_yrs.pdf\n",
      "75 IftikharKhanProfile.pdf\n",
      "76 SharabhKaushalProfile.pdf\n",
      "77 mohsenkheradmandProfile.pdf\n",
      "78 JithinBabu.pdf\n",
      "79 Cisco-Network-Engineer-Resume-Free-PDF-Template.pdf\n",
      "80 ShaikHussainProfile.pdf\n",
      "81 Dhameemul ansariMProfile.pdf\n",
      "82 SreekanthPProfile.pdf\n",
      "83 KartikChaubalProfile.pdf\n",
      "84 Professional%20Network%20Technician%20Resume%20Resume%20Templates%2003122018535358.pdf\n",
      "85 dinil___Kannur_1.03_yrs.docx\n",
      "86 Network-Security-Engineer-Resume-Free-PDF-Template.pdf\n",
      "87 MrShahzebProfile.pdf\n",
      "88 Manu_E_S_Cochin___Kochi___Ernakulam_4.04_yrs.pdf\n",
      "89 MunzirMubarakProfile.pdf\n",
      "90 SaeidAgheliProfile.pdf\n",
      "91 HimanshuSharma Profile.pdf\n",
      "92 Madan Mohan ReddyS.Profile.pdf\n",
      "93 40905499_Pune_6.06_yrs.docx\n",
      "94 KazemFallahiProfile.pdf\n",
      "95 Pradeep KumarMaddinaniProfile.pdf\n",
      "96 AshishThakurProfile.pdf\n",
      "97 RahulAvhadProfile.pdf\n",
      "98 RameshRamaniProfile.pdf\n",
      "99 CCNA-Network-Engineer-Resume-Free-PDF-Download(1).pdf\n",
      "100 IMRANNAWAZProfile.pdf\n",
      "101 KaranAroraProfile.pdf\n",
      "102 MohammedSaty,  OSCP  OSCE CREST CRT(PEN) ISO  LIProfile.pdf\n",
      "103 ColbyCarterProfile.pdf\n",
      "104 MahdiMirzaeiProfile.pdf\n",
      "105 PradeepHattiangadiProfile.pdf\n",
      "106 RaminOlfatiProfile.pdf\n",
      "107 TimothyFordProfile.pdf\n",
      "108 ObayAbadiProfile.pdf\n",
      "109 Abdul_Khalique_Mohammed_Umer_Singapore_11.00_yrs.doc\n",
      "110 Professional%20Network%20Engineer%20Resume%20Resume%20Templates%2003122018743267.pdf\n",
      "111 ThomasSamuel  JNCIE-SEC JNCIE-FW_VPNProfile.pdf\n",
      "112 Professional%20Network%20Administrator%20Resume%20Example%20Resume%20Templates%2003122018629827.pdf\n",
      "113 Allan John -Interested.docx\n",
      "114 linux-admin-resume-network-administrator-linux-administrator-resume-doc.ocr.pdf\n",
      "115 RandyToombsProfile.pdf\n",
      "116 KARTHIK__Chennai_0.00_yrs.docx\n",
      "117 FarashAhamadProfile.pdf\n",
      "118 KanishkChawlaProfile.pdf\n",
      "119 Himanshu_mohan_Delhi_0.00_yrs.doc\n",
      "120 PranjalVermaProfile.pdf\n",
      "121 Professional%20Network%20Administrator%20Resume%20Example%20Resume%20Templates%2003122018834196.pdf\n",
      "122 NikhilMathureProfile.pdf\n",
      "123 Sample-Network-Engineer-Resume-Free-Download.doc\n",
      "124 MatthewNikahdProfile.pdf\n",
      "125 NimaNassehiProfile.pdf\n",
      "126 MohammedFadlProfile.pdf\n",
      "127 Senior-Network-Engineer-Resume-Free-PDF-Downlaod.pdf\n",
      "128 Free-Entry-Level-Network-Engineer-Resume-Free-Word.doc\n",
      "129 BensonJonesProfile.pdf\n",
      "130 Information Technology Consultant.doc\n",
      "131 LOGANATHAN_K_Bengaluru___Bangalore_1.03_yrs.doc\n",
      "132 SajadMohammadiKobarProfile.pdf\n",
      "133 JeevithShettyProfile.pdf\n",
      "134 Mandar_ovarikar__Pune_0.00_yrs.docx\n",
      "135 AmirSatkinProfile.pdf\n",
      "136 Network-Engineer-Resume-Sample-Doc.doc\n",
      "137 SubinKumaranProfile.pdf\n",
      "138 MasoudZeynaliProfile.pdf\n",
      "139 MehdiTalebiProfile.pdf\n",
      "140 Executive%20Hardware%20Engineer%20Resume%20Resume%20Templates%2003122018743408.pdf\n",
      "141 Entry%20Level%20%26amp%3B%20Freshers%20Network%20Administrator%20Resume%20Resume%20Templates%2003122018683629.pdf\n",
      "142 MohitTanwarProfile.pdf\n",
      "143 Executive%20Network%20Administrator%20Resume%20Example%20Resume%20Templates%2003122018326897.pdf\n",
      "144 80888692_Bengaluru___Bangalore_5.02_yrs.docx\n",
      "145 ZaneMcCarreyProfile.pdf\n",
      "146 FurqanAkhtarProfile.pdf\n",
      "147 SrivatsaVasudevanProfile.pdf\n",
      "148 Professional%20Network%20Technician%20Resume%20Resume%20Templates%2003122018271762.pdf\n",
      "149 Harshad_Mahajan_Mumbai_2.07_yrs.doc\n",
      "150 SoheilErshadiProfile.pdf\n"
     ]
    }
   ],
   "source": [
    "label_others=LoadData_others()"
   ]
  },
  {
   "cell_type": "code",
   "execution_count": 9,
   "metadata": {},
   "outputs": [
    {
     "name": "stdout",
     "output_type": "stream",
     "text": [
      "150\n"
     ]
    }
   ],
   "source": [
    "print(len(label_others))"
   ]
  },
  {
   "cell_type": "code",
   "execution_count": 10,
   "metadata": {
    "collapsed": true
   },
   "outputs": [],
   "source": [
    "\n",
    "jdres_train_labels=[]\n",
    "jdres_train_data=[]\n",
    "\n",
    "for row in label_admin:\n",
    "    jdres_train_data.append(row[0])\n",
    "    jdres_train_labels.append(row[1])\n",
    "#print(jdres_train_data)\n",
    "\n",
    "#print(len(jdres_train_data))"
   ]
  },
  {
   "cell_type": "code",
   "execution_count": 11,
   "metadata": {
    "collapsed": true
   },
   "outputs": [],
   "source": [
    "#print(jdres_train_labels)"
   ]
  },
  {
   "cell_type": "code",
   "execution_count": 12,
   "metadata": {
    "collapsed": true
   },
   "outputs": [],
   "source": [
    "\n",
    "for row in label_others:\n",
    "    jdres_train_data.append(row[0])\n",
    "    jdres_train_labels.append(row[1])\n",
    "#print(jdres_train_labels)\n",
    "#print(jdres_train_data)"
   ]
  },
  {
   "cell_type": "code",
   "execution_count": 13,
   "metadata": {},
   "outputs": [
    {
     "name": "stdout",
     "output_type": "stream",
     "text": [
      "300\n",
      "300\n"
     ]
    }
   ],
   "source": [
    "print(len(jdres_train_data))\n",
    "print(len(jdres_train_labels))"
   ]
  },
  {
   "cell_type": "code",
   "execution_count": 14,
   "metadata": {
    "collapsed": true
   },
   "outputs": [],
   "source": [
    "#print(jdres_train_data[42])"
   ]
  },
  {
   "cell_type": "code",
   "execution_count": 15,
   "metadata": {},
   "outputs": [
    {
     "name": "stdout",
     "output_type": "stream",
     "text": [
      "300\n"
     ]
    }
   ],
   "source": [
    "encoded_labels = [0 for _ in range(len(label_admin))] + [1 for _ in range(len(label_others))]\n",
    "#print(labels)\n",
    "print(len(encoded_labels))"
   ]
  },
  {
   "cell_type": "code",
   "execution_count": 16,
   "metadata": {},
   "outputs": [
    {
     "data": {
      "text/plain": [
       "16309"
      ]
     },
     "execution_count": 16,
     "metadata": {},
     "output_type": "execute_result"
    }
   ],
   "source": [
    "# prepare tokenizer\n",
    "t = Tokenizer()\n",
    "t.fit_on_texts(jdres_train_data)\n",
    "vocab_size = len(t.word_index) + 1\n",
    "# integer encode the documents\n",
    "encoded_docs = t.texts_to_sequences(jdres_train_data)\n",
    "vocab_size"
   ]
  },
  {
   "cell_type": "code",
   "execution_count": 17,
   "metadata": {},
   "outputs": [
    {
     "name": "stdout",
     "output_type": "stream",
     "text": [
      "[[3670 1731  223 ..., 4401 4399  371]\n",
      " [8435 5550  229 ...,    0    0    0]\n",
      " [5563 1169 3686 ...,    0    0    0]\n",
      " ..., \n",
      " [3190 3191 1082 ...,    0    0    0]\n",
      " [8339 2901 5522 ...,    0    0    0]\n",
      " [  60   44 5526 ...,    0    0    0]]\n"
     ]
    }
   ],
   "source": [
    "# pad documents to a max length of 50 words\n",
    "max_length = 1000\n",
    "padded_docs = pad_sequences(encoded_docs, maxlen=max_length, padding='post')\n",
    "print(padded_docs)"
   ]
  },
  {
   "cell_type": "code",
   "execution_count": 18,
   "metadata": {},
   "outputs": [
    {
     "name": "stdout",
     "output_type": "stream",
     "text": [
      "300\n"
     ]
    },
    {
     "data": {
      "text/plain": [
       "array([[ 1.,  0.],\n",
       "       [ 1.,  0.],\n",
       "       [ 1.,  0.],\n",
       "       [ 1.,  0.],\n",
       "       [ 1.,  0.],\n",
       "       [ 1.,  0.],\n",
       "       [ 1.,  0.],\n",
       "       [ 1.,  0.],\n",
       "       [ 1.,  0.],\n",
       "       [ 1.,  0.],\n",
       "       [ 1.,  0.],\n",
       "       [ 1.,  0.],\n",
       "       [ 1.,  0.],\n",
       "       [ 1.,  0.],\n",
       "       [ 1.,  0.],\n",
       "       [ 1.,  0.],\n",
       "       [ 1.,  0.],\n",
       "       [ 1.,  0.],\n",
       "       [ 1.,  0.],\n",
       "       [ 1.,  0.],\n",
       "       [ 1.,  0.],\n",
       "       [ 1.,  0.],\n",
       "       [ 1.,  0.],\n",
       "       [ 1.,  0.],\n",
       "       [ 1.,  0.],\n",
       "       [ 1.,  0.],\n",
       "       [ 1.,  0.],\n",
       "       [ 1.,  0.],\n",
       "       [ 1.,  0.],\n",
       "       [ 1.,  0.],\n",
       "       [ 1.,  0.],\n",
       "       [ 1.,  0.],\n",
       "       [ 1.,  0.],\n",
       "       [ 1.,  0.],\n",
       "       [ 1.,  0.],\n",
       "       [ 1.,  0.],\n",
       "       [ 1.,  0.],\n",
       "       [ 1.,  0.],\n",
       "       [ 1.,  0.],\n",
       "       [ 1.,  0.],\n",
       "       [ 1.,  0.],\n",
       "       [ 1.,  0.],\n",
       "       [ 1.,  0.],\n",
       "       [ 1.,  0.],\n",
       "       [ 1.,  0.],\n",
       "       [ 1.,  0.],\n",
       "       [ 1.,  0.],\n",
       "       [ 1.,  0.],\n",
       "       [ 1.,  0.],\n",
       "       [ 1.,  0.],\n",
       "       [ 1.,  0.],\n",
       "       [ 1.,  0.],\n",
       "       [ 1.,  0.],\n",
       "       [ 1.,  0.],\n",
       "       [ 1.,  0.],\n",
       "       [ 1.,  0.],\n",
       "       [ 1.,  0.],\n",
       "       [ 1.,  0.],\n",
       "       [ 1.,  0.],\n",
       "       [ 1.,  0.],\n",
       "       [ 1.,  0.],\n",
       "       [ 1.,  0.],\n",
       "       [ 1.,  0.],\n",
       "       [ 1.,  0.],\n",
       "       [ 1.,  0.],\n",
       "       [ 1.,  0.],\n",
       "       [ 1.,  0.],\n",
       "       [ 1.,  0.],\n",
       "       [ 1.,  0.],\n",
       "       [ 1.,  0.],\n",
       "       [ 1.,  0.],\n",
       "       [ 1.,  0.],\n",
       "       [ 1.,  0.],\n",
       "       [ 1.,  0.],\n",
       "       [ 1.,  0.],\n",
       "       [ 1.,  0.],\n",
       "       [ 1.,  0.],\n",
       "       [ 1.,  0.],\n",
       "       [ 1.,  0.],\n",
       "       [ 1.,  0.],\n",
       "       [ 1.,  0.],\n",
       "       [ 1.,  0.],\n",
       "       [ 1.,  0.],\n",
       "       [ 1.,  0.],\n",
       "       [ 1.,  0.],\n",
       "       [ 1.,  0.],\n",
       "       [ 1.,  0.],\n",
       "       [ 1.,  0.],\n",
       "       [ 1.,  0.],\n",
       "       [ 1.,  0.],\n",
       "       [ 1.,  0.],\n",
       "       [ 1.,  0.],\n",
       "       [ 1.,  0.],\n",
       "       [ 1.,  0.],\n",
       "       [ 1.,  0.],\n",
       "       [ 1.,  0.],\n",
       "       [ 1.,  0.],\n",
       "       [ 1.,  0.],\n",
       "       [ 1.,  0.],\n",
       "       [ 1.,  0.],\n",
       "       [ 1.,  0.],\n",
       "       [ 1.,  0.],\n",
       "       [ 1.,  0.],\n",
       "       [ 1.,  0.],\n",
       "       [ 1.,  0.],\n",
       "       [ 1.,  0.],\n",
       "       [ 1.,  0.],\n",
       "       [ 1.,  0.],\n",
       "       [ 1.,  0.],\n",
       "       [ 1.,  0.],\n",
       "       [ 1.,  0.],\n",
       "       [ 1.,  0.],\n",
       "       [ 1.,  0.],\n",
       "       [ 1.,  0.],\n",
       "       [ 1.,  0.],\n",
       "       [ 1.,  0.],\n",
       "       [ 1.,  0.],\n",
       "       [ 1.,  0.],\n",
       "       [ 1.,  0.],\n",
       "       [ 1.,  0.],\n",
       "       [ 1.,  0.],\n",
       "       [ 1.,  0.],\n",
       "       [ 1.,  0.],\n",
       "       [ 1.,  0.],\n",
       "       [ 1.,  0.],\n",
       "       [ 1.,  0.],\n",
       "       [ 1.,  0.],\n",
       "       [ 1.,  0.],\n",
       "       [ 1.,  0.],\n",
       "       [ 1.,  0.],\n",
       "       [ 1.,  0.],\n",
       "       [ 1.,  0.],\n",
       "       [ 1.,  0.],\n",
       "       [ 1.,  0.],\n",
       "       [ 1.,  0.],\n",
       "       [ 1.,  0.],\n",
       "       [ 1.,  0.],\n",
       "       [ 1.,  0.],\n",
       "       [ 1.,  0.],\n",
       "       [ 1.,  0.],\n",
       "       [ 1.,  0.],\n",
       "       [ 1.,  0.],\n",
       "       [ 1.,  0.],\n",
       "       [ 1.,  0.],\n",
       "       [ 1.,  0.],\n",
       "       [ 1.,  0.],\n",
       "       [ 1.,  0.],\n",
       "       [ 1.,  0.],\n",
       "       [ 1.,  0.],\n",
       "       [ 1.,  0.],\n",
       "       [ 0.,  1.],\n",
       "       [ 0.,  1.],\n",
       "       [ 0.,  1.],\n",
       "       [ 0.,  1.],\n",
       "       [ 0.,  1.],\n",
       "       [ 0.,  1.],\n",
       "       [ 0.,  1.],\n",
       "       [ 0.,  1.],\n",
       "       [ 0.,  1.],\n",
       "       [ 0.,  1.],\n",
       "       [ 0.,  1.],\n",
       "       [ 0.,  1.],\n",
       "       [ 0.,  1.],\n",
       "       [ 0.,  1.],\n",
       "       [ 0.,  1.],\n",
       "       [ 0.,  1.],\n",
       "       [ 0.,  1.],\n",
       "       [ 0.,  1.],\n",
       "       [ 0.,  1.],\n",
       "       [ 0.,  1.],\n",
       "       [ 0.,  1.],\n",
       "       [ 0.,  1.],\n",
       "       [ 0.,  1.],\n",
       "       [ 0.,  1.],\n",
       "       [ 0.,  1.],\n",
       "       [ 0.,  1.],\n",
       "       [ 0.,  1.],\n",
       "       [ 0.,  1.],\n",
       "       [ 0.,  1.],\n",
       "       [ 0.,  1.],\n",
       "       [ 0.,  1.],\n",
       "       [ 0.,  1.],\n",
       "       [ 0.,  1.],\n",
       "       [ 0.,  1.],\n",
       "       [ 0.,  1.],\n",
       "       [ 0.,  1.],\n",
       "       [ 0.,  1.],\n",
       "       [ 0.,  1.],\n",
       "       [ 0.,  1.],\n",
       "       [ 0.,  1.],\n",
       "       [ 0.,  1.],\n",
       "       [ 0.,  1.],\n",
       "       [ 0.,  1.],\n",
       "       [ 0.,  1.],\n",
       "       [ 0.,  1.],\n",
       "       [ 0.,  1.],\n",
       "       [ 0.,  1.],\n",
       "       [ 0.,  1.],\n",
       "       [ 0.,  1.],\n",
       "       [ 0.,  1.],\n",
       "       [ 0.,  1.],\n",
       "       [ 0.,  1.],\n",
       "       [ 0.,  1.],\n",
       "       [ 0.,  1.],\n",
       "       [ 0.,  1.],\n",
       "       [ 0.,  1.],\n",
       "       [ 0.,  1.],\n",
       "       [ 0.,  1.],\n",
       "       [ 0.,  1.],\n",
       "       [ 0.,  1.],\n",
       "       [ 0.,  1.],\n",
       "       [ 0.,  1.],\n",
       "       [ 0.,  1.],\n",
       "       [ 0.,  1.],\n",
       "       [ 0.,  1.],\n",
       "       [ 0.,  1.],\n",
       "       [ 0.,  1.],\n",
       "       [ 0.,  1.],\n",
       "       [ 0.,  1.],\n",
       "       [ 0.,  1.],\n",
       "       [ 0.,  1.],\n",
       "       [ 0.,  1.],\n",
       "       [ 0.,  1.],\n",
       "       [ 0.,  1.],\n",
       "       [ 0.,  1.],\n",
       "       [ 0.,  1.],\n",
       "       [ 0.,  1.],\n",
       "       [ 0.,  1.],\n",
       "       [ 0.,  1.],\n",
       "       [ 0.,  1.],\n",
       "       [ 0.,  1.],\n",
       "       [ 0.,  1.],\n",
       "       [ 0.,  1.],\n",
       "       [ 0.,  1.],\n",
       "       [ 0.,  1.],\n",
       "       [ 0.,  1.],\n",
       "       [ 0.,  1.],\n",
       "       [ 0.,  1.],\n",
       "       [ 0.,  1.],\n",
       "       [ 0.,  1.],\n",
       "       [ 0.,  1.],\n",
       "       [ 0.,  1.],\n",
       "       [ 0.,  1.],\n",
       "       [ 0.,  1.],\n",
       "       [ 0.,  1.],\n",
       "       [ 0.,  1.],\n",
       "       [ 0.,  1.],\n",
       "       [ 0.,  1.],\n",
       "       [ 0.,  1.],\n",
       "       [ 0.,  1.],\n",
       "       [ 0.,  1.],\n",
       "       [ 0.,  1.],\n",
       "       [ 0.,  1.],\n",
       "       [ 0.,  1.],\n",
       "       [ 0.,  1.],\n",
       "       [ 0.,  1.],\n",
       "       [ 0.,  1.],\n",
       "       [ 0.,  1.],\n",
       "       [ 0.,  1.],\n",
       "       [ 0.,  1.],\n",
       "       [ 0.,  1.],\n",
       "       [ 0.,  1.],\n",
       "       [ 0.,  1.],\n",
       "       [ 0.,  1.],\n",
       "       [ 0.,  1.],\n",
       "       [ 0.,  1.],\n",
       "       [ 0.,  1.],\n",
       "       [ 0.,  1.],\n",
       "       [ 0.,  1.],\n",
       "       [ 0.,  1.],\n",
       "       [ 0.,  1.],\n",
       "       [ 0.,  1.],\n",
       "       [ 0.,  1.],\n",
       "       [ 0.,  1.],\n",
       "       [ 0.,  1.],\n",
       "       [ 0.,  1.],\n",
       "       [ 0.,  1.],\n",
       "       [ 0.,  1.],\n",
       "       [ 0.,  1.],\n",
       "       [ 0.,  1.],\n",
       "       [ 0.,  1.],\n",
       "       [ 0.,  1.],\n",
       "       [ 0.,  1.],\n",
       "       [ 0.,  1.],\n",
       "       [ 0.,  1.],\n",
       "       [ 0.,  1.],\n",
       "       [ 0.,  1.],\n",
       "       [ 0.,  1.],\n",
       "       [ 0.,  1.],\n",
       "       [ 0.,  1.],\n",
       "       [ 0.,  1.],\n",
       "       [ 0.,  1.],\n",
       "       [ 0.,  1.],\n",
       "       [ 0.,  1.],\n",
       "       [ 0.,  1.],\n",
       "       [ 0.,  1.],\n",
       "       [ 0.,  1.],\n",
       "       [ 0.,  1.],\n",
       "       [ 0.,  1.],\n",
       "       [ 0.,  1.]])"
      ]
     },
     "execution_count": 18,
     "metadata": {},
     "output_type": "execute_result"
    }
   ],
   "source": [
    "labels = to_categorical(encoded_labels,num_classes=2)\n",
    "print(len(labels))\n",
    "labels"
   ]
  },
  {
   "cell_type": "code",
   "execution_count": 19,
   "metadata": {},
   "outputs": [
    {
     "name": "stdout",
     "output_type": "stream",
     "text": [
      "Shape of data tensor: (300, 1000)\n",
      "Shape of label tensor: (300, 2)\n"
     ]
    }
   ],
   "source": [
    "print('Shape of data tensor:', padded_docs.shape)\n",
    "print('Shape of label tensor:', labels.shape)"
   ]
  },
  {
   "cell_type": "code",
   "execution_count": 20,
   "metadata": {
    "collapsed": true
   },
   "outputs": [],
   "source": [
    "indices = np.arange(padded_docs.shape[0])\n",
    "np.random.shuffle(indices)\n",
    "padded_docs = padded_docs[indices]\n",
    "labels = labels[indices]"
   ]
  },
  {
   "cell_type": "code",
   "execution_count": 21,
   "metadata": {},
   "outputs": [
    {
     "name": "stdout",
     "output_type": "stream",
     "text": [
      "Loaded 400000 word vectors.\n"
     ]
    }
   ],
   "source": [
    "#loading glove\n",
    "\n",
    "embeddings_index = dict()\n",
    "f = open('/home/shabna/glove.6B.100d.txt')\n",
    "for line in f:\n",
    "    values = line.split()\n",
    "    word = values[0]\n",
    "    coefs = np.asarray(values[1:], dtype='float32')\n",
    "    embeddings_index[word] = coefs\n",
    "f.close()\n",
    "print('Loaded %s word vectors.' % len(embeddings_index))"
   ]
  },
  {
   "cell_type": "code",
   "execution_count": 22,
   "metadata": {
    "collapsed": true
   },
   "outputs": [],
   "source": [
    "# create a weight matrix for words in training docs\n",
    "embedding_matrix = np.zeros((vocab_size, 100))\n",
    "for word, i in t.word_index.items():\n",
    "    embedding_vector = embeddings_index.get(word)\n",
    "    if embedding_vector is not None:\n",
    "        embedding_matrix[i] = embedding_vector"
   ]
  },
  {
   "cell_type": "code",
   "execution_count": 23,
   "metadata": {
    "collapsed": true
   },
   "outputs": [],
   "source": [
    "#create model\n",
    "\n",
    "from keras.layers import Activation, Input, Dense, Flatten, Dropout, Embedding\n",
    "from keras.layers import Conv1D, MaxPooling1D,GlobalMaxPooling1D\n",
    "from keras.models import Model"
   ]
  },
  {
   "cell_type": "code",
   "execution_count": 24,
   "metadata": {
    "collapsed": true
   },
   "outputs": [],
   "source": [
    "from sklearn.model_selection import GridSearchCV\n",
    "from keras.wrappers.scikit_learn import KerasClassifier"
   ]
  },
  {
   "cell_type": "code",
   "execution_count": 25,
   "metadata": {
    "collapsed": true
   },
   "outputs": [],
   "source": [
    "def create_model():\n",
    "    model = Sequential()\n",
    "    e = Embedding(vocab_size,100, weights=[embedding_matrix], input_length=1000, trainable='true')\n",
    "    model.add(e)\n",
    "    model.add(Conv1D(100,5, activation='relu',name='l1'))\n",
    "    model.add(MaxPooling1D(pool_size=5,name='l2'))\n",
    "    model.add(Conv1D(100, 5, activation='relu',name='l3'))\n",
    "    model.add(GlobalMaxPooling1D(name='l4'))\n",
    "    #model.add(Dense(100, activation='relu',name='l5'))\n",
    "    model.add(Dropout(0.2))\n",
    "    #model.add(Flatten())\n",
    "    model.add(Dense(2, activation='softmax',name='l6'))\n",
    "    model.compile(optimizer='adam', loss='binary_crossentropy', metrics=['acc'])\n",
    "    return model"
   ]
  },
  {
   "cell_type": "code",
   "execution_count": 26,
   "metadata": {},
   "outputs": [
    {
     "name": "stdout",
     "output_type": "stream",
     "text": [
      "_________________________________________________________________\n",
      "Layer (type)                 Output Shape              Param #   \n",
      "=================================================================\n",
      "embedding_1 (Embedding)      (None, 1000, 100)         1630900   \n",
      "_________________________________________________________________\n",
      "l1 (Conv1D)                  (None, 996, 100)          50100     \n",
      "_________________________________________________________________\n",
      "l2 (MaxPooling1D)            (None, 199, 100)          0         \n",
      "_________________________________________________________________\n",
      "l3 (Conv1D)                  (None, 195, 100)          50100     \n",
      "_________________________________________________________________\n",
      "l4 (GlobalMaxPooling1D)      (None, 100)               0         \n",
      "_________________________________________________________________\n",
      "dropout_1 (Dropout)          (None, 100)               0         \n",
      "_________________________________________________________________\n",
      "l6 (Dense)                   (None, 2)                 202       \n",
      "=================================================================\n",
      "Total params: 1,731,302\n",
      "Trainable params: 1,731,302\n",
      "Non-trainable params: 0\n",
      "_________________________________________________________________\n"
     ]
    }
   ],
   "source": [
    "\n",
    "model = create_model()\n",
    "model.summary()"
   ]
  },
  {
   "cell_type": "code",
   "execution_count": null,
   "metadata": {
    "collapsed": true
   },
   "outputs": [],
   "source": [
    "learn_rate = [0.001, 0.01, 0.1, 0.2, 0.3]\n",
    "momentum = [0.0, 0.2, 0.4, 0.6, 0.8, 0.9]\n",
    "batch_size = [10, 20, 40, 60, 80, 100]\n",
    "epochs = [10, 50, 100]\n",
    "optimizer = ['SGD', 'RMSprop', 'Adagrad', 'Adadelta', 'Adam', 'Adamax', 'Nadam']\n",
    "\n",
    "param_grid = dict(learn_rate=learn_rate, momentum=momentum, batch_size=batch_size, epochs=epochs,optimizer=optimizer)\n",
    "    grid = GridSearchCV(estimator=model, param_grid=param_grid, n_jobs=-1)\n",
    "    grid_result = grid.fit(X_train, y_train,validation_data=(X_val,y_val))\n",
    "    \n",
    "    # summarize results\n",
    "    print(\"Best: %f using %s\" % (grid_result.best_score_, grid_result.best_params_))\n",
    "    means = grid_result.cv_results_['mean_test_score']\n",
    "    stds = grid_result.cv_results_['std_test_score']\n",
    "    params = grid_result.cv_results_['params']\n",
    "    for mean, stdev, param in zip(means, stds, params):\n",
    "        print(\"%f (%f) with: %r\" % (mean, stdev, param))"
   ]
  },
  {
   "cell_type": "code",
   "execution_count": 27,
   "metadata": {
    "collapsed": true
   },
   "outputs": [],
   "source": [
    "from keras.callbacks import ModelCheckpoint"
   ]
  },
  {
   "cell_type": "code",
   "execution_count": 28,
   "metadata": {
    "collapsed": true
   },
   "outputs": [],
   "source": [
    "from keras.callbacks import Callback"
   ]
  },
  {
   "cell_type": "code",
   "execution_count": 29,
   "metadata": {
    "collapsed": true
   },
   "outputs": [],
   "source": [
    "filepath=\"/home/shabna/Desktop/example_codes/weights_4_2.best.hdf5\"\n",
    "checkpoint = ModelCheckpoint(filepath, monitor='val_acc', verbose=1, save_best_only=\"True\", mode=\"max\")\n",
    "callbacks_list = [checkpoint]"
   ]
  },
  {
   "cell_type": "code",
   "execution_count": 30,
   "metadata": {},
   "outputs": [
    {
     "name": "stdout",
     "output_type": "stream",
     "text": [
      "1 :num of fold\n",
      "Train on 160 samples, validate on 80 samples\n",
      "Epoch 1/50\n",
      "100/160 [=================>............] - ETA: 2s - loss: 0.7594 - acc: 0.5500Epoch 00001: val_acc improved from -inf to 0.52500, saving model to /home/shabna/Desktop/example_codes/weights_4_2.best.hdf5\n",
      "160/160 [==============================] - 6s 40ms/step - loss: 0.8968 - acc: 0.5625 - val_loss: 0.6933 - val_acc: 0.5250\n",
      "Epoch 2/50\n",
      "100/160 [=================>............] - ETA: 1s - loss: 0.6345 - acc: 0.6100Epoch 00002: val_acc did not improve\n",
      "160/160 [==============================] - 5s 33ms/step - loss: 0.7166 - acc: 0.5750 - val_loss: 0.7726 - val_acc: 0.4875\n",
      "Epoch 3/50\n",
      "100/160 [=================>............] - ETA: 1s - loss: 0.6310 - acc: 0.5800Epoch 00003: val_acc did not improve\n",
      "160/160 [==============================] - 5s 33ms/step - loss: 0.5738 - acc: 0.6437 - val_loss: 0.7028 - val_acc: 0.5125\n",
      "Epoch 4/50\n",
      "100/160 [=================>............] - ETA: 1s - loss: 0.5291 - acc: 0.6500Epoch 00004: val_acc improved from 0.52500 to 0.60000, saving model to /home/shabna/Desktop/example_codes/weights_4_2.best.hdf5\n",
      "160/160 [==============================] - 6s 35ms/step - loss: 0.5128 - acc: 0.6750 - val_loss: 0.5945 - val_acc: 0.6000\n",
      "Epoch 5/50\n",
      "100/160 [=================>............] - ETA: 1s - loss: 0.3710 - acc: 0.8200Epoch 00005: val_acc improved from 0.60000 to 0.71250, saving model to /home/shabna/Desktop/example_codes/weights_4_2.best.hdf5\n",
      "160/160 [==============================] - 5s 34ms/step - loss: 0.3326 - acc: 0.8625 - val_loss: 0.5602 - val_acc: 0.7125\n",
      "Epoch 6/50\n",
      "100/160 [=================>............] - ETA: 1s - loss: 0.3109 - acc: 0.9100Epoch 00006: val_acc improved from 0.71250 to 0.72500, saving model to /home/shabna/Desktop/example_codes/weights_4_2.best.hdf5\n",
      "160/160 [==============================] - 5s 33ms/step - loss: 0.3255 - acc: 0.8813 - val_loss: 0.5424 - val_acc: 0.7250\n",
      "Epoch 7/50\n",
      "100/160 [=================>............] - ETA: 1s - loss: 0.2659 - acc: 0.8800Epoch 00007: val_acc improved from 0.72500 to 0.83750, saving model to /home/shabna/Desktop/example_codes/weights_4_2.best.hdf5\n",
      "160/160 [==============================] - 6s 35ms/step - loss: 0.2606 - acc: 0.9000 - val_loss: 0.4955 - val_acc: 0.8375\n",
      "Epoch 8/50\n",
      "100/160 [=================>............] - ETA: 1s - loss: 0.1772 - acc: 0.9800Epoch 00008: val_acc did not improve\n",
      "160/160 [==============================] - 5s 34ms/step - loss: 0.1795 - acc: 0.9750 - val_loss: 0.5962 - val_acc: 0.6375\n",
      "Epoch 9/50\n",
      "100/160 [=================>............] - ETA: 1s - loss: 0.2464 - acc: 0.9500Epoch 00009: val_acc did not improve\n",
      "160/160 [==============================] - 5s 33ms/step - loss: 0.2089 - acc: 0.9562 - val_loss: 0.5166 - val_acc: 0.7875\n",
      "Epoch 10/50\n",
      "100/160 [=================>............] - ETA: 1s - loss: 0.1403 - acc: 0.9900Epoch 00010: val_acc did not improve\n",
      "160/160 [==============================] - 5s 34ms/step - loss: 0.1451 - acc: 0.9875 - val_loss: 0.4657 - val_acc: 0.8250\n",
      "Epoch 11/50\n",
      "100/160 [=================>............] - ETA: 1s - loss: 0.1115 - acc: 0.9800Epoch 00011: val_acc did not improve\n",
      "160/160 [==============================] - 5s 33ms/step - loss: 0.1280 - acc: 0.9688 - val_loss: 0.4943 - val_acc: 0.7750\n",
      "Epoch 12/50\n",
      "100/160 [=================>............] - ETA: 1s - loss: 0.1069 - acc: 0.9900Epoch 00012: val_acc did not improve\n",
      "160/160 [==============================] - 5s 33ms/step - loss: 0.1310 - acc: 0.9750 - val_loss: 0.4700 - val_acc: 0.8125\n",
      "Epoch 13/50\n",
      "100/160 [=================>............] - ETA: 1s - loss: 0.1119 - acc: 0.9800Epoch 00013: val_acc improved from 0.83750 to 0.85000, saving model to /home/shabna/Desktop/example_codes/weights_4_2.best.hdf5\n",
      "160/160 [==============================] - 5s 33ms/step - loss: 0.1183 - acc: 0.9750 - val_loss: 0.4760 - val_acc: 0.8500\n",
      "Epoch 14/50\n",
      "100/160 [=================>............] - ETA: 1s - loss: 0.0759 - acc: 0.9900Epoch 00014: val_acc did not improve\n",
      "160/160 [==============================] - 5s 33ms/step - loss: 0.0835 - acc: 0.9875 - val_loss: 0.5123 - val_acc: 0.8250\n",
      "Epoch 15/50\n",
      "100/160 [=================>............] - ETA: 1s - loss: 0.0768 - acc: 0.9900Epoch 00015: val_acc did not improve\n",
      "160/160 [==============================] - 5s 33ms/step - loss: 0.0884 - acc: 0.9812 - val_loss: 0.5018 - val_acc: 0.8375\n",
      "Epoch 16/50\n",
      "100/160 [=================>............] - ETA: 1s - loss: 0.0925 - acc: 0.9800Epoch 00016: val_acc did not improve\n",
      "160/160 [==============================] - 5s 33ms/step - loss: 0.0875 - acc: 0.9813 - val_loss: 0.4716 - val_acc: 0.8250\n",
      "Epoch 17/50\n",
      "100/160 [=================>............] - ETA: 1s - loss: 0.0716 - acc: 0.9900Epoch 00017: val_acc did not improve\n",
      "160/160 [==============================] - 5s 33ms/step - loss: 0.0738 - acc: 0.9812 - val_loss: 0.4714 - val_acc: 0.8250\n",
      "Epoch 18/50\n",
      "100/160 [=================>............] - ETA: 1s - loss: 0.0791 - acc: 0.9700Epoch 00018: val_acc did not improve\n",
      "160/160 [==============================] - 5s 33ms/step - loss: 0.0700 - acc: 0.9813 - val_loss: 0.4787 - val_acc: 0.8125\n",
      "Epoch 19/50\n",
      "100/160 [=================>............] - ETA: 1s - loss: 0.0902 - acc: 0.9800Epoch 00019: val_acc did not improve\n",
      "160/160 [==============================] - 5s 33ms/step - loss: 0.0722 - acc: 0.9875 - val_loss: 0.4779 - val_acc: 0.8250\n",
      "Epoch 20/50\n",
      "100/160 [=================>............] - ETA: 1s - loss: 0.0604 - acc: 0.9800Epoch 00020: val_acc did not improve\n",
      "160/160 [==============================] - 5s 33ms/step - loss: 0.0649 - acc: 0.9750 - val_loss: 0.4853 - val_acc: 0.8250\n",
      "Epoch 21/50\n",
      "100/160 [=================>............] - ETA: 1s - loss: 0.0783 - acc: 0.9800Epoch 00021: val_acc improved from 0.85000 to 0.86250, saving model to /home/shabna/Desktop/example_codes/weights_4_2.best.hdf5\n",
      "160/160 [==============================] - 5s 33ms/step - loss: 0.0623 - acc: 0.9813 - val_loss: 0.5104 - val_acc: 0.8625\n",
      "Epoch 22/50\n",
      "100/160 [=================>............] - ETA: 1s - loss: 0.0457 - acc: 0.9900Epoch 00022: val_acc did not improve\n",
      "160/160 [==============================] - 5s 33ms/step - loss: 0.0663 - acc: 0.9688 - val_loss: 0.5338 - val_acc: 0.8250\n",
      "Epoch 23/50\n",
      "100/160 [=================>............] - ETA: 1s - loss: 0.0662 - acc: 0.9700Epoch 00023: val_acc did not improve\n",
      "160/160 [==============================] - 5s 33ms/step - loss: 0.0647 - acc: 0.9750 - val_loss: 0.5145 - val_acc: 0.8625\n",
      "Epoch 24/50\n",
      "100/160 [=================>............] - ETA: 1s - loss: 0.0663 - acc: 0.9700Epoch 00024: val_acc did not improve\n",
      "160/160 [==============================] - 5s 33ms/step - loss: 0.0568 - acc: 0.9750 - val_loss: 0.5010 - val_acc: 0.8250\n",
      "Epoch 25/50\n",
      "100/160 [=================>............] - ETA: 1s - loss: 0.0612 - acc: 0.9700Epoch 00025: val_acc did not improve\n",
      "160/160 [==============================] - 5s 33ms/step - loss: 0.0585 - acc: 0.9750 - val_loss: 0.5031 - val_acc: 0.8250\n",
      "Epoch 26/50\n",
      "100/160 [=================>............] - ETA: 1s - loss: 0.0427 - acc: 0.9800Epoch 00026: val_acc did not improve\n",
      "160/160 [==============================] - 5s 33ms/step - loss: 0.0600 - acc: 0.9750 - val_loss: 0.5065 - val_acc: 0.8250\n",
      "Epoch 27/50\n",
      "100/160 [=================>............] - ETA: 1s - loss: 0.0631 - acc: 0.9800Epoch 00027: val_acc did not improve\n",
      "160/160 [==============================] - 5s 33ms/step - loss: 0.0638 - acc: 0.9813 - val_loss: 0.5120 - val_acc: 0.8250\n",
      "Epoch 28/50\n",
      "100/160 [=================>............] - ETA: 1s - loss: 0.0725 - acc: 0.9600Epoch 00028: val_acc did not improve\n",
      "160/160 [==============================] - 5s 33ms/step - loss: 0.0621 - acc: 0.9687 - val_loss: 0.5403 - val_acc: 0.8625\n",
      "Epoch 29/50\n",
      "100/160 [=================>............] - ETA: 1s - loss: 0.0422 - acc: 0.9900Epoch 00029: val_acc did not improve\n",
      "160/160 [==============================] - 5s 33ms/step - loss: 0.0463 - acc: 0.9812 - val_loss: 0.5585 - val_acc: 0.8500\n",
      "Epoch 30/50\n",
      "100/160 [=================>............] - ETA: 1s - loss: 0.0411 - acc: 0.9900Epoch 00030: val_acc did not improve\n",
      "160/160 [==============================] - 5s 33ms/step - loss: 0.0513 - acc: 0.9812 - val_loss: 0.5417 - val_acc: 0.8625\n",
      "Epoch 31/50\n"
     ]
    },
    {
     "name": "stdout",
     "output_type": "stream",
     "text": [
      "100/160 [=================>............] - ETA: 1s - loss: 0.0586 - acc: 0.9700Epoch 00031: val_acc did not improve\n",
      "160/160 [==============================] - 5s 33ms/step - loss: 0.0467 - acc: 0.9813 - val_loss: 0.5272 - val_acc: 0.8375\n",
      "Epoch 32/50\n",
      "100/160 [=================>............] - ETA: 1s - loss: 0.0467 - acc: 0.9700Epoch 00032: val_acc did not improve\n",
      "160/160 [==============================] - 5s 33ms/step - loss: 0.0402 - acc: 0.9813 - val_loss: 0.5243 - val_acc: 0.8250\n",
      "Epoch 33/50\n",
      "100/160 [=================>............] - ETA: 1s - loss: 0.0501 - acc: 0.9800Epoch 00033: val_acc did not improve\n",
      "160/160 [==============================] - 5s 33ms/step - loss: 0.0445 - acc: 0.9813 - val_loss: 0.5266 - val_acc: 0.8250\n",
      "Epoch 34/50\n",
      "100/160 [=================>............] - ETA: 1s - loss: 0.0277 - acc: 0.9900Epoch 00034: val_acc did not improve\n",
      "160/160 [==============================] - 5s 33ms/step - loss: 0.0425 - acc: 0.9812 - val_loss: 0.5302 - val_acc: 0.8375\n",
      "Epoch 35/50\n",
      "100/160 [=================>............] - ETA: 1s - loss: 0.0288 - acc: 0.9900Epoch 00035: val_acc did not improve\n",
      "160/160 [==============================] - 5s 33ms/step - loss: 0.0416 - acc: 0.9875 - val_loss: 0.5315 - val_acc: 0.8250\n",
      "Epoch 36/50\n",
      "100/160 [=================>............] - ETA: 1s - loss: 0.0392 - acc: 0.9800Epoch 00036: val_acc did not improve\n",
      "160/160 [==============================] - 5s 33ms/step - loss: 0.0425 - acc: 0.9750 - val_loss: 0.5321 - val_acc: 0.8250\n",
      "Epoch 37/50\n",
      "100/160 [=================>............] - ETA: 1s - loss: 0.0562 - acc: 0.9500Epoch 00037: val_acc did not improve\n",
      "160/160 [==============================] - 5s 33ms/step - loss: 0.0494 - acc: 0.9625 - val_loss: 0.5342 - val_acc: 0.8250\n",
      "Epoch 38/50\n",
      "100/160 [=================>............] - ETA: 1s - loss: 0.0462 - acc: 0.9700Epoch 00038: val_acc did not improve\n",
      "160/160 [==============================] - 5s 33ms/step - loss: 0.0325 - acc: 0.9813 - val_loss: 0.5376 - val_acc: 0.8250\n",
      "Epoch 39/50\n",
      "100/160 [=================>............] - ETA: 1s - loss: 0.0296 - acc: 0.9900Epoch 00039: val_acc did not improve\n",
      "160/160 [==============================] - 5s 33ms/step - loss: 0.0398 - acc: 0.9812 - val_loss: 0.5428 - val_acc: 0.8375\n",
      "Epoch 40/50\n",
      "100/160 [=================>............] - ETA: 1s - loss: 0.0400 - acc: 0.9900Epoch 00040: val_acc did not improve\n",
      "160/160 [==============================] - 5s 33ms/step - loss: 0.0318 - acc: 0.9938 - val_loss: 0.5459 - val_acc: 0.8375\n",
      "Epoch 41/50\n",
      "100/160 [=================>............] - ETA: 1s - loss: 0.0528 - acc: 0.9600Epoch 00041: val_acc did not improve\n",
      "160/160 [==============================] - 5s 33ms/step - loss: 0.0424 - acc: 0.9687 - val_loss: 0.5517 - val_acc: 0.8500\n",
      "Epoch 42/50\n",
      "100/160 [=================>............] - ETA: 1s - loss: 0.0353 - acc: 0.9800Epoch 00042: val_acc did not improve\n",
      "160/160 [==============================] - 5s 33ms/step - loss: 0.0328 - acc: 0.9875 - val_loss: 0.5559 - val_acc: 0.8625\n",
      "Epoch 43/50\n",
      "100/160 [=================>............] - ETA: 1s - loss: 0.0359 - acc: 1.0000Epoch 00043: val_acc did not improve\n",
      "160/160 [==============================] - 5s 33ms/step - loss: 0.0319 - acc: 0.9938 - val_loss: 0.5599 - val_acc: 0.8625\n",
      "Epoch 44/50\n",
      "100/160 [=================>............] - ETA: 1s - loss: 0.0234 - acc: 1.0000Epoch 00044: val_acc did not improve\n",
      "160/160 [==============================] - 5s 33ms/step - loss: 0.0310 - acc: 0.9875 - val_loss: 0.5618 - val_acc: 0.8625\n",
      "Epoch 45/50\n",
      "100/160 [=================>............] - ETA: 1s - loss: 0.0230 - acc: 0.9900Epoch 00045: val_acc did not improve\n",
      "160/160 [==============================] - 5s 33ms/step - loss: 0.0378 - acc: 0.9750 - val_loss: 0.5550 - val_acc: 0.8375\n",
      "Epoch 46/50\n",
      "100/160 [=================>............] - ETA: 1s - loss: 0.0296 - acc: 0.9900Epoch 00046: val_acc did not improve\n",
      "160/160 [==============================] - 5s 33ms/step - loss: 0.0326 - acc: 0.9875 - val_loss: 0.5548 - val_acc: 0.8250\n",
      "Epoch 47/50\n",
      "100/160 [=================>............] - ETA: 1s - loss: 0.0430 - acc: 0.9900Epoch 00047: val_acc did not improve\n",
      "160/160 [==============================] - 5s 33ms/step - loss: 0.0444 - acc: 0.9812 - val_loss: 0.5573 - val_acc: 0.8250\n",
      "Epoch 48/50\n",
      "100/160 [=================>............] - ETA: 1s - loss: 0.0263 - acc: 0.9900Epoch 00048: val_acc did not improve\n",
      "160/160 [==============================] - 5s 33ms/step - loss: 0.0276 - acc: 0.9938 - val_loss: 0.5619 - val_acc: 0.8375\n",
      "Epoch 49/50\n",
      "100/160 [=================>............] - ETA: 1s - loss: 0.0252 - acc: 0.9900Epoch 00049: val_acc did not improve\n",
      "160/160 [==============================] - 5s 33ms/step - loss: 0.0401 - acc: 0.9812 - val_loss: 0.5736 - val_acc: 0.8625\n",
      "Epoch 50/50\n",
      "100/160 [=================>............] - ETA: 1s - loss: 0.0392 - acc: 0.9700Epoch 00050: val_acc did not improve\n",
      "160/160 [==============================] - 5s 34ms/step - loss: 0.0400 - acc: 0.9750 - val_loss: 0.5869 - val_acc: 0.8625\n",
      "2 :num of fold\n",
      "Train on 160 samples, validate on 80 samples\n",
      "Epoch 1/50\n",
      "100/160 [=================>............] - ETA: 1s - loss: 0.2783 - acc: 0.9300Epoch 00001: val_acc improved from 0.86250 to 0.96250, saving model to /home/shabna/Desktop/example_codes/weights_4_2.best.hdf5\n",
      "160/160 [==============================] - 5s 33ms/step - loss: 0.3132 - acc: 0.9125 - val_loss: 0.0436 - val_acc: 0.9625\n",
      "Epoch 2/50\n",
      "100/160 [=================>............] - ETA: 1s - loss: 0.3054 - acc: 0.9100Epoch 00002: val_acc improved from 0.96250 to 0.97500, saving model to /home/shabna/Desktop/example_codes/weights_4_2.best.hdf5\n",
      "160/160 [==============================] - 5s 33ms/step - loss: 0.2848 - acc: 0.9063 - val_loss: 0.0565 - val_acc: 0.9750\n",
      "Epoch 3/50\n",
      "100/160 [=================>............] - ETA: 1s - loss: 0.1411 - acc: 0.9400Epoch 00003: val_acc did not improve\n",
      "160/160 [==============================] - 5s 33ms/step - loss: 0.2060 - acc: 0.9125 - val_loss: 0.0679 - val_acc: 0.9625\n",
      "Epoch 4/50\n",
      "100/160 [=================>............] - ETA: 1s - loss: 0.1024 - acc: 0.9500Epoch 00004: val_acc did not improve\n",
      "160/160 [==============================] - 5s 33ms/step - loss: 0.1406 - acc: 0.9375 - val_loss: 0.0886 - val_acc: 0.9625\n",
      "Epoch 5/50\n",
      "100/160 [=================>............] - ETA: 1s - loss: 0.0877 - acc: 0.9700Epoch 00005: val_acc did not improve\n",
      "160/160 [==============================] - 5s 33ms/step - loss: 0.1180 - acc: 0.9563 - val_loss: 0.1175 - val_acc: 0.9500\n",
      "Epoch 6/50\n",
      "100/160 [=================>............] - ETA: 1s - loss: 0.0609 - acc: 0.9800Epoch 00006: val_acc did not improve\n",
      "160/160 [==============================] - 5s 33ms/step - loss: 0.0720 - acc: 0.9750 - val_loss: 0.1551 - val_acc: 0.9375\n",
      "Epoch 7/50\n",
      "100/160 [=================>............] - ETA: 1s - loss: 0.0599 - acc: 0.9900Epoch 00007: val_acc did not improve\n",
      "160/160 [==============================] - 5s 33ms/step - loss: 0.0750 - acc: 0.9750 - val_loss: 0.2009 - val_acc: 0.9375\n",
      "Epoch 8/50\n",
      "100/160 [=================>............] - ETA: 1s - loss: 0.0702 - acc: 0.9800Epoch 00008: val_acc did not improve\n",
      "160/160 [==============================] - 5s 33ms/step - loss: 0.0714 - acc: 0.9813 - val_loss: 0.2196 - val_acc: 0.9375\n",
      "Epoch 9/50\n",
      "100/160 [=================>............] - ETA: 1s - loss: 0.0695 - acc: 0.9600Epoch 00009: val_acc did not improve\n",
      "160/160 [==============================] - 5s 34ms/step - loss: 0.0603 - acc: 0.9687 - val_loss: 0.2233 - val_acc: 0.9375\n",
      "Epoch 10/50\n",
      "100/160 [=================>............] - ETA: 1s - loss: 0.0449 - acc: 0.9700Epoch 00010: val_acc did not improve\n",
      "160/160 [==============================] - 5s 33ms/step - loss: 0.0492 - acc: 0.9750 - val_loss: 0.2319 - val_acc: 0.9375\n",
      "Epoch 11/50\n",
      "100/160 [=================>............] - ETA: 1s - loss: 0.0593 - acc: 0.9800Epoch 00011: val_acc did not improve\n",
      "160/160 [==============================] - 5s 33ms/step - loss: 0.0579 - acc: 0.9813 - val_loss: 0.2473 - val_acc: 0.9375\n",
      "Epoch 12/50\n",
      "100/160 [=================>............] - ETA: 1s - loss: 0.0278 - acc: 1.0000Epoch 00012: val_acc did not improve\n",
      "160/160 [==============================] - 5s 33ms/step - loss: 0.0534 - acc: 0.9750 - val_loss: 0.2722 - val_acc: 0.9375\n"
     ]
    },
    {
     "name": "stdout",
     "output_type": "stream",
     "text": [
      "Epoch 13/50\n",
      "100/160 [=================>............] - ETA: 1s - loss: 0.0537 - acc: 0.9900Epoch 00013: val_acc did not improve\n",
      "160/160 [==============================] - 5s 33ms/step - loss: 0.0516 - acc: 0.9812 - val_loss: 0.2966 - val_acc: 0.9375\n",
      "Epoch 14/50\n",
      "100/160 [=================>............] - ETA: 1s - loss: 0.0503 - acc: 0.9800Epoch 00014: val_acc did not improve\n",
      "160/160 [==============================] - 6s 36ms/step - loss: 0.0529 - acc: 0.9750 - val_loss: 0.3120 - val_acc: 0.9375\n",
      "Epoch 15/50\n",
      "100/160 [=================>............] - ETA: 1s - loss: 0.0724 - acc: 0.9600Epoch 00015: val_acc did not improve\n",
      "160/160 [==============================] - 5s 33ms/step - loss: 0.0630 - acc: 0.9687 - val_loss: 0.3125 - val_acc: 0.9375\n",
      "Epoch 16/50\n",
      "100/160 [=================>............] - ETA: 1s - loss: 0.0414 - acc: 0.9800Epoch 00016: val_acc did not improve\n",
      "160/160 [==============================] - 5s 33ms/step - loss: 0.0593 - acc: 0.9688 - val_loss: 0.3032 - val_acc: 0.9375\n",
      "Epoch 17/50\n",
      "100/160 [=================>............] - ETA: 1s - loss: 0.0456 - acc: 0.9700Epoch 00017: val_acc did not improve\n",
      "160/160 [==============================] - 5s 33ms/step - loss: 0.0464 - acc: 0.9688 - val_loss: 0.2905 - val_acc: 0.9375\n",
      "Epoch 18/50\n",
      "100/160 [=================>............] - ETA: 1s - loss: 0.0714 - acc: 0.9500Epoch 00018: val_acc did not improve\n",
      "160/160 [==============================] - 5s 33ms/step - loss: 0.0479 - acc: 0.9687 - val_loss: 0.2848 - val_acc: 0.9375\n",
      "Epoch 19/50\n",
      "100/160 [=================>............] - ETA: 1s - loss: 0.0364 - acc: 0.9800Epoch 00019: val_acc did not improve\n",
      "160/160 [==============================] - 5s 33ms/step - loss: 0.0449 - acc: 0.9750 - val_loss: 0.2877 - val_acc: 0.9375\n",
      "Epoch 20/50\n",
      "100/160 [=================>............] - ETA: 1s - loss: 0.0658 - acc: 0.9700Epoch 00020: val_acc did not improve\n",
      "160/160 [==============================] - 5s 33ms/step - loss: 0.0589 - acc: 0.9688 - val_loss: 0.3068 - val_acc: 0.9375\n",
      "Epoch 21/50\n",
      "100/160 [=================>............] - ETA: 1s - loss: 0.0261 - acc: 0.9800Epoch 00021: val_acc did not improve\n",
      "160/160 [==============================] - 5s 33ms/step - loss: 0.0500 - acc: 0.9625 - val_loss: 0.3242 - val_acc: 0.9375\n",
      "Epoch 22/50\n",
      "100/160 [=================>............] - ETA: 1s - loss: 0.0426 - acc: 0.9700Epoch 00022: val_acc did not improve\n",
      "160/160 [==============================] - 5s 33ms/step - loss: 0.0631 - acc: 0.9563 - val_loss: 0.3300 - val_acc: 0.9375\n",
      "Epoch 23/50\n",
      "100/160 [=================>............] - ETA: 1s - loss: 0.0434 - acc: 0.9800Epoch 00023: val_acc did not improve\n",
      "160/160 [==============================] - 5s 33ms/step - loss: 0.0496 - acc: 0.9813 - val_loss: 0.3135 - val_acc: 0.9375\n",
      "Epoch 24/50\n",
      "100/160 [=================>............] - ETA: 1s - loss: 0.0535 - acc: 0.9500Epoch 00024: val_acc did not improve\n",
      "160/160 [==============================] - 5s 33ms/step - loss: 0.0425 - acc: 0.9687 - val_loss: 0.3016 - val_acc: 0.9375\n",
      "Epoch 25/50\n",
      "100/160 [=================>............] - ETA: 1s - loss: 0.0329 - acc: 0.9800Epoch 00025: val_acc did not improve\n",
      "160/160 [==============================] - 5s 33ms/step - loss: 0.0343 - acc: 0.9813 - val_loss: 0.2985 - val_acc: 0.9375\n",
      "Epoch 26/50\n",
      "100/160 [=================>............] - ETA: 1s - loss: 0.0678 - acc: 0.9600Epoch 00026: val_acc did not improve\n",
      "160/160 [==============================] - 5s 33ms/step - loss: 0.0692 - acc: 0.9625 - val_loss: 0.3078 - val_acc: 0.9375\n",
      "Epoch 27/50\n",
      "100/160 [=================>............] - ETA: 1s - loss: 0.0571 - acc: 0.9700Epoch 00027: val_acc did not improve\n",
      "160/160 [==============================] - 5s 33ms/step - loss: 0.0465 - acc: 0.9750 - val_loss: 0.3194 - val_acc: 0.9375\n",
      "Epoch 28/50\n",
      "100/160 [=================>............] - ETA: 1s - loss: 0.0476 - acc: 0.9700Epoch 00028: val_acc did not improve\n",
      "160/160 [==============================] - 5s 33ms/step - loss: 0.0342 - acc: 0.9813 - val_loss: 0.3217 - val_acc: 0.9375\n",
      "Epoch 29/50\n",
      "100/160 [=================>............] - ETA: 1s - loss: 0.0231 - acc: 0.9900Epoch 00029: val_acc did not improve\n",
      "160/160 [==============================] - 5s 33ms/step - loss: 0.0410 - acc: 0.9750 - val_loss: 0.3279 - val_acc: 0.9375\n",
      "Epoch 30/50\n",
      "100/160 [=================>............] - ETA: 1s - loss: 0.0689 - acc: 0.9600Epoch 00030: val_acc did not improve\n",
      "160/160 [==============================] - 5s 33ms/step - loss: 0.0509 - acc: 0.9687 - val_loss: 0.3268 - val_acc: 0.9375\n",
      "Epoch 31/50\n",
      "100/160 [=================>............] - ETA: 1s - loss: 0.0266 - acc: 0.9900Epoch 00031: val_acc did not improve\n",
      "160/160 [==============================] - 5s 33ms/step - loss: 0.0372 - acc: 0.9875 - val_loss: 0.3208 - val_acc: 0.9375\n",
      "Epoch 32/50\n",
      "100/160 [=================>............] - ETA: 1s - loss: 0.0481 - acc: 0.9800Epoch 00032: val_acc did not improve\n",
      "160/160 [==============================] - 5s 33ms/step - loss: 0.0430 - acc: 0.9813 - val_loss: 0.3203 - val_acc: 0.9375\n",
      "Epoch 33/50\n",
      "100/160 [=================>............] - ETA: 1s - loss: 0.0427 - acc: 0.9700Epoch 00033: val_acc did not improve\n",
      "160/160 [==============================] - 5s 33ms/step - loss: 0.0480 - acc: 0.9688 - val_loss: 0.3180 - val_acc: 0.9375\n",
      "Epoch 34/50\n",
      "100/160 [=================>............] - ETA: 1s - loss: 0.0353 - acc: 0.9900Epoch 00034: val_acc did not improve\n",
      "160/160 [==============================] - 5s 33ms/step - loss: 0.0397 - acc: 0.9875 - val_loss: 0.3112 - val_acc: 0.9375\n",
      "Epoch 35/50\n",
      "100/160 [=================>............] - ETA: 1s - loss: 0.0401 - acc: 0.9800Epoch 00035: val_acc did not improve\n",
      "160/160 [==============================] - 5s 33ms/step - loss: 0.0391 - acc: 0.9750 - val_loss: 0.3067 - val_acc: 0.9375\n",
      "Epoch 36/50\n",
      "100/160 [=================>............] - ETA: 1s - loss: 0.0505 - acc: 0.9600Epoch 00036: val_acc did not improve\n",
      "160/160 [==============================] - 5s 33ms/step - loss: 0.0435 - acc: 0.9687 - val_loss: 0.3090 - val_acc: 0.9375\n",
      "Epoch 37/50\n",
      "100/160 [=================>............] - ETA: 1s - loss: 0.0328 - acc: 0.9900Epoch 00037: val_acc did not improve\n",
      "160/160 [==============================] - 5s 33ms/step - loss: 0.0416 - acc: 0.9812 - val_loss: 0.3179 - val_acc: 0.9375\n",
      "Epoch 38/50\n",
      "100/160 [=================>............] - ETA: 1s - loss: 0.0372 - acc: 0.9800Epoch 00038: val_acc did not improve\n",
      "160/160 [==============================] - 5s 33ms/step - loss: 0.0367 - acc: 0.9813 - val_loss: 0.3236 - val_acc: 0.9375\n",
      "Epoch 39/50\n",
      "100/160 [=================>............] - ETA: 1s - loss: 0.0179 - acc: 1.0000Epoch 00039: val_acc did not improve\n",
      "160/160 [==============================] - 5s 33ms/step - loss: 0.0342 - acc: 0.9875 - val_loss: 0.3302 - val_acc: 0.9375\n",
      "Epoch 40/50\n",
      "100/160 [=================>............] - ETA: 1s - loss: 0.0515 - acc: 0.9600Epoch 00040: val_acc did not improve\n",
      "160/160 [==============================] - 5s 33ms/step - loss: 0.0541 - acc: 0.9625 - val_loss: 0.3298 - val_acc: 0.9375\n",
      "Epoch 41/50\n",
      "100/160 [=================>............] - ETA: 1s - loss: 0.0542 - acc: 0.9700Epoch 00041: val_acc did not improve\n",
      "160/160 [==============================] - 5s 33ms/step - loss: 0.0400 - acc: 0.9750 - val_loss: 0.3259 - val_acc: 0.9375\n",
      "Epoch 42/50\n",
      "100/160 [=================>............] - ETA: 1s - loss: 0.0303 - acc: 0.9800Epoch 00042: val_acc did not improve\n",
      "160/160 [==============================] - 5s 33ms/step - loss: 0.0411 - acc: 0.9688 - val_loss: 0.3223 - val_acc: 0.9375\n",
      "Epoch 43/50\n",
      "100/160 [=================>............] - ETA: 1s - loss: 0.0107 - acc: 1.0000Epoch 00043: val_acc did not improve\n",
      "160/160 [==============================] - 5s 33ms/step - loss: 0.0331 - acc: 0.9875 - val_loss: 0.3231 - val_acc: 0.9375\n",
      "Epoch 44/50\n",
      "100/160 [=================>............] - ETA: 1s - loss: 0.0448 - acc: 0.9700Epoch 00044: val_acc did not improve\n",
      "160/160 [==============================] - 5s 33ms/step - loss: 0.0586 - acc: 0.9688 - val_loss: 0.3184 - val_acc: 0.9375\n",
      "Epoch 45/50\n",
      "100/160 [=================>............] - ETA: 2s - loss: 0.0190 - acc: 0.9900Epoch 00045: val_acc did not improve\n",
      "160/160 [==============================] - 7s 42ms/step - loss: 0.0480 - acc: 0.9750 - val_loss: 0.3225 - val_acc: 0.9375\n"
     ]
    },
    {
     "name": "stdout",
     "output_type": "stream",
     "text": [
      "Epoch 46/50\n",
      "100/160 [=================>............] - ETA: 1s - loss: 0.0495 - acc: 0.9700Epoch 00046: val_acc did not improve\n",
      "160/160 [==============================] - 6s 34ms/step - loss: 0.0479 - acc: 0.9688 - val_loss: 0.3321 - val_acc: 0.9375\n",
      "Epoch 47/50\n",
      "100/160 [=================>............] - ETA: 1s - loss: 0.0662 - acc: 0.9600Epoch 00047: val_acc did not improve\n",
      "160/160 [==============================] - 5s 33ms/step - loss: 0.0513 - acc: 0.9687 - val_loss: 0.3334 - val_acc: 0.9375\n",
      "Epoch 48/50\n",
      "100/160 [=================>............] - ETA: 1s - loss: 0.0515 - acc: 0.9700Epoch 00048: val_acc did not improve\n",
      "160/160 [==============================] - 5s 33ms/step - loss: 0.0524 - acc: 0.9750 - val_loss: 0.3284 - val_acc: 0.9375\n",
      "Epoch 49/50\n",
      "100/160 [=================>............] - ETA: 1s - loss: 0.0543 - acc: 0.9700Epoch 00049: val_acc did not improve\n",
      "160/160 [==============================] - 5s 33ms/step - loss: 0.0534 - acc: 0.9688 - val_loss: 0.3158 - val_acc: 0.9375\n",
      "Epoch 50/50\n",
      "100/160 [=================>............] - ETA: 1s - loss: 0.0511 - acc: 0.9800Epoch 00050: val_acc did not improve\n",
      "160/160 [==============================] - 5s 33ms/step - loss: 0.0498 - acc: 0.9813 - val_loss: 0.3186 - val_acc: 0.9375\n",
      "3 :num of fold\n",
      "Train on 160 samples, validate on 80 samples\n",
      "Epoch 1/50\n",
      "100/160 [=================>............] - ETA: 1s - loss: 0.1462 - acc: 0.9500Epoch 00001: val_acc did not improve\n",
      "160/160 [==============================] - 5s 34ms/step - loss: 0.1728 - acc: 0.9562 - val_loss: 0.0563 - val_acc: 0.9750\n",
      "Epoch 2/50\n",
      "100/160 [=================>............] - ETA: 1s - loss: 0.0405 - acc: 0.9800Epoch 00002: val_acc did not improve\n",
      "160/160 [==============================] - 6s 36ms/step - loss: 0.1510 - acc: 0.9563 - val_loss: 0.0645 - val_acc: 0.9750\n",
      "Epoch 3/50\n",
      "100/160 [=================>............] - ETA: 1s - loss: 0.1432 - acc: 0.9500Epoch 00003: val_acc did not improve\n",
      "160/160 [==============================] - 5s 34ms/step - loss: 0.1419 - acc: 0.9500 - val_loss: 0.0800 - val_acc: 0.9500\n",
      "Epoch 4/50\n",
      "100/160 [=================>............] - ETA: 1s - loss: 0.0900 - acc: 0.9800Epoch 00004: val_acc did not improve\n",
      "160/160 [==============================] - 5s 34ms/step - loss: 0.0880 - acc: 0.9688 - val_loss: 0.1059 - val_acc: 0.9375\n",
      "Epoch 5/50\n",
      "100/160 [=================>............] - ETA: 1s - loss: 0.0756 - acc: 0.9800Epoch 00005: val_acc did not improve\n",
      "160/160 [==============================] - 5s 33ms/step - loss: 0.0640 - acc: 0.9813 - val_loss: 0.1430 - val_acc: 0.9250\n",
      "Epoch 6/50\n",
      "100/160 [=================>............] - ETA: 1s - loss: 0.0522 - acc: 0.9800Epoch 00006: val_acc did not improve\n",
      "160/160 [==============================] - 5s 33ms/step - loss: 0.0467 - acc: 0.9813 - val_loss: 0.1947 - val_acc: 0.9250\n",
      "Epoch 7/50\n",
      "100/160 [=================>............] - ETA: 1s - loss: 0.0379 - acc: 0.9900Epoch 00007: val_acc did not improve\n",
      "160/160 [==============================] - 5s 33ms/step - loss: 0.0417 - acc: 0.9875 - val_loss: 0.2445 - val_acc: 0.9250\n",
      "Epoch 8/50\n",
      "100/160 [=================>............] - ETA: 1s - loss: 0.0173 - acc: 1.0000Epoch 00008: val_acc did not improve\n",
      "160/160 [==============================] - 5s 33ms/step - loss: 0.0414 - acc: 0.9812 - val_loss: 0.2858 - val_acc: 0.9250\n",
      "Epoch 9/50\n",
      "100/160 [=================>............] - ETA: 1s - loss: 0.0543 - acc: 0.9800Epoch 00009: val_acc did not improve\n",
      "160/160 [==============================] - 5s 33ms/step - loss: 0.0568 - acc: 0.9750 - val_loss: 0.3062 - val_acc: 0.9250\n",
      "Epoch 10/50\n",
      "100/160 [=================>............] - ETA: 1s - loss: 0.0523 - acc: 0.9700Epoch 00010: val_acc did not improve\n",
      "160/160 [==============================] - 5s 33ms/step - loss: 0.0496 - acc: 0.9750 - val_loss: 0.3122 - val_acc: 0.9250\n",
      "Epoch 11/50\n",
      "100/160 [=================>............] - ETA: 1s - loss: 0.0296 - acc: 0.9900Epoch 00011: val_acc did not improve\n",
      "160/160 [==============================] - 5s 33ms/step - loss: 0.0324 - acc: 0.9875 - val_loss: 0.3153 - val_acc: 0.9250\n",
      "Epoch 12/50\n",
      "100/160 [=================>............] - ETA: 1s - loss: 0.0438 - acc: 0.9800Epoch 00012: val_acc did not improve\n",
      "160/160 [==============================] - 5s 33ms/step - loss: 0.0472 - acc: 0.9813 - val_loss: 0.3321 - val_acc: 0.9250\n",
      "Epoch 13/50\n",
      "100/160 [=================>............] - ETA: 1s - loss: 0.0435 - acc: 0.9900Epoch 00013: val_acc did not improve\n",
      "160/160 [==============================] - 6s 35ms/step - loss: 0.0322 - acc: 0.9938 - val_loss: 0.3504 - val_acc: 0.9250\n",
      "Epoch 14/50\n",
      "100/160 [=================>............] - ETA: 1s - loss: 0.0195 - acc: 0.9900Epoch 00014: val_acc did not improve\n",
      "160/160 [==============================] - 6s 35ms/step - loss: 0.0412 - acc: 0.9750 - val_loss: 0.3631 - val_acc: 0.9250\n",
      "Epoch 15/50\n",
      "100/160 [=================>............] - ETA: 1s - loss: 0.0400 - acc: 0.9900Epoch 00015: val_acc did not improve\n",
      "160/160 [==============================] - 5s 33ms/step - loss: 0.0381 - acc: 0.9812 - val_loss: 0.3687 - val_acc: 0.9250\n",
      "Epoch 16/50\n",
      "100/160 [=================>............] - ETA: 1s - loss: 0.0373 - acc: 0.9800Epoch 00016: val_acc did not improve\n",
      "160/160 [==============================] - 5s 33ms/step - loss: 0.0335 - acc: 0.9813 - val_loss: 0.3817 - val_acc: 0.9250\n",
      "Epoch 17/50\n",
      "100/160 [=================>............] - ETA: 1s - loss: 0.0249 - acc: 0.9800Epoch 00017: val_acc did not improve\n",
      "160/160 [==============================] - 5s 33ms/step - loss: 0.0465 - acc: 0.9750 - val_loss: 0.3855 - val_acc: 0.9250\n",
      "Epoch 18/50\n",
      "100/160 [=================>............] - ETA: 1s - loss: 0.0764 - acc: 0.9700Epoch 00018: val_acc did not improve\n",
      "160/160 [==============================] - 5s 34ms/step - loss: 0.0540 - acc: 0.9750 - val_loss: 0.3810 - val_acc: 0.9250\n",
      "Epoch 19/50\n",
      "100/160 [=================>............] - ETA: 1s - loss: 0.0386 - acc: 0.9800Epoch 00019: val_acc did not improve\n",
      "160/160 [==============================] - 5s 33ms/step - loss: 0.0423 - acc: 0.9813 - val_loss: 0.3726 - val_acc: 0.9250\n",
      "Epoch 20/50\n",
      "100/160 [=================>............] - ETA: 1s - loss: 0.0360 - acc: 0.9900Epoch 00020: val_acc did not improve\n",
      "160/160 [==============================] - 5s 33ms/step - loss: 0.0435 - acc: 0.9812 - val_loss: 0.3740 - val_acc: 0.9250\n",
      "Epoch 21/50\n",
      "100/160 [=================>............] - ETA: 1s - loss: 0.0705 - acc: 0.9500Epoch 00021: val_acc did not improve\n",
      "160/160 [==============================] - 5s 33ms/step - loss: 0.0457 - acc: 0.9687 - val_loss: 0.3775 - val_acc: 0.9250\n",
      "Epoch 22/50\n",
      "100/160 [=================>............] - ETA: 1s - loss: 0.0453 - acc: 0.9800Epoch 00022: val_acc did not improve\n",
      "160/160 [==============================] - 5s 33ms/step - loss: 0.0364 - acc: 0.9813 - val_loss: 0.3826 - val_acc: 0.9250\n",
      "Epoch 23/50\n",
      "100/160 [=================>............] - ETA: 1s - loss: 0.0583 - acc: 0.9800Epoch 00023: val_acc did not improve\n",
      "160/160 [==============================] - 5s 33ms/step - loss: 0.0429 - acc: 0.9813 - val_loss: 0.3896 - val_acc: 0.9250\n",
      "Epoch 24/50\n",
      "100/160 [=================>............] - ETA: 1s - loss: 0.0572 - acc: 0.9600Epoch 00024: val_acc did not improve\n",
      "160/160 [==============================] - 5s 33ms/step - loss: 0.0451 - acc: 0.9687 - val_loss: 0.3947 - val_acc: 0.9250\n",
      "Epoch 25/50\n",
      "100/160 [=================>............] - ETA: 1s - loss: 0.0306 - acc: 0.9800Epoch 00025: val_acc did not improve\n",
      "160/160 [==============================] - 5s 33ms/step - loss: 0.0431 - acc: 0.9750 - val_loss: 0.3962 - val_acc: 0.9250\n",
      "Epoch 26/50\n",
      "100/160 [=================>............] - ETA: 1s - loss: 0.0599 - acc: 0.9600Epoch 00026: val_acc did not improve\n",
      "160/160 [==============================] - 5s 33ms/step - loss: 0.0421 - acc: 0.9750 - val_loss: 0.3900 - val_acc: 0.9250\n",
      "Epoch 27/50\n",
      "100/160 [=================>............] - ETA: 1s - loss: 0.0351 - acc: 0.9700Epoch 00027: val_acc did not improve\n",
      "160/160 [==============================] - 5s 33ms/step - loss: 0.0320 - acc: 0.9750 - val_loss: 0.3867 - val_acc: 0.9250\n",
      "Epoch 28/50\n",
      "100/160 [=================>............] - ETA: 1s - loss: 0.0143 - acc: 0.9900Epoch 00028: val_acc did not improve\n",
      "160/160 [==============================] - 5s 33ms/step - loss: 0.0423 - acc: 0.9812 - val_loss: 0.3873 - val_acc: 0.9250\n"
     ]
    },
    {
     "name": "stdout",
     "output_type": "stream",
     "text": [
      "Epoch 29/50\n",
      "100/160 [=================>............] - ETA: 1s - loss: 0.0536 - acc: 0.9700Epoch 00029: val_acc did not improve\n",
      "160/160 [==============================] - 5s 33ms/step - loss: 0.0424 - acc: 0.9750 - val_loss: 0.3984 - val_acc: 0.9250\n",
      "Epoch 30/50\n",
      "100/160 [=================>............] - ETA: 1s - loss: 0.0375 - acc: 0.9900Epoch 00030: val_acc did not improve\n",
      "160/160 [==============================] - 5s 33ms/step - loss: 0.0367 - acc: 0.9812 - val_loss: 0.4086 - val_acc: 0.9250\n",
      "Epoch 31/50\n",
      "100/160 [=================>............] - ETA: 1s - loss: 0.0514 - acc: 0.9700Epoch 00031: val_acc did not improve\n",
      "160/160 [==============================] - 5s 33ms/step - loss: 0.0406 - acc: 0.9750 - val_loss: 0.4065 - val_acc: 0.9250\n",
      "Epoch 32/50\n",
      "100/160 [=================>............] - ETA: 1s - loss: 0.0530 - acc: 0.9700Epoch 00032: val_acc did not improve\n",
      "160/160 [==============================] - 5s 33ms/step - loss: 0.0453 - acc: 0.9750 - val_loss: 0.4036 - val_acc: 0.9250\n",
      "Epoch 33/50\n",
      "100/160 [=================>............] - ETA: 1s - loss: 0.0454 - acc: 0.9700Epoch 00033: val_acc did not improve\n",
      "160/160 [==============================] - 5s 33ms/step - loss: 0.0335 - acc: 0.9813 - val_loss: 0.3974 - val_acc: 0.9250\n",
      "Epoch 34/50\n",
      "100/160 [=================>............] - ETA: 1s - loss: 0.0275 - acc: 0.9900Epoch 00034: val_acc did not improve\n",
      "160/160 [==============================] - 5s 33ms/step - loss: 0.0377 - acc: 0.9812 - val_loss: 0.3938 - val_acc: 0.9250\n",
      "Epoch 35/50\n",
      "100/160 [=================>............] - ETA: 1s - loss: 0.0333 - acc: 0.9700Epoch 00035: val_acc did not improve\n",
      "160/160 [==============================] - 5s 33ms/step - loss: 0.0456 - acc: 0.9688 - val_loss: 0.3915 - val_acc: 0.9250\n",
      "Epoch 36/50\n",
      "100/160 [=================>............] - ETA: 1s - loss: 0.0340 - acc: 0.9900Epoch 00036: val_acc did not improve\n",
      "160/160 [==============================] - 5s 33ms/step - loss: 0.0253 - acc: 0.9938 - val_loss: 0.3975 - val_acc: 0.9250\n",
      "Epoch 37/50\n",
      "100/160 [=================>............] - ETA: 1s - loss: 0.0398 - acc: 0.9700Epoch 00037: val_acc did not improve\n",
      "160/160 [==============================] - 5s 33ms/step - loss: 0.0293 - acc: 0.9813 - val_loss: 0.4050 - val_acc: 0.9250\n",
      "Epoch 38/50\n",
      "100/160 [=================>............] - ETA: 1s - loss: 0.0062 - acc: 1.0000Epoch 00038: val_acc did not improve\n",
      "160/160 [==============================] - 5s 33ms/step - loss: 0.0216 - acc: 0.9875 - val_loss: 0.4098 - val_acc: 0.9250\n",
      "Epoch 39/50\n",
      "100/160 [=================>............] - ETA: 1s - loss: 0.0467 - acc: 0.9700Epoch 00039: val_acc did not improve\n",
      "160/160 [==============================] - 5s 33ms/step - loss: 0.0325 - acc: 0.9813 - val_loss: 0.4145 - val_acc: 0.9250\n",
      "Epoch 40/50\n",
      "100/160 [=================>............] - ETA: 1s - loss: 0.0312 - acc: 0.9800Epoch 00040: val_acc did not improve\n",
      "160/160 [==============================] - 5s 33ms/step - loss: 0.0239 - acc: 0.9875 - val_loss: 0.4147 - val_acc: 0.9250\n",
      "Epoch 41/50\n",
      "100/160 [=================>............] - ETA: 1s - loss: 0.0355 - acc: 0.9800Epoch 00041: val_acc did not improve\n",
      "160/160 [==============================] - 5s 34ms/step - loss: 0.0387 - acc: 0.9750 - val_loss: 0.4093 - val_acc: 0.9250\n",
      "Epoch 42/50\n",
      "100/160 [=================>............] - ETA: 1s - loss: 0.0270 - acc: 0.9900Epoch 00042: val_acc did not improve\n",
      "160/160 [==============================] - 5s 33ms/step - loss: 0.0280 - acc: 0.9875 - val_loss: 0.4021 - val_acc: 0.9250\n",
      "Epoch 43/50\n",
      "100/160 [=================>............] - ETA: 1s - loss: 0.0323 - acc: 0.9800Epoch 00043: val_acc did not improve\n",
      "160/160 [==============================] - 6s 35ms/step - loss: 0.0274 - acc: 0.9875 - val_loss: 0.3949 - val_acc: 0.9250\n",
      "Epoch 44/50\n",
      "100/160 [=================>............] - ETA: 1s - loss: 0.0295 - acc: 0.9900Epoch 00044: val_acc did not improve\n",
      "160/160 [==============================] - 5s 33ms/step - loss: 0.0374 - acc: 0.9812 - val_loss: 0.3953 - val_acc: 0.9250\n",
      "Epoch 45/50\n",
      "100/160 [=================>............] - ETA: 1s - loss: 0.0664 - acc: 0.9700Epoch 00045: val_acc did not improve\n",
      "160/160 [==============================] - 5s 34ms/step - loss: 0.0614 - acc: 0.9688 - val_loss: 0.4038 - val_acc: 0.9250\n",
      "Epoch 46/50\n",
      "100/160 [=================>............] - ETA: 1s - loss: 0.0189 - acc: 1.0000Epoch 00046: val_acc did not improve\n",
      "160/160 [==============================] - 5s 33ms/step - loss: 0.0267 - acc: 0.9875 - val_loss: 0.4152 - val_acc: 0.9250\n",
      "Epoch 47/50\n",
      "100/160 [=================>............] - ETA: 1s - loss: 0.0325 - acc: 0.9700Epoch 00047: val_acc did not improve\n",
      "160/160 [==============================] - 5s 33ms/step - loss: 0.0300 - acc: 0.9750 - val_loss: 0.4206 - val_acc: 0.9250\n",
      "Epoch 48/50\n",
      "100/160 [=================>............] - ETA: 1s - loss: 0.0223 - acc: 0.9900Epoch 00048: val_acc did not improve\n",
      "160/160 [==============================] - 5s 33ms/step - loss: 0.0318 - acc: 0.9812 - val_loss: 0.4150 - val_acc: 0.9250\n",
      "Epoch 49/50\n",
      "100/160 [=================>............] - ETA: 1s - loss: 0.0312 - acc: 0.9900Epoch 00049: val_acc did not improve\n",
      "160/160 [==============================] - 5s 33ms/step - loss: 0.0272 - acc: 0.9875 - val_loss: 0.3996 - val_acc: 0.9250\n",
      "Epoch 50/50\n",
      "100/160 [=================>............] - ETA: 1s - loss: 0.0316 - acc: 0.9800Epoch 00050: val_acc did not improve\n",
      "160/160 [==============================] - 5s 33ms/step - loss: 0.0343 - acc: 0.9813 - val_loss: 0.3922 - val_acc: 0.9250\n"
     ]
    }
   ],
   "source": [
    "from sklearn.model_selection import KFold\n",
    "kf = KFold(n_splits=3)\n",
    "\n",
    "XX_train, X_test, yy_train, y_test = train_test_split(padded_docs, labels, test_size=0.2, random_state=42)\n",
    "\n",
    "i=1\n",
    "for train_index, test_index in kf.split(XX_train):\n",
    "    #print(\"TRAIN:\", train_index, \"TEST:\", test_index)\n",
    "    print(i,\":num of fold\")\n",
    "\n",
    "    X_train, X_val = XX_train[train_index], XX_train[test_index]\n",
    "    y_train, y_val = yy_train[train_index], yy_train[test_index]\n",
    "    \n",
    "    history = model.fit(X_train, y_train, validation_data=(X_val,y_val) ,epochs=50, batch_size=100, verbose=1, callbacks=callbacks_list)\n",
    "   \n",
    "    i=i+1\n",
    "    "
   ]
  },
  {
   "cell_type": "code",
   "execution_count": null,
   "metadata": {
    "collapsed": true
   },
   "outputs": [],
   "source": []
  },
  {
   "cell_type": "code",
   "execution_count": 31,
   "metadata": {
    "collapsed": true
   },
   "outputs": [],
   "source": [
    "model=load_model(\"weights_4_2.best.hdf5\")\n"
   ]
  },
  {
   "cell_type": "code",
   "execution_count": 31,
   "metadata": {
    "collapsed": true
   },
   "outputs": [],
   "source": [
    "plot_model(model, to_file = 'models4_2.png')"
   ]
  },
  {
   "cell_type": "code",
   "execution_count": 32,
   "metadata": {},
   "outputs": [
    {
     "data": {
      "text/plain": [
       "array([[ 1.,  0.],\n",
       "       [ 1.,  0.],\n",
       "       [ 0.,  1.],\n",
       "       [ 0.,  1.],\n",
       "       [ 0.,  1.],\n",
       "       [ 0.,  1.],\n",
       "       [ 0.,  1.],\n",
       "       [ 1.,  0.],\n",
       "       [ 0.,  1.],\n",
       "       [ 1.,  0.],\n",
       "       [ 0.,  1.],\n",
       "       [ 0.,  1.],\n",
       "       [ 0.,  1.],\n",
       "       [ 1.,  0.],\n",
       "       [ 0.,  1.],\n",
       "       [ 1.,  0.],\n",
       "       [ 1.,  0.],\n",
       "       [ 0.,  1.],\n",
       "       [ 1.,  0.],\n",
       "       [ 0.,  1.],\n",
       "       [ 0.,  1.],\n",
       "       [ 1.,  0.],\n",
       "       [ 1.,  0.],\n",
       "       [ 0.,  1.],\n",
       "       [ 1.,  0.],\n",
       "       [ 0.,  1.],\n",
       "       [ 0.,  1.],\n",
       "       [ 0.,  1.],\n",
       "       [ 1.,  0.],\n",
       "       [ 1.,  0.],\n",
       "       [ 1.,  0.],\n",
       "       [ 0.,  1.],\n",
       "       [ 1.,  0.],\n",
       "       [ 1.,  0.],\n",
       "       [ 1.,  0.],\n",
       "       [ 1.,  0.],\n",
       "       [ 1.,  0.],\n",
       "       [ 0.,  1.],\n",
       "       [ 0.,  1.],\n",
       "       [ 1.,  0.],\n",
       "       [ 0.,  1.],\n",
       "       [ 1.,  0.],\n",
       "       [ 0.,  1.],\n",
       "       [ 0.,  1.],\n",
       "       [ 1.,  0.],\n",
       "       [ 1.,  0.],\n",
       "       [ 1.,  0.],\n",
       "       [ 0.,  1.],\n",
       "       [ 1.,  0.],\n",
       "       [ 0.,  1.],\n",
       "       [ 0.,  1.],\n",
       "       [ 0.,  1.],\n",
       "       [ 0.,  1.],\n",
       "       [ 0.,  1.],\n",
       "       [ 1.,  0.],\n",
       "       [ 0.,  1.],\n",
       "       [ 1.,  0.],\n",
       "       [ 1.,  0.],\n",
       "       [ 1.,  0.],\n",
       "       [ 1.,  0.],\n",
       "       [ 0.,  1.],\n",
       "       [ 0.,  1.],\n",
       "       [ 1.,  0.],\n",
       "       [ 1.,  0.],\n",
       "       [ 1.,  0.],\n",
       "       [ 1.,  0.],\n",
       "       [ 0.,  1.],\n",
       "       [ 0.,  1.],\n",
       "       [ 0.,  1.],\n",
       "       [ 1.,  0.],\n",
       "       [ 0.,  1.],\n",
       "       [ 1.,  0.],\n",
       "       [ 0.,  1.],\n",
       "       [ 0.,  1.],\n",
       "       [ 0.,  1.],\n",
       "       [ 0.,  1.],\n",
       "       [ 0.,  1.],\n",
       "       [ 1.,  0.],\n",
       "       [ 1.,  0.],\n",
       "       [ 0.,  1.],\n",
       "       [ 1.,  0.],\n",
       "       [ 1.,  0.],\n",
       "       [ 0.,  1.],\n",
       "       [ 1.,  0.],\n",
       "       [ 0.,  1.],\n",
       "       [ 0.,  1.],\n",
       "       [ 0.,  1.],\n",
       "       [ 0.,  1.],\n",
       "       [ 0.,  1.],\n",
       "       [ 0.,  1.],\n",
       "       [ 1.,  0.],\n",
       "       [ 1.,  0.],\n",
       "       [ 1.,  0.],\n",
       "       [ 0.,  1.],\n",
       "       [ 0.,  1.],\n",
       "       [ 0.,  1.],\n",
       "       [ 1.,  0.],\n",
       "       [ 0.,  1.],\n",
       "       [ 1.,  0.],\n",
       "       [ 1.,  0.],\n",
       "       [ 1.,  0.],\n",
       "       [ 1.,  0.],\n",
       "       [ 1.,  0.],\n",
       "       [ 0.,  1.],\n",
       "       [ 1.,  0.],\n",
       "       [ 1.,  0.],\n",
       "       [ 1.,  0.],\n",
       "       [ 1.,  0.],\n",
       "       [ 0.,  1.],\n",
       "       [ 0.,  1.],\n",
       "       [ 1.,  0.],\n",
       "       [ 0.,  1.],\n",
       "       [ 0.,  1.],\n",
       "       [ 1.,  0.],\n",
       "       [ 0.,  1.],\n",
       "       [ 0.,  1.],\n",
       "       [ 0.,  1.],\n",
       "       [ 1.,  0.],\n",
       "       [ 1.,  0.],\n",
       "       [ 0.,  1.],\n",
       "       [ 0.,  1.],\n",
       "       [ 1.,  0.],\n",
       "       [ 1.,  0.],\n",
       "       [ 1.,  0.],\n",
       "       [ 0.,  1.],\n",
       "       [ 0.,  1.],\n",
       "       [ 1.,  0.],\n",
       "       [ 1.,  0.],\n",
       "       [ 1.,  0.],\n",
       "       [ 1.,  0.],\n",
       "       [ 0.,  1.],\n",
       "       [ 0.,  1.],\n",
       "       [ 0.,  1.],\n",
       "       [ 1.,  0.],\n",
       "       [ 0.,  1.],\n",
       "       [ 1.,  0.],\n",
       "       [ 0.,  1.],\n",
       "       [ 0.,  1.],\n",
       "       [ 0.,  1.],\n",
       "       [ 1.,  0.],\n",
       "       [ 1.,  0.],\n",
       "       [ 1.,  0.],\n",
       "       [ 1.,  0.],\n",
       "       [ 1.,  0.],\n",
       "       [ 0.,  1.],\n",
       "       [ 0.,  1.],\n",
       "       [ 0.,  1.],\n",
       "       [ 0.,  1.],\n",
       "       [ 1.,  0.],\n",
       "       [ 1.,  0.],\n",
       "       [ 1.,  0.],\n",
       "       [ 1.,  0.],\n",
       "       [ 0.,  1.],\n",
       "       [ 0.,  1.],\n",
       "       [ 0.,  1.],\n",
       "       [ 1.,  0.],\n",
       "       [ 0.,  1.],\n",
       "       [ 0.,  1.],\n",
       "       [ 0.,  1.],\n",
       "       [ 1.,  0.]])"
      ]
     },
     "execution_count": 32,
     "metadata": {},
     "output_type": "execute_result"
    }
   ],
   "source": [
    "y_train"
   ]
  },
  {
   "cell_type": "code",
   "execution_count": 33,
   "metadata": {
    "collapsed": true
   },
   "outputs": [],
   "source": [
    "from sklearn.metrics import classification_report, confusion_matrix"
   ]
  },
  {
   "cell_type": "code",
   "execution_count": 34,
   "metadata": {
    "collapsed": true
   },
   "outputs": [],
   "source": [
    "Y_pred = model.predict(X_test)\n",
    "y_pred = np.argmax(Y_pred,axis=1)"
   ]
  },
  {
   "cell_type": "code",
   "execution_count": 35,
   "metadata": {},
   "outputs": [
    {
     "name": "stdout",
     "output_type": "stream",
     "text": [
      "60/60 [==============================] - 1s 9ms/step\n"
     ]
    }
   ],
   "source": [
    "y_pred = model.predict_classes(X_test)"
   ]
  },
  {
   "cell_type": "code",
   "execution_count": 36,
   "metadata": {},
   "outputs": [
    {
     "name": "stdout",
     "output_type": "stream",
     "text": [
      "60/60 [==============================] - 1s 10ms/step\n"
     ]
    }
   ],
   "source": [
    "p = model.predict_proba(X_test)"
   ]
  },
  {
   "cell_type": "code",
   "execution_count": 37,
   "metadata": {},
   "outputs": [
    {
     "name": "stdout",
     "output_type": "stream",
     "text": [
      "60/60 [==============================] - 1s 11ms/step\n"
     ]
    },
    {
     "data": {
      "text/plain": [
       "[0.40776973168055214, 0.89999999602635705]"
      ]
     },
     "execution_count": 37,
     "metadata": {},
     "output_type": "execute_result"
    }
   ],
   "source": [
    "model.evaluate(X_test,y_test)"
   ]
  },
  {
   "cell_type": "code",
   "execution_count": 38,
   "metadata": {},
   "outputs": [
    {
     "name": "stdout",
     "output_type": "stream",
     "text": [
      "160/160 [==============================] - 1s 9ms/step\n"
     ]
    },
    {
     "data": {
      "text/plain": [
       "[0.23033140748739242, 0.89375000000000004]"
      ]
     },
     "execution_count": 38,
     "metadata": {},
     "output_type": "execute_result"
    }
   ],
   "source": [
    "model.evaluate(X_train,y_train)"
   ]
  },
  {
   "cell_type": "code",
   "execution_count": 39,
   "metadata": {
    "collapsed": true
   },
   "outputs": [],
   "source": [
    "labels_index = {'Administrator':0 ,'Others':1}\n",
    "target_name = [t for t in labels_index.keys()]"
   ]
  },
  {
   "cell_type": "code",
   "execution_count": 40,
   "metadata": {},
   "outputs": [
    {
     "name": "stdout",
     "output_type": "stream",
     "text": [
      "               precision    recall  f1-score   support\n",
      "\n",
      "Administrator       0.85      1.00      0.92        34\n",
      "       Others       1.00      0.77      0.87        26\n",
      "\n",
      "  avg / total       0.91      0.90      0.90        60\n",
      "\n"
     ]
    }
   ],
   "source": [
    "print(classification_report(np.argmax(y_test,axis=1),y_pred,target_names=target_name))"
   ]
  },
  {
   "cell_type": "code",
   "execution_count": null,
   "metadata": {
    "collapsed": true
   },
   "outputs": [],
   "source": []
  },
  {
   "cell_type": "code",
   "execution_count": null,
   "metadata": {
    "collapsed": true
   },
   "outputs": [],
   "source": []
  },
  {
   "cell_type": "code",
   "execution_count": 173,
   "metadata": {
    "collapsed": true
   },
   "outputs": [],
   "source": [
    "#print(classification_report(np.argmax(y_train,axis=1),y_pred1,target_names=target_name))"
   ]
  },
  {
   "cell_type": "code",
   "execution_count": 174,
   "metadata": {},
   "outputs": [
    {
     "data": {
      "image/png": "[encoded data removed]",
      "text/plain": [
       "<matplotlib.figure.Figure at 0x7f1f230c2e10>"
      ]
     },
     "metadata": {},
     "output_type": "display_data"
    }
   ],
   "source": [
    "plt.plot(history.history['acc'])\n",
    "plt.plot(history.history['val_acc'])\n",
    "plt.title('model accuracy')\n",
    "plt.ylabel('accuracy')\n",
    "plt.xlabel('epoch')\n",
    "plt.legend(['train', 'test'], loc='upper left')\n",
    "plt.show()"
   ]
  },
  {
   "cell_type": "code",
   "execution_count": 175,
   "metadata": {},
   "outputs": [
    {
     "data": {
      "image/png": "[encoded data removed]",
      "text/plain": [
       "<matplotlib.figure.Figure at 0x7f1f230c2d30>"
      ]
     },
     "metadata": {},
     "output_type": "display_data"
    }
   ],
   "source": [
    "plt.plot(history.history['loss'])\n",
    "#plt.plot(history.history['val_loss'])\n",
    "plt.title('model loss')\n",
    "plt.ylabel('loss')\n",
    "plt.xlabel('epoch')\n",
    "plt.legend(['train', 'test'], loc='upper left')\n",
    "plt.show()"
   ]
  },
  {
   "cell_type": "code",
   "execution_count": null,
   "metadata": {
    "collapsed": true
   },
   "outputs": [],
   "source": []
  },
  {
   "cell_type": "code",
   "execution_count": null,
   "metadata": {
    "collapsed": true
   },
   "outputs": [],
   "source": []
  },
  {
   "cell_type": "code",
   "execution_count": 101,
   "metadata": {},
   "outputs": [
    {
     "name": "stdout",
     "output_type": "stream",
     "text": [
      "['curriculum vitae anuj kumar s84a sec52 noida email canujchauhan1gmailcom mobile 91 9871084579 objective seeking position utilize skills abilities information technology industry offers professional growth resourceful innovative certification  training rhcsa  rhce certification number 140201286 certified red hat https wwwredhatcomwappstrainingcertificationverifyhtml  certnumber140201286issearchfalseverifyverify 3months training rhel 60 network nuts new delhi work experience since march 2014 indian council agriculture research icar new delhi till present linux admin roles responsibility installation configuration red hat linux 67 ubuntu nagios monitoring tool configure git shell scripting creating  configuration yum repository managing users  groups acl administration maintenance support samba sftp ftp dns ssh apache nfs server configure apachetomcat server configure squid cache server configure haproxy apache tuning configure awsec2 vpc application system services – lvm data backup nagios iptables monitoring disk space management ensuring data security installing removing software yumrpm’s change ownership permission directory backup tools like tar dump configure smtp postfix dovecot mail managing flexible storage logical volume manager lvm  analyzing storing logs  managing process file security gnupg web hosting  monitor web server change ownership permission directory database backup  restoration database tuning check daily physically equipment maintain daily health check report server’s managing red hat enterprise virtualization manager hypervisor virtualization environment configuration create managing virtual machine templates pools users host network security virtualized environment managing red hat virtualization environment monitoring reports migration high availability establishing documenting procedures ensure integrity data including system failure backup recovery monitoring system performance daily basis ensure adequate response times production applications basic knowledge aws configure ec2 s3 rds skills networking basic knowledge networking operating systems windows xp windows 7 windows 8 linux application software ms office academics mca iftm moradabad uptu lucknow bca dist dhampur mjprubareilly xiith rps thakurdwara u p xth dav sherkot personal details father’s name mrchandrapal singh date birth 30th july 1989 address villalampur disttmoradabad language english hindi marital status single nationality indian hereby declare mentioned information true best knowledge bear responsibility correctness mentioned particulars anuj kumar']\n"
     ]
    }
   ],
   "source": [
    "#predictions\n",
    "\n",
    "parsedPDF = parser.from_file(\"/home/shabna/Desktop/example_codes/new_sample/level4/tech/IT/others/Anuj_Kumar_Delhi_1.07_yrs.docx\")\n",
    "#parsedPDF = parser.from_file(\"/home/shabna/Desktop/example_codes/new_sample/level4/tech/IT/administrator/Anuj_Kumar_Delhi_1.07_yrs.docx\")\n",
    "\n",
    "#parsedPDF = parser.from_file(\"/home/shabna/Desktop/example_codes/new_sample/level4/tech/IT/administrator/ANISH_GOPI_B_G.doc\")\n",
    "\n",
    "contents=[clean_doc(parsedPDF['content'])]\n",
    "            #print (jd_contents)\n",
    "print(contents)"
   ]
  },
  {
   "cell_type": "code",
   "execution_count": 102,
   "metadata": {
    "collapsed": true
   },
   "outputs": [],
   "source": [
    "def prpInput(pp):\n",
    "    tx = Tokenizer()\n",
    "    tx.fit_on_texts(pp)\n",
    "    vocab_size = len(tx.word_index)+1\n",
    "    encoded_docs = tx.texts_to_sequences(pp)\n",
    "    max_length = 1000\n",
    "    padded_docs = pad_sequences(encoded_docs, maxlen=max_length, padding='post')\n",
    "    return padded_docs"
   ]
  },
  {
   "cell_type": "code",
   "execution_count": 103,
   "metadata": {},
   "outputs": [
    {
     "data": {
      "text/plain": [
       "array([[ 48,  49,  18,  19,  50,  51,  52,  53,  54,  55,  56,  57,  58,\n",
       "         59,  60,  61,  20,  62,  21,  63,  64,  65,  66,  67,  68,  69,\n",
       "         22,  23,  70,  71,  22,  72,  73,  74,   3,   4,  75,  76,  77,\n",
       "         78,  23,  79,  80,  24,  81,  25,  26,  82,  83,  84,  85,  86,\n",
       "         27,  87,  88,  89,  90,  25,  26,  91,  92,   8,  93,  94,  28,\n",
       "         95,   9,   3,   4,   8,  96,  97,  29,   5,  98,   1,  99, 100,\n",
       "        101, 102,   9, 103, 104,   2,  30, 105, 106, 107, 108, 109, 110,\n",
       "        111, 112, 113, 114,  31, 115,   6,   1, 116,   6,   1, 117, 118,\n",
       "          6,   1, 119,  31,  32,   1, 120, 121,  33,  10, 122, 123,  34,\n",
       "         11,   7,  29, 124,   5, 125, 126, 127, 128,  11,  12, 129, 130,\n",
       "         35, 131,  36,  37,  38,  39,   7, 132, 133, 134, 135,   1, 136,\n",
       "        137, 138, 139,   2, 140, 141, 142, 143,  40,  34, 144, 145, 146,\n",
       "          2, 147, 148,  12, 149,  41, 150, 151,  41,   6,  36,  37,  38,\n",
       "         39,  42,   7, 152,  42,  32,  43,  13, 153, 154, 155,  13, 156,\n",
       "         43, 157, 158,   2,   3,   4, 159,  14,  40, 160,  14,  15,   9,\n",
       "        161,   2, 162, 163, 164, 165,  30, 166,  24,  12, 167,  15,   2,\n",
       "          3,   4,  14,  15,   5, 168, 169, 170, 171, 172, 173, 174,  44,\n",
       "        175,  11, 176,  10, 177,   7, 178,   5,  10, 179,  13, 180,  44,\n",
       "        181, 182, 183, 184, 185,  45,  16, 186,   1, 187, 188, 189,  20,\n",
       "         46,  45,  16,  46, 190, 191,  17, 192,  17, 193,  17, 194,   8,\n",
       "         33,  35, 195, 196, 197, 198, 199, 200, 201, 202, 203, 204, 205,\n",
       "        206, 207, 208, 209, 210, 211, 212, 213, 214, 215, 216, 217, 218,\n",
       "        219, 220, 221, 222, 223, 224, 225, 226, 227, 228, 229, 230, 231,\n",
       "        232, 233, 234, 235,  27, 236, 237,  47,  21, 238, 239,  16, 240,\n",
       "         28, 241,  47, 242,  18,  19,   0,   0,   0,   0,   0,   0,   0,\n",
       "          0,   0,   0,   0,   0,   0,   0,   0,   0,   0,   0,   0,   0,\n",
       "          0,   0,   0,   0,   0,   0,   0,   0,   0,   0,   0,   0,   0,\n",
       "          0,   0,   0,   0,   0,   0,   0,   0,   0,   0,   0,   0,   0,\n",
       "          0,   0,   0,   0,   0,   0,   0,   0,   0,   0,   0,   0,   0,\n",
       "          0,   0,   0,   0,   0,   0,   0,   0,   0,   0,   0,   0,   0,\n",
       "          0,   0,   0,   0,   0,   0,   0,   0,   0,   0,   0,   0,   0,\n",
       "          0,   0,   0,   0,   0,   0,   0,   0,   0,   0,   0,   0,   0,\n",
       "          0,   0,   0,   0,   0,   0,   0,   0,   0,   0,   0,   0,   0,\n",
       "          0,   0,   0,   0,   0,   0,   0,   0,   0,   0,   0,   0,   0,\n",
       "          0,   0,   0,   0,   0,   0,   0,   0,   0,   0,   0,   0,   0,\n",
       "          0,   0,   0,   0,   0,   0,   0,   0,   0,   0,   0,   0,   0,\n",
       "          0,   0,   0,   0,   0,   0,   0,   0,   0,   0,   0,   0,   0,\n",
       "          0,   0,   0,   0,   0,   0,   0,   0,   0,   0,   0,   0,   0,\n",
       "          0,   0,   0,   0,   0,   0,   0,   0,   0,   0,   0,   0,   0,\n",
       "          0,   0,   0,   0,   0,   0,   0,   0,   0,   0,   0,   0,   0,\n",
       "          0,   0,   0,   0,   0,   0,   0,   0,   0,   0,   0,   0,   0,\n",
       "          0,   0,   0,   0,   0,   0,   0,   0,   0,   0,   0,   0,   0,\n",
       "          0,   0,   0,   0,   0,   0,   0,   0,   0,   0,   0,   0,   0,\n",
       "          0,   0,   0,   0,   0,   0,   0,   0,   0,   0,   0,   0,   0,\n",
       "          0,   0,   0,   0,   0,   0,   0,   0,   0,   0,   0,   0,   0,\n",
       "          0,   0,   0,   0,   0,   0,   0,   0,   0,   0,   0,   0,   0,\n",
       "          0,   0,   0,   0,   0,   0,   0,   0,   0,   0,   0,   0,   0,\n",
       "          0,   0,   0,   0,   0,   0,   0,   0,   0,   0,   0,   0,   0,\n",
       "          0,   0,   0,   0,   0,   0,   0,   0,   0,   0,   0,   0,   0,\n",
       "          0,   0,   0,   0,   0,   0,   0,   0,   0,   0,   0,   0,   0,\n",
       "          0,   0,   0,   0,   0,   0,   0,   0,   0,   0,   0,   0,   0,\n",
       "          0,   0,   0,   0,   0,   0,   0,   0,   0,   0,   0,   0,   0,\n",
       "          0,   0,   0,   0,   0,   0,   0,   0,   0,   0,   0,   0,   0,\n",
       "          0,   0,   0,   0,   0,   0,   0,   0,   0,   0,   0,   0,   0,\n",
       "          0,   0,   0,   0,   0,   0,   0,   0,   0,   0,   0,   0,   0,\n",
       "          0,   0,   0,   0,   0,   0,   0,   0,   0,   0,   0,   0,   0,\n",
       "          0,   0,   0,   0,   0,   0,   0,   0,   0,   0,   0,   0,   0,\n",
       "          0,   0,   0,   0,   0,   0,   0,   0,   0,   0,   0,   0,   0,\n",
       "          0,   0,   0,   0,   0,   0,   0,   0,   0,   0,   0,   0,   0,\n",
       "          0,   0,   0,   0,   0,   0,   0,   0,   0,   0,   0,   0,   0,\n",
       "          0,   0,   0,   0,   0,   0,   0,   0,   0,   0,   0,   0,   0,\n",
       "          0,   0,   0,   0,   0,   0,   0,   0,   0,   0,   0,   0,   0,\n",
       "          0,   0,   0,   0,   0,   0,   0,   0,   0,   0,   0,   0,   0,\n",
       "          0,   0,   0,   0,   0,   0,   0,   0,   0,   0,   0,   0,   0,\n",
       "          0,   0,   0,   0,   0,   0,   0,   0,   0,   0,   0,   0,   0,\n",
       "          0,   0,   0,   0,   0,   0,   0,   0,   0,   0,   0,   0,   0,\n",
       "          0,   0,   0,   0,   0,   0,   0,   0,   0,   0,   0,   0,   0,\n",
       "          0,   0,   0,   0,   0,   0,   0,   0,   0,   0,   0,   0,   0,\n",
       "          0,   0,   0,   0,   0,   0,   0,   0,   0,   0,   0,   0,   0,\n",
       "          0,   0,   0,   0,   0,   0,   0,   0,   0,   0,   0,   0,   0,\n",
       "          0,   0,   0,   0,   0,   0,   0,   0,   0,   0,   0,   0,   0,\n",
       "          0,   0,   0,   0,   0,   0,   0,   0,   0,   0,   0,   0,   0,\n",
       "          0,   0,   0,   0,   0,   0,   0,   0,   0,   0,   0,   0,   0,\n",
       "          0,   0,   0,   0,   0,   0,   0,   0,   0,   0,   0,   0,   0,\n",
       "          0,   0,   0,   0,   0,   0,   0,   0,   0,   0,   0,   0,   0,\n",
       "          0,   0,   0,   0,   0,   0,   0,   0,   0,   0,   0,   0,   0,\n",
       "          0,   0,   0,   0,   0,   0,   0,   0,   0,   0,   0,   0]], dtype=int32)"
      ]
     },
     "execution_count": 103,
     "metadata": {},
     "output_type": "execute_result"
    }
   ],
   "source": [
    "mat=prpInput(contents)\n",
    "mat"
   ]
  },
  {
   "cell_type": "code",
   "execution_count": 104,
   "metadata": {},
   "outputs": [],
   "source": [
    "prd = model.predict(mat)\n"
   ]
  },
  {
   "cell_type": "code",
   "execution_count": 105,
   "metadata": {},
   "outputs": [
    {
     "name": "stdout",
     "output_type": "stream",
     "text": [
      "{0: 'Administrator', 1: 'Others'}\n"
     ]
    }
   ],
   "source": [
    "labels_index = {'Administrator':0 ,'Others':1}\n",
    "rev_lable_index = {}\n",
    "for key in labels_index:\n",
    "    rev_lable_index[labels_index[key]] = key\n",
    "print(rev_lable_index)\n",
    "def result(prd,contents):\n",
    "    y_classes = prd.argmax(axis=-1)\n",
    "    print(len(y_classes))\n",
    "    lx=[]\n",
    "    for idx,lb in enumerate(y_classes):\n",
    "        lx.append([contents[idx],rev_lable_index[lb]])\n",
    "    return lx"
   ]
  },
  {
   "cell_type": "code",
   "execution_count": 106,
   "metadata": {},
   "outputs": [
    {
     "name": "stdout",
     "output_type": "stream",
     "text": [
      "1\n"
     ]
    },
    {
     "data": {
      "text/plain": [
       "[['curriculum vitae anuj kumar s84a sec52 noida email canujchauhan1gmailcom mobile 91 9871084579 objective seeking position utilize skills abilities information technology industry offers professional growth resourceful innovative certification  training rhcsa  rhce certification number 140201286 certified red hat https wwwredhatcomwappstrainingcertificationverifyhtml  certnumber140201286issearchfalseverifyverify 3months training rhel 60 network nuts new delhi work experience since march 2014 indian council agriculture research icar new delhi till present linux admin roles responsibility installation configuration red hat linux 67 ubuntu nagios monitoring tool configure git shell scripting creating  configuration yum repository managing users  groups acl administration maintenance support samba sftp ftp dns ssh apache nfs server configure apachetomcat server configure squid cache server configure haproxy apache tuning configure awsec2 vpc application system services – lvm data backup nagios iptables monitoring disk space management ensuring data security installing removing software yumrpm’s change ownership permission directory backup tools like tar dump configure smtp postfix dovecot mail managing flexible storage logical volume manager lvm  analyzing storing logs  managing process file security gnupg web hosting  monitor web server change ownership permission directory database backup  restoration database tuning check daily physically equipment maintain daily health check report server’s managing red hat enterprise virtualization manager hypervisor virtualization environment configuration create managing virtual machine templates pools users host network security virtualized environment managing red hat virtualization environment monitoring reports migration high availability establishing documenting procedures ensure integrity data including system failure backup recovery monitoring system performance daily basis ensure adequate response times production applications basic knowledge aws configure ec2 s3 rds skills networking basic knowledge networking operating systems windows xp windows 7 windows 8 linux application software ms office academics mca iftm moradabad uptu lucknow bca dist dhampur mjprubareilly xiith rps thakurdwara u p xth dav sherkot personal details father’s name mrchandrapal singh date birth 30th july 1989 address villalampur disttmoradabad language english hindi marital status single nationality indian hereby declare mentioned information true best knowledge bear responsibility correctness mentioned particulars anuj kumar',\n",
       "  'Administrator']]"
      ]
     },
     "execution_count": 106,
     "metadata": {},
     "output_type": "execute_result"
    }
   ],
   "source": [
    "result(prd,contents)"
   ]
  },
  {
   "cell_type": "code",
   "execution_count": 107,
   "metadata": {},
   "outputs": [
    {
     "name": "stdout",
     "output_type": "stream",
     "text": [
      "1\n"
     ]
    },
    {
     "data": {
      "text/html": [
       "<div>\n",
       "<style>\n",
       "    .dataframe thead tr:only-child th {\n",
       "        text-align: right;\n",
       "    }\n",
       "\n",
       "    .dataframe thead th {\n",
       "        text-align: left;\n",
       "    }\n",
       "\n",
       "    .dataframe tbody tr th {\n",
       "        vertical-align: top;\n",
       "    }\n",
       "</style>\n",
       "<table border=\"1\" class=\"dataframe\">\n",
       "  <thead>\n",
       "    <tr style=\"text-align: right;\">\n",
       "      <th></th>\n",
       "      <th>File Content</th>\n",
       "      <th>Label</th>\n",
       "    </tr>\n",
       "  </thead>\n",
       "  <tbody>\n",
       "    <tr>\n",
       "      <th>0</th>\n",
       "      <td>curriculum vitae anuj kumar s84a sec52 noida e...</td>\n",
       "      <td>Administrator</td>\n",
       "    </tr>\n",
       "  </tbody>\n",
       "</table>\n",
       "</div>"
      ],
      "text/plain": [
       "                                        File Content          Label\n",
       "0  curriculum vitae anuj kumar s84a sec52 noida e...  Administrator"
      ]
     },
     "execution_count": 107,
     "metadata": {},
     "output_type": "execute_result"
    }
   ],
   "source": [
    "import pandas as pd\n",
    "pd.DataFrame(result(prd,contents),columns=['File Content','Label'])"
   ]
  },
  {
   "cell_type": "code",
   "execution_count": null,
   "metadata": {
    "collapsed": true
   },
   "outputs": [],
   "source": []
  },
  {
   "cell_type": "code",
   "execution_count": 93,
   "metadata": {},
   "outputs": [
    {
     "name": "stdout",
     "output_type": "stream",
     "text": [
      "[[34  0]\n",
      " [ 6 20]]\n"
     ]
    }
   ],
   "source": [
    "print(confusion_matrix(np.argmax(y_test,axis=1),y_pred))"
   ]
  },
  {
   "cell_type": "code",
   "execution_count": null,
   "metadata": {
    "collapsed": true
   },
   "outputs": [],
   "source": []
  },
  {
   "cell_type": "code",
   "execution_count": null,
   "metadata": {
    "collapsed": true
   },
   "outputs": [],
   "source": []
  },
  {
   "cell_type": "code",
   "execution_count": null,
   "metadata": {
    "collapsed": true
   },
   "outputs": [],
   "source": []
  },
  {
   "cell_type": "code",
   "execution_count": null,
   "metadata": {
    "collapsed": true
   },
   "outputs": [],
   "source": []
  }
 ],
 "metadata": {
  "kernelspec": {
   "display_name": "Python 3",
   "language": "python",
   "name": "python3"
  },
  "language_info": {
   "codemirror_mode": {
    "name": "ipython",
    "version": 3
   },
   "file_extension": ".py",
   "mimetype": "text/x-python",
   "name": "python",
   "nbconvert_exporter": "python",
   "pygments_lexer": "ipython3",
   "version": "3.6.3"
  }
 },
 "nbformat": 4,
 "nbformat_minor": 2
}
